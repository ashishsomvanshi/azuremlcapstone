{
  "cells": [
    {
      "cell_type": "markdown",
      "source": [
        "# Automated ML\n",
        "\n",
        "TODO: Import Dependencies. In the cell below, import all the dependencies that you will need to complete the project."
      ],
      "metadata": {}
    },
    {
      "cell_type": "code",
      "source": [
        "import logging\n",
        "\n",
        "from matplotlib import pyplot as plt\n",
        "import pandas as pd\n",
        "import os\n",
        "\n",
        "import azureml.core\n",
        "from azureml.core.experiment import Experiment\n",
        "from azureml.core.workspace import Workspace\n",
        "from azureml.automl.core.featurization import FeaturizationConfig\n",
        "from azureml.core.dataset import Dataset\n",
        "from azureml.train.automl import AutoMLConfig\n",
        "from azureml.interpret import ExplanationClient\n",
        "from azureml.automl.runtime.onnx_convert import OnnxConverter\n",
        "from azureml.data.dataset_factory import TabularDatasetFactory\n",
        "from sklearn.preprocessing import OneHotEncoder\n",
        "import pandas as pd\n",
        "from azureml.core.run import Run\n",
        "from sklearn.model_selection import train_test_split\n",
        "from azureml.widgets import RunDetails\n",
        "from azureml.train.sklearn import SKLearn\n",
        "\n",
        "print(\"SDK version:\", azureml.core.VERSION)"
      ],
      "outputs": [
        {
          "output_type": "stream",
          "name": "stdout",
          "text": [
            "SDK version: 1.19.0\n"
          ]
        }
      ],
      "execution_count": 1,
      "metadata": {
        "gather": {
          "logged": 1611042956399
        },
        "jupyter": {
          "outputs_hidden": false,
          "source_hidden": false
        },
        "nteract": {
          "transient": {
            "deleting": false
          }
        }
      }
    },
    {
      "cell_type": "markdown",
      "source": [
        "## Dataset\n",
        "\n",
        "### Overview\n",
        "TODO: In this markdown cell, give an overview of the dataset you are using. Also mention the task you will be performing.\n",
        "\n",
        "\n",
        "TODO: Get data. In the cell below, write code to access the data you will be using in this project. Remember that the dataset needs to be external."
      ],
      "metadata": {}
    },
    {
      "cell_type": "code",
      "source": [
        "ws = Workspace.from_config()\n",
        "ws.write_config(path='.azureml')\n",
        "\n",
        "# choose a name for experiment\n",
        "experiment_name = 'automl-classification-experiment'\n",
        "\n",
        "experiment=Experiment(ws, experiment_name)\n",
        "\n",
        "print('Workspace name: ' + ws.name, \n",
        "      'Azure region: ' + ws.location, \n",
        "      'Subscription id: ' + ws.subscription_id, \n",
        "      'Resource group: ' + ws.resource_group, sep = '\\n')\n",
        "\n",
        "run = experiment.start_logging()"
      ],
      "outputs": [
        {
          "output_type": "stream",
          "name": "stdout",
          "text": [
            "Workspace name: quick-starts-ws-135306\n",
            "Azure region: southcentralus\n",
            "Subscription id: 3d1a56d2-7c81-4118-9790-f85d1acf0c77\n",
            "Resource group: aml-quickstarts-135306\n"
          ]
        }
      ],
      "execution_count": 2,
      "metadata": {
        "gather": {
          "logged": 1611042968400
        },
        "jupyter": {
          "outputs_hidden": false,
          "source_hidden": false
        },
        "nteract": {
          "transient": {
            "deleting": false
          }
        }
      }
    },
    {
      "cell_type": "code",
      "source": [
        "from azureml.core.compute import ComputeTarget, AmlCompute\n",
        "from azureml.core.compute_target import ComputeTargetException\n",
        "\n",
        "cpu_cluster_name = \"cpu-cluster-1\"\n",
        "try:\n",
        "    compute_target = ComputeTarget(workspace=ws, name=cpu_cluster_name)\n",
        "    print('Found existing cluster')\n",
        "except ComputeTargetException:\n",
        "    compute_config = AmlCompute.provisioning_configuration(vm_size='STANDARD_D2_V2', max_nodes=4)\n",
        "    compute_target = ComputeTarget.create(ws, cpu_cluster_name, compute_config)\n",
        "    compute_target.wait_for_completion(show_output=True)"
      ],
      "outputs": [
        {
          "output_type": "stream",
          "name": "stdout",
          "text": [
            "Found existing cluster\n"
          ]
        }
      ],
      "execution_count": 3,
      "metadata": {
        "gather": {
          "logged": 1611042977915
        }
      }
    },
    {
      "cell_type": "code",
      "source": [
        "key = 'uciheartfailuredataset'\n",
        "if key in ws.datasets.keys(): \n",
        "    dataset = ws.datasets[key] \n",
        "    print(\"Found dataset\")\n",
        "else:\n",
        "    url = 'https://archive.ics.uci.edu/ml/machine-learning-databases/00519/heart_failure_clinical_records_dataset.csv'\n",
        "    dataset = Dataset.Tabular.from_delimited_files(url)\n",
        "    dataset = dataset.register(workspace=ws, name=key)"
      ],
      "outputs": [
        {
          "output_type": "stream",
          "name": "stdout",
          "text": [
            "Found dataset\n"
          ]
        }
      ],
      "execution_count": 4,
      "metadata": {
        "gather": {
          "logged": 1611042987299
        }
      }
    },
    {
      "cell_type": "code",
      "source": [
        "ds = dataset.to_pandas_dataframe()\n",
        "train, test = train_test_split(ds, random_state=625, shuffle=True)"
      ],
      "outputs": [],
      "execution_count": 5,
      "metadata": {
        "gather": {
          "logged": 1611042996702
        }
      }
    },
    {
      "cell_type": "code",
      "source": [
        "train.to_csv('train.csv', index=False)\n",
        "datastore = ws.get_default_datastore()\n",
        "datastore.upload_files(files = ['./train.csv'])\n",
        "train = Dataset.Tabular.from_delimited_files(path = [(datastore,'train.csv')])"
      ],
      "outputs": [
        {
          "output_type": "stream",
          "name": "stdout",
          "text": [
            "Uploading an estimated of 1 files\n",
            "Uploading ./train.csv\n",
            "Uploaded ./train.csv, 1 files out of an estimated total of 1\n",
            "Uploaded 1 files\n"
          ]
        }
      ],
      "execution_count": 6,
      "metadata": {
        "gather": {
          "logged": 1611043003849
        }
      }
    },
    {
      "cell_type": "markdown",
      "source": [
        "## AutoML Configuration\n",
        "\n",
        "TODO: Explain why you chose the automl settings and cofiguration you used below."
      ],
      "metadata": {}
    },
    {
      "cell_type": "code",
      "source": [
        "# TODO: Put your automl settings here\n",
        "automl_settings = {\n",
        "    \"experiment_timeout_hours\" : 0.5,\n",
        "    \"enable_early_stopping\" : True,\n",
        "    \"iteration_timeout_minutes\": 5,\n",
        "    \"max_concurrent_iterations\": 4,\n",
        "    \"max_cores_per_iteration\": -1,\n",
        "    \"primary_metric\": 'accuracy',\n",
        "    \"featurization\": 'auto',\n",
        "    \"verbosity\": logging.INFO,\n",
        "}\n",
        "\n",
        "# TODO: Put your automl config here\n",
        "automl_config = AutoMLConfig(\n",
        "    experiment_timeout_minutes=30,\n",
        "    debug_log = 'automl_errors.log',\n",
        "    compute_target=compute_target,\n",
        "    task=\"classification\",\n",
        "    training_data= train,\n",
        "    label_column_name=\"DEATH_EVENT\",\n",
        "    enable_onnx_compatible_models=True,\n",
        "    n_cross_validations= 3,\n",
        "    **automl_settings)"
      ],
      "outputs": [],
      "execution_count": 7,
      "metadata": {
        "gather": {
          "logged": 1611043025607
        },
        "jupyter": {
          "outputs_hidden": false,
          "source_hidden": false
        },
        "nteract": {
          "transient": {
            "deleting": false
          }
        }
      }
    },
    {
      "cell_type": "code",
      "source": [
        "# TODO: Submit your experiment\n",
        "remote_run = experiment.submit(automl_config,show_output = False)"
      ],
      "outputs": [
        {
          "output_type": "stream",
          "name": "stdout",
          "text": [
            "Running on remote.\n"
          ]
        }
      ],
      "execution_count": 8,
      "metadata": {
        "gather": {
          "logged": 1611043035858
        },
        "jupyter": {
          "outputs_hidden": false,
          "source_hidden": false
        },
        "nteract": {
          "transient": {
            "deleting": false
          }
        }
      }
    },
    {
      "cell_type": "markdown",
      "source": [
        "## Run Details\n",
        "\n",
        "OPTIONAL: Write about the different models trained and their performance. Why do you think some models did better than others?\n",
        "\n",
        "TODO: In the cell below, use the `RunDetails` widget to show the different experiments."
      ],
      "metadata": {}
    },
    {
      "cell_type": "code",
      "source": [
        "RunDetails(remote_run).show()"
      ],
      "outputs": [
        {
          "output_type": "display_data",
          "data": {
            "text/plain": "_AutoMLWidget(widget_settings={'childWidgetDisplay': 'popup', 'send_telemetry': False, 'log_level': 'INFO', 's…",
            "application/vnd.jupyter.widget-view+json": {
              "version_major": 2,
              "version_minor": 0,
              "model_id": "12baf9612f344a4fac537981fe8c4f28"
            }
          },
          "metadata": {}
        },
        {
          "output_type": "display_data",
          "data": {
            "application/aml.mini.widget.v1": "{\"status\": \"Completed\", \"workbench_run_details_uri\": \"https://ml.azure.com/experiments/automl-classification-experiment/runs/AutoML_efa4ac15-967d-4b8c-83d7-7c3513e695ab?wsid=/subscriptions/3d1a56d2-7c81-4118-9790-f85d1acf0c77/resourcegroups/aml-quickstarts-135306/workspaces/quick-starts-ws-135306\", \"run_id\": \"AutoML_efa4ac15-967d-4b8c-83d7-7c3513e695ab\", \"run_properties\": {\"run_id\": \"AutoML_efa4ac15-967d-4b8c-83d7-7c3513e695ab\", \"created_utc\": \"2021-01-19T07:57:14.901182Z\", \"properties\": {\"num_iterations\": \"1000\", \"training_type\": \"TrainFull\", \"acquisition_function\": \"EI\", \"primary_metric\": \"accuracy\", \"train_split\": \"0\", \"acquisition_parameter\": \"0\", \"num_cross_validation\": \"3\", \"target\": \"cpu-cluster-1\", \"AMLSettingsJsonString\": \"{\\\"path\\\":null,\\\"name\\\":\\\"automl-classification-experiment\\\",\\\"subscription_id\\\":\\\"3d1a56d2-7c81-4118-9790-f85d1acf0c77\\\",\\\"resource_group\\\":\\\"aml-quickstarts-135306\\\",\\\"workspace_name\\\":\\\"quick-starts-ws-135306\\\",\\\"region\\\":\\\"southcentralus\\\",\\\"compute_target\\\":\\\"cpu-cluster-1\\\",\\\"spark_service\\\":null,\\\"azure_service\\\":\\\"remote\\\",\\\"many_models\\\":false,\\\"pipeline_fetch_max_batch_size\\\":1,\\\"iterations\\\":1000,\\\"primary_metric\\\":\\\"accuracy\\\",\\\"task_type\\\":\\\"classification\\\",\\\"data_script\\\":null,\\\"validation_size\\\":0.0,\\\"n_cross_validations\\\":3,\\\"y_min\\\":null,\\\"y_max\\\":null,\\\"num_classes\\\":null,\\\"featurization\\\":\\\"auto\\\",\\\"_ignore_package_version_incompatibilities\\\":false,\\\"is_timeseries\\\":false,\\\"max_cores_per_iteration\\\":-1,\\\"max_concurrent_iterations\\\":4,\\\"iteration_timeout_minutes\\\":5,\\\"mem_in_mb\\\":null,\\\"enforce_time_on_windows\\\":false,\\\"experiment_timeout_minutes\\\":30,\\\"experiment_exit_score\\\":null,\\\"whitelist_models\\\":null,\\\"blacklist_algos\\\":[\\\"TensorFlowLinearClassifier\\\",\\\"TensorFlowDNN\\\"],\\\"supported_models\\\":[\\\"LinearSVM\\\",\\\"TensorFlowLinearClassifier\\\",\\\"XGBoostClassifier\\\",\\\"SVM\\\",\\\"BernoulliNaiveBayes\\\",\\\"MultinomialNaiveBayes\\\",\\\"KNN\\\",\\\"LightGBM\\\",\\\"SGD\\\",\\\"AveragedPerceptronClassifier\\\",\\\"LogisticRegression\\\",\\\"DecisionTree\\\",\\\"ExtremeRandomTrees\\\",\\\"TensorFlowDNN\\\",\\\"RandomForest\\\",\\\"GradientBoosting\\\"],\\\"auto_blacklist\\\":true,\\\"blacklist_samples_reached\\\":false,\\\"exclude_nan_labels\\\":true,\\\"verbosity\\\":20,\\\"_debug_log\\\":\\\"azureml_automl.log\\\",\\\"show_warnings\\\":false,\\\"model_explainability\\\":true,\\\"service_url\\\":null,\\\"sdk_url\\\":null,\\\"sdk_packages\\\":null,\\\"enable_onnx_compatible_models\\\":true,\\\"enable_split_onnx_featurizer_estimator_models\\\":false,\\\"vm_type\\\":\\\"STANDARD_D2_V2\\\",\\\"telemetry_verbosity\\\":20,\\\"send_telemetry\\\":true,\\\"enable_dnn\\\":false,\\\"scenario\\\":\\\"SDK-1.13.0\\\",\\\"environment_label\\\":null,\\\"force_text_dnn\\\":false,\\\"enable_feature_sweeping\\\":false,\\\"enable_early_stopping\\\":true,\\\"early_stopping_n_iters\\\":10,\\\"metrics\\\":null,\\\"enable_ensembling\\\":true,\\\"enable_stack_ensembling\\\":false,\\\"ensemble_iterations\\\":15,\\\"enable_tf\\\":false,\\\"enable_subsampling\\\":null,\\\"subsample_seed\\\":null,\\\"enable_nimbusml\\\":false,\\\"enable_streaming\\\":false,\\\"force_streaming\\\":false,\\\"track_child_runs\\\":true,\\\"allowed_private_models\\\":[],\\\"label_column_name\\\":\\\"DEATH_EVENT\\\",\\\"weight_column_name\\\":null,\\\"cv_split_column_names\\\":null,\\\"enable_local_managed\\\":false,\\\"_local_managed_run_id\\\":null,\\\"cost_mode\\\":1,\\\"lag_length\\\":0,\\\"metric_operation\\\":\\\"maximize\\\",\\\"preprocess\\\":true}\", \"DataPrepJsonString\": \"{\\\\\\\"training_data\\\\\\\": \\\\\\\"{\\\\\\\\\\\\\\\"blocks\\\\\\\\\\\\\\\": [{\\\\\\\\\\\\\\\"id\\\\\\\\\\\\\\\": \\\\\\\\\\\\\\\"4ae54349-1113-4443-ac8d-70a0861b4d14\\\\\\\\\\\\\\\", \\\\\\\\\\\\\\\"type\\\\\\\\\\\\\\\": \\\\\\\\\\\\\\\"Microsoft.DPrep.GetDatastoreFilesBlock\\\\\\\\\\\\\\\", \\\\\\\\\\\\\\\"arguments\\\\\\\\\\\\\\\": {\\\\\\\\\\\\\\\"datastores\\\\\\\\\\\\\\\": [{\\\\\\\\\\\\\\\"datastoreName\\\\\\\\\\\\\\\": \\\\\\\\\\\\\\\"workspaceblobstore\\\\\\\\\\\\\\\", \\\\\\\\\\\\\\\"path\\\\\\\\\\\\\\\": \\\\\\\\\\\\\\\"train.csv\\\\\\\\\\\\\\\", \\\\\\\\\\\\\\\"resourceGroup\\\\\\\\\\\\\\\": \\\\\\\\\\\\\\\"aml-quickstarts-135306\\\\\\\\\\\\\\\", \\\\\\\\\\\\\\\"subscription\\\\\\\\\\\\\\\": \\\\\\\\\\\\\\\"3d1a56d2-7c81-4118-9790-f85d1acf0c77\\\\\\\\\\\\\\\", \\\\\\\\\\\\\\\"workspaceName\\\\\\\\\\\\\\\": \\\\\\\\\\\\\\\"quick-starts-ws-135306\\\\\\\\\\\\\\\"}]}, \\\\\\\\\\\\\\\"localData\\\\\\\\\\\\\\\": {}, \\\\\\\\\\\\\\\"isEnabled\\\\\\\\\\\\\\\": true, \\\\\\\\\\\\\\\"name\\\\\\\\\\\\\\\": null, \\\\\\\\\\\\\\\"annotation\\\\\\\\\\\\\\\": null}, {\\\\\\\\\\\\\\\"id\\\\\\\\\\\\\\\": \\\\\\\\\\\\\\\"2879d2dc-0e61-4490-892b-d3c9ecf618b3\\\\\\\\\\\\\\\", \\\\\\\\\\\\\\\"type\\\\\\\\\\\\\\\": \\\\\\\\\\\\\\\"Microsoft.DPrep.ParseDelimitedBlock\\\\\\\\\\\\\\\", \\\\\\\\\\\\\\\"arguments\\\\\\\\\\\\\\\": {\\\\\\\\\\\\\\\"columnHeadersMode\\\\\\\\\\\\\\\": 3, \\\\\\\\\\\\\\\"fileEncoding\\\\\\\\\\\\\\\": 0, \\\\\\\\\\\\\\\"handleQuotedLineBreaks\\\\\\\\\\\\\\\": false, \\\\\\\\\\\\\\\"preview\\\\\\\\\\\\\\\": false, \\\\\\\\\\\\\\\"separator\\\\\\\\\\\\\\\": \\\\\\\\\\\\\\\",\\\\\\\\\\\\\\\", \\\\\\\\\\\\\\\"skipRows\\\\\\\\\\\\\\\": 0, \\\\\\\\\\\\\\\"skipRowsMode\\\\\\\\\\\\\\\": 0}, \\\\\\\\\\\\\\\"localData\\\\\\\\\\\\\\\": {}, \\\\\\\\\\\\\\\"isEnabled\\\\\\\\\\\\\\\": true, \\\\\\\\\\\\\\\"name\\\\\\\\\\\\\\\": null, \\\\\\\\\\\\\\\"annotation\\\\\\\\\\\\\\\": null}, {\\\\\\\\\\\\\\\"id\\\\\\\\\\\\\\\": \\\\\\\\\\\\\\\"75f0aa82-1369-4022-85ec-9701b6c497ce\\\\\\\\\\\\\\\", \\\\\\\\\\\\\\\"type\\\\\\\\\\\\\\\": \\\\\\\\\\\\\\\"Microsoft.DPrep.DropColumnsBlock\\\\\\\\\\\\\\\", \\\\\\\\\\\\\\\"arguments\\\\\\\\\\\\\\\": {\\\\\\\\\\\\\\\"columns\\\\\\\\\\\\\\\": {\\\\\\\\\\\\\\\"type\\\\\\\\\\\\\\\": 0, \\\\\\\\\\\\\\\"details\\\\\\\\\\\\\\\": {\\\\\\\\\\\\\\\"selectedColumns\\\\\\\\\\\\\\\": [\\\\\\\\\\\\\\\"Path\\\\\\\\\\\\\\\"]}}}, \\\\\\\\\\\\\\\"localData\\\\\\\\\\\\\\\": {}, \\\\\\\\\\\\\\\"isEnabled\\\\\\\\\\\\\\\": true, \\\\\\\\\\\\\\\"name\\\\\\\\\\\\\\\": null, \\\\\\\\\\\\\\\"annotation\\\\\\\\\\\\\\\": null}, {\\\\\\\\\\\\\\\"id\\\\\\\\\\\\\\\": \\\\\\\\\\\\\\\"3dde63a5-7ae6-4c0f-9645-a16fef622b1b\\\\\\\\\\\\\\\", \\\\\\\\\\\\\\\"type\\\\\\\\\\\\\\\": \\\\\\\\\\\\\\\"Microsoft.DPrep.SetColumnTypesBlock\\\\\\\\\\\\\\\", \\\\\\\\\\\\\\\"arguments\\\\\\\\\\\\\\\": {\\\\\\\\\\\\\\\"columnConversion\\\\\\\\\\\\\\\": [{\\\\\\\\\\\\\\\"column\\\\\\\\\\\\\\\": {\\\\\\\\\\\\\\\"type\\\\\\\\\\\\\\\": 2, \\\\\\\\\\\\\\\"details\\\\\\\\\\\\\\\": {\\\\\\\\\\\\\\\"selectedColumn\\\\\\\\\\\\\\\": \\\\\\\\\\\\\\\"age\\\\\\\\\\\\\\\"}}, \\\\\\\\\\\\\\\"typeProperty\\\\\\\\\\\\\\\": 3}, {\\\\\\\\\\\\\\\"column\\\\\\\\\\\\\\\": {\\\\\\\\\\\\\\\"type\\\\\\\\\\\\\\\": 2, \\\\\\\\\\\\\\\"details\\\\\\\\\\\\\\\": {\\\\\\\\\\\\\\\"selectedColumn\\\\\\\\\\\\\\\": \\\\\\\\\\\\\\\"anaemia\\\\\\\\\\\\\\\"}}, \\\\\\\\\\\\\\\"typeProperty\\\\\\\\\\\\\\\": 2}, {\\\\\\\\\\\\\\\"column\\\\\\\\\\\\\\\": {\\\\\\\\\\\\\\\"type\\\\\\\\\\\\\\\": 2, \\\\\\\\\\\\\\\"details\\\\\\\\\\\\\\\": {\\\\\\\\\\\\\\\"selectedColumn\\\\\\\\\\\\\\\": \\\\\\\\\\\\\\\"creatinine_phosphokinase\\\\\\\\\\\\\\\"}}, \\\\\\\\\\\\\\\"typeProperty\\\\\\\\\\\\\\\": 2}, {\\\\\\\\\\\\\\\"column\\\\\\\\\\\\\\\": {\\\\\\\\\\\\\\\"type\\\\\\\\\\\\\\\": 2, \\\\\\\\\\\\\\\"details\\\\\\\\\\\\\\\": {\\\\\\\\\\\\\\\"selectedColumn\\\\\\\\\\\\\\\": \\\\\\\\\\\\\\\"diabetes\\\\\\\\\\\\\\\"}}, \\\\\\\\\\\\\\\"typeProperty\\\\\\\\\\\\\\\": 2}, {\\\\\\\\\\\\\\\"column\\\\\\\\\\\\\\\": {\\\\\\\\\\\\\\\"type\\\\\\\\\\\\\\\": 2, \\\\\\\\\\\\\\\"details\\\\\\\\\\\\\\\": {\\\\\\\\\\\\\\\"selectedColumn\\\\\\\\\\\\\\\": \\\\\\\\\\\\\\\"ejection_fraction\\\\\\\\\\\\\\\"}}, \\\\\\\\\\\\\\\"typeProperty\\\\\\\\\\\\\\\": 2}, {\\\\\\\\\\\\\\\"column\\\\\\\\\\\\\\\": {\\\\\\\\\\\\\\\"type\\\\\\\\\\\\\\\": 2, \\\\\\\\\\\\\\\"details\\\\\\\\\\\\\\\": {\\\\\\\\\\\\\\\"selectedColumn\\\\\\\\\\\\\\\": \\\\\\\\\\\\\\\"high_blood_pressure\\\\\\\\\\\\\\\"}}, \\\\\\\\\\\\\\\"typeProperty\\\\\\\\\\\\\\\": 2}, {\\\\\\\\\\\\\\\"column\\\\\\\\\\\\\\\": {\\\\\\\\\\\\\\\"type\\\\\\\\\\\\\\\": 2, \\\\\\\\\\\\\\\"details\\\\\\\\\\\\\\\": {\\\\\\\\\\\\\\\"selectedColumn\\\\\\\\\\\\\\\": \\\\\\\\\\\\\\\"platelets\\\\\\\\\\\\\\\"}}, \\\\\\\\\\\\\\\"typeProperty\\\\\\\\\\\\\\\": 3}, {\\\\\\\\\\\\\\\"column\\\\\\\\\\\\\\\": {\\\\\\\\\\\\\\\"type\\\\\\\\\\\\\\\": 2, \\\\\\\\\\\\\\\"details\\\\\\\\\\\\\\\": {\\\\\\\\\\\\\\\"selectedColumn\\\\\\\\\\\\\\\": \\\\\\\\\\\\\\\"serum_creatinine\\\\\\\\\\\\\\\"}}, \\\\\\\\\\\\\\\"typeProperty\\\\\\\\\\\\\\\": 3}, {\\\\\\\\\\\\\\\"column\\\\\\\\\\\\\\\": {\\\\\\\\\\\\\\\"type\\\\\\\\\\\\\\\": 2, \\\\\\\\\\\\\\\"details\\\\\\\\\\\\\\\": {\\\\\\\\\\\\\\\"selectedColumn\\\\\\\\\\\\\\\": \\\\\\\\\\\\\\\"serum_sodium\\\\\\\\\\\\\\\"}}, \\\\\\\\\\\\\\\"typeProperty\\\\\\\\\\\\\\\": 2}, {\\\\\\\\\\\\\\\"column\\\\\\\\\\\\\\\": {\\\\\\\\\\\\\\\"type\\\\\\\\\\\\\\\": 2, \\\\\\\\\\\\\\\"details\\\\\\\\\\\\\\\": {\\\\\\\\\\\\\\\"selectedColumn\\\\\\\\\\\\\\\": \\\\\\\\\\\\\\\"sex\\\\\\\\\\\\\\\"}}, \\\\\\\\\\\\\\\"typeProperty\\\\\\\\\\\\\\\": 2}, {\\\\\\\\\\\\\\\"column\\\\\\\\\\\\\\\": {\\\\\\\\\\\\\\\"type\\\\\\\\\\\\\\\": 2, \\\\\\\\\\\\\\\"details\\\\\\\\\\\\\\\": {\\\\\\\\\\\\\\\"selectedColumn\\\\\\\\\\\\\\\": \\\\\\\\\\\\\\\"smoking\\\\\\\\\\\\\\\"}}, \\\\\\\\\\\\\\\"typeProperty\\\\\\\\\\\\\\\": 2}, {\\\\\\\\\\\\\\\"column\\\\\\\\\\\\\\\": {\\\\\\\\\\\\\\\"type\\\\\\\\\\\\\\\": 2, \\\\\\\\\\\\\\\"details\\\\\\\\\\\\\\\": {\\\\\\\\\\\\\\\"selectedColumn\\\\\\\\\\\\\\\": \\\\\\\\\\\\\\\"time\\\\\\\\\\\\\\\"}}, \\\\\\\\\\\\\\\"typeProperty\\\\\\\\\\\\\\\": 2}, {\\\\\\\\\\\\\\\"column\\\\\\\\\\\\\\\": {\\\\\\\\\\\\\\\"type\\\\\\\\\\\\\\\": 2, \\\\\\\\\\\\\\\"details\\\\\\\\\\\\\\\": {\\\\\\\\\\\\\\\"selectedColumn\\\\\\\\\\\\\\\": \\\\\\\\\\\\\\\"DEATH_EVENT\\\\\\\\\\\\\\\"}}, \\\\\\\\\\\\\\\"typeProperty\\\\\\\\\\\\\\\": 2}]}, \\\\\\\\\\\\\\\"localData\\\\\\\\\\\\\\\": {}, \\\\\\\\\\\\\\\"isEnabled\\\\\\\\\\\\\\\": true, \\\\\\\\\\\\\\\"name\\\\\\\\\\\\\\\": null, \\\\\\\\\\\\\\\"annotation\\\\\\\\\\\\\\\": null}], \\\\\\\\\\\\\\\"inspectors\\\\\\\\\\\\\\\": [], \\\\\\\\\\\\\\\"meta\\\\\\\\\\\\\\\": {\\\\\\\\\\\\\\\"savedDatasetId\\\\\\\\\\\\\\\": \\\\\\\\\\\\\\\"ac03043d-01c6-4780-b4e7-e7892f999d71\\\\\\\\\\\\\\\", \\\\\\\\\\\\\\\"datasetType\\\\\\\\\\\\\\\": \\\\\\\\\\\\\\\"tabular\\\\\\\\\\\\\\\", \\\\\\\\\\\\\\\"subscriptionId\\\\\\\\\\\\\\\": \\\\\\\\\\\\\\\"3d1a56d2-7c81-4118-9790-f85d1acf0c77\\\\\\\\\\\\\\\", \\\\\\\\\\\\\\\"workspaceId\\\\\\\\\\\\\\\": \\\\\\\\\\\\\\\"f4931c6d-04f8-4d22-87f0-0a816ae435ac\\\\\\\\\\\\\\\", \\\\\\\\\\\\\\\"workspaceLocation\\\\\\\\\\\\\\\": \\\\\\\\\\\\\\\"southcentralus\\\\\\\\\\\\\\\"}}\\\\\\\", \\\\\\\"activities\\\\\\\": 0}\", \"EnableSubsampling\": null, \"runTemplate\": \"AutoML\", \"azureml.runsource\": \"automl\", \"display_task_type\": \"classification\", \"dependencies_versions\": \"{\\\"azureml-widgets\\\": \\\"1.19.0\\\", \\\"azureml-train\\\": \\\"1.19.0\\\", \\\"azureml-train-restclients-hyperdrive\\\": \\\"1.19.0\\\", \\\"azureml-train-core\\\": \\\"1.19.0\\\", \\\"azureml-train-automl\\\": \\\"1.19.0\\\", \\\"azureml-train-automl-runtime\\\": \\\"1.19.0\\\", \\\"azureml-train-automl-client\\\": \\\"1.19.0\\\", \\\"azureml-tensorboard\\\": \\\"1.19.0\\\", \\\"azureml-telemetry\\\": \\\"1.19.0\\\", \\\"azureml-sdk\\\": \\\"1.19.0\\\", \\\"azureml-samples\\\": \\\"0+unknown\\\", \\\"azureml-pipeline\\\": \\\"1.19.0\\\", \\\"azureml-pipeline-steps\\\": \\\"1.19.0\\\", \\\"azureml-pipeline-core\\\": \\\"1.19.0\\\", \\\"azureml-opendatasets\\\": \\\"1.19.0\\\", \\\"azureml-model-management-sdk\\\": \\\"1.0.1b6.post1\\\", \\\"azureml-mlflow\\\": \\\"1.19.0\\\", \\\"azureml-interpret\\\": \\\"1.19.0\\\", \\\"azureml-explain-model\\\": \\\"1.19.0\\\", \\\"azureml-defaults\\\": \\\"1.19.0\\\", \\\"azureml-dataset-runtime\\\": \\\"1.19.0.post1\\\", \\\"azureml-dataprep\\\": \\\"2.6.1\\\", \\\"azureml-dataprep-rslex\\\": \\\"1.4.0\\\", \\\"azureml-dataprep-native\\\": \\\"26.0.0\\\", \\\"azureml-datadrift\\\": \\\"1.19.0\\\", \\\"azureml-core\\\": \\\"1.19.0\\\", \\\"azureml-contrib-services\\\": \\\"1.19.0\\\", \\\"azureml-contrib-server\\\": \\\"1.19.0\\\", \\\"azureml-contrib-reinforcementlearning\\\": \\\"1.19.0\\\", \\\"azureml-contrib-pipeline-steps\\\": \\\"1.19.0\\\", \\\"azureml-contrib-notebook\\\": \\\"1.19.0\\\", \\\"azureml-contrib-interpret\\\": \\\"1.19.0\\\", \\\"azureml-contrib-gbdt\\\": \\\"1.19.0\\\", \\\"azureml-contrib-fairness\\\": \\\"1.19.0\\\", \\\"azureml-contrib-dataset\\\": \\\"1.19.0\\\", \\\"azureml-cli-common\\\": \\\"1.19.0\\\", \\\"azureml-automl-runtime\\\": \\\"1.19.0\\\", \\\"azureml-automl-core\\\": \\\"1.19.0\\\", \\\"azureml-accel-models\\\": \\\"1.19.0\\\"}\", \"_aml_system_scenario_identification\": \"Remote.Parent\", \"ClientType\": \"SDK\", \"environment_cpu_name\": \"AzureML-AutoML\", \"environment_cpu_label\": \"prod\", \"environment_gpu_name\": \"AzureML-AutoML-GPU\", \"environment_gpu_label\": \"prod\", \"root_attribution\": \"automl\", \"attribution\": \"AutoML\", \"Orchestrator\": \"AutoML\", \"CancelUri\": \"https://southcentralus.experiments.azureml.net/jasmine/v1.0/subscriptions/3d1a56d2-7c81-4118-9790-f85d1acf0c77/resourceGroups/aml-quickstarts-135306/providers/Microsoft.MachineLearningServices/workspaces/quick-starts-ws-135306/experimentids/850ae823-9385-4b10-96fb-463fe80f0df4/cancel/AutoML_efa4ac15-967d-4b8c-83d7-7c3513e695ab\", \"ClientSdkVersion\": \"1.20.0\", \"snapshotId\": \"00000000-0000-0000-0000-000000000000\", \"SetupRunId\": \"AutoML_efa4ac15-967d-4b8c-83d7-7c3513e695ab_setup\", \"SetupRunContainerId\": \"dcid.AutoML_efa4ac15-967d-4b8c-83d7-7c3513e695ab_setup\", \"FeaturizationRunJsonPath\": \"featurizer_container.json\", \"FeaturizationRunId\": \"AutoML_efa4ac15-967d-4b8c-83d7-7c3513e695ab_featurize\", \"ProblemInfoJsonString\": \"{\\\"dataset_num_categorical\\\": 0, \\\"is_sparse\\\": false, \\\"subsampling\\\": false, \\\"dataset_classes\\\": 2, \\\"dataset_features\\\": 12, \\\"dataset_samples\\\": 224, \\\"single_frequency_class_detected\\\": false}\", \"ModelExplainRunId\": \"AutoML_efa4ac15-967d-4b8c-83d7-7c3513e695ab_ModelExplain\"}, \"tags\": {\"model_explain_run\": \"best_run\", \"_aml_system_azureml.automlComponent\": \"AutoML\", \"pipeline_id\": \"\", \"score\": \"\", \"predicted_cost\": \"\", \"fit_time\": \"\", \"training_percent\": \"\", \"iteration\": \"\", \"run_preprocessor\": \"\", \"run_algorithm\": \"\", \"dynamic_whitelisting_iterations\": \"<25>;<30>;<35>;<40>;<45>;\", \"automl_best_child_run_id\": \"AutoML_efa4ac15-967d-4b8c-83d7-7c3513e695ab_46\"}, \"end_time_utc\": \"2021-01-19T08:24:38.046946Z\", \"status\": \"Completed\", \"log_files\": {}, \"log_groups\": [], \"run_duration\": \"0:27:23\"}, \"child_runs\": [{\"run_id\": \"AutoML_efa4ac15-967d-4b8c-83d7-7c3513e695ab_0\", \"run_number\": 6, \"metric\": null, \"status\": \"Completed\", \"run_type\": \"azureml.scriptrun\", \"training_percent\": \"100\", \"start_time\": \"2021-01-19T08:06:19.549599Z\", \"end_time\": \"2021-01-19T08:07:15.68776Z\", \"created_time\": \"2021-01-19T08:06:08.563424Z\", \"created_time_dt\": \"2021-01-19T08:06:08.563424Z\", \"duration\": \"0:01:07\", \"iteration\": \"0\", \"goal\": \"accuracy_max\", \"run_name\": \"MaxAbsScaler, LightGBM\", \"run_properties\": \"copy=True\", \"primary_metric\": 0.86144144, \"best_metric\": 0.86144144}, {\"run_id\": \"AutoML_efa4ac15-967d-4b8c-83d7-7c3513e695ab_3\", \"run_number\": 7, \"metric\": null, \"status\": \"Completed\", \"run_type\": \"azureml.scriptrun\", \"training_percent\": \"100\", \"start_time\": \"2021-01-19T08:08:34.019058Z\", \"end_time\": \"2021-01-19T08:11:58.269246Z\", \"created_time\": \"2021-01-19T08:06:08.57672Z\", \"created_time_dt\": \"2021-01-19T08:06:08.57672Z\", \"duration\": \"0:05:49\", \"iteration\": \"3\", \"goal\": \"accuracy_max\", \"run_name\": \"MinMaxScaler, RandomForest\", \"run_properties\": \"copy=True, feature_range=(0, 1\", \"primary_metric\": 0.83483483, \"best_metric\": 0.86144144}, {\"run_id\": \"AutoML_efa4ac15-967d-4b8c-83d7-7c3513e695ab_2\", \"run_number\": 8, \"metric\": null, \"status\": \"Completed\", \"run_type\": \"azureml.scriptrun\", \"training_percent\": \"100\", \"start_time\": \"2021-01-19T08:07:22.134464Z\", \"end_time\": \"2021-01-19T08:08:22.574017Z\", \"created_time\": \"2021-01-19T08:06:08.577069Z\", \"created_time_dt\": \"2021-01-19T08:06:08.577069Z\", \"duration\": \"0:02:13\", \"iteration\": \"2\", \"goal\": \"accuracy_max\", \"run_name\": \"MinMaxScaler, RandomForest\", \"run_properties\": \"copy=True, feature_range=(0, 1\", \"primary_metric\": 0.84348348, \"best_metric\": 0.86144144}, {\"run_id\": \"AutoML_efa4ac15-967d-4b8c-83d7-7c3513e695ab_1\", \"run_number\": 9, \"metric\": null, \"status\": \"Completed\", \"run_type\": \"azureml.scriptrun\", \"training_percent\": \"100\", \"start_time\": \"2021-01-19T08:08:29.414652Z\", \"end_time\": \"2021-01-19T08:09:29.112755Z\", \"created_time\": \"2021-01-19T08:06:08.575455Z\", \"created_time_dt\": \"2021-01-19T08:06:08.575455Z\", \"duration\": \"0:03:20\", \"iteration\": \"1\", \"goal\": \"accuracy_max\", \"run_name\": \"MaxAbsScaler, XGBoostClassifier\", \"run_properties\": \"copy=True\", \"primary_metric\": 0.86126126, \"best_metric\": 0.86144144}, {\"run_id\": \"AutoML_efa4ac15-967d-4b8c-83d7-7c3513e695ab_4\", \"run_number\": 10, \"metric\": null, \"status\": \"Completed\", \"run_type\": \"azureml.scriptrun\", \"training_percent\": \"100\", \"start_time\": \"2021-01-19T08:08:33.312097Z\", \"end_time\": \"2021-01-19T08:11:54.71993Z\", \"created_time\": \"2021-01-19T08:07:17.206502Z\", \"created_time_dt\": \"2021-01-19T08:07:17.206502Z\", \"duration\": \"0:04:37\", \"iteration\": \"4\", \"goal\": \"accuracy_max\", \"run_name\": \"MinMaxScaler, RandomForest\", \"run_properties\": \"copy=True, feature_range=(0, 1\", \"primary_metric\": 0.86582583, \"best_metric\": 0.86582583}, {\"run_id\": \"AutoML_efa4ac15-967d-4b8c-83d7-7c3513e695ab_5\", \"run_number\": 11, \"metric\": null, \"status\": \"Completed\", \"run_type\": \"azureml.scriptrun\", \"training_percent\": \"100\", \"start_time\": \"2021-01-19T08:08:40.028434Z\", \"end_time\": \"2021-01-19T08:12:00.51264Z\", \"created_time\": \"2021-01-19T08:08:27.666029Z\", \"created_time_dt\": \"2021-01-19T08:08:27.666029Z\", \"duration\": \"0:03:32\", \"iteration\": \"5\", \"goal\": \"accuracy_max\", \"run_name\": \"StandardScalerWrapper, XGBoostClassifier\", \"run_properties\": \"<azureml.automl.runtime.shared.model_wrappers.StandardScalerWrapper object at 0x7f4a274bf080\", \"primary_metric\": 0.84354354, \"best_metric\": 0.86582583}, {\"run_id\": \"AutoML_efa4ac15-967d-4b8c-83d7-7c3513e695ab_6\", \"run_number\": 12, \"metric\": null, \"status\": \"Completed\", \"run_type\": \"azureml.scriptrun\", \"training_percent\": \"100\", \"start_time\": \"2021-01-19T08:09:48.698583Z\", \"end_time\": \"2021-01-19T08:10:40.114811Z\", \"created_time\": \"2021-01-19T08:09:33.609612Z\", \"created_time_dt\": \"2021-01-19T08:09:33.609612Z\", \"duration\": \"0:01:06\", \"iteration\": \"6\", \"goal\": \"accuracy_max\", \"run_name\": \"StandardScalerWrapper, KNN\", \"run_properties\": \"<azureml.automl.runtime.shared.model_wrappers.StandardScalerWrapper object at 0x7f6372e33a20\", \"primary_metric\": 0.72312312, \"best_metric\": 0.86582583}, {\"run_id\": \"AutoML_efa4ac15-967d-4b8c-83d7-7c3513e695ab_7\", \"run_number\": 13, \"metric\": null, \"status\": \"Completed\", \"run_type\": \"azureml.scriptrun\", \"training_percent\": \"100\", \"start_time\": \"2021-01-19T08:10:53.390593Z\", \"end_time\": \"2021-01-19T08:11:43.654698Z\", \"created_time\": \"2021-01-19T08:10:42.643103Z\", \"created_time_dt\": \"2021-01-19T08:10:42.643103Z\", \"duration\": \"0:01:01\", \"iteration\": \"7\", \"goal\": \"accuracy_max\", \"run_name\": \"SparseNormalizer, XGBoostClassifier\", \"run_properties\": \"<azureml.automl.runtime.shared.model_wrappers.SparseNormalizer object at 0x7f9f9c71fb38\", \"primary_metric\": 0.84384384, \"best_metric\": 0.86582583}, {\"run_id\": \"AutoML_efa4ac15-967d-4b8c-83d7-7c3513e695ab_8\", \"run_number\": 14, \"metric\": null, \"status\": \"Completed\", \"run_type\": \"azureml.scriptrun\", \"training_percent\": \"100\", \"start_time\": \"2021-01-19T08:12:49.503442Z\", \"end_time\": \"2021-01-19T08:13:41.62137Z\", \"created_time\": \"2021-01-19T08:11:46.124214Z\", \"created_time_dt\": \"2021-01-19T08:11:46.124214Z\", \"duration\": \"0:01:55\", \"iteration\": \"8\", \"goal\": \"accuracy_max\", \"run_name\": \"MinMaxScaler, LogisticRegression\", \"run_properties\": \"copy=True, feature_range=(0, 1\", \"primary_metric\": 0.85255255, \"best_metric\": 0.86582583}, {\"run_id\": \"AutoML_efa4ac15-967d-4b8c-83d7-7c3513e695ab_11\", \"run_number\": 15, \"metric\": null, \"status\": \"Completed\", \"run_type\": \"azureml.scriptrun\", \"training_percent\": \"100\", \"start_time\": \"2021-01-19T08:12:53.050498Z\", \"end_time\": \"2021-01-19T08:13:36.553814Z\", \"created_time\": \"2021-01-19T08:12:40.344439Z\", \"created_time_dt\": \"2021-01-19T08:12:40.344439Z\", \"duration\": \"0:00:56\", \"iteration\": \"11\", \"goal\": \"accuracy_max\", \"run_name\": \"MaxAbsScaler, GradientBoosting\", \"run_properties\": \"copy=True\", \"primary_metric\": 0.86576577, \"best_metric\": 0.86582583}, {\"run_id\": \"AutoML_efa4ac15-967d-4b8c-83d7-7c3513e695ab_10\", \"run_number\": 16, \"metric\": null, \"status\": \"Completed\", \"run_type\": \"azureml.scriptrun\", \"training_percent\": \"100\", \"start_time\": \"2021-01-19T08:12:52.322119Z\", \"end_time\": \"2021-01-19T08:13:47.319353Z\", \"created_time\": \"2021-01-19T08:12:40.355675Z\", \"created_time_dt\": \"2021-01-19T08:12:40.355675Z\", \"duration\": \"0:01:06\", \"iteration\": \"10\", \"goal\": \"accuracy_max\", \"run_name\": \"RobustScaler, ExtremeRandomTrees\", \"run_properties\": \"copy=True, quantile_range=[10, 90], with_centering=True,\\n             with_scaling=False\", \"primary_metric\": 0.8615015, \"best_metric\": 0.86582583}, {\"run_id\": \"AutoML_efa4ac15-967d-4b8c-83d7-7c3513e695ab_9\", \"run_number\": 17, \"metric\": null, \"status\": \"Completed\", \"run_type\": \"azureml.scriptrun\", \"training_percent\": \"100\", \"start_time\": \"2021-01-19T08:12:51.646513Z\", \"end_time\": \"2021-01-19T08:13:39.432384Z\", \"created_time\": \"2021-01-19T08:12:40.350844Z\", \"created_time_dt\": \"2021-01-19T08:12:40.350844Z\", \"duration\": \"0:00:59\", \"iteration\": \"9\", \"goal\": \"accuracy_max\", \"run_name\": \"MinMaxScaler, LightGBM\", \"run_properties\": \"copy=True, feature_range=(0, 1\", \"primary_metric\": 0.83033033, \"best_metric\": 0.86582583}, {\"run_id\": \"AutoML_efa4ac15-967d-4b8c-83d7-7c3513e695ab_12\", \"run_number\": 18, \"metric\": null, \"status\": \"Completed\", \"run_type\": \"azureml.scriptrun\", \"training_percent\": \"100\", \"start_time\": \"2021-01-19T08:13:50.972418Z\", \"end_time\": \"2021-01-19T08:14:36.708423Z\", \"created_time\": \"2021-01-19T08:13:38.29288Z\", \"created_time_dt\": \"2021-01-19T08:13:38.29288Z\", \"duration\": \"0:00:58\", \"iteration\": \"12\", \"goal\": \"accuracy_max\", \"run_name\": \"StandardScalerWrapper, XGBoostClassifier\", \"run_properties\": \"<azureml.automl.runtime.shared.model_wrappers.StandardScalerWrapper object at 0x7f13bdd08908\", \"primary_metric\": 0.81249249, \"best_metric\": 0.86582583}, {\"run_id\": \"AutoML_efa4ac15-967d-4b8c-83d7-7c3513e695ab_13\", \"run_number\": 19, \"metric\": null, \"status\": \"Completed\", \"run_type\": \"azureml.scriptrun\", \"training_percent\": \"100\", \"start_time\": \"2021-01-19T08:13:57.303864Z\", \"end_time\": \"2021-01-19T08:14:47.534768Z\", \"created_time\": \"2021-01-19T08:13:41.97224Z\", \"created_time_dt\": \"2021-01-19T08:13:41.97224Z\", \"duration\": \"0:01:05\", \"iteration\": \"13\", \"goal\": \"accuracy_max\", \"run_name\": \"StandardScalerWrapper, LogisticRegression\", \"run_properties\": \"<azureml.automl.runtime.shared.model_wrappers.StandardScalerWrapper object at 0x7f00b04abcc0\", \"primary_metric\": 0.84366366, \"best_metric\": 0.86582583}, {\"run_id\": \"AutoML_efa4ac15-967d-4b8c-83d7-7c3513e695ab_14\", \"run_number\": 20, \"metric\": null, \"status\": \"Completed\", \"run_type\": \"azureml.scriptrun\", \"training_percent\": \"100\", \"start_time\": \"2021-01-19T08:14:02.143855Z\", \"end_time\": \"2021-01-19T08:14:53.824156Z\", \"created_time\": \"2021-01-19T08:13:50.58638Z\", \"created_time_dt\": \"2021-01-19T08:13:50.58638Z\", \"duration\": \"0:01:03\", \"iteration\": \"14\", \"goal\": \"accuracy_max\", \"run_name\": \"MaxAbsScaler, LightGBM\", \"run_properties\": \"copy=True\", \"primary_metric\": 0.75891892, \"best_metric\": 0.86582583}, {\"run_id\": \"AutoML_efa4ac15-967d-4b8c-83d7-7c3513e695ab_15\", \"run_number\": 21, \"metric\": null, \"status\": \"Completed\", \"run_type\": \"azureml.scriptrun\", \"training_percent\": \"100\", \"start_time\": \"2021-01-19T08:14:02.290637Z\", \"end_time\": \"2021-01-19T08:14:53.703869Z\", \"created_time\": \"2021-01-19T08:13:50.598446Z\", \"created_time_dt\": \"2021-01-19T08:13:50.598446Z\", \"duration\": \"0:01:03\", \"iteration\": \"15\", \"goal\": \"accuracy_max\", \"run_name\": \"SparseNormalizer, LightGBM\", \"run_properties\": \"<azureml.automl.runtime.shared.model_wrappers.SparseNormalizer object at 0x7f65f5b135f8\", \"primary_metric\": 0.74108108, \"best_metric\": 0.86582583}, {\"run_id\": \"AutoML_efa4ac15-967d-4b8c-83d7-7c3513e695ab_16\", \"run_number\": 22, \"metric\": null, \"status\": \"Completed\", \"run_type\": \"azureml.scriptrun\", \"training_percent\": \"100\", \"start_time\": \"2021-01-19T08:14:50.886711Z\", \"end_time\": \"2021-01-19T08:15:42.377125Z\", \"created_time\": \"2021-01-19T08:14:38.513921Z\", \"created_time_dt\": \"2021-01-19T08:14:38.513921Z\", \"duration\": \"0:01:03\", \"iteration\": \"16\", \"goal\": \"accuracy_max\", \"run_name\": \"StandardScalerWrapper, ExtremeRandomTrees\", \"run_properties\": \"<azureml.automl.runtime.shared.model_wrappers.StandardScalerWrapper object at 0x7fe10d7c9320\", \"primary_metric\": 0.84810811, \"best_metric\": 0.86582583}, {\"run_id\": \"AutoML_efa4ac15-967d-4b8c-83d7-7c3513e695ab_17\", \"run_number\": 23, \"metric\": null, \"status\": \"Completed\", \"run_type\": \"azureml.scriptrun\", \"training_percent\": \"100\", \"start_time\": \"2021-01-19T08:14:59.760713Z\", \"end_time\": \"2021-01-19T08:15:50.250433Z\", \"created_time\": \"2021-01-19T08:14:49.287438Z\", \"created_time_dt\": \"2021-01-19T08:14:49.287438Z\", \"duration\": \"0:01:00\", \"iteration\": \"17\", \"goal\": \"accuracy_max\", \"run_name\": \"SparseNormalizer, XGBoostClassifier\", \"run_properties\": \"<azureml.automl.runtime.shared.model_wrappers.SparseNormalizer object at 0x7fb092f196d8\", \"primary_metric\": 0.82156156, \"best_metric\": 0.86582583}, {\"run_id\": \"AutoML_efa4ac15-967d-4b8c-83d7-7c3513e695ab_18\", \"run_number\": 24, \"metric\": null, \"status\": \"Completed\", \"run_type\": \"azureml.scriptrun\", \"training_percent\": \"100\", \"start_time\": \"2021-01-19T08:15:07.47964Z\", \"end_time\": \"2021-01-19T08:16:05.121839Z\", \"created_time\": \"2021-01-19T08:14:56.197649Z\", \"created_time_dt\": \"2021-01-19T08:14:56.197649Z\", \"duration\": \"0:01:08\", \"iteration\": \"18\", \"goal\": \"accuracy_max\", \"run_name\": \"StandardScalerWrapper, ExtremeRandomTrees\", \"run_properties\": \"<azureml.automl.runtime.shared.model_wrappers.StandardScalerWrapper object at 0x7fd8f0270588\", \"primary_metric\": 0.69207207, \"best_metric\": 0.86582583}, {\"run_id\": \"AutoML_efa4ac15-967d-4b8c-83d7-7c3513e695ab_19\", \"run_number\": 25, \"metric\": null, \"status\": \"Completed\", \"run_type\": \"azureml.scriptrun\", \"training_percent\": \"100\", \"start_time\": \"2021-01-19T08:15:09.104049Z\", \"end_time\": \"2021-01-19T08:15:54.990572Z\", \"created_time\": \"2021-01-19T08:14:56.225822Z\", \"created_time_dt\": \"2021-01-19T08:14:56.225822Z\", \"duration\": \"0:00:58\", \"iteration\": \"19\", \"goal\": \"accuracy_max\", \"run_name\": \"MinMaxScaler, LightGBM\", \"run_properties\": \"copy=True, feature_range=(0, 1\", \"primary_metric\": 0.86138138, \"best_metric\": 0.86582583}, {\"run_id\": \"AutoML_efa4ac15-967d-4b8c-83d7-7c3513e695ab_20\", \"run_number\": 26, \"metric\": null, \"status\": \"Completed\", \"run_type\": \"azureml.scriptrun\", \"training_percent\": \"100\", \"start_time\": \"2021-01-19T08:15:54.882333Z\", \"end_time\": \"2021-01-19T08:16:48.402179Z\", \"created_time\": \"2021-01-19T08:15:44.132709Z\", \"created_time_dt\": \"2021-01-19T08:15:44.132709Z\", \"duration\": \"0:01:04\", \"iteration\": \"20\", \"goal\": \"accuracy_max\", \"run_name\": \"RobustScaler, ExtremeRandomTrees\", \"run_properties\": \"copy=True, quantile_range=[25, 75], with_centering=True,\\n             with_scaling=False\", \"primary_metric\": 0.8615015, \"best_metric\": 0.86582583}, {\"run_id\": \"AutoML_efa4ac15-967d-4b8c-83d7-7c3513e695ab_21\", \"run_number\": 27, \"metric\": null, \"status\": \"Completed\", \"run_type\": \"azureml.scriptrun\", \"training_percent\": \"100\", \"start_time\": \"2021-01-19T08:16:02.995733Z\", \"end_time\": \"2021-01-19T08:16:57.483391Z\", \"created_time\": \"2021-01-19T08:15:51.926961Z\", \"created_time_dt\": \"2021-01-19T08:15:51.926961Z\", \"duration\": \"0:01:05\", \"iteration\": \"21\", \"goal\": \"accuracy_max\", \"run_name\": \"MaxAbsScaler, RandomForest\", \"run_properties\": \"copy=True\", \"primary_metric\": 0.83465465, \"best_metric\": 0.86582583}, {\"run_id\": \"AutoML_efa4ac15-967d-4b8c-83d7-7c3513e695ab_22\", \"run_number\": 28, \"metric\": null, \"status\": \"Completed\", \"run_type\": \"azureml.scriptrun\", \"training_percent\": \"100\", \"start_time\": \"2021-01-19T08:16:08.222444Z\", \"end_time\": \"2021-01-19T08:16:51.129457Z\", \"created_time\": \"2021-01-19T08:15:56.775117Z\", \"created_time_dt\": \"2021-01-19T08:15:56.775117Z\", \"duration\": \"0:00:54\", \"iteration\": \"22\", \"goal\": \"accuracy_max\", \"run_name\": \"StandardScalerWrapper, LightGBM\", \"run_properties\": \"<azureml.automl.runtime.shared.model_wrappers.StandardScalerWrapper object at 0x7f3438b6e908\", \"primary_metric\": 0.86144144, \"best_metric\": 0.86582583}, {\"run_id\": \"AutoML_efa4ac15-967d-4b8c-83d7-7c3513e695ab_23\", \"run_number\": 29, \"metric\": null, \"status\": \"Completed\", \"run_type\": \"azureml.scriptrun\", \"training_percent\": \"100\", \"start_time\": \"2021-01-19T08:16:16.5884Z\", \"end_time\": \"2021-01-19T08:17:07.286348Z\", \"created_time\": \"2021-01-19T08:16:07.031994Z\", \"created_time_dt\": \"2021-01-19T08:16:07.031994Z\", \"duration\": \"0:01:00\", \"iteration\": \"23\", \"goal\": \"accuracy_max\", \"run_name\": \"StandardScalerWrapper, ExtremeRandomTrees\", \"run_properties\": \"<azureml.automl.runtime.shared.model_wrappers.StandardScalerWrapper object at 0x7f6b95aa0cf8\", \"primary_metric\": 0.74996997, \"best_metric\": 0.86582583}, {\"run_id\": \"AutoML_efa4ac15-967d-4b8c-83d7-7c3513e695ab_24\", \"run_number\": 30, \"metric\": null, \"status\": \"Completed\", \"run_type\": \"azureml.scriptrun\", \"training_percent\": \"100\", \"start_time\": \"2021-01-19T08:17:00.764255Z\", \"end_time\": \"2021-01-19T08:17:51.020884Z\", \"created_time\": \"2021-01-19T08:16:50.151198Z\", \"created_time_dt\": \"2021-01-19T08:16:50.151198Z\", \"duration\": \"0:01:00\", \"iteration\": \"24\", \"goal\": \"accuracy_max\", \"run_name\": \"StandardScalerWrapper, RandomForest\", \"run_properties\": \"<azureml.automl.runtime.shared.model_wrappers.StandardScalerWrapper object at 0x7fe0d83a0588\", \"primary_metric\": 0.856997, \"best_metric\": 0.86582583}, {\"run_id\": \"AutoML_efa4ac15-967d-4b8c-83d7-7c3513e695ab_25\", \"run_number\": 31, \"metric\": null, \"status\": \"Completed\", \"run_type\": \"azureml.scriptrun\", \"training_percent\": \"100\", \"start_time\": \"2021-01-19T08:17:04.975229Z\", \"end_time\": \"2021-01-19T08:17:52.409615Z\", \"created_time\": \"2021-01-19T08:16:54.308925Z\", \"created_time_dt\": \"2021-01-19T08:16:54.308925Z\", \"duration\": \"0:00:58\", \"iteration\": \"25\", \"goal\": \"accuracy_max\", \"run_name\": \"StandardScalerWrapper, RandomForest\", \"run_properties\": \"<azureml.automl.runtime.shared.model_wrappers.StandardScalerWrapper object at 0x7f0ddbf87048\", \"primary_metric\": 0.68756757, \"best_metric\": 0.86582583}, {\"run_id\": \"AutoML_efa4ac15-967d-4b8c-83d7-7c3513e695ab_26\", \"run_number\": 32, \"metric\": null, \"status\": \"Completed\", \"run_type\": \"azureml.scriptrun\", \"training_percent\": \"100\", \"start_time\": \"2021-01-19T08:17:11.037799Z\", \"end_time\": \"2021-01-19T08:18:02.401465Z\", \"created_time\": \"2021-01-19T08:16:59.20927Z\", \"created_time_dt\": \"2021-01-19T08:16:59.20927Z\", \"duration\": \"0:01:03\", \"iteration\": \"26\", \"goal\": \"accuracy_max\", \"run_name\": \"StandardScalerWrapper, RandomForest\", \"run_properties\": \"<azureml.automl.runtime.shared.model_wrappers.StandardScalerWrapper object at 0x7f0afc5b8a20\", \"primary_metric\": 0.83471471, \"best_metric\": 0.86582583}, {\"run_id\": \"AutoML_efa4ac15-967d-4b8c-83d7-7c3513e695ab_27\", \"run_number\": 33, \"metric\": null, \"status\": \"Completed\", \"run_type\": \"azureml.scriptrun\", \"training_percent\": \"100\", \"start_time\": \"2021-01-19T08:17:20.676932Z\", \"end_time\": \"2021-01-19T08:18:11.165341Z\", \"created_time\": \"2021-01-19T08:17:10.218769Z\", \"created_time_dt\": \"2021-01-19T08:17:10.218769Z\", \"duration\": \"0:01:00\", \"iteration\": \"27\", \"goal\": \"accuracy_max\", \"run_name\": \"StandardScalerWrapper, XGBoostClassifier\", \"run_properties\": \"<azureml.automl.runtime.shared.model_wrappers.StandardScalerWrapper object at 0x7f92a60cc198\", \"primary_metric\": 0.85687688, \"best_metric\": 0.86582583}, {\"run_id\": \"AutoML_efa4ac15-967d-4b8c-83d7-7c3513e695ab_28\", \"run_number\": 34, \"metric\": null, \"status\": \"Completed\", \"run_type\": \"azureml.scriptrun\", \"training_percent\": \"100\", \"start_time\": \"2021-01-19T08:18:04.582944Z\", \"end_time\": \"2021-01-19T08:19:07.219784Z\", \"created_time\": \"2021-01-19T08:17:52.965586Z\", \"created_time_dt\": \"2021-01-19T08:17:52.965586Z\", \"duration\": \"0:01:14\", \"iteration\": \"28\", \"goal\": \"accuracy_max\", \"run_name\": \"StandardScalerWrapper, ExtremeRandomTrees\", \"run_properties\": \"<azureml.automl.runtime.shared.model_wrappers.StandardScalerWrapper object at 0x7f1256cb77b8\", \"primary_metric\": 0.83927928, \"best_metric\": 0.86582583}, {\"run_id\": \"AutoML_efa4ac15-967d-4b8c-83d7-7c3513e695ab_29\", \"run_number\": 35, \"metric\": null, \"status\": \"Completed\", \"run_type\": \"azureml.scriptrun\", \"training_percent\": \"100\", \"start_time\": \"2021-01-19T08:18:09.652533Z\", \"end_time\": \"2021-01-19T08:19:09.925546Z\", \"created_time\": \"2021-01-19T08:17:56.466251Z\", \"created_time_dt\": \"2021-01-19T08:17:56.466251Z\", \"duration\": \"0:01:13\", \"iteration\": \"29\", \"goal\": \"accuracy_max\", \"run_name\": \"MaxAbsScaler, RandomForest\", \"run_properties\": \"copy=True\", \"primary_metric\": 0.86618619, \"best_metric\": 0.86618619}, {\"run_id\": \"AutoML_efa4ac15-967d-4b8c-83d7-7c3513e695ab_30\", \"run_number\": 36, \"metric\": null, \"status\": \"Completed\", \"run_type\": \"azureml.scriptrun\", \"training_percent\": \"100\", \"start_time\": \"2021-01-19T08:18:15.553495Z\", \"end_time\": \"2021-01-19T08:19:14.7966Z\", \"created_time\": \"2021-01-19T08:18:05.009487Z\", \"created_time_dt\": \"2021-01-19T08:18:05.009487Z\", \"duration\": \"0:01:09\", \"iteration\": \"30\", \"goal\": \"accuracy_max\", \"run_name\": \"SparseNormalizer, RandomForest\", \"run_properties\": \"<azureml.automl.runtime.shared.model_wrappers.SparseNormalizer object at 0x7f0ce842fdd8\", \"primary_metric\": 0.71843844, \"best_metric\": 0.86618619}, {\"run_id\": \"AutoML_efa4ac15-967d-4b8c-83d7-7c3513e695ab_31\", \"run_number\": 37, \"metric\": null, \"status\": \"Completed\", \"run_type\": \"azureml.scriptrun\", \"training_percent\": \"100\", \"start_time\": \"2021-01-19T08:18:25.192746Z\", \"end_time\": \"2021-01-19T08:19:16.594315Z\", \"created_time\": \"2021-01-19T08:18:12.839443Z\", \"created_time_dt\": \"2021-01-19T08:18:12.839443Z\", \"duration\": \"0:01:03\", \"iteration\": \"31\", \"goal\": \"accuracy_max\", \"run_name\": \"SparseNormalizer, XGBoostClassifier\", \"run_properties\": \"<azureml.automl.runtime.shared.model_wrappers.SparseNormalizer object at 0x7f9f606f8320\", \"primary_metric\": 0.83471471, \"best_metric\": 0.86618619}, {\"run_id\": \"AutoML_efa4ac15-967d-4b8c-83d7-7c3513e695ab_32\", \"run_number\": 38, \"metric\": null, \"status\": \"Completed\", \"run_type\": \"azureml.scriptrun\", \"training_percent\": \"100\", \"start_time\": \"2021-01-19T08:19:19.583995Z\", \"end_time\": \"2021-01-19T08:20:08.878496Z\", \"created_time\": \"2021-01-19T08:19:08.945673Z\", \"created_time_dt\": \"2021-01-19T08:19:08.945673Z\", \"duration\": \"0:00:59\", \"iteration\": \"32\", \"goal\": \"accuracy_max\", \"run_name\": \"SparseNormalizer, XGBoostClassifier\", \"run_properties\": \"<azureml.automl.runtime.shared.model_wrappers.SparseNormalizer object at 0x7fd88b7c1a20\", \"primary_metric\": 0.84822823, \"best_metric\": 0.86618619}, {\"run_id\": \"AutoML_efa4ac15-967d-4b8c-83d7-7c3513e695ab_33\", \"run_number\": 39, \"metric\": null, \"status\": \"Completed\", \"run_type\": \"azureml.scriptrun\", \"training_percent\": \"100\", \"start_time\": \"2021-01-19T08:19:23.658864Z\", \"end_time\": \"2021-01-19T08:20:14.525829Z\", \"created_time\": \"2021-01-19T08:19:12.349943Z\", \"created_time_dt\": \"2021-01-19T08:19:12.349943Z\", \"duration\": \"0:01:02\", \"iteration\": \"33\", \"goal\": \"accuracy_max\", \"run_name\": \"SparseNormalizer, XGBoostClassifier\", \"run_properties\": \"<azureml.automl.runtime.shared.model_wrappers.SparseNormalizer object at 0x7fd40443d278\", \"primary_metric\": 0.856997, \"best_metric\": 0.86618619}, {\"run_id\": \"AutoML_efa4ac15-967d-4b8c-83d7-7c3513e695ab_34\", \"run_number\": 40, \"metric\": null, \"status\": \"Completed\", \"run_type\": \"azureml.scriptrun\", \"training_percent\": \"100\", \"start_time\": \"2021-01-19T08:19:27.43657Z\", \"end_time\": \"2021-01-19T08:20:22.520401Z\", \"created_time\": \"2021-01-19T08:19:16.50102Z\", \"created_time_dt\": \"2021-01-19T08:19:16.50102Z\", \"duration\": \"0:01:06\", \"iteration\": \"34\", \"goal\": \"accuracy_max\", \"run_name\": \"StandardScalerWrapper, ExtremeRandomTrees\", \"run_properties\": \"<azureml.automl.runtime.shared.model_wrappers.StandardScalerWrapper object at 0x7f5cfc7a1e48\", \"primary_metric\": 0.83033033, \"best_metric\": 0.86618619}, {\"run_id\": \"AutoML_efa4ac15-967d-4b8c-83d7-7c3513e695ab_35\", \"run_number\": 41, \"metric\": null, \"status\": \"Completed\", \"run_type\": \"azureml.scriptrun\", \"training_percent\": \"100\", \"start_time\": \"2021-01-19T08:19:33.726421Z\", \"end_time\": \"2021-01-19T08:20:22.163311Z\", \"created_time\": \"2021-01-19T08:19:21.257381Z\", \"created_time_dt\": \"2021-01-19T08:19:21.257381Z\", \"duration\": \"0:01:00\", \"iteration\": \"35\", \"goal\": \"accuracy_max\", \"run_name\": \"MaxAbsScaler, RandomForest\", \"run_properties\": \"copy=True\", \"primary_metric\": 0.68756757, \"best_metric\": 0.86618619}, {\"run_id\": \"AutoML_efa4ac15-967d-4b8c-83d7-7c3513e695ab_36\", \"run_number\": 42, \"metric\": null, \"status\": \"Completed\", \"run_type\": \"azureml.scriptrun\", \"training_percent\": \"100\", \"start_time\": \"2021-01-19T08:20:23.36961Z\", \"end_time\": \"2021-01-19T08:21:13.102108Z\", \"created_time\": \"2021-01-19T08:20:10.624286Z\", \"created_time_dt\": \"2021-01-19T08:20:10.624286Z\", \"duration\": \"0:01:02\", \"iteration\": \"36\", \"goal\": \"accuracy_max\", \"run_name\": \"MaxAbsScaler, LightGBM\", \"run_properties\": \"copy=True\", \"primary_metric\": 0.83039039, \"best_metric\": 0.86618619}, {\"run_id\": \"AutoML_efa4ac15-967d-4b8c-83d7-7c3513e695ab_37\", \"run_number\": 43, \"metric\": null, \"status\": \"Completed\", \"run_type\": \"azureml.scriptrun\", \"training_percent\": \"100\", \"start_time\": \"2021-01-19T08:20:28.825725Z\", \"end_time\": \"2021-01-19T08:21:24.770637Z\", \"created_time\": \"2021-01-19T08:20:16.611274Z\", \"created_time_dt\": \"2021-01-19T08:20:16.611274Z\", \"duration\": \"0:01:08\", \"iteration\": \"37\", \"goal\": \"accuracy_max\", \"run_name\": \"StandardScalerWrapper, XGBoostClassifier\", \"run_properties\": \"<azureml.automl.runtime.shared.model_wrappers.StandardScalerWrapper object at 0x7f36c285efd0\", \"primary_metric\": 0.83465465, \"best_metric\": 0.86618619}, {\"run_id\": \"AutoML_efa4ac15-967d-4b8c-83d7-7c3513e695ab_38\", \"run_number\": 44, \"metric\": null, \"status\": \"Completed\", \"run_type\": \"azureml.scriptrun\", \"training_percent\": \"100\", \"start_time\": \"2021-01-19T08:20:34.803131Z\", \"end_time\": \"2021-01-19T08:21:28.17668Z\", \"created_time\": \"2021-01-19T08:20:23.893005Z\", \"created_time_dt\": \"2021-01-19T08:20:23.893005Z\", \"duration\": \"0:01:04\", \"iteration\": \"38\", \"goal\": \"accuracy_max\", \"run_name\": \"RobustScaler, RandomForest\", \"run_properties\": \"copy=True, quantile_range=[25, 75], with_centering=True,\\n             with_scaling=False\", \"primary_metric\": 0.84804805, \"best_metric\": 0.86618619}, {\"run_id\": \"AutoML_efa4ac15-967d-4b8c-83d7-7c3513e695ab_39\", \"run_number\": 45, \"metric\": null, \"status\": \"Completed\", \"run_type\": \"azureml.scriptrun\", \"training_percent\": \"100\", \"start_time\": \"2021-01-19T08:20:34.425521Z\", \"end_time\": \"2021-01-19T08:21:27.645989Z\", \"created_time\": \"2021-01-19T08:20:23.930649Z\", \"created_time_dt\": \"2021-01-19T08:20:23.930649Z\", \"duration\": \"0:01:03\", \"iteration\": \"39\", \"goal\": \"accuracy_max\", \"run_name\": \"MinMaxScaler, RandomForest\", \"run_properties\": \"copy=True, feature_range=(0, 1\", \"primary_metric\": 0.85693694, \"best_metric\": 0.86618619}, {\"run_id\": \"AutoML_efa4ac15-967d-4b8c-83d7-7c3513e695ab_40\", \"run_number\": 46, \"metric\": null, \"status\": \"Completed\", \"run_type\": \"azureml.scriptrun\", \"training_percent\": \"100\", \"start_time\": \"2021-01-19T08:21:26.987055Z\", \"end_time\": \"2021-01-19T08:22:14.437513Z\", \"created_time\": \"2021-01-19T08:21:15.638915Z\", \"created_time_dt\": \"2021-01-19T08:21:15.638915Z\", \"duration\": \"0:00:58\", \"iteration\": \"40\", \"goal\": \"accuracy_max\", \"run_name\": \"MinMaxScaler, RandomForest\", \"run_properties\": \"copy=True, feature_range=(0, 1\", \"primary_metric\": 0.83027027, \"best_metric\": 0.86618619}, {\"run_id\": \"AutoML_efa4ac15-967d-4b8c-83d7-7c3513e695ab_41\", \"run_number\": 47, \"metric\": null, \"status\": \"Completed\", \"run_type\": \"azureml.scriptrun\", \"training_percent\": \"100\", \"start_time\": \"2021-01-19T08:21:38.078865Z\", \"end_time\": \"2021-01-19T08:22:32.511824Z\", \"created_time\": \"2021-01-19T08:21:26.542812Z\", \"created_time_dt\": \"2021-01-19T08:21:26.542812Z\", \"duration\": \"0:01:05\", \"iteration\": \"41\", \"goal\": \"accuracy_max\", \"run_name\": \"StandardScalerWrapper, XGBoostClassifier\", \"run_properties\": \"<azureml.automl.runtime.shared.model_wrappers.StandardScalerWrapper object at 0x7f12441a0128\", \"primary_metric\": 0.84348348, \"best_metric\": 0.86618619}, {\"run_id\": \"AutoML_efa4ac15-967d-4b8c-83d7-7c3513e695ab_42\", \"run_number\": 48, \"metric\": null, \"status\": \"Completed\", \"run_type\": \"azureml.scriptrun\", \"training_percent\": \"100\", \"start_time\": \"2021-01-19T08:21:42.275917Z\", \"end_time\": \"2021-01-19T08:22:27.868326Z\", \"created_time\": \"2021-01-19T08:21:29.896329Z\", \"created_time_dt\": \"2021-01-19T08:21:29.896329Z\", \"duration\": \"0:00:57\", \"iteration\": \"42\", \"goal\": \"accuracy_max\", \"run_name\": \"StandardScalerWrapper, XGBoostClassifier\", \"run_properties\": \"<azureml.automl.runtime.shared.model_wrappers.StandardScalerWrapper object at 0x7f4cedfadc18\", \"primary_metric\": 0.8390991, \"best_metric\": 0.86618619}, {\"run_id\": \"AutoML_efa4ac15-967d-4b8c-83d7-7c3513e695ab_43\", \"run_number\": 49, \"metric\": null, \"status\": \"Canceled\", \"run_type\": \"azureml.scriptrun\", \"training_percent\": \"100\", \"start_time\": \"2021-01-19T08:21:41.243408Z\", \"end_time\": \"2021-01-19T08:22:35.863138Z\", \"created_time\": \"2021-01-19T08:21:29.94926Z\", \"created_time_dt\": \"2021-01-19T08:21:29.94926Z\", \"duration\": \"0:01:05\", \"iteration\": \"43\", \"goal\": \"accuracy_max\", \"run_name\": \"StandardScalerWrapper, XGBoostClassifier\", \"run_properties\": \"<azureml.automl.runtime.shared.model_wrappers.StandardScalerWrapper object at 0x7f51986ecb38\", \"primary_metric\": 0.85693694, \"best_metric\": 0.86618619}, {\"run_id\": \"AutoML_efa4ac15-967d-4b8c-83d7-7c3513e695ab_44\", \"run_number\": 50, \"metric\": null, \"status\": \"Canceled\", \"run_type\": \"azureml.scriptrun\", \"training_percent\": \"100\", \"start_time\": \"2021-01-19T08:22:29.690569Z\", \"end_time\": \"2021-01-19T08:22:41.97429Z\", \"created_time\": \"2021-01-19T08:22:16.495251Z\", \"created_time_dt\": \"2021-01-19T08:22:16.495251Z\", \"duration\": \"0:00:25\", \"iteration\": \"44\", \"goal\": null, \"run_name\": \"Canceled\", \"run_properties\": null}, {\"run_id\": \"AutoML_efa4ac15-967d-4b8c-83d7-7c3513e695ab_45\", \"run_number\": 51, \"metric\": null, \"status\": \"Canceled\", \"run_type\": \"azureml.scriptrun\", \"training_percent\": \"100\", \"start_time\": \"2021-01-19T08:22:31.352525Z\", \"end_time\": \"2021-01-19T08:22:46.646467Z\", \"created_time\": \"2021-01-19T08:22:31.352525Z\", \"created_time_dt\": \"2021-01-19T08:22:31.352525Z\", \"duration\": \"0:00:15\", \"iteration\": \"45\", \"goal\": null, \"run_name\": \"Canceled\", \"run_properties\": null}, {\"run_id\": \"AutoML_efa4ac15-967d-4b8c-83d7-7c3513e695ab_46\", \"run_number\": 52, \"metric\": null, \"status\": \"Completed\", \"run_type\": \"azureml.scriptrun\", \"training_percent\": \"100\", \"start_time\": \"2021-01-19T08:22:58.734343Z\", \"end_time\": \"2021-01-19T08:24:21.388911Z\", \"created_time\": \"2021-01-19T08:22:47.457826Z\", \"created_time_dt\": \"2021-01-19T08:22:47.457826Z\", \"duration\": \"0:01:33\", \"iteration\": \"46\", \"goal\": \"accuracy_max\", \"run_name\": \"VotingEnsemble\", \"run_properties\": \"classification_labels=None,\\n                              estimators=[('29',\\n                                           Pipeline(memory=None,\\n                                                    steps=[('maxabsscaler',\\n                                                            MaxAbsScaler(copy=True\", \"primary_metric\": 0.87933934, \"best_metric\": 0.87933934}], \"children_metrics\": {\"categories\": [0], \"series\": {\"norm_macro_recall\": [{\"categories\": [\"0\", \"1\", \"2\", \"3\", \"4\", \"5\", \"6\", \"7\", \"8\", \"9\", \"10\", \"11\", \"12\", \"13\", \"14\", \"15\", \"16\", \"17\", \"18\", \"19\", \"20\", \"21\", \"22\", \"23\", \"24\", \"25\", \"26\", \"27\", \"28\", \"29\", \"30\", \"31\", \"32\", \"33\", \"34\", \"35\", \"36\", \"37\", \"38\", \"39\", \"40\", \"41\", \"42\", \"43\", \"46\"], \"mode\": \"markers\", \"name\": \"norm_macro_recall\", \"stepped\": false, \"type\": \"scatter\", \"data\": [0.6412080672950238, 0.639389885476842, 0.5927353805614676, 0.5546995033951555, 0.6412080672950238, 0.5830789500354717, 0.15177662916793352, 0.5822691800952672, 0.619389885476842, 0.5095895408938887, 0.596045403871491, 0.6571166514644775, 0.46044593088071345, 0.6134924495794062, 0.2351444207965947, 0.21132157697375087, 0.5530678017634539, 0.5347978108847674, 0.015151515151515138, 0.633381980338502, 0.5882193169149691, 0.5469261173608999, 0.626458903415425, 0.23520218911523258, 0.6760149994932604, 0.0, 0.6443660687138948, 0.6269717239282456, 0.6481889125367387, 0.681411776629168, 0.4240802675585285, 0.561464477551434, 0.588277085233607, 0.589232796189318, 0.5006496402148576, 0.0, 0.5296473092125266, 0.531103678929766, 0.5768146346407216, 0.5968146346407216, 0.4976720381068207, 0.5775838654099524, 0.5504043782304652, 0.6287899057464273, 0.6599381777642648]}, {\"categories\": [\"0\", \"1\", \"2\", \"3\", \"4\", \"5\", \"6\", \"7\", \"8\", \"9\", \"10\", \"11\", \"12\", \"13\", \"14\", \"15\", \"16\", \"17\", \"18\", \"19\", \"20\", \"21\", \"22\", \"23\", \"24\", \"25\", \"26\", \"27\", \"28\", \"29\", \"30\", \"31\", \"32\", \"33\", \"34\", \"35\", \"36\", \"37\", \"38\", \"39\", \"40\", \"41\", \"42\", \"43\", \"46\"], \"mode\": \"lines\", \"name\": \"norm_macro_recall_max\", \"stepped\": true, \"type\": \"scatter\", \"data\": [0.6412080672950238, 0.6412080672950238, 0.6412080672950238, 0.6412080672950238, 0.6412080672950238, 0.6412080672950238, 0.6412080672950238, 0.6412080672950238, 0.6412080672950238, 0.6412080672950238, 0.6412080672950238, 0.6571166514644775, 0.6571166514644775, 0.6571166514644775, 0.6571166514644775, 0.6571166514644775, 0.6571166514644775, 0.6571166514644775, 0.6571166514644775, 0.6571166514644775, 0.6571166514644775, 0.6571166514644775, 0.6571166514644775, 0.6571166514644775, 0.6760149994932604, 0.6760149994932604, 0.6760149994932604, 0.6760149994932604, 0.6760149994932604, 0.681411776629168, 0.681411776629168, 0.681411776629168, 0.681411776629168, 0.681411776629168, 0.681411776629168, 0.681411776629168, 0.681411776629168, 0.681411776629168, 0.681411776629168, 0.681411776629168, 0.681411776629168, 0.681411776629168, 0.681411776629168, 0.681411776629168, 0.681411776629168]}], \"AUC_weighted\": [{\"categories\": [\"0\", \"1\", \"2\", \"3\", \"4\", \"5\", \"6\", \"7\", \"8\", \"9\", \"10\", \"11\", \"12\", \"13\", \"14\", \"15\", \"16\", \"17\", \"18\", \"19\", \"20\", \"21\", \"22\", \"23\", \"24\", \"25\", \"26\", \"27\", \"28\", \"29\", \"30\", \"31\", \"32\", \"33\", \"34\", \"35\", \"36\", \"37\", \"38\", \"39\", \"40\", \"41\", \"42\", \"43\", \"46\"], \"mode\": \"markers\", \"name\": \"AUC_weighted\", \"stepped\": false, \"type\": \"scatter\", \"data\": [0.9105514340731732, 0.9114831458396676, 0.9120570994223169, 0.8935870071957029, 0.9162097496706192, 0.91042726259248, 0.8224409040235127, 0.8875653390088173, 0.8900895104895105, 0.915746974764366, 0.9084986115333941, 0.9286419377723725, 0.9053945170771258, 0.8873587716631195, 0.8899225701834398, 0.842537853450897, 0.8930728894294112, 0.8694970305057262, 0.8802120604033647, 0.9159453329279416, 0.908430769230769, 0.9135482112090806, 0.9232046417350764, 0.8756698287220027, 0.9261824668085538, 0.8156088780784434, 0.9242537144015405, 0.920630424647816, 0.8910694841390493, 0.9145694334650857, 0.7348344684301206, 0.8604539677713591, 0.8844394648829432, 0.8792200972940103, 0.8883601094557617, 0.8795346204520117, 0.875078078443296, 0.908151798925712, 0.9234074389378737, 0.9004841694537347, 0.9225320563494477, 0.8917810175331914, 0.8880175838654099, 0.8979701023614067, 0.9255426573426574]}, {\"categories\": [\"0\", \"1\", \"2\", \"3\", \"4\", \"5\", \"6\", \"7\", \"8\", \"9\", \"10\", \"11\", \"12\", \"13\", \"14\", \"15\", \"16\", \"17\", \"18\", \"19\", \"20\", \"21\", \"22\", \"23\", \"24\", \"25\", \"26\", \"27\", \"28\", \"29\", \"30\", \"31\", \"32\", \"33\", \"34\", \"35\", \"36\", \"37\", \"38\", \"39\", \"40\", \"41\", \"42\", \"43\", \"46\"], \"mode\": \"lines\", \"name\": \"AUC_weighted_max\", \"stepped\": true, \"type\": \"scatter\", \"data\": [0.9105514340731732, 0.9114831458396676, 0.9120570994223169, 0.9120570994223169, 0.9162097496706192, 0.9162097496706192, 0.9162097496706192, 0.9162097496706192, 0.9162097496706192, 0.9162097496706192, 0.9162097496706192, 0.9286419377723725, 0.9286419377723725, 0.9286419377723725, 0.9286419377723725, 0.9286419377723725, 0.9286419377723725, 0.9286419377723725, 0.9286419377723725, 0.9286419377723725, 0.9286419377723725, 0.9286419377723725, 0.9286419377723725, 0.9286419377723725, 0.9286419377723725, 0.9286419377723725, 0.9286419377723725, 0.9286419377723725, 0.9286419377723725, 0.9286419377723725, 0.9286419377723725, 0.9286419377723725, 0.9286419377723725, 0.9286419377723725, 0.9286419377723725, 0.9286419377723725, 0.9286419377723725, 0.9286419377723725, 0.9286419377723725, 0.9286419377723725, 0.9286419377723725, 0.9286419377723725, 0.9286419377723725, 0.9286419377723725, 0.9286419377723725]}], \"recall_score_macro\": [{\"categories\": [\"0\", \"1\", \"2\", \"3\", \"4\", \"5\", \"6\", \"7\", \"8\", \"9\", \"10\", \"11\", \"12\", \"13\", \"14\", \"15\", \"16\", \"17\", \"18\", \"19\", \"20\", \"21\", \"22\", \"23\", \"24\", \"25\", \"26\", \"27\", \"28\", \"29\", \"30\", \"31\", \"32\", \"33\", \"34\", \"35\", \"36\", \"37\", \"38\", \"39\", \"40\", \"41\", \"42\", \"43\", \"46\"], \"mode\": \"markers\", \"name\": \"recall_score_macro\", \"stepped\": false, \"type\": \"scatter\", \"data\": [0.8206040336475118, 0.8196949427384209, 0.7963676902807336, 0.7773497516975777, 0.8206040336475118, 0.7915394750177359, 0.5758883145839667, 0.7911345900476335, 0.809694942738421, 0.7547947704469444, 0.7980227019357455, 0.8285583257322386, 0.7302229654403568, 0.8067462247897031, 0.6175722103982973, 0.6056607884868754, 0.776533900881727, 0.7673989054423836, 0.5075757575757576, 0.816690990169251, 0.7941096584574846, 0.77346305868045, 0.8132294517077124, 0.6176010945576162, 0.8380074997466301, 0.5, 0.8221830343569474, 0.8134858619641229, 0.8240944562683694, 0.840705888314584, 0.7120401337792642, 0.780732238775717, 0.7941385426168036, 0.794616398094659, 0.7503248201074287, 0.5, 0.7648236546062633, 0.7655518394648829, 0.7884073173203608, 0.7984073173203609, 0.7488360190534104, 0.7887919327049762, 0.7752021891152326, 0.8143949528732137, 0.8299690888821324]}, {\"categories\": [\"0\", \"1\", \"2\", \"3\", \"4\", \"5\", \"6\", \"7\", \"8\", \"9\", \"10\", \"11\", \"12\", \"13\", \"14\", \"15\", \"16\", \"17\", \"18\", \"19\", \"20\", \"21\", \"22\", \"23\", \"24\", \"25\", \"26\", \"27\", \"28\", \"29\", \"30\", \"31\", \"32\", \"33\", \"34\", \"35\", \"36\", \"37\", \"38\", \"39\", \"40\", \"41\", \"42\", \"43\", \"46\"], \"mode\": \"lines\", \"name\": \"recall_score_macro_max\", \"stepped\": true, \"type\": \"scatter\", \"data\": [0.8206040336475118, 0.8206040336475118, 0.8206040336475118, 0.8206040336475118, 0.8206040336475118, 0.8206040336475118, 0.8206040336475118, 0.8206040336475118, 0.8206040336475118, 0.8206040336475118, 0.8206040336475118, 0.8285583257322386, 0.8285583257322386, 0.8285583257322386, 0.8285583257322386, 0.8285583257322386, 0.8285583257322386, 0.8285583257322386, 0.8285583257322386, 0.8285583257322386, 0.8285583257322386, 0.8285583257322386, 0.8285583257322386, 0.8285583257322386, 0.8380074997466301, 0.8380074997466301, 0.8380074997466301, 0.8380074997466301, 0.8380074997466301, 0.840705888314584, 0.840705888314584, 0.840705888314584, 0.840705888314584, 0.840705888314584, 0.840705888314584, 0.840705888314584, 0.840705888314584, 0.840705888314584, 0.840705888314584, 0.840705888314584, 0.840705888314584, 0.840705888314584, 0.840705888314584, 0.840705888314584, 0.840705888314584]}], \"average_precision_score_weighted\": [{\"categories\": [\"0\", \"1\", \"2\", \"3\", \"4\", \"5\", \"6\", \"7\", \"8\", \"9\", \"10\", \"11\", \"12\", \"13\", \"14\", \"15\", \"16\", \"17\", \"18\", \"19\", \"20\", \"21\", \"22\", \"23\", \"24\", \"25\", \"26\", \"27\", \"28\", \"29\", \"30\", \"31\", \"32\", \"33\", \"34\", \"35\", \"36\", \"37\", \"38\", \"39\", \"40\", \"41\", \"42\", \"43\", \"46\"], \"mode\": \"markers\", \"name\": \"average_precision_score_weighted\", \"stepped\": false, \"type\": \"scatter\", \"data\": [0.9242701299408628, 0.9285301310292882, 0.9262350073396991, 0.8992291267858031, 0.9253703172261284, 0.9213440994579343, 0.845696053280531, 0.9009590125088676, 0.905119566621431, 0.9222940933170279, 0.9217343181268447, 0.9378658644731575, 0.9103470962134175, 0.9035020168213244, 0.8979012597151503, 0.8573122270954152, 0.909809666799191, 0.8892921493143779, 0.8943429674539468, 0.92689188964999, 0.9231574339278437, 0.9154631086357529, 0.9352767240942281, 0.8894690129697614, 0.9367067623850893, 0.8341009958470412, 0.9334046598097645, 0.9338398653936775, 0.9067164939048235, 0.9212379678272645, 0.7341123698427148, 0.8736966439787954, 0.9058078254531469, 0.892717749405, 0.90626523066967, 0.893175967074289, 0.8923042250793474, 0.9186596954873122, 0.9336461462385346, 0.9130213860748716, 0.9344979136656003, 0.8986870726839024, 0.894295830629425, 0.9121494444314551, 0.9346737551893988]}, {\"categories\": [\"0\", \"1\", \"2\", \"3\", \"4\", \"5\", \"6\", \"7\", \"8\", \"9\", \"10\", \"11\", \"12\", \"13\", \"14\", \"15\", \"16\", \"17\", \"18\", \"19\", \"20\", \"21\", \"22\", \"23\", \"24\", \"25\", \"26\", \"27\", \"28\", \"29\", \"30\", \"31\", \"32\", \"33\", \"34\", \"35\", \"36\", \"37\", \"38\", \"39\", \"40\", \"41\", \"42\", \"43\", \"46\"], \"mode\": \"lines\", \"name\": \"average_precision_score_weighted_max\", \"stepped\": true, \"type\": \"scatter\", \"data\": [0.9242701299408628, 0.9285301310292882, 0.9285301310292882, 0.9285301310292882, 0.9285301310292882, 0.9285301310292882, 0.9285301310292882, 0.9285301310292882, 0.9285301310292882, 0.9285301310292882, 0.9285301310292882, 0.9378658644731575, 0.9378658644731575, 0.9378658644731575, 0.9378658644731575, 0.9378658644731575, 0.9378658644731575, 0.9378658644731575, 0.9378658644731575, 0.9378658644731575, 0.9378658644731575, 0.9378658644731575, 0.9378658644731575, 0.9378658644731575, 0.9378658644731575, 0.9378658644731575, 0.9378658644731575, 0.9378658644731575, 0.9378658644731575, 0.9378658644731575, 0.9378658644731575, 0.9378658644731575, 0.9378658644731575, 0.9378658644731575, 0.9378658644731575, 0.9378658644731575, 0.9378658644731575, 0.9378658644731575, 0.9378658644731575, 0.9378658644731575, 0.9378658644731575, 0.9378658644731575, 0.9378658644731575, 0.9378658644731575, 0.9378658644731575]}], \"AUC_micro\": [{\"categories\": [\"0\", \"1\", \"2\", \"3\", \"4\", \"5\", \"6\", \"7\", \"8\", \"9\", \"10\", \"11\", \"12\", \"13\", \"14\", \"15\", \"16\", \"17\", \"18\", \"19\", \"20\", \"21\", \"22\", \"23\", \"24\", \"25\", \"26\", \"27\", \"28\", \"29\", \"30\", \"31\", \"32\", \"33\", \"34\", \"35\", \"36\", \"37\", \"38\", \"39\", \"40\", \"41\", \"42\", \"43\", \"46\"], \"mode\": \"markers\", \"name\": \"AUC_micro\", \"stepped\": false, \"type\": \"scatter\", \"data\": [0.9266697291886481, 0.9294133917701486, 0.9244646376105835, 0.9049421421421421, 0.9295363471579687, 0.9257885020155291, 0.8388181045910775, 0.9087081243405568, 0.9131295944593242, 0.9184278440602766, 0.920597873549225, 0.9354485620755891, 0.9119379595812029, 0.9122741660579498, 0.8686408137867598, 0.8518470578686795, 0.9059979222465709, 0.8940057787517247, 0.8508090252414576, 0.926615307199091, 0.9204092092092093, 0.9201544355165977, 0.9295141736330925, 0.8642012066120174, 0.93557997997998, 0.8232244568893218, 0.9328117306495685, 0.9308521386251116, 0.9021190704217731, 0.9280447799150502, 0.7023755322890458, 0.8937925276627979, 0.9109152287422558, 0.9078309228147066, 0.9014071476882286, 0.8507360657955253, 0.899468116765414, 0.9168339041744447, 0.9261710575440305, 0.914581251521792, 0.9136427670914157, 0.9100428753077403, 0.8930020182344508, 0.9130388983578173, 0.9349894002110218]}, {\"categories\": [\"0\", \"1\", \"2\", \"3\", \"4\", \"5\", \"6\", \"7\", \"8\", \"9\", \"10\", \"11\", \"12\", \"13\", \"14\", \"15\", \"16\", \"17\", \"18\", \"19\", \"20\", \"21\", \"22\", \"23\", \"24\", \"25\", \"26\", \"27\", \"28\", \"29\", \"30\", \"31\", \"32\", \"33\", \"34\", \"35\", \"36\", \"37\", \"38\", \"39\", \"40\", \"41\", \"42\", \"43\", \"46\"], \"mode\": \"lines\", \"name\": \"AUC_micro_max\", \"stepped\": true, \"type\": \"scatter\", \"data\": [0.9266697291886481, 0.9294133917701486, 0.9294133917701486, 0.9294133917701486, 0.9295363471579687, 0.9295363471579687, 0.9295363471579687, 0.9295363471579687, 0.9295363471579687, 0.9295363471579687, 0.9295363471579687, 0.9354485620755891, 0.9354485620755891, 0.9354485620755891, 0.9354485620755891, 0.9354485620755891, 0.9354485620755891, 0.9354485620755891, 0.9354485620755891, 0.9354485620755891, 0.9354485620755891, 0.9354485620755891, 0.9354485620755891, 0.9354485620755891, 0.93557997997998, 0.93557997997998, 0.93557997997998, 0.93557997997998, 0.93557997997998, 0.93557997997998, 0.93557997997998, 0.93557997997998, 0.93557997997998, 0.93557997997998, 0.93557997997998, 0.93557997997998, 0.93557997997998, 0.93557997997998, 0.93557997997998, 0.93557997997998, 0.93557997997998, 0.93557997997998, 0.93557997997998, 0.93557997997998, 0.93557997997998]}], \"precision_score_weighted\": [{\"categories\": [\"0\", \"1\", \"2\", \"3\", \"4\", \"5\", \"6\", \"7\", \"8\", \"9\", \"10\", \"11\", \"12\", \"13\", \"14\", \"15\", \"16\", \"17\", \"18\", \"19\", \"20\", \"21\", \"22\", \"23\", \"24\", \"25\", \"26\", \"27\", \"28\", \"29\", \"30\", \"31\", \"32\", \"33\", \"34\", \"35\", \"36\", \"37\", \"38\", \"39\", \"40\", \"41\", \"42\", \"43\", \"46\"], \"mode\": \"markers\", \"name\": \"precision_score_weighted\", \"stepped\": false, \"type\": \"scatter\", \"data\": [0.8607005358875601, 0.8646476906020016, 0.8491696241696239, 0.8432247587165621, 0.8694054137408466, 0.8417931706616569, 0.7444063365631993, 0.8451695028820548, 0.8498569187356372, 0.8402178445584018, 0.8693988775270989, 0.8679719742958403, 0.8157055050037506, 0.8411429478536202, 0.8066728240845888, 0.757734863105707, 0.8578129986090105, 0.8182859336482095, 0.5743360675744237, 0.8639375796296701, 0.8733416537681165, 0.839677234205536, 0.8636294466171345, 0.7880871236960715, 0.8595393412620304, 0.4729822146470795, 0.8426924293676211, 0.8603815939764977, 0.844590880235558, 0.8652761797212408, 0.7523530795753018, 0.8379375867095166, 0.850664204198121, 0.8618963686324217, 0.8508870108431511, 0.4729822146470795, 0.8332624287977627, 0.8344373707635677, 0.8530687144209793, 0.8634360797579187, 0.8484835988061793, 0.8492445718658459, 0.8500565149126856, 0.8617389307643545, 0.8859915528304022]}, {\"categories\": [\"0\", \"1\", \"2\", \"3\", \"4\", \"5\", \"6\", \"7\", \"8\", \"9\", \"10\", \"11\", \"12\", \"13\", \"14\", \"15\", \"16\", \"17\", \"18\", \"19\", \"20\", \"21\", \"22\", \"23\", \"24\", \"25\", \"26\", \"27\", \"28\", \"29\", \"30\", \"31\", \"32\", \"33\", \"34\", \"35\", \"36\", \"37\", \"38\", \"39\", \"40\", \"41\", \"42\", \"43\", \"46\"], \"mode\": \"lines\", \"name\": \"precision_score_weighted_max\", \"stepped\": true, \"type\": \"scatter\", \"data\": [0.8607005358875601, 0.8646476906020016, 0.8646476906020016, 0.8646476906020016, 0.8694054137408466, 0.8694054137408466, 0.8694054137408466, 0.8694054137408466, 0.8694054137408466, 0.8694054137408466, 0.8694054137408466, 0.8694054137408466, 0.8694054137408466, 0.8694054137408466, 0.8694054137408466, 0.8694054137408466, 0.8694054137408466, 0.8694054137408466, 0.8694054137408466, 0.8694054137408466, 0.8733416537681165, 0.8733416537681165, 0.8733416537681165, 0.8733416537681165, 0.8733416537681165, 0.8733416537681165, 0.8733416537681165, 0.8733416537681165, 0.8733416537681165, 0.8733416537681165, 0.8733416537681165, 0.8733416537681165, 0.8733416537681165, 0.8733416537681165, 0.8733416537681165, 0.8733416537681165, 0.8733416537681165, 0.8733416537681165, 0.8733416537681165, 0.8733416537681165, 0.8733416537681165, 0.8733416537681165, 0.8733416537681165, 0.8733416537681165, 0.8859915528304022]}], \"average_precision_score_macro\": [{\"categories\": [\"0\", \"1\", \"2\", \"3\", \"4\", \"5\", \"6\", \"7\", \"8\", \"9\", \"10\", \"11\", \"12\", \"13\", \"14\", \"15\", \"16\", \"17\", \"18\", \"19\", \"20\", \"21\", \"22\", \"23\", \"24\", \"25\", \"26\", \"27\", \"28\", \"29\", \"30\", \"31\", \"32\", \"33\", \"34\", \"35\", \"36\", \"37\", \"38\", \"39\", \"40\", \"41\", \"42\", \"43\", \"46\"], \"mode\": \"markers\", \"name\": \"average_precision_score_macro\", \"stepped\": false, \"type\": \"scatter\", \"data\": [0.9057521503732796, 0.9119304584207141, 0.9088734469476801, 0.8759251516633374, 0.9041713393802011, 0.8980682029435382, 0.8081195707216344, 0.8762191785314316, 0.881882055335761, 0.9005561871332185, 0.9013943727144592, 0.919800437498397, 0.8894041765055745, 0.8794721963295941, 0.8650663039164305, 0.815872496330663, 0.8877254695529752, 0.8637559494537702, 0.8667570151442284, 0.9075868821111879, 0.9035850841123318, 0.8868553657173613, 0.9182925741141871, 0.8589771687873443, 0.9198190632076306, 0.7900653592329294, 0.9141181083611793, 0.9160754220551447, 0.8849722904310408, 0.8981382908234886, 0.6772993767898945, 0.8498303419960965, 0.8862395317120747, 0.8781928229467771, 0.8851797180314439, 0.8669725401365462, 0.8652648568123092, 0.897835026594738, 0.9140971120884681, 0.897012189903713, 0.9168397455350729, 0.8749531105149498, 0.8740916631654688, 0.894420442563492, 0.9163058397616509]}, {\"categories\": [\"0\", \"1\", \"2\", \"3\", \"4\", \"5\", \"6\", \"7\", \"8\", \"9\", \"10\", \"11\", \"12\", \"13\", \"14\", \"15\", \"16\", \"17\", \"18\", \"19\", \"20\", \"21\", \"22\", \"23\", \"24\", \"25\", \"26\", \"27\", \"28\", \"29\", \"30\", \"31\", \"32\", \"33\", \"34\", \"35\", \"36\", \"37\", \"38\", \"39\", \"40\", \"41\", \"42\", \"43\", \"46\"], \"mode\": \"lines\", \"name\": \"average_precision_score_macro_max\", \"stepped\": true, \"type\": \"scatter\", \"data\": [0.9057521503732796, 0.9119304584207141, 0.9119304584207141, 0.9119304584207141, 0.9119304584207141, 0.9119304584207141, 0.9119304584207141, 0.9119304584207141, 0.9119304584207141, 0.9119304584207141, 0.9119304584207141, 0.919800437498397, 0.919800437498397, 0.919800437498397, 0.919800437498397, 0.919800437498397, 0.919800437498397, 0.919800437498397, 0.919800437498397, 0.919800437498397, 0.919800437498397, 0.919800437498397, 0.919800437498397, 0.919800437498397, 0.9198190632076306, 0.9198190632076306, 0.9198190632076306, 0.9198190632076306, 0.9198190632076306, 0.9198190632076306, 0.9198190632076306, 0.9198190632076306, 0.9198190632076306, 0.9198190632076306, 0.9198190632076306, 0.9198190632076306, 0.9198190632076306, 0.9198190632076306, 0.9198190632076306, 0.9198190632076306, 0.9198190632076306, 0.9198190632076306, 0.9198190632076306, 0.9198190632076306, 0.9198190632076306]}], \"precision_score_macro\": [{\"categories\": [\"0\", \"1\", \"2\", \"3\", \"4\", \"5\", \"6\", \"7\", \"8\", \"9\", \"10\", \"11\", \"12\", \"13\", \"14\", \"15\", \"16\", \"17\", \"18\", \"19\", \"20\", \"21\", \"22\", \"23\", \"24\", \"25\", \"26\", \"27\", \"28\", \"29\", \"30\", \"31\", \"32\", \"33\", \"34\", \"35\", \"36\", \"37\", \"38\", \"39\", \"40\", \"41\", \"42\", \"43\", \"46\"], \"mode\": \"markers\", \"name\": \"precision_score_macro\", \"stepped\": false, \"type\": \"scatter\", \"data\": [0.8497868217331971, 0.8562141309930551, 0.8401767676767676, 0.8399395003903201, 0.8650096722785415, 0.8320848828143941, 0.7545376736553208, 0.8388175488404972, 0.8365325273506051, 0.8480336871590741, 0.8788972846848683, 0.8576214984294807, 0.8188944583681425, 0.8203131555050476, 0.8435807656395893, 0.765788388934169, 0.8689215495844103, 0.804022851027014, 0.5120547945205479, 0.8571267284191012, 0.8868479899097723, 0.8357735032263335, 0.8594740491626484, 0.8111999387890027, 0.8335237785192114, 0.34378378378378377, 0.8079769009052896, 0.8517460973990841, 0.8126246171785901, 0.84579967910989, 0.6940843086676419, 0.8299918892024154, 0.8469464072437601, 0.8664484465538652, 0.8663390642009062, 0.34378378378378377, 0.8309574467824445, 0.8333907390887765, 0.8535315403300529, 0.866209025117071, 0.8634099249018604, 0.8445073458588946, 0.8531214558201876, 0.8535501198424927, 0.8903442203395807]}, {\"categories\": [\"0\", \"1\", \"2\", \"3\", \"4\", \"5\", \"6\", \"7\", \"8\", \"9\", \"10\", \"11\", \"12\", \"13\", \"14\", \"15\", \"16\", \"17\", \"18\", \"19\", \"20\", \"21\", \"22\", \"23\", \"24\", \"25\", \"26\", \"27\", \"28\", \"29\", \"30\", \"31\", \"32\", \"33\", \"34\", \"35\", \"36\", \"37\", \"38\", \"39\", \"40\", \"41\", \"42\", \"43\", \"46\"], \"mode\": \"lines\", \"name\": \"precision_score_macro_max\", \"stepped\": true, \"type\": \"scatter\", \"data\": [0.8497868217331971, 0.8562141309930551, 0.8562141309930551, 0.8562141309930551, 0.8650096722785415, 0.8650096722785415, 0.8650096722785415, 0.8650096722785415, 0.8650096722785415, 0.8650096722785415, 0.8788972846848683, 0.8788972846848683, 0.8788972846848683, 0.8788972846848683, 0.8788972846848683, 0.8788972846848683, 0.8788972846848683, 0.8788972846848683, 0.8788972846848683, 0.8788972846848683, 0.8868479899097723, 0.8868479899097723, 0.8868479899097723, 0.8868479899097723, 0.8868479899097723, 0.8868479899097723, 0.8868479899097723, 0.8868479899097723, 0.8868479899097723, 0.8868479899097723, 0.8868479899097723, 0.8868479899097723, 0.8868479899097723, 0.8868479899097723, 0.8868479899097723, 0.8868479899097723, 0.8868479899097723, 0.8868479899097723, 0.8868479899097723, 0.8868479899097723, 0.8868479899097723, 0.8868479899097723, 0.8868479899097723, 0.8868479899097723, 0.8903442203395807]}], \"f1_score_macro\": [{\"categories\": [\"0\", \"1\", \"2\", \"3\", \"4\", \"5\", \"6\", \"7\", \"8\", \"9\", \"10\", \"11\", \"12\", \"13\", \"14\", \"15\", \"16\", \"17\", \"18\", \"19\", \"20\", \"21\", \"22\", \"23\", \"24\", \"25\", \"26\", \"27\", \"28\", \"29\", \"30\", \"31\", \"32\", \"33\", \"34\", \"35\", \"36\", \"37\", \"38\", \"39\", \"40\", \"41\", \"42\", \"43\", \"46\"], \"mode\": \"markers\", \"name\": \"f1_score_macro\", \"stepped\": false, \"type\": \"scatter\", \"data\": [0.83215264830915, 0.832478200125259, 0.8095255455347662, 0.7915947031076153, 0.8361976074240225, 0.8065841973608002, 0.5592022285775703, 0.8054100137433471, 0.8207285204096751, 0.7760692144455343, 0.8225519662097834, 0.8394847690964196, 0.7521024893719156, 0.8126584515313721, 0.6169503929663002, 0.6031338645190637, 0.8021155702463189, 0.7787285516274287, 0.4229756932557344, 0.8307527274918579, 0.8202184684006827, 0.7896865520728008, 0.8293833828717551, 0.6157777860381105, 0.8350757627705344, 0.4073824105320169, 0.8127173645744191, 0.8263915277423086, 0.8171409388108025, 0.843108617507486, 0.6917948791042363, 0.7946415112447781, 0.8103626375105089, 0.8174017530417172, 0.7732996179223305, 0.4073824105320169, 0.7830572236998936, 0.7866152310838248, 0.8085766258763613, 0.8195995535659554, 0.7735080978684409, 0.8061361394694728, 0.7957852762779324, 0.826805445731277, 0.8490521097641904]}, {\"categories\": [\"0\", \"1\", \"2\", \"3\", \"4\", \"5\", \"6\", \"7\", \"8\", \"9\", \"10\", \"11\", \"12\", \"13\", \"14\", \"15\", \"16\", \"17\", \"18\", \"19\", \"20\", \"21\", \"22\", \"23\", \"24\", \"25\", \"26\", \"27\", \"28\", \"29\", \"30\", \"31\", \"32\", \"33\", \"34\", \"35\", \"36\", \"37\", \"38\", \"39\", \"40\", \"41\", \"42\", \"43\", \"46\"], \"mode\": \"lines\", \"name\": \"f1_score_macro_max\", \"stepped\": true, \"type\": \"scatter\", \"data\": [0.83215264830915, 0.832478200125259, 0.832478200125259, 0.832478200125259, 0.8361976074240225, 0.8361976074240225, 0.8361976074240225, 0.8361976074240225, 0.8361976074240225, 0.8361976074240225, 0.8361976074240225, 0.8394847690964196, 0.8394847690964196, 0.8394847690964196, 0.8394847690964196, 0.8394847690964196, 0.8394847690964196, 0.8394847690964196, 0.8394847690964196, 0.8394847690964196, 0.8394847690964196, 0.8394847690964196, 0.8394847690964196, 0.8394847690964196, 0.8394847690964196, 0.8394847690964196, 0.8394847690964196, 0.8394847690964196, 0.8394847690964196, 0.843108617507486, 0.843108617507486, 0.843108617507486, 0.843108617507486, 0.843108617507486, 0.843108617507486, 0.843108617507486, 0.843108617507486, 0.843108617507486, 0.843108617507486, 0.843108617507486, 0.843108617507486, 0.843108617507486, 0.843108617507486, 0.843108617507486, 0.8490521097641904]}], \"matthews_correlation\": [{\"categories\": [\"0\", \"1\", \"2\", \"3\", \"4\", \"5\", \"6\", \"7\", \"8\", \"9\", \"10\", \"11\", \"12\", \"13\", \"14\", \"15\", \"16\", \"17\", \"18\", \"19\", \"20\", \"21\", \"22\", \"23\", \"24\", \"25\", \"26\", \"27\", \"28\", \"29\", \"30\", \"31\", \"32\", \"33\", \"34\", \"35\", \"36\", \"37\", \"38\", \"39\", \"40\", \"41\", \"42\", \"43\", \"46\"], \"mode\": \"markers\", \"name\": \"matthews_correlation\", \"stepped\": false, \"type\": \"scatter\", \"data\": [0.6695313726094962, 0.6740189098545976, 0.6337104301578738, 0.6116194308604671, 0.6836345938247148, 0.6221298193228595, 0.2726127895743688, 0.6271313309711793, 0.6455924491039212, 0.5922986220176618, 0.6714702142008502, 0.6852111292815852, 0.5411159653673158, 0.6268372033483, 0.40132203918214304, 0.33378712986372916, 0.6381350650789278, 0.5696185753349949, 0.05998016368747422, 0.6718550591398005, 0.6736539510247711, 0.6036430323127558, 0.6705278661391209, 0.3760257735412172, 0.6714023667972738, 0.0, 0.6297996509436744, 0.6632556848838722, 0.6365539911285585, 0.6864757786902889, 0.40556492763105784, 0.6074795552093755, 0.6380453583582666, 0.6569492986718507, 0.6025849200894341, 0.0, 0.5910195079648963, 0.5950441260733212, 0.6379327399664897, 0.660451607422042, 0.5993398171330253, 0.6300026186525215, 0.6219051009674531, 0.6657342127487796, 0.7163430707483435]}, {\"categories\": [\"0\", \"1\", \"2\", \"3\", \"4\", \"5\", \"6\", \"7\", \"8\", \"9\", \"10\", \"11\", \"12\", \"13\", \"14\", \"15\", \"16\", \"17\", \"18\", \"19\", \"20\", \"21\", \"22\", \"23\", \"24\", \"25\", \"26\", \"27\", \"28\", \"29\", \"30\", \"31\", \"32\", \"33\", \"34\", \"35\", \"36\", \"37\", \"38\", \"39\", \"40\", \"41\", \"42\", \"43\", \"46\"], \"mode\": \"lines\", \"name\": \"matthews_correlation_max\", \"stepped\": true, \"type\": \"scatter\", \"data\": [0.6695313726094962, 0.6740189098545976, 0.6740189098545976, 0.6740189098545976, 0.6836345938247148, 0.6836345938247148, 0.6836345938247148, 0.6836345938247148, 0.6836345938247148, 0.6836345938247148, 0.6836345938247148, 0.6852111292815852, 0.6852111292815852, 0.6852111292815852, 0.6852111292815852, 0.6852111292815852, 0.6852111292815852, 0.6852111292815852, 0.6852111292815852, 0.6852111292815852, 0.6852111292815852, 0.6852111292815852, 0.6852111292815852, 0.6852111292815852, 0.6852111292815852, 0.6852111292815852, 0.6852111292815852, 0.6852111292815852, 0.6852111292815852, 0.6864757786902889, 0.6864757786902889, 0.6864757786902889, 0.6864757786902889, 0.6864757786902889, 0.6864757786902889, 0.6864757786902889, 0.6864757786902889, 0.6864757786902889, 0.6864757786902889, 0.6864757786902889, 0.6864757786902889, 0.6864757786902889, 0.6864757786902889, 0.6864757786902889, 0.7163430707483435]}], \"f1_score_weighted\": [{\"categories\": [\"0\", \"1\", \"2\", \"3\", \"4\", \"5\", \"6\", \"7\", \"8\", \"9\", \"10\", \"11\", \"12\", \"13\", \"14\", \"15\", \"16\", \"17\", \"18\", \"19\", \"20\", \"21\", \"22\", \"23\", \"24\", \"25\", \"26\", \"27\", \"28\", \"29\", \"30\", \"31\", \"32\", \"33\", \"34\", \"35\", \"36\", \"37\", \"38\", \"39\", \"40\", \"41\", \"42\", \"43\", \"46\"], \"mode\": \"markers\", \"name\": \"f1_score_weighted\", \"stepped\": false, \"type\": \"scatter\", \"data\": [0.8588237135782609, 0.8590580625874743, 0.8399827764614413, 0.8265314430194589, 0.8627109030127897, 0.8388198898391067, 0.6606388457263251, 0.8373765218209662, 0.8494475277087973, 0.8176221382706871, 0.8539411415910925, 0.8641426632365143, 0.7981759864516355, 0.8417652052504166, 0.704947349703532, 0.6909759203497344, 0.838126413757761, 0.8145609995870892, 0.5705343165829301, 0.8581907660168531, 0.8528374102767683, 0.8266048142610326, 0.8574410546503571, 0.6998827772473676, 0.857739363590277, 0.5603703140711015, 0.8368507664273003, 0.8541090143622858, 0.8409326561571517, 0.8656189385317156, 0.7254917103388276, 0.8282436265676365, 0.8418106664763481, 0.8497262495718526, 0.8153863803185192, 0.5603703140711015, 0.8209310486245679, 0.8251675551315465, 0.8414637064201226, 0.8508699380485765, 0.8160678978276218, 0.8385681896793008, 0.8310719545725666, 0.8540912841680105, 0.8747395331905176]}, {\"categories\": [\"0\", \"1\", \"2\", \"3\", \"4\", \"5\", \"6\", \"7\", \"8\", \"9\", \"10\", \"11\", \"12\", \"13\", \"14\", \"15\", \"16\", \"17\", \"18\", \"19\", \"20\", \"21\", \"22\", \"23\", \"24\", \"25\", \"26\", \"27\", \"28\", \"29\", \"30\", \"31\", \"32\", \"33\", \"34\", \"35\", \"36\", \"37\", \"38\", \"39\", \"40\", \"41\", \"42\", \"43\", \"46\"], \"mode\": \"lines\", \"name\": \"f1_score_weighted_max\", \"stepped\": true, \"type\": \"scatter\", \"data\": [0.8588237135782609, 0.8590580625874743, 0.8590580625874743, 0.8590580625874743, 0.8627109030127897, 0.8627109030127897, 0.8627109030127897, 0.8627109030127897, 0.8627109030127897, 0.8627109030127897, 0.8627109030127897, 0.8641426632365143, 0.8641426632365143, 0.8641426632365143, 0.8641426632365143, 0.8641426632365143, 0.8641426632365143, 0.8641426632365143, 0.8641426632365143, 0.8641426632365143, 0.8641426632365143, 0.8641426632365143, 0.8641426632365143, 0.8641426632365143, 0.8641426632365143, 0.8641426632365143, 0.8641426632365143, 0.8641426632365143, 0.8641426632365143, 0.8656189385317156, 0.8656189385317156, 0.8656189385317156, 0.8656189385317156, 0.8656189385317156, 0.8656189385317156, 0.8656189385317156, 0.8656189385317156, 0.8656189385317156, 0.8656189385317156, 0.8656189385317156, 0.8656189385317156, 0.8656189385317156, 0.8656189385317156, 0.8656189385317156, 0.8747395331905176]}], \"weighted_accuracy\": [{\"categories\": [\"0\", \"1\", \"2\", \"3\", \"4\", \"5\", \"6\", \"7\", \"8\", \"9\", \"10\", \"11\", \"12\", \"13\", \"14\", \"15\", \"16\", \"17\", \"18\", \"19\", \"20\", \"21\", \"22\", \"23\", \"24\", \"25\", \"26\", \"27\", \"28\", \"29\", \"30\", \"31\", \"32\", \"33\", \"34\", \"35\", \"36\", \"37\", \"38\", \"39\", \"40\", \"41\", \"42\", \"43\", \"46\"], \"mode\": \"markers\", \"name\": \"weighted_accuracy\", \"stepped\": false, \"type\": \"scatter\", \"data\": [0.8919532125251112, 0.8921682300999093, 0.8789273327923315, 0.8786973177459602, 0.8998775343614437, 0.882314581836749, 0.8334189378847863, 0.8839147633608504, 0.8843952645909116, 0.886721222213986, 0.9091736956156988, 0.8938499023881054, 0.8739010266745475, 0.8709777988727962, 0.8647731545103604, 0.8428099144345165, 0.9018353576918702, 0.862743191390852, 0.8304854799476798, 0.8948394892021491, 0.912135650456404, 0.8803870158004363, 0.8976098781607438, 0.8498053301488997, 0.8714044006916856, 0.8281851871831463, 0.8444031154565469, 0.8894024335768876, 0.8504420336960581, 0.8853487815104145, 0.7231225928037439, 0.8758494902331831, 0.8893191824222781, 0.9038553597539386, 0.890993883005181, 0.8281851871831463, 0.87990475417986, 0.8862167290655764, 0.8929382069035819, 0.900938206903582, 0.8916555450813526, 0.8847027181914652, 0.8875011512783205, 0.8890360596747545, 0.9163372255195047]}, {\"categories\": [\"0\", \"1\", \"2\", \"3\", \"4\", \"5\", \"6\", \"7\", \"8\", \"9\", \"10\", \"11\", \"12\", \"13\", \"14\", \"15\", \"16\", \"17\", \"18\", \"19\", \"20\", \"21\", \"22\", \"23\", \"24\", \"25\", \"26\", \"27\", \"28\", \"29\", \"30\", \"31\", \"32\", \"33\", \"34\", \"35\", \"36\", \"37\", \"38\", \"39\", \"40\", \"41\", \"42\", \"43\", \"46\"], \"mode\": \"lines\", \"name\": \"weighted_accuracy_max\", \"stepped\": true, \"type\": \"scatter\", \"data\": [0.8919532125251112, 0.8921682300999093, 0.8921682300999093, 0.8921682300999093, 0.8998775343614437, 0.8998775343614437, 0.8998775343614437, 0.8998775343614437, 0.8998775343614437, 0.8998775343614437, 0.9091736956156988, 0.9091736956156988, 0.9091736956156988, 0.9091736956156988, 0.9091736956156988, 0.9091736956156988, 0.9091736956156988, 0.9091736956156988, 0.9091736956156988, 0.9091736956156988, 0.912135650456404, 0.912135650456404, 0.912135650456404, 0.912135650456404, 0.912135650456404, 0.912135650456404, 0.912135650456404, 0.912135650456404, 0.912135650456404, 0.912135650456404, 0.912135650456404, 0.912135650456404, 0.912135650456404, 0.912135650456404, 0.912135650456404, 0.912135650456404, 0.912135650456404, 0.912135650456404, 0.912135650456404, 0.912135650456404, 0.912135650456404, 0.912135650456404, 0.912135650456404, 0.912135650456404, 0.9163372255195047]}], \"balanced_accuracy\": [{\"categories\": [\"0\", \"1\", \"2\", \"3\", \"4\", \"5\", \"6\", \"7\", \"8\", \"9\", \"10\", \"11\", \"12\", \"13\", \"14\", \"15\", \"16\", \"17\", \"18\", \"19\", \"20\", \"21\", \"22\", \"23\", \"24\", \"25\", \"26\", \"27\", \"28\", \"29\", \"30\", \"31\", \"32\", \"33\", \"34\", \"35\", \"36\", \"37\", \"38\", \"39\", \"40\", \"41\", \"42\", \"43\", \"46\"], \"mode\": \"markers\", \"name\": \"balanced_accuracy\", \"stepped\": false, \"type\": \"scatter\", \"data\": [0.8206040336475118, 0.8196949427384209, 0.7963676902807336, 0.7773497516975777, 0.8206040336475118, 0.7915394750177359, 0.5758883145839667, 0.7911345900476335, 0.809694942738421, 0.7547947704469444, 0.7980227019357455, 0.8285583257322386, 0.7302229654403568, 0.8067462247897031, 0.6175722103982973, 0.6056607884868754, 0.776533900881727, 0.7673989054423836, 0.5075757575757576, 0.816690990169251, 0.7941096584574846, 0.77346305868045, 0.8132294517077124, 0.6176010945576162, 0.8380074997466301, 0.5, 0.8221830343569474, 0.8134858619641229, 0.8240944562683694, 0.840705888314584, 0.7120401337792642, 0.780732238775717, 0.7941385426168036, 0.794616398094659, 0.7503248201074287, 0.5, 0.7648236546062633, 0.7655518394648829, 0.7884073173203608, 0.7984073173203609, 0.7488360190534104, 0.7887919327049762, 0.7752021891152326, 0.8143949528732137, 0.8299690888821324]}, {\"categories\": [\"0\", \"1\", \"2\", \"3\", \"4\", \"5\", \"6\", \"7\", \"8\", \"9\", \"10\", \"11\", \"12\", \"13\", \"14\", \"15\", \"16\", \"17\", \"18\", \"19\", \"20\", \"21\", \"22\", \"23\", \"24\", \"25\", \"26\", \"27\", \"28\", \"29\", \"30\", \"31\", \"32\", \"33\", \"34\", \"35\", \"36\", \"37\", \"38\", \"39\", \"40\", \"41\", \"42\", \"43\", \"46\"], \"mode\": \"lines\", \"name\": \"balanced_accuracy_max\", \"stepped\": true, \"type\": \"scatter\", \"data\": [0.8206040336475118, 0.8206040336475118, 0.8206040336475118, 0.8206040336475118, 0.8206040336475118, 0.8206040336475118, 0.8206040336475118, 0.8206040336475118, 0.8206040336475118, 0.8206040336475118, 0.8206040336475118, 0.8285583257322386, 0.8285583257322386, 0.8285583257322386, 0.8285583257322386, 0.8285583257322386, 0.8285583257322386, 0.8285583257322386, 0.8285583257322386, 0.8285583257322386, 0.8285583257322386, 0.8285583257322386, 0.8285583257322386, 0.8285583257322386, 0.8380074997466301, 0.8380074997466301, 0.8380074997466301, 0.8380074997466301, 0.8380074997466301, 0.840705888314584, 0.840705888314584, 0.840705888314584, 0.840705888314584, 0.840705888314584, 0.840705888314584, 0.840705888314584, 0.840705888314584, 0.840705888314584, 0.840705888314584, 0.840705888314584, 0.840705888314584, 0.840705888314584, 0.840705888314584, 0.840705888314584, 0.840705888314584]}], \"recall_score_weighted\": [{\"categories\": [\"0\", \"1\", \"2\", \"3\", \"4\", \"5\", \"6\", \"7\", \"8\", \"9\", \"10\", \"11\", \"12\", \"13\", \"14\", \"15\", \"16\", \"17\", \"18\", \"19\", \"20\", \"21\", \"22\", \"23\", \"24\", \"25\", \"26\", \"27\", \"28\", \"29\", \"30\", \"31\", \"32\", \"33\", \"34\", \"35\", \"36\", \"37\", \"38\", \"39\", \"40\", \"41\", \"42\", \"43\", \"46\"], \"mode\": \"markers\", \"name\": \"recall_score_weighted\", \"stepped\": false, \"type\": \"scatter\", \"data\": [0.8614414414414414, 0.8612612612612612, 0.8434834834834835, 0.8348348348348349, 0.8658258258258259, 0.8435435435435436, 0.7231231231231231, 0.8438438438438439, 0.8525525525525527, 0.8303303303303302, 0.8615015015015014, 0.8657657657657657, 0.8124924924924924, 0.8436636636636635, 0.7589189189189188, 0.7410810810810812, 0.8481081081081081, 0.8215615615615616, 0.692072072072072, 0.8613813813813814, 0.8615015015015014, 0.8346546546546546, 0.8614414414414414, 0.7499699699699699, 0.8569969969969969, 0.6875675675675675, 0.8347147147147148, 0.856876876876877, 0.8392792792792793, 0.8661861861861863, 0.7184384384384385, 0.8347147147147148, 0.8482282282282282, 0.8569969969969969, 0.8303303303303303, 0.6875675675675675, 0.8303903903903903, 0.8346546546546546, 0.8480480480480481, 0.856936936936937, 0.8302702702702702, 0.8434834834834835, 0.8390990990990992, 0.856936936936937, 0.8793393393393393]}, {\"categories\": [\"0\", \"1\", \"2\", \"3\", \"4\", \"5\", \"6\", \"7\", \"8\", \"9\", \"10\", \"11\", \"12\", \"13\", \"14\", \"15\", \"16\", \"17\", \"18\", \"19\", \"20\", \"21\", \"22\", \"23\", \"24\", \"25\", \"26\", \"27\", \"28\", \"29\", \"30\", \"31\", \"32\", \"33\", \"34\", \"35\", \"36\", \"37\", \"38\", \"39\", \"40\", \"41\", \"42\", \"43\", \"46\"], \"mode\": \"lines\", \"name\": \"recall_score_weighted_max\", \"stepped\": true, \"type\": \"scatter\", \"data\": [0.8614414414414414, 0.8614414414414414, 0.8614414414414414, 0.8614414414414414, 0.8658258258258259, 0.8658258258258259, 0.8658258258258259, 0.8658258258258259, 0.8658258258258259, 0.8658258258258259, 0.8658258258258259, 0.8658258258258259, 0.8658258258258259, 0.8658258258258259, 0.8658258258258259, 0.8658258258258259, 0.8658258258258259, 0.8658258258258259, 0.8658258258258259, 0.8658258258258259, 0.8658258258258259, 0.8658258258258259, 0.8658258258258259, 0.8658258258258259, 0.8658258258258259, 0.8658258258258259, 0.8658258258258259, 0.8658258258258259, 0.8658258258258259, 0.8661861861861863, 0.8661861861861863, 0.8661861861861863, 0.8661861861861863, 0.8661861861861863, 0.8661861861861863, 0.8661861861861863, 0.8661861861861863, 0.8661861861861863, 0.8661861861861863, 0.8661861861861863, 0.8661861861861863, 0.8661861861861863, 0.8661861861861863, 0.8661861861861863, 0.8793393393393393]}], \"f1_score_micro\": [{\"categories\": [\"0\", \"1\", \"2\", \"3\", \"4\", \"5\", \"6\", \"7\", \"8\", \"9\", \"10\", \"11\", \"12\", \"13\", \"14\", \"15\", \"16\", \"17\", \"18\", \"19\", \"20\", \"21\", \"22\", \"23\", \"24\", \"25\", \"26\", \"27\", \"28\", \"29\", \"30\", \"31\", \"32\", \"33\", \"34\", \"35\", \"36\", \"37\", \"38\", \"39\", \"40\", \"41\", \"42\", \"43\", \"46\"], \"mode\": \"markers\", \"name\": \"f1_score_micro\", \"stepped\": false, \"type\": \"scatter\", \"data\": [0.8614414414414414, 0.8612612612612612, 0.8434834834834835, 0.8348348348348349, 0.8658258258258259, 0.8435435435435436, 0.7231231231231231, 0.8438438438438439, 0.8525525525525527, 0.8303303303303302, 0.8615015015015014, 0.8657657657657657, 0.8124924924924927, 0.8436636636636635, 0.7589189189189188, 0.741081081081081, 0.8481081081081081, 0.8215615615615616, 0.692072072072072, 0.8613813813813814, 0.8615015015015014, 0.8346546546546546, 0.8614414414414414, 0.7499699699699699, 0.856996996996997, 0.6875675675675675, 0.8347147147147148, 0.856876876876877, 0.8392792792792793, 0.8661861861861864, 0.7184384384384385, 0.8347147147147148, 0.8482282282282282, 0.8569969969969969, 0.8303303303303305, 0.6875675675675675, 0.8303903903903903, 0.8346546546546548, 0.8480480480480481, 0.856936936936937, 0.8302702702702702, 0.8434834834834835, 0.8390990990990992, 0.856936936936937, 0.8793393393393393]}, {\"categories\": [\"0\", \"1\", \"2\", \"3\", \"4\", \"5\", \"6\", \"7\", \"8\", \"9\", \"10\", \"11\", \"12\", \"13\", \"14\", \"15\", \"16\", \"17\", \"18\", \"19\", \"20\", \"21\", \"22\", \"23\", \"24\", \"25\", \"26\", \"27\", \"28\", \"29\", \"30\", \"31\", \"32\", \"33\", \"34\", \"35\", \"36\", \"37\", \"38\", \"39\", \"40\", \"41\", \"42\", \"43\", \"46\"], \"mode\": \"lines\", \"name\": \"f1_score_micro_max\", \"stepped\": true, \"type\": \"scatter\", \"data\": [0.8614414414414414, 0.8614414414414414, 0.8614414414414414, 0.8614414414414414, 0.8658258258258259, 0.8658258258258259, 0.8658258258258259, 0.8658258258258259, 0.8658258258258259, 0.8658258258258259, 0.8658258258258259, 0.8658258258258259, 0.8658258258258259, 0.8658258258258259, 0.8658258258258259, 0.8658258258258259, 0.8658258258258259, 0.8658258258258259, 0.8658258258258259, 0.8658258258258259, 0.8658258258258259, 0.8658258258258259, 0.8658258258258259, 0.8658258258258259, 0.8658258258258259, 0.8658258258258259, 0.8658258258258259, 0.8658258258258259, 0.8658258258258259, 0.8661861861861864, 0.8661861861861864, 0.8661861861861864, 0.8661861861861864, 0.8661861861861864, 0.8661861861861864, 0.8661861861861864, 0.8661861861861864, 0.8661861861861864, 0.8661861861861864, 0.8661861861861864, 0.8661861861861864, 0.8661861861861864, 0.8661861861861864, 0.8661861861861864, 0.8793393393393393]}], \"recall_score_micro\": [{\"categories\": [\"0\", \"1\", \"2\", \"3\", \"4\", \"5\", \"6\", \"7\", \"8\", \"9\", \"10\", \"11\", \"12\", \"13\", \"14\", \"15\", \"16\", \"17\", \"18\", \"19\", \"20\", \"21\", \"22\", \"23\", \"24\", \"25\", \"26\", \"27\", \"28\", \"29\", \"30\", \"31\", \"32\", \"33\", \"34\", \"35\", \"36\", \"37\", \"38\", \"39\", \"40\", \"41\", \"42\", \"43\", \"46\"], \"mode\": \"markers\", \"name\": \"recall_score_micro\", \"stepped\": false, \"type\": \"scatter\", \"data\": [0.8614414414414414, 0.8612612612612612, 0.8434834834834835, 0.8348348348348349, 0.8658258258258259, 0.8435435435435436, 0.7231231231231231, 0.8438438438438439, 0.8525525525525527, 0.8303303303303302, 0.8615015015015014, 0.8657657657657657, 0.8124924924924924, 0.8436636636636635, 0.7589189189189188, 0.7410810810810812, 0.8481081081081081, 0.8215615615615616, 0.692072072072072, 0.8613813813813814, 0.8615015015015014, 0.8346546546546546, 0.8614414414414414, 0.7499699699699699, 0.8569969969969969, 0.6875675675675675, 0.8347147147147148, 0.856876876876877, 0.8392792792792793, 0.8661861861861863, 0.7184384384384385, 0.8347147147147148, 0.8482282282282282, 0.8569969969969969, 0.8303303303303303, 0.6875675675675675, 0.8303903903903903, 0.8346546546546546, 0.8480480480480481, 0.856936936936937, 0.8302702702702702, 0.8434834834834835, 0.8390990990990992, 0.856936936936937, 0.8793393393393393]}, {\"categories\": [\"0\", \"1\", \"2\", \"3\", \"4\", \"5\", \"6\", \"7\", \"8\", \"9\", \"10\", \"11\", \"12\", \"13\", \"14\", \"15\", \"16\", \"17\", \"18\", \"19\", \"20\", \"21\", \"22\", \"23\", \"24\", \"25\", \"26\", \"27\", \"28\", \"29\", \"30\", \"31\", \"32\", \"33\", \"34\", \"35\", \"36\", \"37\", \"38\", \"39\", \"40\", \"41\", \"42\", \"43\", \"46\"], \"mode\": \"lines\", \"name\": \"recall_score_micro_max\", \"stepped\": true, \"type\": \"scatter\", \"data\": [0.8614414414414414, 0.8614414414414414, 0.8614414414414414, 0.8614414414414414, 0.8658258258258259, 0.8658258258258259, 0.8658258258258259, 0.8658258258258259, 0.8658258258258259, 0.8658258258258259, 0.8658258258258259, 0.8658258258258259, 0.8658258258258259, 0.8658258258258259, 0.8658258258258259, 0.8658258258258259, 0.8658258258258259, 0.8658258258258259, 0.8658258258258259, 0.8658258258258259, 0.8658258258258259, 0.8658258258258259, 0.8658258258258259, 0.8658258258258259, 0.8658258258258259, 0.8658258258258259, 0.8658258258258259, 0.8658258258258259, 0.8658258258258259, 0.8661861861861863, 0.8661861861861863, 0.8661861861861863, 0.8661861861861863, 0.8661861861861863, 0.8661861861861863, 0.8661861861861863, 0.8661861861861863, 0.8661861861861863, 0.8661861861861863, 0.8661861861861863, 0.8661861861861863, 0.8661861861861863, 0.8661861861861863, 0.8661861861861863, 0.8793393393393393]}], \"AUC_macro\": [{\"categories\": [\"0\", \"1\", \"2\", \"3\", \"4\", \"5\", \"6\", \"7\", \"8\", \"9\", \"10\", \"11\", \"12\", \"13\", \"14\", \"15\", \"16\", \"17\", \"18\", \"19\", \"20\", \"21\", \"22\", \"23\", \"24\", \"25\", \"26\", \"27\", \"28\", \"29\", \"30\", \"31\", \"32\", \"33\", \"34\", \"35\", \"36\", \"37\", \"38\", \"39\", \"40\", \"41\", \"42\", \"43\", \"46\"], \"mode\": \"markers\", \"name\": \"AUC_macro\", \"stepped\": false, \"type\": \"scatter\", \"data\": [0.9105514340731732, 0.9114831458396676, 0.9120570994223168, 0.8935870071957028, 0.9162097496706192, 0.91042726259248, 0.8224409040235127, 0.8875653390088173, 0.8900895104895105, 0.9157469747643662, 0.9084986115333941, 0.9286419377723725, 0.9053945170771258, 0.8873587716631195, 0.8899225701834398, 0.842537853450897, 0.8930728894294111, 0.8694970305057262, 0.8802120604033647, 0.9159453329279416, 0.9084307692307693, 0.9135482112090806, 0.9232046417350764, 0.8756698287220027, 0.9261824668085538, 0.8156088780784433, 0.9242537144015405, 0.920630424647816, 0.8910694841390493, 0.9145694334650857, 0.7348344684301206, 0.8604539677713591, 0.8844394648829431, 0.8792200972940103, 0.8883601094557617, 0.8795346204520117, 0.8750780784432958, 0.908151798925712, 0.9234074389378737, 0.9004841694537347, 0.9225320563494477, 0.8917810175331914, 0.8880175838654099, 0.8979701023614067, 0.9255426573426574]}, {\"categories\": [\"0\", \"1\", \"2\", \"3\", \"4\", \"5\", \"6\", \"7\", \"8\", \"9\", \"10\", \"11\", \"12\", \"13\", \"14\", \"15\", \"16\", \"17\", \"18\", \"19\", \"20\", \"21\", \"22\", \"23\", \"24\", \"25\", \"26\", \"27\", \"28\", \"29\", \"30\", \"31\", \"32\", \"33\", \"34\", \"35\", \"36\", \"37\", \"38\", \"39\", \"40\", \"41\", \"42\", \"43\", \"46\"], \"mode\": \"lines\", \"name\": \"AUC_macro_max\", \"stepped\": true, \"type\": \"scatter\", \"data\": [0.9105514340731732, 0.9114831458396676, 0.9120570994223168, 0.9120570994223168, 0.9162097496706192, 0.9162097496706192, 0.9162097496706192, 0.9162097496706192, 0.9162097496706192, 0.9162097496706192, 0.9162097496706192, 0.9286419377723725, 0.9286419377723725, 0.9286419377723725, 0.9286419377723725, 0.9286419377723725, 0.9286419377723725, 0.9286419377723725, 0.9286419377723725, 0.9286419377723725, 0.9286419377723725, 0.9286419377723725, 0.9286419377723725, 0.9286419377723725, 0.9286419377723725, 0.9286419377723725, 0.9286419377723725, 0.9286419377723725, 0.9286419377723725, 0.9286419377723725, 0.9286419377723725, 0.9286419377723725, 0.9286419377723725, 0.9286419377723725, 0.9286419377723725, 0.9286419377723725, 0.9286419377723725, 0.9286419377723725, 0.9286419377723725, 0.9286419377723725, 0.9286419377723725, 0.9286419377723725, 0.9286419377723725, 0.9286419377723725, 0.9286419377723725]}], \"accuracy\": [{\"categories\": [\"0\", \"1\", \"2\", \"3\", \"4\", \"5\", \"6\", \"7\", \"8\", \"9\", \"10\", \"11\", \"12\", \"13\", \"14\", \"15\", \"16\", \"17\", \"18\", \"19\", \"20\", \"21\", \"22\", \"23\", \"24\", \"25\", \"26\", \"27\", \"28\", \"29\", \"30\", \"31\", \"32\", \"33\", \"34\", \"35\", \"36\", \"37\", \"38\", \"39\", \"40\", \"41\", \"42\", \"43\", \"46\"], \"mode\": \"markers\", \"name\": \"accuracy\", \"stepped\": false, \"type\": \"scatter\", \"data\": [0.8614414414414414, 0.8612612612612612, 0.8434834834834835, 0.8348348348348349, 0.8658258258258259, 0.8435435435435436, 0.7231231231231231, 0.8438438438438439, 0.8525525525525527, 0.8303303303303302, 0.8615015015015014, 0.8657657657657657, 0.8124924924924924, 0.8436636636636635, 0.7589189189189188, 0.7410810810810812, 0.8481081081081081, 0.8215615615615616, 0.692072072072072, 0.8613813813813814, 0.8615015015015014, 0.8346546546546546, 0.8614414414414414, 0.7499699699699699, 0.8569969969969969, 0.6875675675675675, 0.8347147147147148, 0.856876876876877, 0.8392792792792793, 0.8661861861861863, 0.7184384384384385, 0.8347147147147148, 0.8482282282282282, 0.8569969969969969, 0.8303303303303303, 0.6875675675675675, 0.8303903903903903, 0.8346546546546546, 0.8480480480480481, 0.856936936936937, 0.8302702702702702, 0.8434834834834835, 0.8390990990990992, 0.856936936936937, 0.8793393393393393]}, {\"categories\": [\"0\", \"1\", \"2\", \"3\", \"4\", \"5\", \"6\", \"7\", \"8\", \"9\", \"10\", \"11\", \"12\", \"13\", \"14\", \"15\", \"16\", \"17\", \"18\", \"19\", \"20\", \"21\", \"22\", \"23\", \"24\", \"25\", \"26\", \"27\", \"28\", \"29\", \"30\", \"31\", \"32\", \"33\", \"34\", \"35\", \"36\", \"37\", \"38\", \"39\", \"40\", \"41\", \"42\", \"43\", \"46\"], \"mode\": \"lines\", \"name\": \"accuracy_max\", \"stepped\": true, \"type\": \"scatter\", \"data\": [0.8614414414414414, 0.8614414414414414, 0.8614414414414414, 0.8614414414414414, 0.8658258258258259, 0.8658258258258259, 0.8658258258258259, 0.8658258258258259, 0.8658258258258259, 0.8658258258258259, 0.8658258258258259, 0.8658258258258259, 0.8658258258258259, 0.8658258258258259, 0.8658258258258259, 0.8658258258258259, 0.8658258258258259, 0.8658258258258259, 0.8658258258258259, 0.8658258258258259, 0.8658258258258259, 0.8658258258258259, 0.8658258258258259, 0.8658258258258259, 0.8658258258258259, 0.8658258258258259, 0.8658258258258259, 0.8658258258258259, 0.8658258258258259, 0.8661861861861863, 0.8661861861861863, 0.8661861861861863, 0.8661861861861863, 0.8661861861861863, 0.8661861861861863, 0.8661861861861863, 0.8661861861861863, 0.8661861861861863, 0.8661861861861863, 0.8661861861861863, 0.8661861861861863, 0.8661861861861863, 0.8661861861861863, 0.8661861861861863, 0.8793393393393393]}], \"precision_score_micro\": [{\"categories\": [\"0\", \"1\", \"2\", \"3\", \"4\", \"5\", \"6\", \"7\", \"8\", \"9\", \"10\", \"11\", \"12\", \"13\", \"14\", \"15\", \"16\", \"17\", \"18\", \"19\", \"20\", \"21\", \"22\", \"23\", \"24\", \"25\", \"26\", \"27\", \"28\", \"29\", \"30\", \"31\", \"32\", \"33\", \"34\", \"35\", \"36\", \"37\", \"38\", \"39\", \"40\", \"41\", \"42\", \"43\", \"46\"], \"mode\": \"markers\", \"name\": \"precision_score_micro\", \"stepped\": false, \"type\": \"scatter\", \"data\": [0.8614414414414414, 0.8612612612612612, 0.8434834834834835, 0.8348348348348349, 0.8658258258258259, 0.8435435435435436, 0.7231231231231231, 0.8438438438438439, 0.8525525525525527, 0.8303303303303302, 0.8615015015015014, 0.8657657657657657, 0.8124924924924924, 0.8436636636636635, 0.7589189189189188, 0.7410810810810812, 0.8481081081081081, 0.8215615615615616, 0.692072072072072, 0.8613813813813814, 0.8615015015015014, 0.8346546546546546, 0.8614414414414414, 0.7499699699699699, 0.8569969969969969, 0.6875675675675675, 0.8347147147147148, 0.856876876876877, 0.8392792792792793, 0.8661861861861863, 0.7184384384384385, 0.8347147147147148, 0.8482282282282282, 0.8569969969969969, 0.8303303303303303, 0.6875675675675675, 0.8303903903903903, 0.8346546546546546, 0.8480480480480481, 0.856936936936937, 0.8302702702702702, 0.8434834834834835, 0.8390990990990992, 0.856936936936937, 0.8793393393393393]}, {\"categories\": [\"0\", \"1\", \"2\", \"3\", \"4\", \"5\", \"6\", \"7\", \"8\", \"9\", \"10\", \"11\", \"12\", \"13\", \"14\", \"15\", \"16\", \"17\", \"18\", \"19\", \"20\", \"21\", \"22\", \"23\", \"24\", \"25\", \"26\", \"27\", \"28\", \"29\", \"30\", \"31\", \"32\", \"33\", \"34\", \"35\", \"36\", \"37\", \"38\", \"39\", \"40\", \"41\", \"42\", \"43\", \"46\"], \"mode\": \"lines\", \"name\": \"precision_score_micro_max\", \"stepped\": true, \"type\": \"scatter\", \"data\": [0.8614414414414414, 0.8614414414414414, 0.8614414414414414, 0.8614414414414414, 0.8658258258258259, 0.8658258258258259, 0.8658258258258259, 0.8658258258258259, 0.8658258258258259, 0.8658258258258259, 0.8658258258258259, 0.8658258258258259, 0.8658258258258259, 0.8658258258258259, 0.8658258258258259, 0.8658258258258259, 0.8658258258258259, 0.8658258258258259, 0.8658258258258259, 0.8658258258258259, 0.8658258258258259, 0.8658258258258259, 0.8658258258258259, 0.8658258258258259, 0.8658258258258259, 0.8658258258258259, 0.8658258258258259, 0.8658258258258259, 0.8658258258258259, 0.8661861861861863, 0.8661861861861863, 0.8661861861861863, 0.8661861861861863, 0.8661861861861863, 0.8661861861861863, 0.8661861861861863, 0.8661861861861863, 0.8661861861861863, 0.8661861861861863, 0.8661861861861863, 0.8661861861861863, 0.8661861861861863, 0.8661861861861863, 0.8661861861861863, 0.8793393393393393]}], \"log_loss\": [{\"categories\": [\"0\", \"1\", \"2\", \"3\", \"4\", \"5\", \"6\", \"7\", \"8\", \"9\", \"10\", \"11\", \"12\", \"13\", \"14\", \"15\", \"16\", \"17\", \"18\", \"19\", \"20\", \"21\", \"22\", \"23\", \"24\", \"25\", \"26\", \"27\", \"28\", \"29\", \"30\", \"31\", \"32\", \"33\", \"34\", \"35\", \"36\", \"37\", \"38\", \"39\", \"40\", \"41\", \"42\", \"43\", \"46\"], \"mode\": \"markers\", \"name\": \"log_loss\", \"stepped\": false, \"type\": \"scatter\", \"data\": [0.3930102701444301, 0.35814544397898834, 0.36064499261661825, 0.4124124297224912, 0.3518407799804614, 0.38887902360841187, 0.632364811841967, 0.3902338737793661, 0.3754606183832713, 0.4181784304593496, 0.373191785398897, 0.33232462693885384, 0.4834325690258143, 0.38420892793131656, 0.4966127452067095, 0.4961174472060132, 0.41726507763330106, 0.47827733952592205, 0.5388727767997405, 0.347551777761642, 0.3822106031572177, 0.37559840462218347, 0.3466989420942907, 0.4896930270329219, 0.4176512837012334, 0.5527678063767895, 0.39370615260646485, 0.34324984263999453, 0.5358776021922079, 0.5425206102793603, 0.6657095145236345, 0.48284033788111963, 0.37840418984966745, 0.40550961386020673, 0.42758723500569107, 0.5682112829734036, 0.4015786149807062, 0.47820484538280095, 0.37553800753213423, 0.5103959714576185, 0.4242819995000764, 0.4484353383056394, 0.49223694313214433, 0.4260993365502766, 0.36567898928751275]}, {\"categories\": [\"0\", \"1\", \"2\", \"3\", \"4\", \"5\", \"6\", \"7\", \"8\", \"9\", \"10\", \"11\", \"12\", \"13\", \"14\", \"15\", \"16\", \"17\", \"18\", \"19\", \"20\", \"21\", \"22\", \"23\", \"24\", \"25\", \"26\", \"27\", \"28\", \"29\", \"30\", \"31\", \"32\", \"33\", \"34\", \"35\", \"36\", \"37\", \"38\", \"39\", \"40\", \"41\", \"42\", \"43\", \"46\"], \"mode\": \"lines\", \"name\": \"log_loss_min\", \"stepped\": true, \"type\": \"scatter\", \"data\": [0.3930102701444301, 0.35814544397898834, 0.35814544397898834, 0.35814544397898834, 0.3518407799804614, 0.3518407799804614, 0.3518407799804614, 0.3518407799804614, 0.3518407799804614, 0.3518407799804614, 0.3518407799804614, 0.33232462693885384, 0.33232462693885384, 0.33232462693885384, 0.33232462693885384, 0.33232462693885384, 0.33232462693885384, 0.33232462693885384, 0.33232462693885384, 0.33232462693885384, 0.33232462693885384, 0.33232462693885384, 0.33232462693885384, 0.33232462693885384, 0.33232462693885384, 0.33232462693885384, 0.33232462693885384, 0.33232462693885384, 0.33232462693885384, 0.33232462693885384, 0.33232462693885384, 0.33232462693885384, 0.33232462693885384, 0.33232462693885384, 0.33232462693885384, 0.33232462693885384, 0.33232462693885384, 0.33232462693885384, 0.33232462693885384, 0.33232462693885384, 0.33232462693885384, 0.33232462693885384, 0.33232462693885384, 0.33232462693885384, 0.33232462693885384]}], \"average_precision_score_micro\": [{\"categories\": [\"0\", \"1\", \"2\", \"3\", \"4\", \"5\", \"6\", \"7\", \"8\", \"9\", \"10\", \"11\", \"12\", \"13\", \"14\", \"15\", \"16\", \"17\", \"18\", \"19\", \"20\", \"21\", \"22\", \"23\", \"24\", \"25\", \"26\", \"27\", \"28\", \"29\", \"30\", \"31\", \"32\", \"33\", \"34\", \"35\", \"36\", \"37\", \"38\", \"39\", \"40\", \"41\", \"42\", \"43\", \"46\"], \"mode\": \"markers\", \"name\": \"average_precision_score_micro\", \"stepped\": false, \"type\": \"scatter\", \"data\": [0.9257810372323686, 0.9308486728008186, 0.9252837857361887, 0.898748925660136, 0.9295617085463418, 0.9286215422512125, 0.842340038909365, 0.9084939509738285, 0.9136217203930731, 0.9201778436045865, 0.9215450336885004, 0.937607044443574, 0.9074064764396033, 0.9135063773034743, 0.8795827446907604, 0.8595248261708583, 0.9064741442664092, 0.8942372867105387, 0.8613188429924804, 0.9266100414052426, 0.9215350411632212, 0.9220757522869191, 0.930911295058762, 0.8720827114275477, 0.937889331371948, 0.8303892399841564, 0.9352294486118854, 0.9333104512625288, 0.9031874802792181, 0.9300867099135944, 0.6863848101108734, 0.8832659023709741, 0.9099706995894353, 0.8933316674780781, 0.8994992509002152, 0.8582239548242437, 0.9003634727270976, 0.9168748852426178, 0.929919077308849, 0.908538464289436, 0.9173780467999784, 0.9033854796937776, 0.8824219454871512, 0.9092808181362049, 0.9362984479689334]}, {\"categories\": [\"0\", \"1\", \"2\", \"3\", \"4\", \"5\", \"6\", \"7\", \"8\", \"9\", \"10\", \"11\", \"12\", \"13\", \"14\", \"15\", \"16\", \"17\", \"18\", \"19\", \"20\", \"21\", \"22\", \"23\", \"24\", \"25\", \"26\", \"27\", \"28\", \"29\", \"30\", \"31\", \"32\", \"33\", \"34\", \"35\", \"36\", \"37\", \"38\", \"39\", \"40\", \"41\", \"42\", \"43\", \"46\"], \"mode\": \"lines\", \"name\": \"average_precision_score_micro_max\", \"stepped\": true, \"type\": \"scatter\", \"data\": [0.9257810372323686, 0.9308486728008186, 0.9308486728008186, 0.9308486728008186, 0.9308486728008186, 0.9308486728008186, 0.9308486728008186, 0.9308486728008186, 0.9308486728008186, 0.9308486728008186, 0.9308486728008186, 0.937607044443574, 0.937607044443574, 0.937607044443574, 0.937607044443574, 0.937607044443574, 0.937607044443574, 0.937607044443574, 0.937607044443574, 0.937607044443574, 0.937607044443574, 0.937607044443574, 0.937607044443574, 0.937607044443574, 0.937889331371948, 0.937889331371948, 0.937889331371948, 0.937889331371948, 0.937889331371948, 0.937889331371948, 0.937889331371948, 0.937889331371948, 0.937889331371948, 0.937889331371948, 0.937889331371948, 0.937889331371948, 0.937889331371948, 0.937889331371948, 0.937889331371948, 0.937889331371948, 0.937889331371948, 0.937889331371948, 0.937889331371948, 0.937889331371948, 0.937889331371948]}]}, \"metricName\": null, \"primaryMetricName\": \"accuracy\", \"showLegend\": false}, \"run_metrics\": [{\"name\": \"experiment_status\", \"run_id\": \"AutoML_efa4ac15-967d-4b8c-83d7-7c3513e695ab\", \"categories\": [0, 1, 2, 3, 4, 5], \"series\": [{\"data\": [\"DatasetEvaluation\", \"FeaturesGeneration\", \"DatasetFeaturization\", \"DatasetFeaturizationCompleted\", \"DatasetCrossValidationSplit\", \"ModelSelection\"]}]}, {\"name\": \"experiment_status_description\", \"run_id\": \"AutoML_efa4ac15-967d-4b8c-83d7-7c3513e695ab\", \"categories\": [0, 1, 2, 3, 4, 5], \"series\": [{\"data\": [\"Gathering dataset statistics.\", \"Generating features for the dataset.\", \"Beginning to fit featurizers and featurize the dataset.\", \"Completed fit featurizers and featurizing the dataset.\", \"Generating individually featurized CV splits.\", \"Beginning model selection.\"]}]}, {\"name\": \"average_precision_score_micro\", \"run_id\": \"AutoML_efa4ac15-967d-4b8c-83d7-7c3513e695ab\", \"categories\": [0], \"series\": [{\"data\": [0.9362984479689334]}]}, {\"name\": \"log_loss\", \"run_id\": \"AutoML_efa4ac15-967d-4b8c-83d7-7c3513e695ab\", \"categories\": [0], \"series\": [{\"data\": [0.36567898928751275]}]}, {\"name\": \"balanced_accuracy\", \"run_id\": \"AutoML_efa4ac15-967d-4b8c-83d7-7c3513e695ab\", \"categories\": [0], \"series\": [{\"data\": [0.8299690888821324]}]}, {\"name\": \"AUC_macro\", \"run_id\": \"AutoML_efa4ac15-967d-4b8c-83d7-7c3513e695ab\", \"categories\": [0], \"series\": [{\"data\": [0.9255426573426574]}]}, {\"name\": \"precision_score_weighted\", \"run_id\": \"AutoML_efa4ac15-967d-4b8c-83d7-7c3513e695ab\", \"categories\": [0], \"series\": [{\"data\": [0.8859915528304022]}]}, {\"name\": \"AUC_micro\", \"run_id\": \"AutoML_efa4ac15-967d-4b8c-83d7-7c3513e695ab\", \"categories\": [0], \"series\": [{\"data\": [0.9349894002110218]}]}, {\"name\": \"accuracy\", \"run_id\": \"AutoML_efa4ac15-967d-4b8c-83d7-7c3513e695ab\", \"categories\": [0], \"series\": [{\"data\": [0.8793393393393393]}]}, {\"name\": \"f1_score_weighted\", \"run_id\": \"AutoML_efa4ac15-967d-4b8c-83d7-7c3513e695ab\", \"categories\": [0], \"series\": [{\"data\": [0.8747395331905176]}]}, {\"name\": \"recall_score_macro\", \"run_id\": \"AutoML_efa4ac15-967d-4b8c-83d7-7c3513e695ab\", \"categories\": [0], \"series\": [{\"data\": [0.8299690888821324]}]}, {\"name\": \"f1_score_micro\", \"run_id\": \"AutoML_efa4ac15-967d-4b8c-83d7-7c3513e695ab\", \"categories\": [0], \"series\": [{\"data\": [0.8793393393393393]}]}, {\"name\": \"matthews_correlation\", \"run_id\": \"AutoML_efa4ac15-967d-4b8c-83d7-7c3513e695ab\", \"categories\": [0], \"series\": [{\"data\": [0.7163430707483435]}]}, {\"name\": \"AUC_weighted\", \"run_id\": \"AutoML_efa4ac15-967d-4b8c-83d7-7c3513e695ab\", \"categories\": [0], \"series\": [{\"data\": [0.9255426573426574]}]}, {\"name\": \"precision_score_micro\", \"run_id\": \"AutoML_efa4ac15-967d-4b8c-83d7-7c3513e695ab\", \"categories\": [0], \"series\": [{\"data\": [0.8793393393393393]}]}, {\"name\": \"norm_macro_recall\", \"run_id\": \"AutoML_efa4ac15-967d-4b8c-83d7-7c3513e695ab\", \"categories\": [0], \"series\": [{\"data\": [0.6599381777642648]}]}, {\"name\": \"average_precision_score_weighted\", \"run_id\": \"AutoML_efa4ac15-967d-4b8c-83d7-7c3513e695ab\", \"categories\": [0], \"series\": [{\"data\": [0.9346737551893988]}]}, {\"name\": \"recall_score_weighted\", \"run_id\": \"AutoML_efa4ac15-967d-4b8c-83d7-7c3513e695ab\", \"categories\": [0], \"series\": [{\"data\": [0.8793393393393393]}]}, {\"name\": \"average_precision_score_macro\", \"run_id\": \"AutoML_efa4ac15-967d-4b8c-83d7-7c3513e695ab\", \"categories\": [0], \"series\": [{\"data\": [0.9163058397616509]}]}, {\"name\": \"recall_score_micro\", \"run_id\": \"AutoML_efa4ac15-967d-4b8c-83d7-7c3513e695ab\", \"categories\": [0], \"series\": [{\"data\": [0.8793393393393393]}]}, {\"name\": \"f1_score_macro\", \"run_id\": \"AutoML_efa4ac15-967d-4b8c-83d7-7c3513e695ab\", \"categories\": [0], \"series\": [{\"data\": [0.8490521097641904]}]}, {\"name\": \"precision_score_macro\", \"run_id\": \"AutoML_efa4ac15-967d-4b8c-83d7-7c3513e695ab\", \"categories\": [0], \"series\": [{\"data\": [0.8903442203395807]}]}, {\"name\": \"weighted_accuracy\", \"run_id\": \"AutoML_efa4ac15-967d-4b8c-83d7-7c3513e695ab\", \"categories\": [0], \"series\": [{\"data\": [0.9163372255195047]}]}], \"run_logs\": \"\\nRun is completed.\", \"graph\": {}, \"widget_settings\": {\"childWidgetDisplay\": \"popup\", \"send_telemetry\": false, \"log_level\": \"INFO\", \"sdk_version\": \"1.19.0\"}, \"loading\": false}"
          },
          "metadata": {}
        }
      ],
      "execution_count": 9,
      "metadata": {
        "gather": {
          "logged": 1611043041888
        },
        "jupyter": {
          "outputs_hidden": false,
          "source_hidden": false
        },
        "nteract": {
          "transient": {
            "deleting": false
          }
        }
      }
    },
    {
      "cell_type": "code",
      "source": [
        "%%time\n",
        "remote_run.wait_for_completion()"
      ],
      "outputs": [
        {
          "output_type": "stream",
          "name": "stdout",
          "text": [
            "CPU times: user 35.5 ms, sys: 0 ns, total: 35.5 ms\n",
            "Wall time: 5.06 s\n"
          ]
        },
        {
          "output_type": "execute_result",
          "execution_count": 10,
          "data": {
            "text/plain": "{'runId': 'AutoML_efa4ac15-967d-4b8c-83d7-7c3513e695ab',\n 'target': 'cpu-cluster-1',\n 'status': 'Completed',\n 'startTimeUtc': '2021-01-19T07:57:31.404409Z',\n 'endTimeUtc': '2021-01-19T08:24:38.046946Z',\n 'properties': {'num_iterations': '1000',\n  'training_type': 'TrainFull',\n  'acquisition_function': 'EI',\n  'primary_metric': 'accuracy',\n  'train_split': '0',\n  'acquisition_parameter': '0',\n  'num_cross_validation': '3',\n  'target': 'cpu-cluster-1',\n  'AMLSettingsJsonString': '{\"path\":null,\"name\":\"automl-classification-experiment\",\"subscription_id\":\"3d1a56d2-7c81-4118-9790-f85d1acf0c77\",\"resource_group\":\"aml-quickstarts-135306\",\"workspace_name\":\"quick-starts-ws-135306\",\"region\":\"southcentralus\",\"compute_target\":\"cpu-cluster-1\",\"spark_service\":null,\"azure_service\":\"remote\",\"many_models\":false,\"pipeline_fetch_max_batch_size\":1,\"iterations\":1000,\"primary_metric\":\"accuracy\",\"task_type\":\"classification\",\"data_script\":null,\"validation_size\":0.0,\"n_cross_validations\":3,\"y_min\":null,\"y_max\":null,\"num_classes\":null,\"featurization\":\"auto\",\"_ignore_package_version_incompatibilities\":false,\"is_timeseries\":false,\"max_cores_per_iteration\":-1,\"max_concurrent_iterations\":4,\"iteration_timeout_minutes\":5,\"mem_in_mb\":null,\"enforce_time_on_windows\":false,\"experiment_timeout_minutes\":30,\"experiment_exit_score\":null,\"whitelist_models\":null,\"blacklist_algos\":[\"TensorFlowLinearClassifier\",\"TensorFlowDNN\"],\"supported_models\":[\"LinearSVM\",\"TensorFlowLinearClassifier\",\"XGBoostClassifier\",\"SVM\",\"BernoulliNaiveBayes\",\"MultinomialNaiveBayes\",\"KNN\",\"LightGBM\",\"SGD\",\"AveragedPerceptronClassifier\",\"LogisticRegression\",\"DecisionTree\",\"ExtremeRandomTrees\",\"TensorFlowDNN\",\"RandomForest\",\"GradientBoosting\"],\"auto_blacklist\":true,\"blacklist_samples_reached\":false,\"exclude_nan_labels\":true,\"verbosity\":20,\"_debug_log\":\"azureml_automl.log\",\"show_warnings\":false,\"model_explainability\":true,\"service_url\":null,\"sdk_url\":null,\"sdk_packages\":null,\"enable_onnx_compatible_models\":true,\"enable_split_onnx_featurizer_estimator_models\":false,\"vm_type\":\"STANDARD_D2_V2\",\"telemetry_verbosity\":20,\"send_telemetry\":true,\"enable_dnn\":false,\"scenario\":\"SDK-1.13.0\",\"environment_label\":null,\"force_text_dnn\":false,\"enable_feature_sweeping\":false,\"enable_early_stopping\":true,\"early_stopping_n_iters\":10,\"metrics\":null,\"enable_ensembling\":true,\"enable_stack_ensembling\":false,\"ensemble_iterations\":15,\"enable_tf\":false,\"enable_subsampling\":null,\"subsample_seed\":null,\"enable_nimbusml\":false,\"enable_streaming\":false,\"force_streaming\":false,\"track_child_runs\":true,\"allowed_private_models\":[],\"label_column_name\":\"DEATH_EVENT\",\"weight_column_name\":null,\"cv_split_column_names\":null,\"enable_local_managed\":false,\"_local_managed_run_id\":null,\"cost_mode\":1,\"lag_length\":0,\"metric_operation\":\"maximize\",\"preprocess\":true}',\n  'DataPrepJsonString': '{\\\\\"training_data\\\\\": \\\\\"{\\\\\\\\\\\\\"blocks\\\\\\\\\\\\\": [{\\\\\\\\\\\\\"id\\\\\\\\\\\\\": \\\\\\\\\\\\\"4ae54349-1113-4443-ac8d-70a0861b4d14\\\\\\\\\\\\\", \\\\\\\\\\\\\"type\\\\\\\\\\\\\": \\\\\\\\\\\\\"Microsoft.DPrep.GetDatastoreFilesBlock\\\\\\\\\\\\\", \\\\\\\\\\\\\"arguments\\\\\\\\\\\\\": {\\\\\\\\\\\\\"datastores\\\\\\\\\\\\\": [{\\\\\\\\\\\\\"datastoreName\\\\\\\\\\\\\": \\\\\\\\\\\\\"workspaceblobstore\\\\\\\\\\\\\", \\\\\\\\\\\\\"path\\\\\\\\\\\\\": \\\\\\\\\\\\\"train.csv\\\\\\\\\\\\\", \\\\\\\\\\\\\"resourceGroup\\\\\\\\\\\\\": \\\\\\\\\\\\\"aml-quickstarts-135306\\\\\\\\\\\\\", \\\\\\\\\\\\\"subscription\\\\\\\\\\\\\": \\\\\\\\\\\\\"3d1a56d2-7c81-4118-9790-f85d1acf0c77\\\\\\\\\\\\\", \\\\\\\\\\\\\"workspaceName\\\\\\\\\\\\\": \\\\\\\\\\\\\"quick-starts-ws-135306\\\\\\\\\\\\\"}]}, \\\\\\\\\\\\\"localData\\\\\\\\\\\\\": {}, \\\\\\\\\\\\\"isEnabled\\\\\\\\\\\\\": true, \\\\\\\\\\\\\"name\\\\\\\\\\\\\": null, \\\\\\\\\\\\\"annotation\\\\\\\\\\\\\": null}, {\\\\\\\\\\\\\"id\\\\\\\\\\\\\": \\\\\\\\\\\\\"2879d2dc-0e61-4490-892b-d3c9ecf618b3\\\\\\\\\\\\\", \\\\\\\\\\\\\"type\\\\\\\\\\\\\": \\\\\\\\\\\\\"Microsoft.DPrep.ParseDelimitedBlock\\\\\\\\\\\\\", \\\\\\\\\\\\\"arguments\\\\\\\\\\\\\": {\\\\\\\\\\\\\"columnHeadersMode\\\\\\\\\\\\\": 3, \\\\\\\\\\\\\"fileEncoding\\\\\\\\\\\\\": 0, \\\\\\\\\\\\\"handleQuotedLineBreaks\\\\\\\\\\\\\": false, \\\\\\\\\\\\\"preview\\\\\\\\\\\\\": false, \\\\\\\\\\\\\"separator\\\\\\\\\\\\\": \\\\\\\\\\\\\",\\\\\\\\\\\\\", \\\\\\\\\\\\\"skipRows\\\\\\\\\\\\\": 0, \\\\\\\\\\\\\"skipRowsMode\\\\\\\\\\\\\": 0}, \\\\\\\\\\\\\"localData\\\\\\\\\\\\\": {}, \\\\\\\\\\\\\"isEnabled\\\\\\\\\\\\\": true, \\\\\\\\\\\\\"name\\\\\\\\\\\\\": null, \\\\\\\\\\\\\"annotation\\\\\\\\\\\\\": null}, {\\\\\\\\\\\\\"id\\\\\\\\\\\\\": \\\\\\\\\\\\\"75f0aa82-1369-4022-85ec-9701b6c497ce\\\\\\\\\\\\\", \\\\\\\\\\\\\"type\\\\\\\\\\\\\": \\\\\\\\\\\\\"Microsoft.DPrep.DropColumnsBlock\\\\\\\\\\\\\", \\\\\\\\\\\\\"arguments\\\\\\\\\\\\\": {\\\\\\\\\\\\\"columns\\\\\\\\\\\\\": {\\\\\\\\\\\\\"type\\\\\\\\\\\\\": 0, \\\\\\\\\\\\\"details\\\\\\\\\\\\\": {\\\\\\\\\\\\\"selectedColumns\\\\\\\\\\\\\": [\\\\\\\\\\\\\"Path\\\\\\\\\\\\\"]}}}, \\\\\\\\\\\\\"localData\\\\\\\\\\\\\": {}, \\\\\\\\\\\\\"isEnabled\\\\\\\\\\\\\": true, \\\\\\\\\\\\\"name\\\\\\\\\\\\\": null, \\\\\\\\\\\\\"annotation\\\\\\\\\\\\\": null}, {\\\\\\\\\\\\\"id\\\\\\\\\\\\\": \\\\\\\\\\\\\"3dde63a5-7ae6-4c0f-9645-a16fef622b1b\\\\\\\\\\\\\", \\\\\\\\\\\\\"type\\\\\\\\\\\\\": \\\\\\\\\\\\\"Microsoft.DPrep.SetColumnTypesBlock\\\\\\\\\\\\\", \\\\\\\\\\\\\"arguments\\\\\\\\\\\\\": {\\\\\\\\\\\\\"columnConversion\\\\\\\\\\\\\": [{\\\\\\\\\\\\\"column\\\\\\\\\\\\\": {\\\\\\\\\\\\\"type\\\\\\\\\\\\\": 2, \\\\\\\\\\\\\"details\\\\\\\\\\\\\": {\\\\\\\\\\\\\"selectedColumn\\\\\\\\\\\\\": \\\\\\\\\\\\\"age\\\\\\\\\\\\\"}}, \\\\\\\\\\\\\"typeProperty\\\\\\\\\\\\\": 3}, {\\\\\\\\\\\\\"column\\\\\\\\\\\\\": {\\\\\\\\\\\\\"type\\\\\\\\\\\\\": 2, \\\\\\\\\\\\\"details\\\\\\\\\\\\\": {\\\\\\\\\\\\\"selectedColumn\\\\\\\\\\\\\": \\\\\\\\\\\\\"anaemia\\\\\\\\\\\\\"}}, \\\\\\\\\\\\\"typeProperty\\\\\\\\\\\\\": 2}, {\\\\\\\\\\\\\"column\\\\\\\\\\\\\": {\\\\\\\\\\\\\"type\\\\\\\\\\\\\": 2, \\\\\\\\\\\\\"details\\\\\\\\\\\\\": {\\\\\\\\\\\\\"selectedColumn\\\\\\\\\\\\\": \\\\\\\\\\\\\"creatinine_phosphokinase\\\\\\\\\\\\\"}}, \\\\\\\\\\\\\"typeProperty\\\\\\\\\\\\\": 2}, {\\\\\\\\\\\\\"column\\\\\\\\\\\\\": {\\\\\\\\\\\\\"type\\\\\\\\\\\\\": 2, \\\\\\\\\\\\\"details\\\\\\\\\\\\\": {\\\\\\\\\\\\\"selectedColumn\\\\\\\\\\\\\": \\\\\\\\\\\\\"diabetes\\\\\\\\\\\\\"}}, \\\\\\\\\\\\\"typeProperty\\\\\\\\\\\\\": 2}, {\\\\\\\\\\\\\"column\\\\\\\\\\\\\": {\\\\\\\\\\\\\"type\\\\\\\\\\\\\": 2, \\\\\\\\\\\\\"details\\\\\\\\\\\\\": {\\\\\\\\\\\\\"selectedColumn\\\\\\\\\\\\\": \\\\\\\\\\\\\"ejection_fraction\\\\\\\\\\\\\"}}, \\\\\\\\\\\\\"typeProperty\\\\\\\\\\\\\": 2}, {\\\\\\\\\\\\\"column\\\\\\\\\\\\\": {\\\\\\\\\\\\\"type\\\\\\\\\\\\\": 2, \\\\\\\\\\\\\"details\\\\\\\\\\\\\": {\\\\\\\\\\\\\"selectedColumn\\\\\\\\\\\\\": \\\\\\\\\\\\\"high_blood_pressure\\\\\\\\\\\\\"}}, \\\\\\\\\\\\\"typeProperty\\\\\\\\\\\\\": 2}, {\\\\\\\\\\\\\"column\\\\\\\\\\\\\": {\\\\\\\\\\\\\"type\\\\\\\\\\\\\": 2, \\\\\\\\\\\\\"details\\\\\\\\\\\\\": {\\\\\\\\\\\\\"selectedColumn\\\\\\\\\\\\\": \\\\\\\\\\\\\"platelets\\\\\\\\\\\\\"}}, \\\\\\\\\\\\\"typeProperty\\\\\\\\\\\\\": 3}, {\\\\\\\\\\\\\"column\\\\\\\\\\\\\": {\\\\\\\\\\\\\"type\\\\\\\\\\\\\": 2, \\\\\\\\\\\\\"details\\\\\\\\\\\\\": {\\\\\\\\\\\\\"selectedColumn\\\\\\\\\\\\\": \\\\\\\\\\\\\"serum_creatinine\\\\\\\\\\\\\"}}, \\\\\\\\\\\\\"typeProperty\\\\\\\\\\\\\": 3}, {\\\\\\\\\\\\\"column\\\\\\\\\\\\\": {\\\\\\\\\\\\\"type\\\\\\\\\\\\\": 2, \\\\\\\\\\\\\"details\\\\\\\\\\\\\": {\\\\\\\\\\\\\"selectedColumn\\\\\\\\\\\\\": \\\\\\\\\\\\\"serum_sodium\\\\\\\\\\\\\"}}, \\\\\\\\\\\\\"typeProperty\\\\\\\\\\\\\": 2}, {\\\\\\\\\\\\\"column\\\\\\\\\\\\\": {\\\\\\\\\\\\\"type\\\\\\\\\\\\\": 2, \\\\\\\\\\\\\"details\\\\\\\\\\\\\": {\\\\\\\\\\\\\"selectedColumn\\\\\\\\\\\\\": \\\\\\\\\\\\\"sex\\\\\\\\\\\\\"}}, \\\\\\\\\\\\\"typeProperty\\\\\\\\\\\\\": 2}, {\\\\\\\\\\\\\"column\\\\\\\\\\\\\": {\\\\\\\\\\\\\"type\\\\\\\\\\\\\": 2, \\\\\\\\\\\\\"details\\\\\\\\\\\\\": {\\\\\\\\\\\\\"selectedColumn\\\\\\\\\\\\\": \\\\\\\\\\\\\"smoking\\\\\\\\\\\\\"}}, \\\\\\\\\\\\\"typeProperty\\\\\\\\\\\\\": 2}, {\\\\\\\\\\\\\"column\\\\\\\\\\\\\": {\\\\\\\\\\\\\"type\\\\\\\\\\\\\": 2, \\\\\\\\\\\\\"details\\\\\\\\\\\\\": {\\\\\\\\\\\\\"selectedColumn\\\\\\\\\\\\\": \\\\\\\\\\\\\"time\\\\\\\\\\\\\"}}, \\\\\\\\\\\\\"typeProperty\\\\\\\\\\\\\": 2}, {\\\\\\\\\\\\\"column\\\\\\\\\\\\\": {\\\\\\\\\\\\\"type\\\\\\\\\\\\\": 2, \\\\\\\\\\\\\"details\\\\\\\\\\\\\": {\\\\\\\\\\\\\"selectedColumn\\\\\\\\\\\\\": \\\\\\\\\\\\\"DEATH_EVENT\\\\\\\\\\\\\"}}, \\\\\\\\\\\\\"typeProperty\\\\\\\\\\\\\": 2}]}, \\\\\\\\\\\\\"localData\\\\\\\\\\\\\": {}, \\\\\\\\\\\\\"isEnabled\\\\\\\\\\\\\": true, \\\\\\\\\\\\\"name\\\\\\\\\\\\\": null, \\\\\\\\\\\\\"annotation\\\\\\\\\\\\\": null}], \\\\\\\\\\\\\"inspectors\\\\\\\\\\\\\": [], \\\\\\\\\\\\\"meta\\\\\\\\\\\\\": {\\\\\\\\\\\\\"savedDatasetId\\\\\\\\\\\\\": \\\\\\\\\\\\\"ac03043d-01c6-4780-b4e7-e7892f999d71\\\\\\\\\\\\\", \\\\\\\\\\\\\"datasetType\\\\\\\\\\\\\": \\\\\\\\\\\\\"tabular\\\\\\\\\\\\\", \\\\\\\\\\\\\"subscriptionId\\\\\\\\\\\\\": \\\\\\\\\\\\\"3d1a56d2-7c81-4118-9790-f85d1acf0c77\\\\\\\\\\\\\", \\\\\\\\\\\\\"workspaceId\\\\\\\\\\\\\": \\\\\\\\\\\\\"f4931c6d-04f8-4d22-87f0-0a816ae435ac\\\\\\\\\\\\\", \\\\\\\\\\\\\"workspaceLocation\\\\\\\\\\\\\": \\\\\\\\\\\\\"southcentralus\\\\\\\\\\\\\"}}\\\\\", \\\\\"activities\\\\\": 0}',\n  'EnableSubsampling': None,\n  'runTemplate': 'AutoML',\n  'azureml.runsource': 'automl',\n  'display_task_type': 'classification',\n  'dependencies_versions': '{\"azureml-widgets\": \"1.19.0\", \"azureml-train\": \"1.19.0\", \"azureml-train-restclients-hyperdrive\": \"1.19.0\", \"azureml-train-core\": \"1.19.0\", \"azureml-train-automl\": \"1.19.0\", \"azureml-train-automl-runtime\": \"1.19.0\", \"azureml-train-automl-client\": \"1.19.0\", \"azureml-tensorboard\": \"1.19.0\", \"azureml-telemetry\": \"1.19.0\", \"azureml-sdk\": \"1.19.0\", \"azureml-samples\": \"0+unknown\", \"azureml-pipeline\": \"1.19.0\", \"azureml-pipeline-steps\": \"1.19.0\", \"azureml-pipeline-core\": \"1.19.0\", \"azureml-opendatasets\": \"1.19.0\", \"azureml-model-management-sdk\": \"1.0.1b6.post1\", \"azureml-mlflow\": \"1.19.0\", \"azureml-interpret\": \"1.19.0\", \"azureml-explain-model\": \"1.19.0\", \"azureml-defaults\": \"1.19.0\", \"azureml-dataset-runtime\": \"1.19.0.post1\", \"azureml-dataprep\": \"2.6.1\", \"azureml-dataprep-rslex\": \"1.4.0\", \"azureml-dataprep-native\": \"26.0.0\", \"azureml-datadrift\": \"1.19.0\", \"azureml-core\": \"1.19.0\", \"azureml-contrib-services\": \"1.19.0\", \"azureml-contrib-server\": \"1.19.0\", \"azureml-contrib-reinforcementlearning\": \"1.19.0\", \"azureml-contrib-pipeline-steps\": \"1.19.0\", \"azureml-contrib-notebook\": \"1.19.0\", \"azureml-contrib-interpret\": \"1.19.0\", \"azureml-contrib-gbdt\": \"1.19.0\", \"azureml-contrib-fairness\": \"1.19.0\", \"azureml-contrib-dataset\": \"1.19.0\", \"azureml-cli-common\": \"1.19.0\", \"azureml-automl-runtime\": \"1.19.0\", \"azureml-automl-core\": \"1.19.0\", \"azureml-accel-models\": \"1.19.0\"}',\n  '_aml_system_scenario_identification': 'Remote.Parent',\n  'ClientType': 'SDK',\n  'environment_cpu_name': 'AzureML-AutoML',\n  'environment_cpu_label': 'prod',\n  'environment_gpu_name': 'AzureML-AutoML-GPU',\n  'environment_gpu_label': 'prod',\n  'root_attribution': 'automl',\n  'attribution': 'AutoML',\n  'Orchestrator': 'AutoML',\n  'CancelUri': 'https://southcentralus.experiments.azureml.net/jasmine/v1.0/subscriptions/3d1a56d2-7c81-4118-9790-f85d1acf0c77/resourceGroups/aml-quickstarts-135306/providers/Microsoft.MachineLearningServices/workspaces/quick-starts-ws-135306/experimentids/850ae823-9385-4b10-96fb-463fe80f0df4/cancel/AutoML_efa4ac15-967d-4b8c-83d7-7c3513e695ab',\n  'ClientSdkVersion': '1.20.0',\n  'snapshotId': '00000000-0000-0000-0000-000000000000',\n  'SetupRunId': 'AutoML_efa4ac15-967d-4b8c-83d7-7c3513e695ab_setup',\n  'SetupRunContainerId': 'dcid.AutoML_efa4ac15-967d-4b8c-83d7-7c3513e695ab_setup',\n  'FeaturizationRunJsonPath': 'featurizer_container.json',\n  'FeaturizationRunId': 'AutoML_efa4ac15-967d-4b8c-83d7-7c3513e695ab_featurize',\n  'ProblemInfoJsonString': '{\"dataset_num_categorical\": 0, \"is_sparse\": false, \"subsampling\": false, \"dataset_classes\": 2, \"dataset_features\": 12, \"dataset_samples\": 224, \"single_frequency_class_detected\": false}',\n  'ModelExplainRunId': 'AutoML_efa4ac15-967d-4b8c-83d7-7c3513e695ab_ModelExplain'},\n 'inputDatasets': [{'dataset': {'id': 'ac03043d-01c6-4780-b4e7-e7892f999d71'}, 'consumptionDetails': {'type': 'RunInput', 'inputName': 'training_data', 'mechanism': 'Direct'}}],\n 'outputDatasets': [],\n 'logFiles': {}}"
          },
          "metadata": {}
        }
      ],
      "execution_count": 10,
      "metadata": {}
    },
    {
      "cell_type": "markdown",
      "source": [
        "## Best Model\n",
        "\n",
        "TODO: In the cell below, get the best model from the automl experiments and display all the properties of the model.\n",
        "\n",
        "## Retrieve the Best ONNX Model\n"
      ],
      "metadata": {}
    },
    {
      "cell_type": "code",
      "source": [
        "best_run, onnx_model= remote_run.get_output(return_onnx_model=True)"
      ],
      "outputs": [],
      "execution_count": 11,
      "metadata": {
        "gather": {
          "logged": 1611044768711
        },
        "jupyter": {
          "outputs_hidden": false,
          "source_hidden": false
        },
        "nteract": {
          "transient": {
            "deleting": false
          }
        }
      }
    },
    {
      "cell_type": "code",
      "source": [
        "#TODO: Save the best model\n",
        "OnnxConverter.save_onnx_model(onnx_model, file_path=\"./automl_model.onnx\")\n"
      ],
      "outputs": [],
      "execution_count": 12,
      "metadata": {
        "gather": {
          "logged": 1611044787902
        },
        "jupyter": {
          "outputs_hidden": false,
          "source_hidden": false
        },
        "nteract": {
          "transient": {
            "deleting": false
          }
        }
      }
    },
    {
      "cell_type": "code",
      "source": [
        "best_run.get_properties()"
      ],
      "outputs": [
        {
          "output_type": "execute_result",
          "execution_count": 13,
          "data": {
            "text/plain": "{'runTemplate': 'automl_child',\n 'pipeline_id': '__AutoML_Ensemble__',\n 'pipeline_spec': '{\"pipeline_id\":\"__AutoML_Ensemble__\",\"objects\":[{\"module\":\"azureml.train.automl.ensemble\",\"class_name\":\"Ensemble\",\"spec_class\":\"sklearn\",\"param_args\":[],\"param_kwargs\":{\"automl_settings\":\"{\\'task_type\\':\\'classification\\',\\'primary_metric\\':\\'accuracy\\',\\'verbosity\\':20,\\'ensemble_iterations\\':15,\\'is_timeseries\\':False,\\'name\\':\\'automl-classification-experiment\\',\\'compute_target\\':\\'cpu-cluster-1\\',\\'subscription_id\\':\\'3d1a56d2-7c81-4118-9790-f85d1acf0c77\\',\\'region\\':\\'southcentralus\\',\\'spark_service\\':None}\",\"ensemble_run_id\":\"AutoML_efa4ac15-967d-4b8c-83d7-7c3513e695ab_46\",\"experiment_name\":\"automl-classification-experiment\",\"workspace_name\":\"quick-starts-ws-135306\",\"subscription_id\":\"3d1a56d2-7c81-4118-9790-f85d1acf0c77\",\"resource_group_name\":\"aml-quickstarts-135306\"}}]}',\n 'training_percent': '100',\n 'predicted_cost': None,\n 'iteration': '46',\n '_aml_system_scenario_identification': 'Remote.Child',\n '_azureml.ComputeTargetType': 'amlcompute',\n 'ContentSnapshotId': '0973a1d9-264a-481e-89ef-1872cc559ed9',\n 'ProcessInfoFile': 'azureml-logs/process_info.json',\n 'ProcessStatusFile': 'azureml-logs/process_status.json',\n 'run_template': 'automl_child',\n 'run_preprocessor': '',\n 'run_algorithm': 'VotingEnsemble',\n 'conda_env_data_location': 'aml://artifact/ExperimentRun/dcid.AutoML_efa4ac15-967d-4b8c-83d7-7c3513e695ab_46/outputs/conda_env_v_1_0_0.yml',\n 'model_data_location': 'aml://artifact/ExperimentRun/dcid.AutoML_efa4ac15-967d-4b8c-83d7-7c3513e695ab_46/outputs/model.pkl',\n 'model_size_on_disk': '1180482',\n 'scoring_data_location': 'aml://artifact/ExperimentRun/dcid.AutoML_efa4ac15-967d-4b8c-83d7-7c3513e695ab_46/outputs/scoring_file_v_1_0_0.py',\n 'model_exp_support': 'True',\n 'pipeline_graph_version': '1.0.0',\n 'model_name': 'AutoMLefa4ac15946',\n 'staticProperties': '{}',\n 'score': '0.8793393393393393',\n 'run_properties': \"classification_labels=None,\\n                              estimators=[('29',\\n                                           Pipeline(memory=None,\\n                                                    steps=[('maxabsscaler',\\n                                                            MaxAbsScaler(copy=True\",\n 'pipeline_script': '{\"pipeline_id\":\"__AutoML_Ensemble__\",\"objects\":[{\"module\":\"azureml.train.automl.ensemble\",\"class_name\":\"Ensemble\",\"spec_class\":\"sklearn\",\"param_args\":[],\"param_kwargs\":{\"automl_settings\":\"{\\'task_type\\':\\'classification\\',\\'primary_metric\\':\\'accuracy\\',\\'verbosity\\':20,\\'ensemble_iterations\\':15,\\'is_timeseries\\':False,\\'name\\':\\'automl-classification-experiment\\',\\'compute_target\\':\\'cpu-cluster-1\\',\\'subscription_id\\':\\'3d1a56d2-7c81-4118-9790-f85d1acf0c77\\',\\'region\\':\\'southcentralus\\',\\'spark_service\\':None}\",\"ensemble_run_id\":\"AutoML_efa4ac15-967d-4b8c-83d7-7c3513e695ab_46\",\"experiment_name\":\"automl-classification-experiment\",\"workspace_name\":\"quick-starts-ws-135306\",\"subscription_id\":\"3d1a56d2-7c81-4118-9790-f85d1acf0c77\",\"resource_group_name\":\"aml-quickstarts-135306\"}}]}',\n 'training_type': 'MeanCrossValidation',\n 'num_classes': '',\n 'framework': 'sklearn',\n 'fit_time': '36',\n 'goal': 'accuracy_max',\n 'class_labels': '',\n 'primary_metric': 'accuracy',\n 'errors': '{}',\n 'onnx_model_resource': \"{'RawColumnNameToOnnxNameMap': {'age': 'age', 'anaemia': 'anaemia', 'creatinine_phosphokinase': 'creatinine_phosphokinase', 'diabetes': 'diabetes', 'ejection_fraction': 'ejection_fraction', 'high_blood_pressure': 'high_blood_pressure', 'platelets': 'platelets', 'serum_creatinine': 'serum_creatinine', 'serum_sodium': 'serum_sodium', 'sex': 'sex', 'smoking': 'smoking', 'time': 'time'}, 'InputRawColumnSchema': {'age': 'floating', 'anaemia': 'integer', 'creatinine_phosphokinase': 'integer', 'diabetes': 'integer', 'ejection_fraction': 'integer', 'high_blood_pressure': 'integer', 'platelets': 'floating', 'serum_creatinine': 'floating', 'serum_sodium': 'integer', 'sex': 'integer', 'smoking': 'integer', 'time': 'integer'}, 'InputOnnxColumnSchema': {'age': 'FloatTensorType', 'anaemia': 'Int64TensorType', 'creatinine_phosphokinase': 'Int64TensorType', 'diabetes': 'Int64TensorType', 'ejection_fraction': 'Int64TensorType', 'high_blood_pressure': 'Int64TensorType', 'platelets': 'FloatTensorType', 'serum_creatinine': 'FloatTensorType', 'serum_sodium': 'Int64TensorType', 'sex': 'Int64TensorType', 'smoking': 'Int64TensorType', 'time': 'Int64TensorType'}, 'CanEnableBatchMode': True}\",\n 'error_code': '',\n 'failure_reason': '',\n 'feature_skus': 'automatedml_sdk_guardrails',\n 'dependencies_versions': '{\"azureml-train-automl-runtime\": \"1.20.0\", \"azureml-train-automl-client\": \"1.20.0\", \"azureml-telemetry\": \"1.20.0\", \"azureml-pipeline-core\": \"1.20.0\", \"azureml-model-management-sdk\": \"1.0.1b6.post1\", \"azureml-interpret\": \"1.20.0\", \"azureml-defaults\": \"1.20.0\", \"azureml-dataset-runtime\": \"1.20.0\", \"azureml-dataprep\": \"2.7.2\", \"azureml-dataprep-rslex\": \"1.5.0\", \"azureml-dataprep-native\": \"27.0.0\", \"azureml-core\": \"1.20.0\", \"azureml-automl-runtime\": \"1.20.0\", \"azureml-automl-core\": \"1.20.0\"}',\n 'num_cores': '2',\n 'num_logical_cores': '2',\n 'peak_memory_usage': '660888',\n 'vm_configuration': 'Intel(R) Xeon(R) Platinum 8171M CPU @ 2.60GHz',\n 'core_hours': '0.006941536666666666'}"
          },
          "metadata": {}
        }
      ],
      "execution_count": 13,
      "metadata": {
        "gather": {
          "logged": 1611044828320
        }
      }
    },
    {
      "cell_type": "code",
      "source": [
        "best_run.get_metrics()"
      ],
      "outputs": [
        {
          "output_type": "execute_result",
          "execution_count": 14,
          "data": {
            "text/plain": "{'weighted_accuracy': 0.9163372255195047,\n 'matthews_correlation': 0.7163430707483435,\n 'precision_score_micro': 0.8793393393393393,\n 'recall_score_weighted': 0.8793393393393393,\n 'precision_score_weighted': 0.8859915528304022,\n 'recall_score_micro': 0.8793393393393393,\n 'f1_score_macro': 0.8490521097641904,\n 'precision_score_macro': 0.8903442203395807,\n 'average_precision_score_weighted': 0.9346737551893988,\n 'AUC_micro': 0.9349894002110218,\n 'AUC_macro': 0.9255426573426574,\n 'f1_score_weighted': 0.8747395331905176,\n 'recall_score_macro': 0.8299690888821324,\n 'f1_score_micro': 0.8793393393393393,\n 'balanced_accuracy': 0.8299690888821324,\n 'log_loss': 0.36567898928751275,\n 'AUC_weighted': 0.9255426573426574,\n 'accuracy': 0.8793393393393393,\n 'average_precision_score_macro': 0.9163058397616509,\n 'average_precision_score_micro': 0.9362984479689334,\n 'norm_macro_recall': 0.6599381777642648,\n 'confusion_matrix': 'aml://artifactId/ExperimentRun/dcid.AutoML_efa4ac15-967d-4b8c-83d7-7c3513e695ab_46/confusion_matrix',\n 'accuracy_table': 'aml://artifactId/ExperimentRun/dcid.AutoML_efa4ac15-967d-4b8c-83d7-7c3513e695ab_46/accuracy_table'}"
          },
          "metadata": {}
        }
      ],
      "execution_count": 14,
      "metadata": {
        "gather": {
          "logged": 1611044855362
        }
      }
    },
    {
      "cell_type": "code",
      "source": [
        "print(best_run)"
      ],
      "outputs": [
        {
          "output_type": "stream",
          "name": "stdout",
          "text": [
            "Run(Experiment: automl-classification-experiment,\n",
            "Id: AutoML_efa4ac15-967d-4b8c-83d7-7c3513e695ab_46,\n",
            "Type: azureml.scriptrun,\n",
            "Status: Completed)\n"
          ]
        }
      ],
      "execution_count": 15,
      "metadata": {
        "gather": {
          "logged": 1611044878542
        }
      }
    },
    {
      "cell_type": "markdown",
      "source": [
        "## Model Deployment\n",
        "\n",
        "Remember you have to deploy only one of the two models you trained.. Perform the steps in the rest of this notebook only if you wish to deploy this model.\n",
        "\n",
        "TODO: In the cell below, register the model, create an inference config and deploy the model as a web service."
      ],
      "metadata": {}
    },
    {
      "cell_type": "code",
      "source": [
        "model_name = best_run.properties['model_name']\n",
        "script_file_name = 'inference/score.py'\n",
        "best_run.download_file('outputs/scoring_file_v_1_0_0.py', 'inference/score.py')"
      ],
      "outputs": [],
      "execution_count": 16,
      "metadata": {
        "gather": {
          "logged": 1611044946340
        }
      }
    },
    {
      "cell_type": "code",
      "source": [
        "description = 'AutoML Model'\n",
        "tags = None\n",
        "model = remote_run.register_model(model_name = model_name, description = description, tags = tags)\n",
        "print(remote_run.model_id) "
      ],
      "outputs": [
        {
          "output_type": "stream",
          "name": "stdout",
          "text": [
            "AutoMLefa4ac15946\n"
          ]
        }
      ],
      "execution_count": 17,
      "metadata": {
        "gather": {
          "logged": 1611044954012
        },
        "jupyter": {
          "outputs_hidden": false,
          "source_hidden": false
        },
        "nteract": {
          "transient": {
            "deleting": false
          }
        }
      }
    },
    {
      "cell_type": "code",
      "source": [
        "from azureml.core.model import InferenceConfig\n",
        "from azureml.core.webservice import AciWebservice\n",
        "from azureml.core.webservice import Webservice\n",
        "from azureml.core.model import Model\n",
        "from azureml.core.environment import Environment\n",
        "\n",
        "inference_config = InferenceConfig(entry_script='inference/score.py')\n",
        "\n",
        "aciconfig = AciWebservice.deploy_configuration(cpu_cores = 1, \n",
        "                                               memory_gb = 1, \n",
        "                                               tags = {'type': \"automl_classification\"}, \n",
        "                                               description = 'Heart Data Service')\n",
        "\n",
        "aci_service_name = 'automl-uciheart1'\n",
        "print(aci_service_name)\n",
        "aci_service = Model.deploy(ws, aci_service_name, [model], inference_config, aciconfig)\n",
        "aci_service.wait_for_deployment(True)\n",
        "print(aci_service.state)"
      ],
      "outputs": [
        {
          "output_type": "stream",
          "name": "stdout",
          "text": [
            "automl-uciheart1\n",
            "Tips: You can try get_logs(): https://aka.ms/debugimage#dockerlog or local deployment: https://aka.ms/debugimage#debug-locally to debug if deployment takes longer than 10 minutes.\n",
            "Running.........................................................\n",
            "Succeeded\n",
            "ACI service creation operation finished, operation \"Succeeded\"\n",
            "Healthy\n"
          ]
        }
      ],
      "execution_count": 18,
      "metadata": {
        "gather": {
          "logged": 1611045254752
        }
      }
    },
    {
      "cell_type": "markdown",
      "source": [
        "## Enable Application Insitghts on The Deployed Service"
      ],
      "metadata": {}
    },
    {
      "cell_type": "code",
      "source": [
        "aci_service.update(enable_app_insights=True)"
      ],
      "outputs": [],
      "execution_count": 19,
      "metadata": {
        "gather": {
          "logged": 1611045273129
        }
      }
    },
    {
      "cell_type": "markdown",
      "source": [
        "## Service Details"
      ],
      "metadata": {}
    },
    {
      "cell_type": "code",
      "source": [
        "print(f'\\nservice state: {aci_service.state}\\n')\n",
        "print(f'scoring URI: \\n{aci_service.scoring_uri}\\n')\n",
        "print(f'swagger URI: \\n{aci_service.swagger_uri}\\n')"
      ],
      "outputs": [
        {
          "output_type": "stream",
          "name": "stdout",
          "text": [
            "\n",
            "service state: Healthy\n",
            "\n",
            "scoring URI: \n",
            "http://5712d97a-c700-438b-b372-5c7c4929c5f1.southcentralus.azurecontainer.io/score\n",
            "\n",
            "swagger URI: \n",
            "http://5712d97a-c700-438b-b372-5c7c4929c5f1.southcentralus.azurecontainer.io/swagger.json\n",
            "\n"
          ]
        }
      ],
      "execution_count": 20,
      "metadata": {
        "gather": {
          "logged": 1611045286837
        }
      }
    },
    {
      "cell_type": "markdown",
      "source": [
        "## Test Service : \n",
        "TODO: In the cell below, send a request to the web service you deployed to test it."
      ],
      "metadata": {
        "collapsed": true,
        "gather": {
          "logged": 1598431657736
        },
        "jupyter": {
          "outputs_hidden": false,
          "source_hidden": false
        },
        "nteract": {
          "transient": {
            "deleting": false
          }
        }
      }
    },
    {
      "cell_type": "code",
      "source": [
        "import requests\n",
        "import json\n",
        "\n",
        "scoring_uri = aci_service.scoring_uri\n",
        "# Two sets of data to score, so we get two results back\n",
        "data = {\"data\":\n",
        "        [\n",
        "          { \n",
        "            \"age\": 45,\n",
        "            \"anaemia\": 0,\n",
        "            \"creatinine_phosphokinase\": 2413,\n",
        "            \"diabetes\": 0,\n",
        "            \"ejection_fraction\": 38,\n",
        "            \"high_blood_pressure\": 0,\n",
        "            \"platelets\": 140000,\n",
        "            \"serum_creatinine\": 1.4,\n",
        "            \"serum_sodium\": 140,\n",
        "            \"sex\": 1,\n",
        "            \"smoking\": 1,\n",
        "            \"time\": 280\n",
        "          },\n",
        "          {\n",
        "            \"age\": 50,\n",
        "            \"anaemia\": 0,\n",
        "            \"creatinine_phosphokinase\": 196,\n",
        "            \"diabetes\": 0,\n",
        "            \"ejection_fraction\": \"45\",\n",
        "            \"high_blood_pressure\": 0,\n",
        "            \"platelets\": 395000,\n",
        "            \"serum_creatinine\": 1.6,\n",
        "            \"serum_sodium\": 136,\n",
        "            \"sex\":1,\n",
        "            \"smoking\": 1,\n",
        "            \"time\": 285\n",
        "          },\n",
        "      ]\n",
        "    }\n",
        "# Convert to JSON string\n",
        "input_data = json.dumps(data)\n",
        "# Set the content type\n",
        "headers = {'Content-Type': 'application/json'}\n",
        "# Make the request and display the response\n",
        "resp = requests.post(scoring_uri, input_data, headers=headers)\n",
        "print(resp.json())"
      ],
      "outputs": [
        {
          "output_type": "stream",
          "name": "stdout",
          "text": [
            "{\"result\": [0, 0]}\n"
          ]
        }
      ],
      "execution_count": 21,
      "metadata": {
        "gather": {
          "logged": 1611045345723
        }
      }
    },
    {
      "cell_type": "markdown",
      "source": [
        "TODO: In the cell below, print the logs of the web service and delete the service"
      ],
      "metadata": {
        "collapsed": true,
        "gather": {
          "logged": 1598432765711
        },
        "jupyter": {
          "outputs_hidden": false,
          "source_hidden": false
        },
        "nteract": {
          "transient": {
            "deleting": false
          }
        }
      }
    },
    {
      "cell_type": "code",
      "source": [
        "aci_service.get_logs()"
      ],
      "outputs": [
        {
          "output_type": "execute_result",
          "execution_count": 22,
          "data": {
            "text/plain": "'2021-01-19T08:33:49,100209700+00:00 - iot-server/run \\n2021-01-19T08:33:49,126299700+00:00 - rsyslog/run \\n2021-01-19T08:33:49,137929300+00:00 - nginx/run \\n2021-01-19T08:33:49,139061400+00:00 - gunicorn/run \\n/usr/sbin/nginx: /azureml-envs/azureml_23df5d07c5e8388dac3ecfdf573dafb1/lib/libcrypto.so.1.0.0: no version information available (required by /usr/sbin/nginx)\\n/usr/sbin/nginx: /azureml-envs/azureml_23df5d07c5e8388dac3ecfdf573dafb1/lib/libcrypto.so.1.0.0: no version information available (required by /usr/sbin/nginx)\\n/usr/sbin/nginx: /azureml-envs/azureml_23df5d07c5e8388dac3ecfdf573dafb1/lib/libssl.so.1.0.0: no version information available (required by /usr/sbin/nginx)\\n/usr/sbin/nginx: /azureml-envs/azureml_23df5d07c5e8388dac3ecfdf573dafb1/lib/libssl.so.1.0.0: no version information available (required by /usr/sbin/nginx)\\n/usr/sbin/nginx: /azureml-envs/azureml_23df5d07c5e8388dac3ecfdf573dafb1/lib/libssl.so.1.0.0: no version information available (required by /usr/sbin/nginx)\\nrsyslogd: /azureml-envs/azureml_23df5d07c5e8388dac3ecfdf573dafb1/lib/libuuid.so.1: no version information available (required by rsyslogd)\\nEdgeHubConnectionString and IOTEDGE_IOTHUBHOSTNAME are not set. Exiting...\\n2021-01-19T08:33:50,610049200+00:00 - iot-server/finish 1 0\\n2021-01-19T08:33:50,639552200+00:00 - Exit code 1 is normal. Not restarting iot-server.\\nStarting gunicorn 19.9.0\\nListening at: http://127.0.0.1:31311 (67)\\nUsing worker: sync\\nworker timeout is set to 300\\nBooting worker with pid: 96\\nSPARK_HOME not set. Skipping PySpark Initialization.\\nGenerating new fontManager, this may take some time...\\nInitializing logger\\n2021-01-19 08:33:56,888 | root | INFO | Starting up app insights client\\n2021-01-19 08:33:56,889 | root | INFO | Starting up request id generator\\n2021-01-19 08:33:56,889 | root | INFO | Starting up app insight hooks\\n2021-01-19 08:33:56,890 | root | INFO | Invoking user\\'s init function\\n2021-01-19 08:34:08,852 | azureml.core | WARNING | Failure while loading azureml_run_type_providers. Failed to load entrypoint automl = azureml.train.automl.run:AutoMLRun._from_run_dto with exception cannot import name \\'RunType\\'.\\nFailure while loading azureml_run_type_providers. Failed to load entrypoint automl = azureml.train.automl.run:AutoMLRun._from_run_dto with exception cannot import name \\'RunType\\'.\\n2021-01-19 08:34:09,616 | root | INFO | Users\\'s init has completed successfully\\n2021-01-19 08:34:09,675 | root | INFO | Skipping middleware: dbg_model_info as it\\'s not enabled.\\n2021-01-19 08:34:09,676 | root | INFO | Skipping middleware: dbg_resource_usage as it\\'s not enabled.\\n2021-01-19 08:34:09,681 | root | INFO | Scoring timeout is found from os.environ: 60000 ms\\n2021-01-19 08:34:10,046 | root | INFO | 200\\n127.0.0.1 - - [19/Jan/2021:08:34:10 +0000] \"GET /swagger.json HTTP/1.0\" 200 2844 \"-\" \"Go-http-client/1.1\"\\n2021-01-19 08:34:14,756 | root | INFO | 200\\n127.0.0.1 - - [19/Jan/2021:08:34:14 +0000] \"GET /swagger.json HTTP/1.0\" 200 2844 \"-\" \"Go-http-client/1.1\"\\n2021-01-19 08:34:33,202 | root | INFO | 200\\n127.0.0.1 - - [19/Jan/2021:08:34:33 +0000] \"GET /swagger.json HTTP/1.0\" 200 2844 \"-\" \"Go-http-client/1.1\"\\n2021-01-19 08:35:44,901 | root | INFO | Validation Request Content-Type\\n2021-01-19 08:35:44,901 | root | INFO | Scoring Timer is set to 60.0 seconds\\n2021-01-19 08:35:45,920 | root | INFO | 200\\n127.0.0.1 - - [19/Jan/2021:08:35:45 +0000] \"POST /score HTTP/1.0\" 200 22 \"-\" \"python-requests/2.25.0\"\\n'"
          },
          "metadata": {}
        }
      ],
      "execution_count": 22,
      "metadata": {
        "jupyter": {
          "outputs_hidden": false,
          "source_hidden": false
        },
        "nteract": {
          "transient": {
            "deleting": false
          }
        },
        "gather": {
          "logged": 1611045354394
        }
      }
    },
    {
      "cell_type": "code",
      "source": [
        "aci_service.delete()\n",
        "model.delete()\n",
        "compute_target.delete()"
      ],
      "outputs": [
        {
          "output_type": "stream",
          "name": "stdout",
          "text": [
            "Current provisioning state of AmlCompute is \"Deleting\"\n",
            "\n"
          ]
        }
      ],
      "execution_count": 23,
      "metadata": {
        "gather": {
          "logged": 1611049862812
        }
      }
    }
  ],
  "metadata": {
    "kernel_info": {
      "name": "python3-azureml"
    },
    "kernelspec": {
      "name": "python3-azureml",
      "language": "python",
      "display_name": "Python 3.6 - AzureML"
    },
    "language_info": {
      "name": "python",
      "version": "3.6.9",
      "mimetype": "text/x-python",
      "codemirror_mode": {
        "name": "ipython",
        "version": 3
      },
      "pygments_lexer": "ipython3",
      "nbconvert_exporter": "python",
      "file_extension": ".py"
    },
    "nteract": {
      "version": "nteract-front-end@1.0.0"
    }
  },
  "nbformat": 4,
  "nbformat_minor": 2
}