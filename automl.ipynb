{
  "cells": [
    {
      "cell_type": "markdown",
      "source": [
        "# Automated ML\n",
        "\n",
        "TODO: Import Dependencies. In the cell below, import all the dependencies that you will need to complete the project."
      ],
      "metadata": {}
    },
    {
      "cell_type": "code",
      "source": [
        "import logging\n",
        "\n",
        "from matplotlib import pyplot as plt\n",
        "import pandas as pd\n",
        "import os\n",
        "\n",
        "import azureml.core\n",
        "from azureml.core.experiment import Experiment\n",
        "from azureml.core.workspace import Workspace\n",
        "from azureml.automl.core.featurization import FeaturizationConfig\n",
        "from azureml.core.dataset import Dataset\n",
        "from azureml.train.automl import AutoMLConfig\n",
        "from azureml.interpret import ExplanationClient\n",
        "from azureml.automl.runtime.onnx_convert import OnnxConverter\n",
        "from azureml.data.dataset_factory import TabularDatasetFactory\n",
        "from sklearn.preprocessing import OneHotEncoder\n",
        "import pandas as pd\n",
        "from azureml.core.run import Run\n",
        "from sklearn.model_selection import train_test_split\n",
        "from azureml.widgets import RunDetails\n",
        "from azureml.train.sklearn import SKLearn\n",
        "\n",
        "print(\"SDK version:\", azureml.core.VERSION)"
      ],
      "outputs": [
        {
          "output_type": "stream",
          "name": "stdout",
          "text": [
            "SDK version: 1.19.0\n"
          ]
        }
      ],
      "execution_count": 1,
      "metadata": {
        "gather": {
          "logged": 1610950862406
        },
        "jupyter": {
          "outputs_hidden": false,
          "source_hidden": false
        },
        "nteract": {
          "transient": {
            "deleting": false
          }
        }
      }
    },
    {
      "cell_type": "markdown",
      "source": [
        "## Dataset\n",
        "\n",
        "### Overview\n",
        "TODO: In this markdown cell, give an overview of the dataset you are using. Also mention the task you will be performing.\n",
        "\n",
        "\n",
        "TODO: Get data. In the cell below, write code to access the data you will be using in this project. Remember that the dataset needs to be external."
      ],
      "metadata": {}
    },
    {
      "cell_type": "code",
      "source": [
        "ws = Workspace.from_config()\n",
        "ws.write_config(path='.azureml')\n",
        "\n",
        "# choose a name for experiment\n",
        "experiment_name = 'automl-classification-experiment'\n",
        "\n",
        "experiment=Experiment(ws, experiment_name)\n",
        "\n",
        "print('Workspace name: ' + ws.name, \n",
        "      'Azure region: ' + ws.location, \n",
        "      'Subscription id: ' + ws.subscription_id, \n",
        "      'Resource group: ' + ws.resource_group, sep = '\\n')\n",
        "\n",
        "run = experiment.start_logging()"
      ],
      "outputs": [
        {
          "output_type": "stream",
          "name": "stdout",
          "text": [
            "Workspace name: quick-starts-ws-135159\n",
            "Azure region: southcentralus\n",
            "Subscription id: a24a24d5-8d87-4c8a-99b6-91ed2d2df51f\n",
            "Resource group: aml-quickstarts-135159\n"
          ]
        }
      ],
      "execution_count": 2,
      "metadata": {
        "gather": {
          "logged": 1610950879876
        },
        "jupyter": {
          "outputs_hidden": false,
          "source_hidden": false
        },
        "nteract": {
          "transient": {
            "deleting": false
          }
        }
      }
    },
    {
      "cell_type": "code",
      "source": [
        "from azureml.core.compute import ComputeTarget, AmlCompute\n",
        "from azureml.core.compute_target import ComputeTargetException\n",
        "\n",
        "cpu_cluster_name = \"cpu-cluster-1\"\n",
        "try:\n",
        "    compute_target = ComputeTarget(workspace=ws, name=cpu_cluster_name)\n",
        "    print('Found existing cluster')\n",
        "except ComputeTargetException:\n",
        "    compute_config = AmlCompute.provisioning_configuration(vm_size='STANDARD_D2_V2', max_nodes=4)\n",
        "    compute_target = ComputeTarget.create(ws, cpu_cluster_name, compute_config)\n",
        "    compute_target.wait_for_completion(show_output=True)"
      ],
      "outputs": [
        {
          "output_type": "stream",
          "name": "stdout",
          "text": [
            "Found existing cluster\n"
          ]
        }
      ],
      "execution_count": 3,
      "metadata": {
        "gather": {
          "logged": 1610950884356
        }
      }
    },
    {
      "cell_type": "code",
      "source": [
        "key = 'uciheartfailuredataset'\n",
        "if key in ws.datasets.keys(): \n",
        "    dataset = ws.datasets[key] \n",
        "    print(\"Found dataset\")\n",
        "else:\n",
        "    url = 'https://archive.ics.uci.edu/ml/machine-learning-databases/00519/heart_failure_clinical_records_dataset.csv'\n",
        "    dataset = Dataset.Tabular.from_delimited_files(url)\n",
        "    dataset = dataset.register(workspace=ws, name=key)"
      ],
      "outputs": [
        {
          "output_type": "stream",
          "name": "stdout",
          "text": [
            "Found dataset\n"
          ]
        }
      ],
      "execution_count": 4,
      "metadata": {
        "gather": {
          "logged": 1610950889538
        }
      }
    },
    {
      "cell_type": "code",
      "source": [
        "ds = dataset.to_pandas_dataframe()\n",
        "train, test = train_test_split(ds, random_state=625, shuffle=True)"
      ],
      "outputs": [],
      "execution_count": 5,
      "metadata": {
        "gather": {
          "logged": 1610950898159
        }
      }
    },
    {
      "cell_type": "code",
      "source": [
        "train.to_csv('train.csv', index=False)\n",
        "datastore = ws.get_default_datastore()\n",
        "datastore.upload_files(files = ['./train.csv'])\n",
        "train = Dataset.Tabular.from_delimited_files(path = [(datastore,'train.csv')])"
      ],
      "outputs": [
        {
          "output_type": "stream",
          "name": "stdout",
          "text": [
            "Uploading an estimated of 1 files\n",
            "Uploading ./train.csv\n",
            "Uploaded ./train.csv, 1 files out of an estimated total of 1\n",
            "Uploaded 1 files\n"
          ]
        }
      ],
      "execution_count": 6,
      "metadata": {
        "gather": {
          "logged": 1610950904203
        }
      }
    },
    {
      "cell_type": "markdown",
      "source": [
        "## AutoML Configuration\n",
        "\n",
        "TODO: Explain why you chose the automl settings and cofiguration you used below."
      ],
      "metadata": {}
    },
    {
      "cell_type": "code",
      "source": [
        "# TODO: Put your automl settings here\n",
        "automl_settings = {\n",
        "    \"experiment_timeout_hours\" : 0.3,\n",
        "    \"enable_early_stopping\" : True,\n",
        "    \"iteration_timeout_minutes\": 5,\n",
        "    \"max_concurrent_iterations\": 4,\n",
        "    \"max_cores_per_iteration\": -1,\n",
        "    \"primary_metric\": 'accuracy',\n",
        "    \"featurization\": 'auto',\n",
        "    \"verbosity\": logging.INFO,\n",
        "}\n",
        "\n",
        "# TODO: Put your automl config here\n",
        "automl_config = AutoMLConfig(\n",
        "    experiment_timeout_minutes=30,\n",
        "    debug_log = 'automl_errors.log',\n",
        "    compute_target=compute_target,\n",
        "    task=\"classification\",\n",
        "    training_data= train,\n",
        "    label_column_name=\"DEATH_EVENT\",\n",
        "    enable_onnx_compatible_models=True,\n",
        "    n_cross_validations= 3,\n",
        "    **automl_settings)"
      ],
      "outputs": [],
      "execution_count": 7,
      "metadata": {
        "gather": {
          "logged": 1610950907730
        },
        "jupyter": {
          "outputs_hidden": false,
          "source_hidden": false
        },
        "nteract": {
          "transient": {
            "deleting": false
          }
        }
      }
    },
    {
      "cell_type": "code",
      "source": [
        "# TODO: Submit your experiment\n",
        "remote_run = experiment.submit(automl_config,show_output = False)"
      ],
      "outputs": [
        {
          "output_type": "stream",
          "name": "stdout",
          "text": [
            "Running on remote.\n"
          ]
        }
      ],
      "execution_count": 8,
      "metadata": {
        "gather": {
          "logged": 1610950935533
        },
        "jupyter": {
          "outputs_hidden": false,
          "source_hidden": false
        },
        "nteract": {
          "transient": {
            "deleting": false
          }
        }
      }
    },
    {
      "cell_type": "markdown",
      "source": [
        "## Run Details\n",
        "\n",
        "OPTIONAL: Write about the different models trained and their performance. Why do you think some models did better than others?\n",
        "\n",
        "TODO: In the cell below, use the `RunDetails` widget to show the different experiments."
      ],
      "metadata": {}
    },
    {
      "cell_type": "code",
      "source": [
        "RunDetails(remote_run).show()"
      ],
      "outputs": [
        {
          "output_type": "display_data",
          "data": {
            "text/plain": "_AutoMLWidget(widget_settings={'childWidgetDisplay': 'popup', 'send_telemetry': False, 'log_level': 'INFO', 's…",
            "application/vnd.jupyter.widget-view+json": {
              "version_major": 2,
              "version_minor": 0,
              "model_id": "34d12f143f3840e990ad4cf9df29d536"
            }
          },
          "metadata": {}
        },
        {
          "output_type": "display_data",
          "data": {
            "application/aml.mini.widget.v1": "{\"status\": \"Completed\", \"workbench_run_details_uri\": \"https://ml.azure.com/experiments/automl-classification-experiment/runs/AutoML_a82676aa-e08f-4e93-8432-f74183ff9f8f?wsid=/subscriptions/a24a24d5-8d87-4c8a-99b6-91ed2d2df51f/resourcegroups/aml-quickstarts-135159/workspaces/quick-starts-ws-135159\", \"run_id\": \"AutoML_a82676aa-e08f-4e93-8432-f74183ff9f8f\", \"run_properties\": {\"run_id\": \"AutoML_a82676aa-e08f-4e93-8432-f74183ff9f8f\", \"created_utc\": \"2021-01-18T06:22:12.696222Z\", \"properties\": {\"num_iterations\": \"1000\", \"training_type\": \"TrainFull\", \"acquisition_function\": \"EI\", \"primary_metric\": \"accuracy\", \"train_split\": \"0\", \"acquisition_parameter\": \"0\", \"num_cross_validation\": \"3\", \"target\": \"cpu-cluster-1\", \"AMLSettingsJsonString\": \"{\\\"path\\\":null,\\\"name\\\":\\\"automl-classification-experiment\\\",\\\"subscription_id\\\":\\\"a24a24d5-8d87-4c8a-99b6-91ed2d2df51f\\\",\\\"resource_group\\\":\\\"aml-quickstarts-135159\\\",\\\"workspace_name\\\":\\\"quick-starts-ws-135159\\\",\\\"region\\\":\\\"southcentralus\\\",\\\"compute_target\\\":\\\"cpu-cluster-1\\\",\\\"spark_service\\\":null,\\\"azure_service\\\":\\\"remote\\\",\\\"many_models\\\":false,\\\"pipeline_fetch_max_batch_size\\\":1,\\\"iterations\\\":1000,\\\"primary_metric\\\":\\\"accuracy\\\",\\\"task_type\\\":\\\"classification\\\",\\\"data_script\\\":null,\\\"validation_size\\\":0.0,\\\"n_cross_validations\\\":3,\\\"y_min\\\":null,\\\"y_max\\\":null,\\\"num_classes\\\":null,\\\"featurization\\\":\\\"auto\\\",\\\"_ignore_package_version_incompatibilities\\\":false,\\\"is_timeseries\\\":false,\\\"max_cores_per_iteration\\\":-1,\\\"max_concurrent_iterations\\\":4,\\\"iteration_timeout_minutes\\\":5,\\\"mem_in_mb\\\":null,\\\"enforce_time_on_windows\\\":false,\\\"experiment_timeout_minutes\\\":30,\\\"experiment_exit_score\\\":null,\\\"whitelist_models\\\":null,\\\"blacklist_algos\\\":[\\\"TensorFlowLinearClassifier\\\",\\\"TensorFlowDNN\\\"],\\\"supported_models\\\":[\\\"SVM\\\",\\\"KNN\\\",\\\"LightGBM\\\",\\\"RandomForest\\\",\\\"DecisionTree\\\",\\\"SGD\\\",\\\"ExtremeRandomTrees\\\",\\\"XGBoostClassifier\\\",\\\"BernoulliNaiveBayes\\\",\\\"GradientBoosting\\\",\\\"TensorFlowLinearClassifier\\\",\\\"AveragedPerceptronClassifier\\\",\\\"TensorFlowDNN\\\",\\\"MultinomialNaiveBayes\\\",\\\"LogisticRegression\\\",\\\"LinearSVM\\\"],\\\"auto_blacklist\\\":true,\\\"blacklist_samples_reached\\\":false,\\\"exclude_nan_labels\\\":true,\\\"verbosity\\\":20,\\\"_debug_log\\\":\\\"azureml_automl.log\\\",\\\"show_warnings\\\":false,\\\"model_explainability\\\":true,\\\"service_url\\\":null,\\\"sdk_url\\\":null,\\\"sdk_packages\\\":null,\\\"enable_onnx_compatible_models\\\":true,\\\"enable_split_onnx_featurizer_estimator_models\\\":false,\\\"vm_type\\\":\\\"STANDARD_D2_V2\\\",\\\"telemetry_verbosity\\\":20,\\\"send_telemetry\\\":true,\\\"enable_dnn\\\":false,\\\"scenario\\\":\\\"SDK-1.13.0\\\",\\\"environment_label\\\":null,\\\"force_text_dnn\\\":false,\\\"enable_feature_sweeping\\\":false,\\\"enable_early_stopping\\\":true,\\\"early_stopping_n_iters\\\":10,\\\"metrics\\\":null,\\\"enable_ensembling\\\":true,\\\"enable_stack_ensembling\\\":false,\\\"ensemble_iterations\\\":15,\\\"enable_tf\\\":false,\\\"enable_subsampling\\\":null,\\\"subsample_seed\\\":null,\\\"enable_nimbusml\\\":false,\\\"enable_streaming\\\":false,\\\"force_streaming\\\":false,\\\"track_child_runs\\\":true,\\\"allowed_private_models\\\":[],\\\"label_column_name\\\":\\\"DEATH_EVENT\\\",\\\"weight_column_name\\\":null,\\\"cv_split_column_names\\\":null,\\\"enable_local_managed\\\":false,\\\"_local_managed_run_id\\\":null,\\\"cost_mode\\\":1,\\\"lag_length\\\":0,\\\"metric_operation\\\":\\\"maximize\\\",\\\"preprocess\\\":true}\", \"DataPrepJsonString\": \"{\\\\\\\"training_data\\\\\\\": \\\\\\\"{\\\\\\\\\\\\\\\"blocks\\\\\\\\\\\\\\\": [{\\\\\\\\\\\\\\\"id\\\\\\\\\\\\\\\": \\\\\\\\\\\\\\\"69d7b7e0-525c-439e-89cb-7a73eb5f4507\\\\\\\\\\\\\\\", \\\\\\\\\\\\\\\"type\\\\\\\\\\\\\\\": \\\\\\\\\\\\\\\"Microsoft.DPrep.GetDatastoreFilesBlock\\\\\\\\\\\\\\\", \\\\\\\\\\\\\\\"arguments\\\\\\\\\\\\\\\": {\\\\\\\\\\\\\\\"datastores\\\\\\\\\\\\\\\": [{\\\\\\\\\\\\\\\"datastoreName\\\\\\\\\\\\\\\": \\\\\\\\\\\\\\\"workspaceblobstore\\\\\\\\\\\\\\\", \\\\\\\\\\\\\\\"path\\\\\\\\\\\\\\\": \\\\\\\\\\\\\\\"train.csv\\\\\\\\\\\\\\\", \\\\\\\\\\\\\\\"resourceGroup\\\\\\\\\\\\\\\": \\\\\\\\\\\\\\\"aml-quickstarts-135159\\\\\\\\\\\\\\\", \\\\\\\\\\\\\\\"subscription\\\\\\\\\\\\\\\": \\\\\\\\\\\\\\\"a24a24d5-8d87-4c8a-99b6-91ed2d2df51f\\\\\\\\\\\\\\\", \\\\\\\\\\\\\\\"workspaceName\\\\\\\\\\\\\\\": \\\\\\\\\\\\\\\"quick-starts-ws-135159\\\\\\\\\\\\\\\"}]}, \\\\\\\\\\\\\\\"localData\\\\\\\\\\\\\\\": {}, \\\\\\\\\\\\\\\"isEnabled\\\\\\\\\\\\\\\": true, \\\\\\\\\\\\\\\"name\\\\\\\\\\\\\\\": null, \\\\\\\\\\\\\\\"annotation\\\\\\\\\\\\\\\": null}, {\\\\\\\\\\\\\\\"id\\\\\\\\\\\\\\\": \\\\\\\\\\\\\\\"8693119b-5c7f-40cb-bb69-d787d25ee458\\\\\\\\\\\\\\\", \\\\\\\\\\\\\\\"type\\\\\\\\\\\\\\\": \\\\\\\\\\\\\\\"Microsoft.DPrep.ParseDelimitedBlock\\\\\\\\\\\\\\\", \\\\\\\\\\\\\\\"arguments\\\\\\\\\\\\\\\": {\\\\\\\\\\\\\\\"columnHeadersMode\\\\\\\\\\\\\\\": 3, \\\\\\\\\\\\\\\"fileEncoding\\\\\\\\\\\\\\\": 0, \\\\\\\\\\\\\\\"handleQuotedLineBreaks\\\\\\\\\\\\\\\": false, \\\\\\\\\\\\\\\"preview\\\\\\\\\\\\\\\": false, \\\\\\\\\\\\\\\"separator\\\\\\\\\\\\\\\": \\\\\\\\\\\\\\\",\\\\\\\\\\\\\\\", \\\\\\\\\\\\\\\"skipRows\\\\\\\\\\\\\\\": 0, \\\\\\\\\\\\\\\"skipRowsMode\\\\\\\\\\\\\\\": 0}, \\\\\\\\\\\\\\\"localData\\\\\\\\\\\\\\\": {}, \\\\\\\\\\\\\\\"isEnabled\\\\\\\\\\\\\\\": true, \\\\\\\\\\\\\\\"name\\\\\\\\\\\\\\\": null, \\\\\\\\\\\\\\\"annotation\\\\\\\\\\\\\\\": null}, {\\\\\\\\\\\\\\\"id\\\\\\\\\\\\\\\": \\\\\\\\\\\\\\\"8cbbf671-24b2-4706-b51f-9730f66403ce\\\\\\\\\\\\\\\", \\\\\\\\\\\\\\\"type\\\\\\\\\\\\\\\": \\\\\\\\\\\\\\\"Microsoft.DPrep.DropColumnsBlock\\\\\\\\\\\\\\\", \\\\\\\\\\\\\\\"arguments\\\\\\\\\\\\\\\": {\\\\\\\\\\\\\\\"columns\\\\\\\\\\\\\\\": {\\\\\\\\\\\\\\\"type\\\\\\\\\\\\\\\": 0, \\\\\\\\\\\\\\\"details\\\\\\\\\\\\\\\": {\\\\\\\\\\\\\\\"selectedColumns\\\\\\\\\\\\\\\": [\\\\\\\\\\\\\\\"Path\\\\\\\\\\\\\\\"]}}}, \\\\\\\\\\\\\\\"localData\\\\\\\\\\\\\\\": {}, \\\\\\\\\\\\\\\"isEnabled\\\\\\\\\\\\\\\": true, \\\\\\\\\\\\\\\"name\\\\\\\\\\\\\\\": null, \\\\\\\\\\\\\\\"annotation\\\\\\\\\\\\\\\": null}, {\\\\\\\\\\\\\\\"id\\\\\\\\\\\\\\\": \\\\\\\\\\\\\\\"a7ee087b-6def-404f-bfbc-822dec223543\\\\\\\\\\\\\\\", \\\\\\\\\\\\\\\"type\\\\\\\\\\\\\\\": \\\\\\\\\\\\\\\"Microsoft.DPrep.SetColumnTypesBlock\\\\\\\\\\\\\\\", \\\\\\\\\\\\\\\"arguments\\\\\\\\\\\\\\\": {\\\\\\\\\\\\\\\"columnConversion\\\\\\\\\\\\\\\": [{\\\\\\\\\\\\\\\"column\\\\\\\\\\\\\\\": {\\\\\\\\\\\\\\\"type\\\\\\\\\\\\\\\": 2, \\\\\\\\\\\\\\\"details\\\\\\\\\\\\\\\": {\\\\\\\\\\\\\\\"selectedColumn\\\\\\\\\\\\\\\": \\\\\\\\\\\\\\\"age\\\\\\\\\\\\\\\"}}, \\\\\\\\\\\\\\\"typeProperty\\\\\\\\\\\\\\\": 3}, {\\\\\\\\\\\\\\\"column\\\\\\\\\\\\\\\": {\\\\\\\\\\\\\\\"type\\\\\\\\\\\\\\\": 2, \\\\\\\\\\\\\\\"details\\\\\\\\\\\\\\\": {\\\\\\\\\\\\\\\"selectedColumn\\\\\\\\\\\\\\\": \\\\\\\\\\\\\\\"anaemia\\\\\\\\\\\\\\\"}}, \\\\\\\\\\\\\\\"typeProperty\\\\\\\\\\\\\\\": 2}, {\\\\\\\\\\\\\\\"column\\\\\\\\\\\\\\\": {\\\\\\\\\\\\\\\"type\\\\\\\\\\\\\\\": 2, \\\\\\\\\\\\\\\"details\\\\\\\\\\\\\\\": {\\\\\\\\\\\\\\\"selectedColumn\\\\\\\\\\\\\\\": \\\\\\\\\\\\\\\"creatinine_phosphokinase\\\\\\\\\\\\\\\"}}, \\\\\\\\\\\\\\\"typeProperty\\\\\\\\\\\\\\\": 2}, {\\\\\\\\\\\\\\\"column\\\\\\\\\\\\\\\": {\\\\\\\\\\\\\\\"type\\\\\\\\\\\\\\\": 2, \\\\\\\\\\\\\\\"details\\\\\\\\\\\\\\\": {\\\\\\\\\\\\\\\"selectedColumn\\\\\\\\\\\\\\\": \\\\\\\\\\\\\\\"diabetes\\\\\\\\\\\\\\\"}}, \\\\\\\\\\\\\\\"typeProperty\\\\\\\\\\\\\\\": 2}, {\\\\\\\\\\\\\\\"column\\\\\\\\\\\\\\\": {\\\\\\\\\\\\\\\"type\\\\\\\\\\\\\\\": 2, \\\\\\\\\\\\\\\"details\\\\\\\\\\\\\\\": {\\\\\\\\\\\\\\\"selectedColumn\\\\\\\\\\\\\\\": \\\\\\\\\\\\\\\"ejection_fraction\\\\\\\\\\\\\\\"}}, \\\\\\\\\\\\\\\"typeProperty\\\\\\\\\\\\\\\": 2}, {\\\\\\\\\\\\\\\"column\\\\\\\\\\\\\\\": {\\\\\\\\\\\\\\\"type\\\\\\\\\\\\\\\": 2, \\\\\\\\\\\\\\\"details\\\\\\\\\\\\\\\": {\\\\\\\\\\\\\\\"selectedColumn\\\\\\\\\\\\\\\": \\\\\\\\\\\\\\\"high_blood_pressure\\\\\\\\\\\\\\\"}}, \\\\\\\\\\\\\\\"typeProperty\\\\\\\\\\\\\\\": 2}, {\\\\\\\\\\\\\\\"column\\\\\\\\\\\\\\\": {\\\\\\\\\\\\\\\"type\\\\\\\\\\\\\\\": 2, \\\\\\\\\\\\\\\"details\\\\\\\\\\\\\\\": {\\\\\\\\\\\\\\\"selectedColumn\\\\\\\\\\\\\\\": \\\\\\\\\\\\\\\"platelets\\\\\\\\\\\\\\\"}}, \\\\\\\\\\\\\\\"typeProperty\\\\\\\\\\\\\\\": 3}, {\\\\\\\\\\\\\\\"column\\\\\\\\\\\\\\\": {\\\\\\\\\\\\\\\"type\\\\\\\\\\\\\\\": 2, \\\\\\\\\\\\\\\"details\\\\\\\\\\\\\\\": {\\\\\\\\\\\\\\\"selectedColumn\\\\\\\\\\\\\\\": \\\\\\\\\\\\\\\"serum_creatinine\\\\\\\\\\\\\\\"}}, \\\\\\\\\\\\\\\"typeProperty\\\\\\\\\\\\\\\": 3}, {\\\\\\\\\\\\\\\"column\\\\\\\\\\\\\\\": {\\\\\\\\\\\\\\\"type\\\\\\\\\\\\\\\": 2, \\\\\\\\\\\\\\\"details\\\\\\\\\\\\\\\": {\\\\\\\\\\\\\\\"selectedColumn\\\\\\\\\\\\\\\": \\\\\\\\\\\\\\\"serum_sodium\\\\\\\\\\\\\\\"}}, \\\\\\\\\\\\\\\"typeProperty\\\\\\\\\\\\\\\": 2}, {\\\\\\\\\\\\\\\"column\\\\\\\\\\\\\\\": {\\\\\\\\\\\\\\\"type\\\\\\\\\\\\\\\": 2, \\\\\\\\\\\\\\\"details\\\\\\\\\\\\\\\": {\\\\\\\\\\\\\\\"selectedColumn\\\\\\\\\\\\\\\": \\\\\\\\\\\\\\\"sex\\\\\\\\\\\\\\\"}}, \\\\\\\\\\\\\\\"typeProperty\\\\\\\\\\\\\\\": 2}, {\\\\\\\\\\\\\\\"column\\\\\\\\\\\\\\\": {\\\\\\\\\\\\\\\"type\\\\\\\\\\\\\\\": 2, \\\\\\\\\\\\\\\"details\\\\\\\\\\\\\\\": {\\\\\\\\\\\\\\\"selectedColumn\\\\\\\\\\\\\\\": \\\\\\\\\\\\\\\"smoking\\\\\\\\\\\\\\\"}}, \\\\\\\\\\\\\\\"typeProperty\\\\\\\\\\\\\\\": 2}, {\\\\\\\\\\\\\\\"column\\\\\\\\\\\\\\\": {\\\\\\\\\\\\\\\"type\\\\\\\\\\\\\\\": 2, \\\\\\\\\\\\\\\"details\\\\\\\\\\\\\\\": {\\\\\\\\\\\\\\\"selectedColumn\\\\\\\\\\\\\\\": \\\\\\\\\\\\\\\"time\\\\\\\\\\\\\\\"}}, \\\\\\\\\\\\\\\"typeProperty\\\\\\\\\\\\\\\": 2}, {\\\\\\\\\\\\\\\"column\\\\\\\\\\\\\\\": {\\\\\\\\\\\\\\\"type\\\\\\\\\\\\\\\": 2, \\\\\\\\\\\\\\\"details\\\\\\\\\\\\\\\": {\\\\\\\\\\\\\\\"selectedColumn\\\\\\\\\\\\\\\": \\\\\\\\\\\\\\\"DEATH_EVENT\\\\\\\\\\\\\\\"}}, \\\\\\\\\\\\\\\"typeProperty\\\\\\\\\\\\\\\": 2}]}, \\\\\\\\\\\\\\\"localData\\\\\\\\\\\\\\\": {}, \\\\\\\\\\\\\\\"isEnabled\\\\\\\\\\\\\\\": true, \\\\\\\\\\\\\\\"name\\\\\\\\\\\\\\\": null, \\\\\\\\\\\\\\\"annotation\\\\\\\\\\\\\\\": null}], \\\\\\\\\\\\\\\"inspectors\\\\\\\\\\\\\\\": [], \\\\\\\\\\\\\\\"meta\\\\\\\\\\\\\\\": {\\\\\\\\\\\\\\\"savedDatasetId\\\\\\\\\\\\\\\": \\\\\\\\\\\\\\\"78471c05-ffe3-4cea-a8ed-b8fdae666524\\\\\\\\\\\\\\\", \\\\\\\\\\\\\\\"datasetType\\\\\\\\\\\\\\\": \\\\\\\\\\\\\\\"tabular\\\\\\\\\\\\\\\", \\\\\\\\\\\\\\\"subscriptionId\\\\\\\\\\\\\\\": \\\\\\\\\\\\\\\"a24a24d5-8d87-4c8a-99b6-91ed2d2df51f\\\\\\\\\\\\\\\", \\\\\\\\\\\\\\\"workspaceId\\\\\\\\\\\\\\\": \\\\\\\\\\\\\\\"27f2c59b-89bd-4140-abbb-84e180eb951f\\\\\\\\\\\\\\\", \\\\\\\\\\\\\\\"workspaceLocation\\\\\\\\\\\\\\\": \\\\\\\\\\\\\\\"southcentralus\\\\\\\\\\\\\\\"}}\\\\\\\", \\\\\\\"activities\\\\\\\": 0}\", \"EnableSubsampling\": null, \"runTemplate\": \"AutoML\", \"azureml.runsource\": \"automl\", \"display_task_type\": \"classification\", \"dependencies_versions\": \"{\\\"azureml-widgets\\\": \\\"1.19.0\\\", \\\"azureml-train\\\": \\\"1.19.0\\\", \\\"azureml-train-restclients-hyperdrive\\\": \\\"1.19.0\\\", \\\"azureml-train-core\\\": \\\"1.19.0\\\", \\\"azureml-train-automl\\\": \\\"1.19.0\\\", \\\"azureml-train-automl-runtime\\\": \\\"1.19.0\\\", \\\"azureml-train-automl-client\\\": \\\"1.19.0\\\", \\\"azureml-tensorboard\\\": \\\"1.19.0\\\", \\\"azureml-telemetry\\\": \\\"1.19.0\\\", \\\"azureml-sdk\\\": \\\"1.19.0\\\", \\\"azureml-samples\\\": \\\"0+unknown\\\", \\\"azureml-pipeline\\\": \\\"1.19.0\\\", \\\"azureml-pipeline-steps\\\": \\\"1.19.0\\\", \\\"azureml-pipeline-core\\\": \\\"1.19.0\\\", \\\"azureml-opendatasets\\\": \\\"1.19.0\\\", \\\"azureml-model-management-sdk\\\": \\\"1.0.1b6.post1\\\", \\\"azureml-mlflow\\\": \\\"1.19.0\\\", \\\"azureml-interpret\\\": \\\"1.19.0\\\", \\\"azureml-explain-model\\\": \\\"1.19.0\\\", \\\"azureml-defaults\\\": \\\"1.19.0\\\", \\\"azureml-dataset-runtime\\\": \\\"1.19.0.post1\\\", \\\"azureml-dataprep\\\": \\\"2.6.1\\\", \\\"azureml-dataprep-rslex\\\": \\\"1.4.0\\\", \\\"azureml-dataprep-native\\\": \\\"26.0.0\\\", \\\"azureml-datadrift\\\": \\\"1.19.0\\\", \\\"azureml-core\\\": \\\"1.19.0\\\", \\\"azureml-contrib-services\\\": \\\"1.19.0\\\", \\\"azureml-contrib-server\\\": \\\"1.19.0\\\", \\\"azureml-contrib-reinforcementlearning\\\": \\\"1.19.0\\\", \\\"azureml-contrib-pipeline-steps\\\": \\\"1.19.0\\\", \\\"azureml-contrib-notebook\\\": \\\"1.19.0\\\", \\\"azureml-contrib-interpret\\\": \\\"1.19.0\\\", \\\"azureml-contrib-gbdt\\\": \\\"1.19.0\\\", \\\"azureml-contrib-fairness\\\": \\\"1.19.0\\\", \\\"azureml-contrib-dataset\\\": \\\"1.19.0\\\", \\\"azureml-cli-common\\\": \\\"1.19.0\\\", \\\"azureml-automl-runtime\\\": \\\"1.19.0\\\", \\\"azureml-automl-core\\\": \\\"1.19.0\\\", \\\"azureml-accel-models\\\": \\\"1.19.0\\\"}\", \"_aml_system_scenario_identification\": \"Remote.Parent\", \"ClientType\": \"SDK\", \"environment_cpu_name\": \"AzureML-AutoML\", \"environment_cpu_label\": \"prod\", \"environment_gpu_name\": \"AzureML-AutoML-GPU\", \"environment_gpu_label\": \"prod\", \"root_attribution\": \"automl\", \"attribution\": \"AutoML\", \"Orchestrator\": \"AutoML\", \"CancelUri\": \"https://southcentralus.experiments.azureml.net/jasmine/v1.0/subscriptions/a24a24d5-8d87-4c8a-99b6-91ed2d2df51f/resourceGroups/aml-quickstarts-135159/providers/Microsoft.MachineLearningServices/workspaces/quick-starts-ws-135159/experimentids/fec45eb0-b668-4078-89d7-81aaaabbbdf9/cancel/AutoML_a82676aa-e08f-4e93-8432-f74183ff9f8f\", \"ClientSdkVersion\": \"1.19.0\", \"snapshotId\": \"00000000-0000-0000-0000-000000000000\", \"SetupRunId\": \"AutoML_a82676aa-e08f-4e93-8432-f74183ff9f8f_setup\", \"SetupRunContainerId\": \"dcid.AutoML_a82676aa-e08f-4e93-8432-f74183ff9f8f_setup\", \"FeaturizationRunJsonPath\": \"featurizer_container.json\", \"FeaturizationRunId\": \"AutoML_a82676aa-e08f-4e93-8432-f74183ff9f8f_featurize\", \"ProblemInfoJsonString\": \"{\\\"dataset_num_categorical\\\": 0, \\\"is_sparse\\\": false, \\\"subsampling\\\": false, \\\"dataset_classes\\\": 2, \\\"dataset_features\\\": 12, \\\"dataset_samples\\\": 224, \\\"single_frequency_class_detected\\\": false}\", \"ModelExplainRunId\": \"AutoML_a82676aa-e08f-4e93-8432-f74183ff9f8f_ModelExplain\"}, \"tags\": {\"model_explain_run\": \"best_run\", \"_aml_system_azureml.automlComponent\": \"AutoML\", \"pipeline_id\": \"\", \"score\": \"\", \"predicted_cost\": \"\", \"fit_time\": \"\", \"training_percent\": \"\", \"iteration\": \"\", \"run_preprocessor\": \"\", \"run_algorithm\": \"\", \"dynamic_whitelisting_iterations\": \"<25>;<30>;\", \"automl_best_child_run_id\": \"AutoML_a82676aa-e08f-4e93-8432-f74183ff9f8f_35\"}, \"end_time_utc\": \"2021-01-18T06:45:48.529515Z\", \"status\": \"Completed\", \"log_files\": {}, \"log_groups\": [], \"run_duration\": \"0:23:35\"}, \"child_runs\": [{\"run_id\": \"AutoML_a82676aa-e08f-4e93-8432-f74183ff9f8f_0\", \"run_number\": 6, \"metric\": null, \"status\": \"Completed\", \"run_type\": \"azureml.scriptrun\", \"training_percent\": \"100\", \"start_time\": \"2021-01-18T06:31:36.680548Z\", \"end_time\": \"2021-01-18T06:32:29.950879Z\", \"created_time\": \"2021-01-18T06:30:23.367838Z\", \"created_time_dt\": \"2021-01-18T06:30:23.367838Z\", \"duration\": \"0:02:06\", \"iteration\": \"0\", \"goal\": \"accuracy_max\", \"run_name\": \"MaxAbsScaler, LightGBM\", \"run_properties\": \"copy=True\", \"primary_metric\": 0.86144144, \"best_metric\": 0.86144144}, {\"run_id\": \"AutoML_a82676aa-e08f-4e93-8432-f74183ff9f8f_2\", \"run_number\": 7, \"metric\": null, \"status\": \"Completed\", \"run_type\": \"azureml.scriptrun\", \"training_percent\": \"100\", \"start_time\": \"2021-01-18T06:30:36.466086Z\", \"end_time\": \"2021-01-18T06:31:30.728083Z\", \"created_time\": \"2021-01-18T06:30:23.403577Z\", \"created_time_dt\": \"2021-01-18T06:30:23.403577Z\", \"duration\": \"0:01:07\", \"iteration\": \"2\", \"goal\": \"accuracy_max\", \"run_name\": \"MinMaxScaler, RandomForest\", \"run_properties\": \"copy=True, feature_range=(0, 1\", \"primary_metric\": 0.8615015, \"best_metric\": 0.8615015}, {\"run_id\": \"AutoML_a82676aa-e08f-4e93-8432-f74183ff9f8f_3\", \"run_number\": 8, \"metric\": null, \"status\": \"Completed\", \"run_type\": \"azureml.scriptrun\", \"training_percent\": \"100\", \"start_time\": \"2021-01-18T06:33:02.771797Z\", \"end_time\": \"2021-01-18T06:36:22.167244Z\", \"created_time\": \"2021-01-18T06:30:23.788523Z\", \"created_time_dt\": \"2021-01-18T06:30:23.788523Z\", \"duration\": \"0:05:58\", \"iteration\": \"3\", \"goal\": \"accuracy_max\", \"run_name\": \"MinMaxScaler, RandomForest\", \"run_properties\": \"copy=True, feature_range=(0, 1\", \"primary_metric\": 0.83903904, \"best_metric\": 0.8615015}, {\"run_id\": \"AutoML_a82676aa-e08f-4e93-8432-f74183ff9f8f_1\", \"run_number\": 9, \"metric\": null, \"status\": \"Completed\", \"run_type\": \"azureml.scriptrun\", \"training_percent\": \"100\", \"start_time\": \"2021-01-18T06:32:32.096789Z\", \"end_time\": \"2021-01-18T06:33:34.486071Z\", \"created_time\": \"2021-01-18T06:30:23.919137Z\", \"created_time_dt\": \"2021-01-18T06:30:23.919137Z\", \"duration\": \"0:03:10\", \"iteration\": \"1\", \"goal\": \"accuracy_max\", \"run_name\": \"MaxAbsScaler, XGBoostClassifier\", \"run_properties\": \"copy=True\", \"primary_metric\": 0.86126126, \"best_metric\": 0.86144144}, {\"run_id\": \"AutoML_a82676aa-e08f-4e93-8432-f74183ff9f8f_4\", \"run_number\": 10, \"metric\": null, \"status\": \"Completed\", \"run_type\": \"azureml.scriptrun\", \"training_percent\": \"100\", \"start_time\": \"2021-01-18T06:33:00.199021Z\", \"end_time\": \"2021-01-18T06:36:29.274832Z\", \"created_time\": \"2021-01-18T06:31:35.328549Z\", \"created_time_dt\": \"2021-01-18T06:31:35.328549Z\", \"duration\": \"0:04:53\", \"iteration\": \"4\", \"goal\": \"accuracy_max\", \"run_name\": \"MinMaxScaler, RandomForest\", \"run_properties\": \"copy=True, feature_range=(0, 1\", \"primary_metric\": 0.856997, \"best_metric\": 0.8615015}, {\"run_id\": \"AutoML_a82676aa-e08f-4e93-8432-f74183ff9f8f_5\", \"run_number\": 11, \"metric\": null, \"status\": \"Completed\", \"run_type\": \"azureml.scriptrun\", \"training_percent\": \"100\", \"start_time\": \"2021-01-18T06:33:01.846781Z\", \"end_time\": \"2021-01-18T06:36:41.57783Z\", \"created_time\": \"2021-01-18T06:32:34.298604Z\", \"created_time_dt\": \"2021-01-18T06:32:34.298604Z\", \"duration\": \"0:04:07\", \"iteration\": \"5\", \"goal\": \"accuracy_max\", \"run_name\": \"RobustScaler, GradientBoosting\", \"run_properties\": \"copy=True, quantile_range=[25, 75], with_centering=True,\\n             with_scaling=False\", \"primary_metric\": 0.84798799, \"best_metric\": 0.8615015}, {\"run_id\": \"AutoML_a82676aa-e08f-4e93-8432-f74183ff9f8f_6\", \"run_number\": 12, \"metric\": null, \"status\": \"Completed\", \"run_type\": \"azureml.scriptrun\", \"training_percent\": \"100\", \"start_time\": \"2021-01-18T06:33:50.141406Z\", \"end_time\": \"2021-01-18T06:34:37.535265Z\", \"created_time\": \"2021-01-18T06:33:38.929594Z\", \"created_time_dt\": \"2021-01-18T06:33:38.929594Z\", \"duration\": \"0:00:58\", \"iteration\": \"6\", \"goal\": \"accuracy_max\", \"run_name\": \"RobustScaler, KNN\", \"run_properties\": \"copy=True, quantile_range=[10, 90], with_centering=False,\\n             with_scaling=False\", \"primary_metric\": 0.62504505, \"best_metric\": 0.8615015}, {\"run_id\": \"AutoML_a82676aa-e08f-4e93-8432-f74183ff9f8f_7\", \"run_number\": 13, \"metric\": null, \"status\": \"Completed\", \"run_type\": \"azureml.scriptrun\", \"training_percent\": \"100\", \"start_time\": \"2021-01-18T06:34:54.893187Z\", \"end_time\": \"2021-01-18T06:35:49.404934Z\", \"created_time\": \"2021-01-18T06:34:41.582442Z\", \"created_time_dt\": \"2021-01-18T06:34:41.582442Z\", \"duration\": \"0:01:07\", \"iteration\": \"7\", \"goal\": \"accuracy_max\", \"run_name\": \"SparseNormalizer, XGBoostClassifier\", \"run_properties\": \"<azureml.automl.runtime.shared.model_wrappers.SparseNormalizer object at 0x7f8b743bdf98\", \"primary_metric\": 0.83039039, \"best_metric\": 0.8615015}, {\"run_id\": \"AutoML_a82676aa-e08f-4e93-8432-f74183ff9f8f_8\", \"run_number\": 14, \"metric\": null, \"status\": \"Completed\", \"run_type\": \"azureml.scriptrun\", \"training_percent\": \"100\", \"start_time\": \"2021-01-18T06:36:03.877232Z\", \"end_time\": \"2021-01-18T06:36:57.341632Z\", \"created_time\": \"2021-01-18T06:35:52.17152Z\", \"created_time_dt\": \"2021-01-18T06:35:52.17152Z\", \"duration\": \"0:01:05\", \"iteration\": \"8\", \"goal\": \"accuracy_max\", \"run_name\": \"RobustScaler, ExtremeRandomTrees\", \"run_properties\": \"copy=True, quantile_range=[10, 90], with_centering=True,\\n             with_scaling=False\", \"primary_metric\": 0.84810811, \"best_metric\": 0.8615015}, {\"run_id\": \"AutoML_a82676aa-e08f-4e93-8432-f74183ff9f8f_9\", \"run_number\": 15, \"metric\": null, \"status\": \"Completed\", \"run_type\": \"azureml.scriptrun\", \"training_percent\": \"100\", \"start_time\": \"2021-01-18T06:36:36.723708Z\", \"end_time\": \"2021-01-18T06:37:28.190152Z\", \"created_time\": \"2021-01-18T06:36:24.741488Z\", \"created_time_dt\": \"2021-01-18T06:36:24.741488Z\", \"duration\": \"0:01:03\", \"iteration\": \"9\", \"goal\": \"accuracy_max\", \"run_name\": \"MaxAbsScaler, GradientBoosting\", \"run_properties\": \"copy=True\", \"primary_metric\": 0.84792793, \"best_metric\": 0.8615015}, {\"run_id\": \"AutoML_a82676aa-e08f-4e93-8432-f74183ff9f8f_10\", \"run_number\": 16, \"metric\": null, \"status\": \"Completed\", \"run_type\": \"azureml.scriptrun\", \"training_percent\": \"100\", \"start_time\": \"2021-01-18T06:36:41.416163Z\", \"end_time\": \"2021-01-18T06:37:43.933445Z\", \"created_time\": \"2021-01-18T06:36:31.323877Z\", \"created_time_dt\": \"2021-01-18T06:36:31.323877Z\", \"duration\": \"0:01:12\", \"iteration\": \"10\", \"goal\": \"accuracy_max\", \"run_name\": \"MaxAbsScaler, LightGBM\", \"run_properties\": \"copy=True\", \"primary_metric\": 0.82582583, \"best_metric\": 0.8615015}, {\"run_id\": \"AutoML_a82676aa-e08f-4e93-8432-f74183ff9f8f_11\", \"run_number\": 17, \"metric\": null, \"status\": \"Completed\", \"run_type\": \"azureml.scriptrun\", \"training_percent\": \"100\", \"start_time\": \"2021-01-18T06:36:54.872005Z\", \"end_time\": \"2021-01-18T06:37:57.354018Z\", \"created_time\": \"2021-01-18T06:36:43.595805Z\", \"created_time_dt\": \"2021-01-18T06:36:43.595805Z\", \"duration\": \"0:01:13\", \"iteration\": \"11\", \"goal\": \"accuracy_max\", \"run_name\": \"SparseNormalizer, XGBoostClassifier\", \"run_properties\": \"<azureml.automl.runtime.shared.model_wrappers.SparseNormalizer object at 0x7fd92c28ffd0\", \"primary_metric\": 0.84822823, \"best_metric\": 0.8615015}, {\"run_id\": \"AutoML_a82676aa-e08f-4e93-8432-f74183ff9f8f_12\", \"run_number\": 18, \"metric\": null, \"status\": \"Completed\", \"run_type\": \"azureml.scriptrun\", \"training_percent\": \"100\", \"start_time\": \"2021-01-18T06:37:19.208376Z\", \"end_time\": \"2021-01-18T06:38:16.751123Z\", \"created_time\": \"2021-01-18T06:36:59.312565Z\", \"created_time_dt\": \"2021-01-18T06:36:59.312565Z\", \"duration\": \"0:01:17\", \"iteration\": \"12\", \"goal\": \"accuracy_max\", \"run_name\": \"StandardScalerWrapper, RandomForest\", \"run_properties\": \"<azureml.automl.runtime.shared.model_wrappers.StandardScalerWrapper object at 0x7f0a0dbafda0\", \"primary_metric\": 0.83009009, \"best_metric\": 0.8615015}, {\"run_id\": \"AutoML_a82676aa-e08f-4e93-8432-f74183ff9f8f_13\", \"run_number\": 19, \"metric\": null, \"status\": \"Completed\", \"run_type\": \"azureml.scriptrun\", \"training_percent\": \"100\", \"start_time\": \"2021-01-18T06:37:42.915312Z\", \"end_time\": \"2021-01-18T06:38:28.537432Z\", \"created_time\": \"2021-01-18T06:37:30.333215Z\", \"created_time_dt\": \"2021-01-18T06:37:30.333215Z\", \"duration\": \"0:00:58\", \"iteration\": \"13\", \"goal\": \"accuracy_max\", \"run_name\": \"SparseNormalizer, LightGBM\", \"run_properties\": \"<azureml.automl.runtime.shared.model_wrappers.SparseNormalizer object at 0x7f048d8b27f0\", \"primary_metric\": 0.75873874, \"best_metric\": 0.8615015}, {\"run_id\": \"AutoML_a82676aa-e08f-4e93-8432-f74183ff9f8f_14\", \"run_number\": 20, \"metric\": null, \"status\": \"Completed\", \"run_type\": \"azureml.scriptrun\", \"training_percent\": \"100\", \"start_time\": \"2021-01-18T06:37:56.943986Z\", \"end_time\": \"2021-01-18T06:38:47.168681Z\", \"created_time\": \"2021-01-18T06:37:46.2982Z\", \"created_time_dt\": \"2021-01-18T06:37:46.2982Z\", \"duration\": \"0:01:00\", \"iteration\": \"14\", \"goal\": \"accuracy_max\", \"run_name\": \"RobustScaler, ExtremeRandomTrees\", \"run_properties\": \"copy=True, quantile_range=[25, 75], with_centering=True,\\n             with_scaling=False\", \"primary_metric\": 0.8615015, \"best_metric\": 0.8615015}, {\"run_id\": \"AutoML_a82676aa-e08f-4e93-8432-f74183ff9f8f_15\", \"run_number\": 21, \"metric\": null, \"status\": \"Completed\", \"run_type\": \"azureml.scriptrun\", \"training_percent\": \"100\", \"start_time\": \"2021-01-18T06:38:11.774107Z\", \"end_time\": \"2021-01-18T06:39:06.445472Z\", \"created_time\": \"2021-01-18T06:37:59.233532Z\", \"created_time_dt\": \"2021-01-18T06:37:59.233532Z\", \"duration\": \"0:01:07\", \"iteration\": \"15\", \"goal\": \"accuracy_max\", \"run_name\": \"SparseNormalizer, XGBoostClassifier\", \"run_properties\": \"<azureml.automl.runtime.shared.model_wrappers.SparseNormalizer object at 0x7f72bf11c438\", \"primary_metric\": 0.85717718, \"best_metric\": 0.8615015}, {\"run_id\": \"AutoML_a82676aa-e08f-4e93-8432-f74183ff9f8f_16\", \"run_number\": 22, \"metric\": null, \"status\": \"Completed\", \"run_type\": \"azureml.scriptrun\", \"training_percent\": \"100\", \"start_time\": \"2021-01-18T06:38:31.100875Z\", \"end_time\": \"2021-01-18T06:39:19.660319Z\", \"created_time\": \"2021-01-18T06:38:18.769752Z\", \"created_time_dt\": \"2021-01-18T06:38:18.769752Z\", \"duration\": \"0:01:00\", \"iteration\": \"16\", \"goal\": \"accuracy_max\", \"run_name\": \"StandardScalerWrapper, LogisticRegression\", \"run_properties\": \"<azureml.automl.runtime.shared.model_wrappers.StandardScalerWrapper object at 0x7ff4acfc9e48\", \"primary_metric\": 0.84366366, \"best_metric\": 0.8615015}, {\"run_id\": \"AutoML_a82676aa-e08f-4e93-8432-f74183ff9f8f_17\", \"run_number\": 23, \"metric\": null, \"status\": \"Completed\", \"run_type\": \"azureml.scriptrun\", \"training_percent\": \"100\", \"start_time\": \"2021-01-18T06:38:43.988627Z\", \"end_time\": \"2021-01-18T06:39:34.25644Z\", \"created_time\": \"2021-01-18T06:38:33.140259Z\", \"created_time_dt\": \"2021-01-18T06:38:33.140259Z\", \"duration\": \"0:01:01\", \"iteration\": \"17\", \"goal\": \"accuracy_max\", \"run_name\": \"SparseNormalizer, XGBoostClassifier\", \"run_properties\": \"<azureml.automl.runtime.shared.model_wrappers.SparseNormalizer object at 0x7f88f9c5cba8\", \"primary_metric\": 0.84822823, \"best_metric\": 0.8615015}, {\"run_id\": \"AutoML_a82676aa-e08f-4e93-8432-f74183ff9f8f_18\", \"run_number\": 24, \"metric\": null, \"status\": \"Completed\", \"run_type\": \"azureml.scriptrun\", \"training_percent\": \"100\", \"start_time\": \"2021-01-18T06:39:01.326083Z\", \"end_time\": \"2021-01-18T06:39:46.898402Z\", \"created_time\": \"2021-01-18T06:38:49.263314Z\", \"created_time_dt\": \"2021-01-18T06:38:49.263314Z\", \"duration\": \"0:00:57\", \"iteration\": \"18\", \"goal\": \"accuracy_max\", \"run_name\": \"RobustScaler, LightGBM\", \"run_properties\": \"copy=True, quantile_range=[25, 75], with_centering=True,\\n             with_scaling=False\", \"primary_metric\": 0.87021021, \"best_metric\": 0.87021021}, {\"run_id\": \"AutoML_a82676aa-e08f-4e93-8432-f74183ff9f8f_19\", \"run_number\": 25, \"metric\": null, \"status\": \"Completed\", \"run_type\": \"azureml.scriptrun\", \"training_percent\": \"100\", \"start_time\": \"2021-01-18T06:39:21.303376Z\", \"end_time\": \"2021-01-18T06:40:15.857864Z\", \"created_time\": \"2021-01-18T06:39:08.421311Z\", \"created_time_dt\": \"2021-01-18T06:39:08.421311Z\", \"duration\": \"0:01:07\", \"iteration\": \"19\", \"goal\": \"accuracy_max\", \"run_name\": \"SparseNormalizer, GradientBoosting\", \"run_properties\": \"<azureml.automl.runtime.shared.model_wrappers.SparseNormalizer object at 0x7f9af0425320\", \"primary_metric\": 0.78576577, \"best_metric\": 0.87021021}, {\"run_id\": \"AutoML_a82676aa-e08f-4e93-8432-f74183ff9f8f_20\", \"run_number\": 26, \"metric\": null, \"status\": \"Completed\", \"run_type\": \"azureml.scriptrun\", \"training_percent\": \"100\", \"start_time\": \"2021-01-18T06:39:34.060336Z\", \"end_time\": \"2021-01-18T06:40:24.867026Z\", \"created_time\": \"2021-01-18T06:39:21.843826Z\", \"created_time_dt\": \"2021-01-18T06:39:21.843826Z\", \"duration\": \"0:01:03\", \"iteration\": \"20\", \"goal\": \"accuracy_max\", \"run_name\": \"MinMaxScaler, RandomForest\", \"run_properties\": \"copy=True, feature_range=(0, 1\", \"primary_metric\": 0.85243243, \"best_metric\": 0.87021021}, {\"run_id\": \"AutoML_a82676aa-e08f-4e93-8432-f74183ff9f8f_21\", \"run_number\": 27, \"metric\": null, \"status\": \"Completed\", \"run_type\": \"azureml.scriptrun\", \"training_percent\": \"100\", \"start_time\": \"2021-01-18T06:39:48.030078Z\", \"end_time\": \"2021-01-18T06:40:36.363745Z\", \"created_time\": \"2021-01-18T06:39:36.319352Z\", \"created_time_dt\": \"2021-01-18T06:39:36.319352Z\", \"duration\": \"0:01:00\", \"iteration\": \"21\", \"goal\": \"accuracy_max\", \"run_name\": \"MinMaxScaler, LightGBM\", \"run_properties\": \"copy=True, feature_range=(0, 1\", \"primary_metric\": 0.86588589, \"best_metric\": 0.87021021}, {\"run_id\": \"AutoML_a82676aa-e08f-4e93-8432-f74183ff9f8f_22\", \"run_number\": 28, \"metric\": null, \"status\": \"Completed\", \"run_type\": \"azureml.scriptrun\", \"training_percent\": \"100\", \"start_time\": \"2021-01-18T06:40:01.088409Z\", \"end_time\": \"2021-01-18T06:40:55.624254Z\", \"created_time\": \"2021-01-18T06:39:48.825901Z\", \"created_time_dt\": \"2021-01-18T06:39:48.825901Z\", \"duration\": \"0:01:06\", \"iteration\": \"22\", \"goal\": \"accuracy_max\", \"run_name\": \"MinMaxScaler, LightGBM\", \"run_properties\": \"copy=True, feature_range=(0, 1\", \"primary_metric\": 0.85693694, \"best_metric\": 0.87021021}, {\"run_id\": \"AutoML_a82676aa-e08f-4e93-8432-f74183ff9f8f_23\", \"run_number\": 29, \"metric\": null, \"status\": \"Completed\", \"run_type\": \"azureml.scriptrun\", \"training_percent\": \"100\", \"start_time\": \"2021-01-18T06:40:30.283166Z\", \"end_time\": \"2021-01-18T06:41:19.10668Z\", \"created_time\": \"2021-01-18T06:40:18.048803Z\", \"created_time_dt\": \"2021-01-18T06:40:18.048803Z\", \"duration\": \"0:01:01\", \"iteration\": \"23\", \"goal\": \"accuracy_max\", \"run_name\": \"SparseNormalizer, XGBoostClassifier\", \"run_properties\": \"<azureml.automl.runtime.shared.model_wrappers.SparseNormalizer object at 0x7f98392ee470\", \"primary_metric\": 0.82582583, \"best_metric\": 0.87021021}, {\"run_id\": \"AutoML_a82676aa-e08f-4e93-8432-f74183ff9f8f_24\", \"run_number\": 30, \"metric\": null, \"status\": \"Completed\", \"run_type\": \"azureml.scriptrun\", \"training_percent\": \"100\", \"start_time\": \"2021-01-18T06:40:38.655989Z\", \"end_time\": \"2021-01-18T06:41:24.377249Z\", \"created_time\": \"2021-01-18T06:40:26.902555Z\", \"created_time_dt\": \"2021-01-18T06:40:26.902555Z\", \"duration\": \"0:00:57\", \"iteration\": \"24\", \"goal\": \"accuracy_max\", \"run_name\": \"StandardScalerWrapper, LightGBM\", \"run_properties\": \"<azureml.automl.runtime.shared.model_wrappers.StandardScalerWrapper object at 0x7f3d2623fbe0\", \"primary_metric\": 0.85693694, \"best_metric\": 0.87021021}, {\"run_id\": \"AutoML_a82676aa-e08f-4e93-8432-f74183ff9f8f_25\", \"run_number\": 31, \"metric\": null, \"status\": \"Completed\", \"run_type\": \"azureml.scriptrun\", \"training_percent\": \"100\", \"start_time\": \"2021-01-18T06:40:52.331271Z\", \"end_time\": \"2021-01-18T06:41:57.237941Z\", \"created_time\": \"2021-01-18T06:40:39.098881Z\", \"created_time_dt\": \"2021-01-18T06:40:39.098881Z\", \"duration\": \"0:01:18\", \"iteration\": \"25\", \"goal\": \"accuracy_max\", \"run_name\": \"RobustScaler, LightGBM\", \"run_properties\": \"copy=True, quantile_range=[10, 90], with_centering=True,\\n             with_scaling=True\", \"primary_metric\": 0.68756757, \"best_metric\": 0.87021021}, {\"run_id\": \"AutoML_a82676aa-e08f-4e93-8432-f74183ff9f8f_26\", \"run_number\": 32, \"metric\": null, \"status\": \"Completed\", \"run_type\": \"azureml.scriptrun\", \"training_percent\": \"100\", \"start_time\": \"2021-01-18T06:41:10.011734Z\", \"end_time\": \"2021-01-18T06:42:01.566469Z\", \"created_time\": \"2021-01-18T06:40:57.692801Z\", \"created_time_dt\": \"2021-01-18T06:40:57.692801Z\", \"duration\": \"0:01:03\", \"iteration\": \"26\", \"goal\": \"accuracy_max\", \"run_name\": \"RobustScaler, LightGBM\", \"run_properties\": \"copy=True, quantile_range=[25, 75], with_centering=True,\\n             with_scaling=True\", \"primary_metric\": 0.86138138, \"best_metric\": 0.87021021}, {\"run_id\": \"AutoML_a82676aa-e08f-4e93-8432-f74183ff9f8f_27\", \"run_number\": 33, \"metric\": null, \"status\": \"Completed\", \"run_type\": \"azureml.scriptrun\", \"training_percent\": \"100\", \"start_time\": \"2021-01-18T06:41:32.933661Z\", \"end_time\": \"2021-01-18T06:42:30.887141Z\", \"created_time\": \"2021-01-18T06:41:21.06305Z\", \"created_time_dt\": \"2021-01-18T06:41:21.06305Z\", \"duration\": \"0:01:09\", \"iteration\": \"27\", \"goal\": \"accuracy_max\", \"run_name\": \"MinMaxScaler, LightGBM\", \"run_properties\": \"copy=True, feature_range=(0, 1\", \"primary_metric\": 0.83027027, \"best_metric\": 0.87021021}, {\"run_id\": \"AutoML_a82676aa-e08f-4e93-8432-f74183ff9f8f_28\", \"run_number\": 34, \"metric\": null, \"status\": \"Completed\", \"run_type\": \"azureml.scriptrun\", \"training_percent\": \"100\", \"start_time\": \"2021-01-18T06:41:38.835923Z\", \"end_time\": \"2021-01-18T06:42:36.360712Z\", \"created_time\": \"2021-01-18T06:41:26.376418Z\", \"created_time_dt\": \"2021-01-18T06:41:26.376418Z\", \"duration\": \"0:01:09\", \"iteration\": \"28\", \"goal\": \"accuracy_max\", \"run_name\": \"MaxAbsScaler, RandomForest\", \"run_properties\": \"copy=True\", \"primary_metric\": 0.86582583, \"best_metric\": 0.87021021}, {\"run_id\": \"AutoML_a82676aa-e08f-4e93-8432-f74183ff9f8f_29\", \"run_number\": 35, \"metric\": null, \"status\": \"Completed\", \"run_type\": \"azureml.scriptrun\", \"training_percent\": \"100\", \"start_time\": \"2021-01-18T06:42:11.198187Z\", \"end_time\": \"2021-01-18T06:43:12.686374Z\", \"created_time\": \"2021-01-18T06:41:59.46254Z\", \"created_time_dt\": \"2021-01-18T06:41:59.46254Z\", \"duration\": \"0:01:13\", \"iteration\": \"29\", \"goal\": \"accuracy_max\", \"run_name\": \"MinMaxScaler, LightGBM\", \"run_properties\": \"copy=True, feature_range=(0, 1\", \"primary_metric\": 0.83921922, \"best_metric\": 0.87021021}, {\"run_id\": \"AutoML_a82676aa-e08f-4e93-8432-f74183ff9f8f_30\", \"run_number\": 36, \"metric\": null, \"status\": \"Completed\", \"run_type\": \"azureml.scriptrun\", \"training_percent\": \"100\", \"start_time\": \"2021-01-18T06:42:15.951802Z\", \"end_time\": \"2021-01-18T06:43:06.288072Z\", \"created_time\": \"2021-01-18T06:42:04.460099Z\", \"created_time_dt\": \"2021-01-18T06:42:04.460099Z\", \"duration\": \"0:01:01\", \"iteration\": \"30\", \"goal\": \"accuracy_max\", \"run_name\": \"MinMaxScaler, LightGBM\", \"run_properties\": \"copy=True, feature_range=(0, 1\", \"primary_metric\": 0.84792793, \"best_metric\": 0.87021021}, {\"run_id\": \"AutoML_a82676aa-e08f-4e93-8432-f74183ff9f8f_31\", \"run_number\": 37, \"metric\": null, \"status\": \"Completed\", \"run_type\": \"azureml.scriptrun\", \"training_percent\": \"100\", \"start_time\": \"2021-01-18T06:42:44.934302Z\", \"end_time\": \"2021-01-18T06:43:41.453745Z\", \"created_time\": \"2021-01-18T06:42:32.935094Z\", \"created_time_dt\": \"2021-01-18T06:42:32.935094Z\", \"duration\": \"0:01:08\", \"iteration\": \"31\", \"goal\": \"accuracy_max\", \"run_name\": \"MaxAbsScaler, RandomForest\", \"run_properties\": \"copy=True\", \"primary_metric\": 0.84366366, \"best_metric\": 0.87021021}, {\"run_id\": \"AutoML_a82676aa-e08f-4e93-8432-f74183ff9f8f_32\", \"run_number\": 38, \"metric\": null, \"status\": \"Completed\", \"run_type\": \"azureml.scriptrun\", \"training_percent\": \"100\", \"start_time\": \"2021-01-18T06:42:48.202302Z\", \"end_time\": \"2021-01-18T06:43:41.6083Z\", \"created_time\": \"2021-01-18T06:42:38.340111Z\", \"created_time_dt\": \"2021-01-18T06:42:38.340111Z\", \"duration\": \"0:01:03\", \"iteration\": \"32\", \"goal\": \"accuracy_max\", \"run_name\": \"SparseNormalizer, XGBoostClassifier\", \"run_properties\": \"<azureml.automl.runtime.shared.model_wrappers.SparseNormalizer object at 0x7ff2a5edfd30\", \"primary_metric\": 0.8615015, \"best_metric\": 0.87021021}, {\"run_id\": \"AutoML_a82676aa-e08f-4e93-8432-f74183ff9f8f_33\", \"run_number\": 39, \"metric\": null, \"status\": \"Canceled\", \"run_type\": \"azureml.scriptrun\", \"training_percent\": \"100\", \"start_time\": \"2021-01-18T06:43:18.223768Z\", \"end_time\": \"2021-01-18T06:43:49.543285Z\", \"created_time\": \"2021-01-18T06:43:08.600475Z\", \"created_time_dt\": \"2021-01-18T06:43:08.600475Z\", \"duration\": \"0:00:40\", \"iteration\": \"33\", \"goal\": null, \"run_name\": \"Canceled\", \"run_properties\": null}, {\"run_id\": \"AutoML_a82676aa-e08f-4e93-8432-f74183ff9f8f_34\", \"run_number\": 40, \"metric\": null, \"status\": \"Canceled\", \"run_type\": \"azureml.scriptrun\", \"training_percent\": \"100\", \"start_time\": \"2021-01-18T06:43:26.268331Z\", \"end_time\": \"2021-01-18T06:43:50.496996Z\", \"created_time\": \"2021-01-18T06:43:14.596043Z\", \"created_time_dt\": \"2021-01-18T06:43:14.596043Z\", \"duration\": \"0:00:35\", \"iteration\": \"34\", \"goal\": null, \"run_name\": \"StandardScalerWrapper, LogisticRegression\", \"run_properties\": null}, {\"run_id\": \"AutoML_a82676aa-e08f-4e93-8432-f74183ff9f8f_35\", \"run_number\": 41, \"metric\": null, \"status\": \"Completed\", \"run_type\": \"azureml.scriptrun\", \"training_percent\": \"100\", \"start_time\": \"2021-01-18T06:44:02.427194Z\", \"end_time\": \"2021-01-18T06:45:32.219981Z\", \"created_time\": \"2021-01-18T06:43:51.716664Z\", \"created_time_dt\": \"2021-01-18T06:43:51.716664Z\", \"duration\": \"0:01:40\", \"iteration\": \"35\", \"goal\": \"accuracy_max\", \"run_name\": \"VotingEnsemble\", \"run_properties\": \"classification_labels=None,\\n                              estimators=[('18',\\n                                           Pipeline(memory=None,\\n                                                    steps=[('robustscaler',\\n                                                            RobustScaler(copy=True,\\n                                                                         quantile_range=[25,\\n                                                                                         75],\\n                                                                         with_centering=True,\\n                                                                         with_scaling=False\", \"primary_metric\": 0.89267267, \"best_metric\": 0.89267267}], \"children_metrics\": {\"categories\": [0], \"series\": {\"recall_score_weighted\": [{\"categories\": [\"0\", \"1\", \"2\", \"3\", \"4\", \"5\", \"6\", \"7\", \"8\", \"9\", \"10\", \"11\", \"12\", \"13\", \"14\", \"15\", \"16\", \"17\", \"18\", \"19\", \"20\", \"21\", \"22\", \"23\", \"24\", \"25\", \"26\", \"27\", \"28\", \"29\", \"30\", \"31\", \"32\", \"35\"], \"mode\": \"markers\", \"name\": \"recall_score_weighted\", \"stepped\": false, \"type\": \"scatter\", \"data\": [0.8614414414414414, 0.8612612612612612, 0.8615015015015014, 0.8390390390390391, 0.8569969969969969, 0.847987987987988, 0.625045045045045, 0.8303903903903903, 0.8481081081081081, 0.847927927927928, 0.8258258258258259, 0.8482282282282282, 0.8300900900900902, 0.7587387387387388, 0.8615015015015014, 0.8571771771771771, 0.8436636636636635, 0.8482282282282282, 0.8702102102102103, 0.7857657657657658, 0.8524324324324324, 0.865885885885886, 0.856936936936937, 0.8258258258258259, 0.856936936936937, 0.6875675675675675, 0.8613813813813814, 0.8302702702702703, 0.8658258258258259, 0.8392192192192193, 0.847927927927928, 0.8436636636636637, 0.8615015015015014, 0.8926726726726727]}, {\"categories\": [\"0\", \"1\", \"2\", \"3\", \"4\", \"5\", \"6\", \"7\", \"8\", \"9\", \"10\", \"11\", \"12\", \"13\", \"14\", \"15\", \"16\", \"17\", \"18\", \"19\", \"20\", \"21\", \"22\", \"23\", \"24\", \"25\", \"26\", \"27\", \"28\", \"29\", \"30\", \"31\", \"32\", \"35\"], \"mode\": \"lines\", \"name\": \"recall_score_weighted_max\", \"stepped\": true, \"type\": \"scatter\", \"data\": [0.8614414414414414, 0.8614414414414414, 0.8615015015015014, 0.8615015015015014, 0.8615015015015014, 0.8615015015015014, 0.8615015015015014, 0.8615015015015014, 0.8615015015015014, 0.8615015015015014, 0.8615015015015014, 0.8615015015015014, 0.8615015015015014, 0.8615015015015014, 0.8615015015015014, 0.8615015015015014, 0.8615015015015014, 0.8615015015015014, 0.8702102102102103, 0.8702102102102103, 0.8702102102102103, 0.8702102102102103, 0.8702102102102103, 0.8702102102102103, 0.8702102102102103, 0.8702102102102103, 0.8702102102102103, 0.8702102102102103, 0.8702102102102103, 0.8702102102102103, 0.8702102102102103, 0.8702102102102103, 0.8702102102102103, 0.8926726726726727]}], \"average_precision_score_weighted\": [{\"categories\": [\"0\", \"1\", \"2\", \"3\", \"4\", \"5\", \"6\", \"7\", \"8\", \"9\", \"10\", \"11\", \"12\", \"13\", \"14\", \"15\", \"16\", \"17\", \"18\", \"19\", \"20\", \"21\", \"22\", \"23\", \"24\", \"25\", \"26\", \"27\", \"28\", \"29\", \"30\", \"31\", \"32\", \"35\"], \"mode\": \"markers\", \"name\": \"average_precision_score_weighted\", \"stepped\": false, \"type\": \"scatter\", \"data\": [0.9242701299408628, 0.9285301310292882, 0.9258108296103867, 0.9276270590564378, 0.9299864111463126, 0.91226054327637, 0.5501448286638354, 0.9080257071562473, 0.9112913228424014, 0.9344168830886391, 0.8932854521906717, 0.9002727858546865, 0.9189577638799915, 0.8636501686861872, 0.9169478391343165, 0.897859466033593, 0.908007089669591, 0.9124295232817833, 0.9320536270865188, 0.8729760253940974, 0.9202227314402993, 0.9214184208634926, 0.9275865585520044, 0.8994164233869437, 0.9349545219522636, 0.9191536777846064, 0.9368199012155447, 0.9039960005438855, 0.9222042804835561, 0.927883452183841, 0.9244356778282294, 0.9288599989801392, 0.9023744420162011, 0.9326774589323062]}, {\"categories\": [\"0\", \"1\", \"2\", \"3\", \"4\", \"5\", \"6\", \"7\", \"8\", \"9\", \"10\", \"11\", \"12\", \"13\", \"14\", \"15\", \"16\", \"17\", \"18\", \"19\", \"20\", \"21\", \"22\", \"23\", \"24\", \"25\", \"26\", \"27\", \"28\", \"29\", \"30\", \"31\", \"32\", \"35\"], \"mode\": \"lines\", \"name\": \"average_precision_score_weighted_max\", \"stepped\": true, \"type\": \"scatter\", \"data\": [0.9242701299408628, 0.9285301310292882, 0.9285301310292882, 0.9285301310292882, 0.9299864111463126, 0.9299864111463126, 0.9299864111463126, 0.9299864111463126, 0.9299864111463126, 0.9344168830886391, 0.9344168830886391, 0.9344168830886391, 0.9344168830886391, 0.9344168830886391, 0.9344168830886391, 0.9344168830886391, 0.9344168830886391, 0.9344168830886391, 0.9344168830886391, 0.9344168830886391, 0.9344168830886391, 0.9344168830886391, 0.9344168830886391, 0.9344168830886391, 0.9349545219522636, 0.9349545219522636, 0.9368199012155447, 0.9368199012155447, 0.9368199012155447, 0.9368199012155447, 0.9368199012155447, 0.9368199012155447, 0.9368199012155447, 0.9368199012155447]}], \"norm_macro_recall\": [{\"categories\": [\"0\", \"1\", \"2\", \"3\", \"4\", \"5\", \"6\", \"7\", \"8\", \"9\", \"10\", \"11\", \"12\", \"13\", \"14\", \"15\", \"16\", \"17\", \"18\", \"19\", \"20\", \"21\", \"22\", \"23\", \"24\", \"25\", \"26\", \"27\", \"28\", \"29\", \"30\", \"31\", \"32\", \"35\"], \"mode\": \"markers\", \"name\": \"norm_macro_recall\", \"stepped\": false, \"type\": \"scatter\", \"data\": [0.6412080672950238, 0.639389885476842, 0.6186328164589034, 0.5683297861558732, 0.6209638187899058, 0.596412283368805, 0.020000000000000018, 0.5407074085334955, 0.5765582243843114, 0.5984868754433971, 0.501162460727678, 0.6115110975980541, 0.5180267558528429, 0.25707307185568057, 0.5882193169149691, 0.6155903516773082, 0.6068257829127394, 0.6039414208979427, 0.6536262288436201, 0.4102128306476132, 0.5904043782304652, 0.6407074085334955, 0.6188892267153137, 0.5016631194892065, 0.5968146346407216, 0.0, 0.6179740549305766, 0.5168146346407215, 0.6646984899158811, 0.5563139758791932, 0.5895013681970204, 0.6406192358366272, 0.6062024931590149, 0.702257018343975]}, {\"categories\": [\"0\", \"1\", \"2\", \"3\", \"4\", \"5\", \"6\", \"7\", \"8\", \"9\", \"10\", \"11\", \"12\", \"13\", \"14\", \"15\", \"16\", \"17\", \"18\", \"19\", \"20\", \"21\", \"22\", \"23\", \"24\", \"25\", \"26\", \"27\", \"28\", \"29\", \"30\", \"31\", \"32\", \"35\"], \"mode\": \"lines\", \"name\": \"norm_macro_recall_max\", \"stepped\": true, \"type\": \"scatter\", \"data\": [0.6412080672950238, 0.6412080672950238, 0.6412080672950238, 0.6412080672950238, 0.6412080672950238, 0.6412080672950238, 0.6412080672950238, 0.6412080672950238, 0.6412080672950238, 0.6412080672950238, 0.6412080672950238, 0.6412080672950238, 0.6412080672950238, 0.6412080672950238, 0.6412080672950238, 0.6412080672950238, 0.6412080672950238, 0.6412080672950238, 0.6536262288436201, 0.6536262288436201, 0.6536262288436201, 0.6536262288436201, 0.6536262288436201, 0.6536262288436201, 0.6536262288436201, 0.6536262288436201, 0.6536262288436201, 0.6536262288436201, 0.6646984899158811, 0.6646984899158811, 0.6646984899158811, 0.6646984899158811, 0.6646984899158811, 0.702257018343975]}], \"precision_score_macro\": [{\"categories\": [\"0\", \"1\", \"2\", \"3\", \"4\", \"5\", \"6\", \"7\", \"8\", \"9\", \"10\", \"11\", \"12\", \"13\", \"14\", \"15\", \"16\", \"17\", \"18\", \"19\", \"20\", \"21\", \"22\", \"23\", \"24\", \"25\", \"26\", \"27\", \"28\", \"29\", \"30\", \"31\", \"32\", \"35\"], \"mode\": \"markers\", \"name\": \"precision_score_macro\", \"stepped\": false, \"type\": \"scatter\", \"data\": [0.8497868217331971, 0.8562141309930551, 0.8608660697569409, 0.8369831160350802, 0.8538051938767982, 0.8359041476399485, 0.4873399170274171, 0.8297289736752087, 0.8509525075314549, 0.842858589150962, 0.848526702290143, 0.8363458910134103, 0.8342363625497775, 0.8008693399997747, 0.8868479899097723, 0.8533796599906346, 0.8228356053082965, 0.8406688038849511, 0.8676542980381626, 0.7699971964627093, 0.8601875948818044, 0.867041256555323, 0.854031154031154, 0.8442025939377634, 0.866209025117071, 0.34378378378378377, 0.86268784209425, 0.8527391975308642, 0.8546519075466444, 0.8431436604787663, 0.8480105959614157, 0.8185830861790113, 0.8759350805607867, 0.8983069177877834]}, {\"categories\": [\"0\", \"1\", \"2\", \"3\", \"4\", \"5\", \"6\", \"7\", \"8\", \"9\", \"10\", \"11\", \"12\", \"13\", \"14\", \"15\", \"16\", \"17\", \"18\", \"19\", \"20\", \"21\", \"22\", \"23\", \"24\", \"25\", \"26\", \"27\", \"28\", \"29\", \"30\", \"31\", \"32\", \"35\"], \"mode\": \"lines\", \"name\": \"precision_score_macro_max\", \"stepped\": true, \"type\": \"scatter\", \"data\": [0.8497868217331971, 0.8562141309930551, 0.8608660697569409, 0.8608660697569409, 0.8608660697569409, 0.8608660697569409, 0.8608660697569409, 0.8608660697569409, 0.8608660697569409, 0.8608660697569409, 0.8608660697569409, 0.8608660697569409, 0.8608660697569409, 0.8608660697569409, 0.8868479899097723, 0.8868479899097723, 0.8868479899097723, 0.8868479899097723, 0.8868479899097723, 0.8868479899097723, 0.8868479899097723, 0.8868479899097723, 0.8868479899097723, 0.8868479899097723, 0.8868479899097723, 0.8868479899097723, 0.8868479899097723, 0.8868479899097723, 0.8868479899097723, 0.8868479899097723, 0.8868479899097723, 0.8868479899097723, 0.8868479899097723, 0.8983069177877834]}], \"precision_score_micro\": [{\"categories\": [\"0\", \"1\", \"2\", \"3\", \"4\", \"5\", \"6\", \"7\", \"8\", \"9\", \"10\", \"11\", \"12\", \"13\", \"14\", \"15\", \"16\", \"17\", \"18\", \"19\", \"20\", \"21\", \"22\", \"23\", \"24\", \"25\", \"26\", \"27\", \"28\", \"29\", \"30\", \"31\", \"32\", \"35\"], \"mode\": \"markers\", \"name\": \"precision_score_micro\", \"stepped\": false, \"type\": \"scatter\", \"data\": [0.8614414414414414, 0.8612612612612612, 0.8615015015015014, 0.8390390390390391, 0.8569969969969969, 0.847987987987988, 0.625045045045045, 0.8303903903903903, 0.8481081081081081, 0.847927927927928, 0.8258258258258259, 0.8482282282282282, 0.8300900900900902, 0.7587387387387388, 0.8615015015015014, 0.8571771771771771, 0.8436636636636635, 0.8482282282282282, 0.8702102102102103, 0.7857657657657658, 0.8524324324324324, 0.865885885885886, 0.856936936936937, 0.8258258258258259, 0.856936936936937, 0.6875675675675675, 0.8613813813813814, 0.8302702702702703, 0.8658258258258259, 0.8392192192192193, 0.847927927927928, 0.8436636636636637, 0.8615015015015014, 0.8926726726726727]}, {\"categories\": [\"0\", \"1\", \"2\", \"3\", \"4\", \"5\", \"6\", \"7\", \"8\", \"9\", \"10\", \"11\", \"12\", \"13\", \"14\", \"15\", \"16\", \"17\", \"18\", \"19\", \"20\", \"21\", \"22\", \"23\", \"24\", \"25\", \"26\", \"27\", \"28\", \"29\", \"30\", \"31\", \"32\", \"35\"], \"mode\": \"lines\", \"name\": \"precision_score_micro_max\", \"stepped\": true, \"type\": \"scatter\", \"data\": [0.8614414414414414, 0.8614414414414414, 0.8615015015015014, 0.8615015015015014, 0.8615015015015014, 0.8615015015015014, 0.8615015015015014, 0.8615015015015014, 0.8615015015015014, 0.8615015015015014, 0.8615015015015014, 0.8615015015015014, 0.8615015015015014, 0.8615015015015014, 0.8615015015015014, 0.8615015015015014, 0.8615015015015014, 0.8615015015015014, 0.8702102102102103, 0.8702102102102103, 0.8702102102102103, 0.8702102102102103, 0.8702102102102103, 0.8702102102102103, 0.8702102102102103, 0.8702102102102103, 0.8702102102102103, 0.8702102102102103, 0.8702102102102103, 0.8702102102102103, 0.8702102102102103, 0.8702102102102103, 0.8702102102102103, 0.8926726726726727]}], \"log_loss\": [{\"categories\": [\"0\", \"1\", \"2\", \"3\", \"4\", \"5\", \"6\", \"7\", \"8\", \"9\", \"10\", \"11\", \"12\", \"13\", \"14\", \"15\", \"16\", \"17\", \"18\", \"19\", \"20\", \"21\", \"22\", \"23\", \"24\", \"25\", \"26\", \"27\", \"28\", \"29\", \"30\", \"31\", \"32\", \"35\"], \"mode\": \"markers\", \"name\": \"log_loss\", \"stepped\": false, \"type\": \"scatter\", \"data\": [0.3930102701444301, 0.35814544397898834, 0.3541784664527268, 0.3670494650742538, 0.3626127673357827, 0.4525638797522102, 1.2349994607298338, 0.3837697558691879, 0.37808681643856534, 0.3321616688204147, 0.4457687711433775, 0.3802072288932364, 0.38666027031711203, 0.49529600392454104, 0.3893192206561949, 0.45697377251065996, 0.3714370180427822, 0.37103029600635135, 0.33316285761413295, 0.4406965742100046, 0.3528548215618566, 0.352008629534209, 0.3496986056164653, 0.4313460492177424, 0.3569229301387809, 0.5513571393728042, 0.3454646163060257, 0.46226229114801765, 0.3734409450333669, 0.3672055328341736, 0.3748557030842716, 0.3721076068126809, 0.39523422359590765, 0.33775671659932316]}, {\"categories\": [\"0\", \"1\", \"2\", \"3\", \"4\", \"5\", \"6\", \"7\", \"8\", \"9\", \"10\", \"11\", \"12\", \"13\", \"14\", \"15\", \"16\", \"17\", \"18\", \"19\", \"20\", \"21\", \"22\", \"23\", \"24\", \"25\", \"26\", \"27\", \"28\", \"29\", \"30\", \"31\", \"32\", \"35\"], \"mode\": \"lines\", \"name\": \"log_loss_min\", \"stepped\": true, \"type\": \"scatter\", \"data\": [0.3930102701444301, 0.35814544397898834, 0.3541784664527268, 0.3541784664527268, 0.3541784664527268, 0.3541784664527268, 0.3541784664527268, 0.3541784664527268, 0.3541784664527268, 0.3321616688204147, 0.3321616688204147, 0.3321616688204147, 0.3321616688204147, 0.3321616688204147, 0.3321616688204147, 0.3321616688204147, 0.3321616688204147, 0.3321616688204147, 0.3321616688204147, 0.3321616688204147, 0.3321616688204147, 0.3321616688204147, 0.3321616688204147, 0.3321616688204147, 0.3321616688204147, 0.3321616688204147, 0.3321616688204147, 0.3321616688204147, 0.3321616688204147, 0.3321616688204147, 0.3321616688204147, 0.3321616688204147, 0.3321616688204147, 0.3321616688204147]}], \"AUC_micro\": [{\"categories\": [\"0\", \"1\", \"2\", \"3\", \"4\", \"5\", \"6\", \"7\", \"8\", \"9\", \"10\", \"11\", \"12\", \"13\", \"14\", \"15\", \"16\", \"17\", \"18\", \"19\", \"20\", \"21\", \"22\", \"23\", \"24\", \"25\", \"26\", \"27\", \"28\", \"29\", \"30\", \"31\", \"32\", \"35\"], \"mode\": \"markers\", \"name\": \"AUC_micro\", \"stepped\": false, \"type\": \"scatter\", \"data\": [0.9266697291886481, 0.9294133917701486, 0.928739766793821, 0.9238498823147472, 0.9294516895273652, 0.9189704623542462, 0.6109836647458269, 0.9138322322322323, 0.9155422990558124, 0.9346777913048183, 0.8914415171928686, 0.9089004139274409, 0.9174426209993777, 0.8537619024429836, 0.9152927630333036, 0.904769602034467, 0.9152887265644022, 0.9165597705813923, 0.9316765305846387, 0.8856361117874632, 0.9260924600275952, 0.9228501258014772, 0.925534128723318, 0.9028216973730486, 0.9295298974650326, 0.8641072856640424, 0.9310214538863187, 0.891118210101994, 0.914688894299705, 0.9251954982009036, 0.9238204474745015, 0.9194925195465736, 0.9096723967210454, 0.933597413629846]}, {\"categories\": [\"0\", \"1\", \"2\", \"3\", \"4\", \"5\", \"6\", \"7\", \"8\", \"9\", \"10\", \"11\", \"12\", \"13\", \"14\", \"15\", \"16\", \"17\", \"18\", \"19\", \"20\", \"21\", \"22\", \"23\", \"24\", \"25\", \"26\", \"27\", \"28\", \"29\", \"30\", \"31\", \"32\", \"35\"], \"mode\": \"lines\", \"name\": \"AUC_micro_max\", \"stepped\": true, \"type\": \"scatter\", \"data\": [0.9266697291886481, 0.9294133917701486, 0.9294133917701486, 0.9294133917701486, 0.9294516895273652, 0.9294516895273652, 0.9294516895273652, 0.9294516895273652, 0.9294516895273652, 0.9346777913048183, 0.9346777913048183, 0.9346777913048183, 0.9346777913048183, 0.9346777913048183, 0.9346777913048183, 0.9346777913048183, 0.9346777913048183, 0.9346777913048183, 0.9346777913048183, 0.9346777913048183, 0.9346777913048183, 0.9346777913048183, 0.9346777913048183, 0.9346777913048183, 0.9346777913048183, 0.9346777913048183, 0.9346777913048183, 0.9346777913048183, 0.9346777913048183, 0.9346777913048183, 0.9346777913048183, 0.9346777913048183, 0.9346777913048183, 0.9346777913048183]}], \"recall_score_micro\": [{\"categories\": [\"0\", \"1\", \"2\", \"3\", \"4\", \"5\", \"6\", \"7\", \"8\", \"9\", \"10\", \"11\", \"12\", \"13\", \"14\", \"15\", \"16\", \"17\", \"18\", \"19\", \"20\", \"21\", \"22\", \"23\", \"24\", \"25\", \"26\", \"27\", \"28\", \"29\", \"30\", \"31\", \"32\", \"35\"], \"mode\": \"markers\", \"name\": \"recall_score_micro\", \"stepped\": false, \"type\": \"scatter\", \"data\": [0.8614414414414414, 0.8612612612612612, 0.8615015015015014, 0.8390390390390391, 0.8569969969969969, 0.847987987987988, 0.625045045045045, 0.8303903903903903, 0.8481081081081081, 0.847927927927928, 0.8258258258258259, 0.8482282282282282, 0.8300900900900902, 0.7587387387387388, 0.8615015015015014, 0.8571771771771771, 0.8436636636636635, 0.8482282282282282, 0.8702102102102103, 0.7857657657657658, 0.8524324324324324, 0.865885885885886, 0.856936936936937, 0.8258258258258259, 0.856936936936937, 0.6875675675675675, 0.8613813813813814, 0.8302702702702703, 0.8658258258258259, 0.8392192192192193, 0.847927927927928, 0.8436636636636637, 0.8615015015015014, 0.8926726726726727]}, {\"categories\": [\"0\", \"1\", \"2\", \"3\", \"4\", \"5\", \"6\", \"7\", \"8\", \"9\", \"10\", \"11\", \"12\", \"13\", \"14\", \"15\", \"16\", \"17\", \"18\", \"19\", \"20\", \"21\", \"22\", \"23\", \"24\", \"25\", \"26\", \"27\", \"28\", \"29\", \"30\", \"31\", \"32\", \"35\"], \"mode\": \"lines\", \"name\": \"recall_score_micro_max\", \"stepped\": true, \"type\": \"scatter\", \"data\": [0.8614414414414414, 0.8614414414414414, 0.8615015015015014, 0.8615015015015014, 0.8615015015015014, 0.8615015015015014, 0.8615015015015014, 0.8615015015015014, 0.8615015015015014, 0.8615015015015014, 0.8615015015015014, 0.8615015015015014, 0.8615015015015014, 0.8615015015015014, 0.8615015015015014, 0.8615015015015014, 0.8615015015015014, 0.8615015015015014, 0.8702102102102103, 0.8702102102102103, 0.8702102102102103, 0.8702102102102103, 0.8702102102102103, 0.8702102102102103, 0.8702102102102103, 0.8702102102102103, 0.8702102102102103, 0.8702102102102103, 0.8702102102102103, 0.8702102102102103, 0.8702102102102103, 0.8702102102102103, 0.8702102102102103, 0.8926726726726727]}], \"AUC_macro\": [{\"categories\": [\"0\", \"1\", \"2\", \"3\", \"4\", \"5\", \"6\", \"7\", \"8\", \"9\", \"10\", \"11\", \"12\", \"13\", \"14\", \"15\", \"16\", \"17\", \"18\", \"19\", \"20\", \"21\", \"22\", \"23\", \"24\", \"25\", \"26\", \"27\", \"28\", \"29\", \"30\", \"31\", \"32\", \"35\"], \"mode\": \"markers\", \"name\": \"AUC_macro\", \"stepped\": false, \"type\": \"scatter\", \"data\": [0.9105514340731732, 0.9114831458396676, 0.9145062531671228, 0.9174569169960475, 0.9162104793756969, 0.9003583257322388, 0.41868126076821727, 0.8926979629066585, 0.9009982365460627, 0.9293526299787169, 0.8863111584068105, 0.8802804297152124, 0.9072133373872505, 0.8450874632613763, 0.9027205229553056, 0.875882264112699, 0.8917021789804398, 0.8935935542718152, 0.9206146143711361, 0.8631557717644673, 0.9123186378838554, 0.9070252964426878, 0.9152289348332827, 0.8793208675382589, 0.9251204621465492, 0.9113151515151515, 0.928844055944056, 0.8924457484544441, 0.9085040032431336, 0.9234803080976994, 0.9122395865004561, 0.915922874227222, 0.8823963312050269, 0.9208363636363636]}, {\"categories\": [\"0\", \"1\", \"2\", \"3\", \"4\", \"5\", \"6\", \"7\", \"8\", \"9\", \"10\", \"11\", \"12\", \"13\", \"14\", \"15\", \"16\", \"17\", \"18\", \"19\", \"20\", \"21\", \"22\", \"23\", \"24\", \"25\", \"26\", \"27\", \"28\", \"29\", \"30\", \"31\", \"32\", \"35\"], \"mode\": \"lines\", \"name\": \"AUC_macro_max\", \"stepped\": true, \"type\": \"scatter\", \"data\": [0.9105514340731732, 0.9114831458396676, 0.9145062531671228, 0.9174569169960475, 0.9174569169960475, 0.9174569169960475, 0.9174569169960475, 0.9174569169960475, 0.9174569169960475, 0.9293526299787169, 0.9293526299787169, 0.9293526299787169, 0.9293526299787169, 0.9293526299787169, 0.9293526299787169, 0.9293526299787169, 0.9293526299787169, 0.9293526299787169, 0.9293526299787169, 0.9293526299787169, 0.9293526299787169, 0.9293526299787169, 0.9293526299787169, 0.9293526299787169, 0.9293526299787169, 0.9293526299787169, 0.9293526299787169, 0.9293526299787169, 0.9293526299787169, 0.9293526299787169, 0.9293526299787169, 0.9293526299787169, 0.9293526299787169, 0.9293526299787169]}], \"AUC_weighted\": [{\"categories\": [\"0\", \"1\", \"2\", \"3\", \"4\", \"5\", \"6\", \"7\", \"8\", \"9\", \"10\", \"11\", \"12\", \"13\", \"14\", \"15\", \"16\", \"17\", \"18\", \"19\", \"20\", \"21\", \"22\", \"23\", \"24\", \"25\", \"26\", \"27\", \"28\", \"29\", \"30\", \"31\", \"32\", \"35\"], \"mode\": \"markers\", \"name\": \"AUC_weighted\", \"stepped\": false, \"type\": \"scatter\", \"data\": [0.9105514340731732, 0.9114831458396676, 0.9145062531671226, 0.9174569169960475, 0.9162104793756968, 0.9003583257322388, 0.41868126076821727, 0.8926979629066585, 0.9009982365460626, 0.9293526299787169, 0.8863111584068105, 0.8802804297152123, 0.9072133373872505, 0.8450874632613763, 0.9027205229553056, 0.875882264112699, 0.8917021789804399, 0.8935935542718152, 0.9206146143711361, 0.8631557717644673, 0.9123186378838554, 0.9070252964426878, 0.9152289348332824, 0.8793208675382588, 0.9251204621465492, 0.9113151515151515, 0.928844055944056, 0.8924457484544441, 0.9085040032431336, 0.9234803080976994, 0.9122395865004561, 0.915922874227222, 0.8823963312050269, 0.9208363636363636]}, {\"categories\": [\"0\", \"1\", \"2\", \"3\", \"4\", \"5\", \"6\", \"7\", \"8\", \"9\", \"10\", \"11\", \"12\", \"13\", \"14\", \"15\", \"16\", \"17\", \"18\", \"19\", \"20\", \"21\", \"22\", \"23\", \"24\", \"25\", \"26\", \"27\", \"28\", \"29\", \"30\", \"31\", \"32\", \"35\"], \"mode\": \"lines\", \"name\": \"AUC_weighted_max\", \"stepped\": true, \"type\": \"scatter\", \"data\": [0.9105514340731732, 0.9114831458396676, 0.9145062531671226, 0.9174569169960475, 0.9174569169960475, 0.9174569169960475, 0.9174569169960475, 0.9174569169960475, 0.9174569169960475, 0.9293526299787169, 0.9293526299787169, 0.9293526299787169, 0.9293526299787169, 0.9293526299787169, 0.9293526299787169, 0.9293526299787169, 0.9293526299787169, 0.9293526299787169, 0.9293526299787169, 0.9293526299787169, 0.9293526299787169, 0.9293526299787169, 0.9293526299787169, 0.9293526299787169, 0.9293526299787169, 0.9293526299787169, 0.9293526299787169, 0.9293526299787169, 0.9293526299787169, 0.9293526299787169, 0.9293526299787169, 0.9293526299787169, 0.9293526299787169, 0.9293526299787169]}], \"average_precision_score_macro\": [{\"categories\": [\"0\", \"1\", \"2\", \"3\", \"4\", \"5\", \"6\", \"7\", \"8\", \"9\", \"10\", \"11\", \"12\", \"13\", \"14\", \"15\", \"16\", \"17\", \"18\", \"19\", \"20\", \"21\", \"22\", \"23\", \"24\", \"25\", \"26\", \"27\", \"28\", \"29\", \"30\", \"31\", \"32\", \"35\"], \"mode\": \"markers\", \"name\": \"average_precision_score_macro\", \"stepped\": false, \"type\": \"scatter\", \"data\": [0.9057521503732796, 0.9119304584207141, 0.9071328573463742, 0.9047799141180505, 0.9126791080456919, 0.8864257147716548, 0.48477636004890096, 0.8864657970868205, 0.8885440993300354, 0.9130575636854559, 0.8680777944907357, 0.8801727505537107, 0.8961064393327233, 0.8325205282881729, 0.8962863346449185, 0.8752868116816526, 0.8859100519523242, 0.8956364551943148, 0.9139796215035845, 0.8460454399339324, 0.896203242457477, 0.9029783121265833, 0.9085088197730542, 0.8805944935610777, 0.9168960850065329, 0.8965331612340902, 0.9174191190931081, 0.882630073603124, 0.9025716657711089, 0.9045430233489732, 0.9058059106759954, 0.9098181982538222, 0.8833753954695452, 0.9161482771638978]}, {\"categories\": [\"0\", \"1\", \"2\", \"3\", \"4\", \"5\", \"6\", \"7\", \"8\", \"9\", \"10\", \"11\", \"12\", \"13\", \"14\", \"15\", \"16\", \"17\", \"18\", \"19\", \"20\", \"21\", \"22\", \"23\", \"24\", \"25\", \"26\", \"27\", \"28\", \"29\", \"30\", \"31\", \"32\", \"35\"], \"mode\": \"lines\", \"name\": \"average_precision_score_macro_max\", \"stepped\": true, \"type\": \"scatter\", \"data\": [0.9057521503732796, 0.9119304584207141, 0.9119304584207141, 0.9119304584207141, 0.9126791080456919, 0.9126791080456919, 0.9126791080456919, 0.9126791080456919, 0.9126791080456919, 0.9130575636854559, 0.9130575636854559, 0.9130575636854559, 0.9130575636854559, 0.9130575636854559, 0.9130575636854559, 0.9130575636854559, 0.9130575636854559, 0.9130575636854559, 0.9139796215035845, 0.9139796215035845, 0.9139796215035845, 0.9139796215035845, 0.9139796215035845, 0.9139796215035845, 0.9168960850065329, 0.9168960850065329, 0.9174191190931081, 0.9174191190931081, 0.9174191190931081, 0.9174191190931081, 0.9174191190931081, 0.9174191190931081, 0.9174191190931081, 0.9174191190931081]}], \"f1_score_weighted\": [{\"categories\": [\"0\", \"1\", \"2\", \"3\", \"4\", \"5\", \"6\", \"7\", \"8\", \"9\", \"10\", \"11\", \"12\", \"13\", \"14\", \"15\", \"16\", \"17\", \"18\", \"19\", \"20\", \"21\", \"22\", \"23\", \"24\", \"25\", \"26\", \"27\", \"28\", \"29\", \"30\", \"31\", \"32\", \"35\"], \"mode\": \"markers\", \"name\": \"f1_score_weighted\", \"stepped\": false, \"type\": \"scatter\", \"data\": [0.8588237135782609, 0.8590580625874743, 0.8564605681586813, 0.8338827084424709, 0.8530995068382868, 0.8436479291057726, 0.5797801747718513, 0.8214460614460615, 0.8413154163032447, 0.8443296043296044, 0.8130243831021572, 0.8445352358341495, 0.8204991126603168, 0.7154938597316045, 0.8528374102767683, 0.8523512417097323, 0.8412812772409063, 0.8435744655281905, 0.8676114308328665, 0.7711270017981752, 0.8468080814198045, 0.8621735563823795, 0.852983742915093, 0.8127164816638501, 0.8508699380485765, 0.5603703140711015, 0.8567283789925298, 0.8179945396761021, 0.8646816781400469, 0.8313687710029466, 0.8429412303158615, 0.8440956246132046, 0.8548606082568347, 0.8898748237676449]}, {\"categories\": [\"0\", \"1\", \"2\", \"3\", \"4\", \"5\", \"6\", \"7\", \"8\", \"9\", \"10\", \"11\", \"12\", \"13\", \"14\", \"15\", \"16\", \"17\", \"18\", \"19\", \"20\", \"21\", \"22\", \"23\", \"24\", \"25\", \"26\", \"27\", \"28\", \"29\", \"30\", \"31\", \"32\", \"35\"], \"mode\": \"lines\", \"name\": \"f1_score_weighted_max\", \"stepped\": true, \"type\": \"scatter\", \"data\": [0.8588237135782609, 0.8590580625874743, 0.8590580625874743, 0.8590580625874743, 0.8590580625874743, 0.8590580625874743, 0.8590580625874743, 0.8590580625874743, 0.8590580625874743, 0.8590580625874743, 0.8590580625874743, 0.8590580625874743, 0.8590580625874743, 0.8590580625874743, 0.8590580625874743, 0.8590580625874743, 0.8590580625874743, 0.8590580625874743, 0.8676114308328665, 0.8676114308328665, 0.8676114308328665, 0.8676114308328665, 0.8676114308328665, 0.8676114308328665, 0.8676114308328665, 0.8676114308328665, 0.8676114308328665, 0.8676114308328665, 0.8676114308328665, 0.8676114308328665, 0.8676114308328665, 0.8676114308328665, 0.8676114308328665, 0.8898748237676449]}], \"average_precision_score_micro\": [{\"categories\": [\"0\", \"1\", \"2\", \"3\", \"4\", \"5\", \"6\", \"7\", \"8\", \"9\", \"10\", \"11\", \"12\", \"13\", \"14\", \"15\", \"16\", \"17\", \"18\", \"19\", \"20\", \"21\", \"22\", \"23\", \"24\", \"25\", \"26\", \"27\", \"28\", \"29\", \"30\", \"31\", \"32\", \"35\"], \"mode\": \"markers\", \"name\": \"average_precision_score_micro\", \"stepped\": false, \"type\": \"scatter\", \"data\": [0.9257810372323686, 0.9308486728008186, 0.9279081468803877, 0.9280309976802906, 0.9305923471971163, 0.9216871841800688, 0.5972060517225, 0.9139839095267946, 0.9145493019189325, 0.9364982069202544, 0.8862900684616086, 0.9060780977135732, 0.919479773179643, 0.853777145111012, 0.9148033238258564, 0.9059843336575981, 0.9158976058098477, 0.9145930085925077, 0.9324417402677221, 0.8789474167046426, 0.9263257764781573, 0.9231381305395732, 0.9263118363179337, 0.8987109201051794, 0.9313158527780847, 0.874517193340152, 0.9329279428813528, 0.8879736624299727, 0.9115984372328384, 0.9284110387776261, 0.9243337600267366, 0.91949711628608, 0.9058686561094161, 0.9334823072770367]}, {\"categories\": [\"0\", \"1\", \"2\", \"3\", \"4\", \"5\", \"6\", \"7\", \"8\", \"9\", \"10\", \"11\", \"12\", \"13\", \"14\", \"15\", \"16\", \"17\", \"18\", \"19\", \"20\", \"21\", \"22\", \"23\", \"24\", \"25\", \"26\", \"27\", \"28\", \"29\", \"30\", \"31\", \"32\", \"35\"], \"mode\": \"lines\", \"name\": \"average_precision_score_micro_max\", \"stepped\": true, \"type\": \"scatter\", \"data\": [0.9257810372323686, 0.9308486728008186, 0.9308486728008186, 0.9308486728008186, 0.9308486728008186, 0.9308486728008186, 0.9308486728008186, 0.9308486728008186, 0.9308486728008186, 0.9364982069202544, 0.9364982069202544, 0.9364982069202544, 0.9364982069202544, 0.9364982069202544, 0.9364982069202544, 0.9364982069202544, 0.9364982069202544, 0.9364982069202544, 0.9364982069202544, 0.9364982069202544, 0.9364982069202544, 0.9364982069202544, 0.9364982069202544, 0.9364982069202544, 0.9364982069202544, 0.9364982069202544, 0.9364982069202544, 0.9364982069202544, 0.9364982069202544, 0.9364982069202544, 0.9364982069202544, 0.9364982069202544, 0.9364982069202544, 0.9364982069202544]}], \"accuracy\": [{\"categories\": [\"0\", \"1\", \"2\", \"3\", \"4\", \"5\", \"6\", \"7\", \"8\", \"9\", \"10\", \"11\", \"12\", \"13\", \"14\", \"15\", \"16\", \"17\", \"18\", \"19\", \"20\", \"21\", \"22\", \"23\", \"24\", \"25\", \"26\", \"27\", \"28\", \"29\", \"30\", \"31\", \"32\", \"35\"], \"mode\": \"markers\", \"name\": \"accuracy\", \"stepped\": false, \"type\": \"scatter\", \"data\": [0.8614414414414414, 0.8612612612612612, 0.8615015015015014, 0.8390390390390391, 0.8569969969969969, 0.847987987987988, 0.625045045045045, 0.8303903903903903, 0.8481081081081081, 0.847927927927928, 0.8258258258258259, 0.8482282282282282, 0.8300900900900902, 0.7587387387387388, 0.8615015015015014, 0.8571771771771771, 0.8436636636636635, 0.8482282282282282, 0.8702102102102103, 0.7857657657657658, 0.8524324324324324, 0.865885885885886, 0.856936936936937, 0.8258258258258259, 0.856936936936937, 0.6875675675675675, 0.8613813813813814, 0.8302702702702703, 0.8658258258258259, 0.8392192192192193, 0.847927927927928, 0.8436636636636637, 0.8615015015015014, 0.8926726726726727]}, {\"categories\": [\"0\", \"1\", \"2\", \"3\", \"4\", \"5\", \"6\", \"7\", \"8\", \"9\", \"10\", \"11\", \"12\", \"13\", \"14\", \"15\", \"16\", \"17\", \"18\", \"19\", \"20\", \"21\", \"22\", \"23\", \"24\", \"25\", \"26\", \"27\", \"28\", \"29\", \"30\", \"31\", \"32\", \"35\"], \"mode\": \"lines\", \"name\": \"accuracy_max\", \"stepped\": true, \"type\": \"scatter\", \"data\": [0.8614414414414414, 0.8614414414414414, 0.8615015015015014, 0.8615015015015014, 0.8615015015015014, 0.8615015015015014, 0.8615015015015014, 0.8615015015015014, 0.8615015015015014, 0.8615015015015014, 0.8615015015015014, 0.8615015015015014, 0.8615015015015014, 0.8615015015015014, 0.8615015015015014, 0.8615015015015014, 0.8615015015015014, 0.8615015015015014, 0.8702102102102103, 0.8702102102102103, 0.8702102102102103, 0.8702102102102103, 0.8702102102102103, 0.8702102102102103, 0.8702102102102103, 0.8702102102102103, 0.8702102102102103, 0.8702102102102103, 0.8702102102102103, 0.8702102102102103, 0.8702102102102103, 0.8702102102102103, 0.8702102102102103, 0.8926726726726727]}], \"weighted_accuracy\": [{\"categories\": [\"0\", \"1\", \"2\", \"3\", \"4\", \"5\", \"6\", \"7\", \"8\", \"9\", \"10\", \"11\", \"12\", \"13\", \"14\", \"15\", \"16\", \"17\", \"18\", \"19\", \"20\", \"21\", \"22\", \"23\", \"24\", \"25\", \"26\", \"27\", \"28\", \"29\", \"30\", \"31\", \"32\", \"35\"], \"mode\": \"markers\", \"name\": \"weighted_accuracy\", \"stepped\": false, \"type\": \"scatter\", \"data\": [0.8919532125251112, 0.8921682300999093, 0.9006475111651163, 0.8798955693087143, 0.8920736926791272, 0.8849812485034158, 0.7240799803055665, 0.8761774149710554, 0.8930419291955101, 0.8844354741456874, 0.8828621165849925, 0.8805537980541785, 0.8833706619433142, 0.8561666994605375, 0.912135650456404, 0.8944889940017617, 0.873644465539463, 0.8834877087666232, 0.9026433308844656, 0.8465764091371097, 0.8955011512783205, 0.9001017368073878, 0.8924681107095208, 0.8827135923027157, 0.900938206903582, 0.8281851871831463, 0.9006429187295435, 0.8849382069035819, 0.8910841058650835, 0.8851624093495261, 0.8876927171604311, 0.8613002662448354, 0.9057136004526717, 0.9237466491714276]}, {\"categories\": [\"0\", \"1\", \"2\", \"3\", \"4\", \"5\", \"6\", \"7\", \"8\", \"9\", \"10\", \"11\", \"12\", \"13\", \"14\", \"15\", \"16\", \"17\", \"18\", \"19\", \"20\", \"21\", \"22\", \"23\", \"24\", \"25\", \"26\", \"27\", \"28\", \"29\", \"30\", \"31\", \"32\", \"35\"], \"mode\": \"lines\", \"name\": \"weighted_accuracy_max\", \"stepped\": true, \"type\": \"scatter\", \"data\": [0.8919532125251112, 0.8921682300999093, 0.9006475111651163, 0.9006475111651163, 0.9006475111651163, 0.9006475111651163, 0.9006475111651163, 0.9006475111651163, 0.9006475111651163, 0.9006475111651163, 0.9006475111651163, 0.9006475111651163, 0.9006475111651163, 0.9006475111651163, 0.912135650456404, 0.912135650456404, 0.912135650456404, 0.912135650456404, 0.912135650456404, 0.912135650456404, 0.912135650456404, 0.912135650456404, 0.912135650456404, 0.912135650456404, 0.912135650456404, 0.912135650456404, 0.912135650456404, 0.912135650456404, 0.912135650456404, 0.912135650456404, 0.912135650456404, 0.912135650456404, 0.912135650456404, 0.9237466491714276]}], \"matthews_correlation\": [{\"categories\": [\"0\", \"1\", \"2\", \"3\", \"4\", \"5\", \"6\", \"7\", \"8\", \"9\", \"10\", \"11\", \"12\", \"13\", \"14\", \"15\", \"16\", \"17\", \"18\", \"19\", \"20\", \"21\", \"22\", \"23\", \"24\", \"25\", \"26\", \"27\", \"28\", \"29\", \"30\", \"31\", \"32\", \"35\"], \"mode\": \"markers\", \"name\": \"matthews_correlation\", \"stepped\": false, \"type\": \"scatter\", \"data\": [0.6695313726094962, 0.6740189098545976, 0.6677792402954182, 0.6175367065132068, 0.6619518276219779, 0.6327435121757515, -0.019186718530515123, 0.5953547673949424, 0.6356686530952923, 0.6399444507749026, 0.5885111457658705, 0.6407793361312681, 0.5882806145453691, 0.391958897952359, 0.6736539510247711, 0.6593143975380308, 0.6258935602260535, 0.640513207323471, 0.6928871172244416, 0.4701928084026594, 0.6512831034989925, 0.6845493583857049, 0.6608839294271945, 0.5850755808427333, 0.660451607422042, 0.0, 0.6691159804162572, 0.6006717662517592, 0.6862256035402406, 0.6162202202916288, 0.639162757863797, 0.6387462822517898, 0.6741026109953472, 0.7472628995235754]}, {\"categories\": [\"0\", \"1\", \"2\", \"3\", \"4\", \"5\", \"6\", \"7\", \"8\", \"9\", \"10\", \"11\", \"12\", \"13\", \"14\", \"15\", \"16\", \"17\", \"18\", \"19\", \"20\", \"21\", \"22\", \"23\", \"24\", \"25\", \"26\", \"27\", \"28\", \"29\", \"30\", \"31\", \"32\", \"35\"], \"mode\": \"lines\", \"name\": \"matthews_correlation_max\", \"stepped\": true, \"type\": \"scatter\", \"data\": [0.6695313726094962, 0.6740189098545976, 0.6740189098545976, 0.6740189098545976, 0.6740189098545976, 0.6740189098545976, 0.6740189098545976, 0.6740189098545976, 0.6740189098545976, 0.6740189098545976, 0.6740189098545976, 0.6740189098545976, 0.6740189098545976, 0.6740189098545976, 0.6740189098545976, 0.6740189098545976, 0.6740189098545976, 0.6740189098545976, 0.6928871172244416, 0.6928871172244416, 0.6928871172244416, 0.6928871172244416, 0.6928871172244416, 0.6928871172244416, 0.6928871172244416, 0.6928871172244416, 0.6928871172244416, 0.6928871172244416, 0.6928871172244416, 0.6928871172244416, 0.6928871172244416, 0.6928871172244416, 0.6928871172244416, 0.7472628995235754]}], \"f1_score_micro\": [{\"categories\": [\"0\", \"1\", \"2\", \"3\", \"4\", \"5\", \"6\", \"7\", \"8\", \"9\", \"10\", \"11\", \"12\", \"13\", \"14\", \"15\", \"16\", \"17\", \"18\", \"19\", \"20\", \"21\", \"22\", \"23\", \"24\", \"25\", \"26\", \"27\", \"28\", \"29\", \"30\", \"31\", \"32\", \"35\"], \"mode\": \"markers\", \"name\": \"f1_score_micro\", \"stepped\": false, \"type\": \"scatter\", \"data\": [0.8614414414414414, 0.8612612612612612, 0.8615015015015016, 0.8390390390390391, 0.856996996996997, 0.847987987987988, 0.625045045045045, 0.8303903903903905, 0.8481081081081081, 0.847927927927928, 0.8258258258258259, 0.8482282282282282, 0.8300900900900902, 0.7587387387387388, 0.8615015015015014, 0.8571771771771771, 0.8436636636636635, 0.8482282282282282, 0.8702102102102103, 0.7857657657657658, 0.8524324324324324, 0.865885885885886, 0.856936936936937, 0.825825825825826, 0.856936936936937, 0.6875675675675675, 0.8613813813813814, 0.8302702702702703, 0.8658258258258259, 0.8392192192192193, 0.847927927927928, 0.8436636636636639, 0.8615015015015014, 0.8926726726726727]}, {\"categories\": [\"0\", \"1\", \"2\", \"3\", \"4\", \"5\", \"6\", \"7\", \"8\", \"9\", \"10\", \"11\", \"12\", \"13\", \"14\", \"15\", \"16\", \"17\", \"18\", \"19\", \"20\", \"21\", \"22\", \"23\", \"24\", \"25\", \"26\", \"27\", \"28\", \"29\", \"30\", \"31\", \"32\", \"35\"], \"mode\": \"lines\", \"name\": \"f1_score_micro_max\", \"stepped\": true, \"type\": \"scatter\", \"data\": [0.8614414414414414, 0.8614414414414414, 0.8615015015015016, 0.8615015015015016, 0.8615015015015016, 0.8615015015015016, 0.8615015015015016, 0.8615015015015016, 0.8615015015015016, 0.8615015015015016, 0.8615015015015016, 0.8615015015015016, 0.8615015015015016, 0.8615015015015016, 0.8615015015015016, 0.8615015015015016, 0.8615015015015016, 0.8615015015015016, 0.8702102102102103, 0.8702102102102103, 0.8702102102102103, 0.8702102102102103, 0.8702102102102103, 0.8702102102102103, 0.8702102102102103, 0.8702102102102103, 0.8702102102102103, 0.8702102102102103, 0.8702102102102103, 0.8702102102102103, 0.8702102102102103, 0.8702102102102103, 0.8702102102102103, 0.8926726726726727]}], \"f1_score_macro\": [{\"categories\": [\"0\", \"1\", \"2\", \"3\", \"4\", \"5\", \"6\", \"7\", \"8\", \"9\", \"10\", \"11\", \"12\", \"13\", \"14\", \"15\", \"16\", \"17\", \"18\", \"19\", \"20\", \"21\", \"22\", \"23\", \"24\", \"25\", \"26\", \"27\", \"28\", \"29\", \"30\", \"31\", \"32\", \"35\"], \"mode\": \"markers\", \"name\": \"f1_score_macro\", \"stepped\": false, \"type\": \"scatter\", \"data\": [0.83215264830915, 0.832478200125259, 0.8271063176723553, 0.800729382030417, 0.8244095429660551, 0.8123637220312744, 0.47289902657730193, 0.7851645351645352, 0.8083950335561338, 0.8141588141588142, 0.7715998507669202, 0.8160701911182282, 0.781080923034704, 0.6346452385961526, 0.8202184684006827, 0.8240967627760081, 0.8116441811647084, 0.8137873213509691, 0.8421540121489565, 0.7208015954998089, 0.8152186290446184, 0.8350386146055538, 0.8239871779631504, 0.7712540137978735, 0.8195995535659554, 0.4073824105320169, 0.8275751671978085, 0.7784086132522082, 0.8405018145001094, 0.7961084519601546, 0.8109421383757667, 0.8186807246363658, 0.8247197940594168, 0.8681244681497461]}, {\"categories\": [\"0\", \"1\", \"2\", \"3\", \"4\", \"5\", \"6\", \"7\", \"8\", \"9\", \"10\", \"11\", \"12\", \"13\", \"14\", \"15\", \"16\", \"17\", \"18\", \"19\", \"20\", \"21\", \"22\", \"23\", \"24\", \"25\", \"26\", \"27\", \"28\", \"29\", \"30\", \"31\", \"32\", \"35\"], \"mode\": \"lines\", \"name\": \"f1_score_macro_max\", \"stepped\": true, \"type\": \"scatter\", \"data\": [0.83215264830915, 0.832478200125259, 0.832478200125259, 0.832478200125259, 0.832478200125259, 0.832478200125259, 0.832478200125259, 0.832478200125259, 0.832478200125259, 0.832478200125259, 0.832478200125259, 0.832478200125259, 0.832478200125259, 0.832478200125259, 0.832478200125259, 0.832478200125259, 0.832478200125259, 0.832478200125259, 0.8421540121489565, 0.8421540121489565, 0.8421540121489565, 0.8421540121489565, 0.8421540121489565, 0.8421540121489565, 0.8421540121489565, 0.8421540121489565, 0.8421540121489565, 0.8421540121489565, 0.8421540121489565, 0.8421540121489565, 0.8421540121489565, 0.8421540121489565, 0.8421540121489565, 0.8681244681497461]}], \"balanced_accuracy\": [{\"categories\": [\"0\", \"1\", \"2\", \"3\", \"4\", \"5\", \"6\", \"7\", \"8\", \"9\", \"10\", \"11\", \"12\", \"13\", \"14\", \"15\", \"16\", \"17\", \"18\", \"19\", \"20\", \"21\", \"22\", \"23\", \"24\", \"25\", \"26\", \"27\", \"28\", \"29\", \"30\", \"31\", \"32\", \"35\"], \"mode\": \"markers\", \"name\": \"balanced_accuracy\", \"stepped\": false, \"type\": \"scatter\", \"data\": [0.8206040336475118, 0.8196949427384209, 0.8093164082294518, 0.7841648930779366, 0.8104819093949529, 0.7982061416844024, 0.4927328468632816, 0.7703537042667478, 0.7882791121921557, 0.7992434377216986, 0.7505812303638391, 0.8057555487990271, 0.7590133779264215, 0.6285365359278402, 0.7941096584574846, 0.807795175838654, 0.8034128914563697, 0.8019707104489714, 0.8268131144218099, 0.7051064153238066, 0.7952021891152325, 0.8203537042667478, 0.8094446133576568, 0.7508315597446032, 0.7984073173203609, 0.5, 0.8089870274652883, 0.7584073173203608, 0.8323492449579405, 0.7781569879395965, 0.7947506840985102, 0.8203096179183135, 0.8031012465795074, 0.8511285091719873]}, {\"categories\": [\"0\", \"1\", \"2\", \"3\", \"4\", \"5\", \"6\", \"7\", \"8\", \"9\", \"10\", \"11\", \"12\", \"13\", \"14\", \"15\", \"16\", \"17\", \"18\", \"19\", \"20\", \"21\", \"22\", \"23\", \"24\", \"25\", \"26\", \"27\", \"28\", \"29\", \"30\", \"31\", \"32\", \"35\"], \"mode\": \"lines\", \"name\": \"balanced_accuracy_max\", \"stepped\": true, \"type\": \"scatter\", \"data\": [0.8206040336475118, 0.8206040336475118, 0.8206040336475118, 0.8206040336475118, 0.8206040336475118, 0.8206040336475118, 0.8206040336475118, 0.8206040336475118, 0.8206040336475118, 0.8206040336475118, 0.8206040336475118, 0.8206040336475118, 0.8206040336475118, 0.8206040336475118, 0.8206040336475118, 0.8206040336475118, 0.8206040336475118, 0.8206040336475118, 0.8268131144218099, 0.8268131144218099, 0.8268131144218099, 0.8268131144218099, 0.8268131144218099, 0.8268131144218099, 0.8268131144218099, 0.8268131144218099, 0.8268131144218099, 0.8268131144218099, 0.8323492449579405, 0.8323492449579405, 0.8323492449579405, 0.8323492449579405, 0.8323492449579405, 0.8511285091719873]}], \"precision_score_weighted\": [{\"categories\": [\"0\", \"1\", \"2\", \"3\", \"4\", \"5\", \"6\", \"7\", \"8\", \"9\", \"10\", \"11\", \"12\", \"13\", \"14\", \"15\", \"16\", \"17\", \"18\", \"19\", \"20\", \"21\", \"22\", \"23\", \"24\", \"25\", \"26\", \"27\", \"28\", \"29\", \"30\", \"31\", \"32\", \"35\"], \"mode\": \"markers\", \"name\": \"precision_score_weighted\", \"stepped\": false, \"type\": \"scatter\", \"data\": [0.8607005358875601, 0.8646476906020016, 0.8632037821347961, 0.8426257905967155, 0.8606246898285086, 0.846164023040895, 0.5624546082879417, 0.8346820807629366, 0.8509359758482565, 0.8508079998334236, 0.8408466909542178, 0.8483694769771853, 0.8337300401886906, 0.7838822221430917, 0.8733416537681165, 0.8571740094041792, 0.8411392108909487, 0.8503241646128098, 0.8724294415554446, 0.7814666540584422, 0.8594780336615079, 0.8710029746091127, 0.8601820868487535, 0.8381845586506603, 0.8634360797579187, 0.4729822146470795, 0.8642171825408519, 0.8454763096429763, 0.8680633515721236, 0.8444491443084091, 0.8529412934330968, 0.8456990515726841, 0.8700985024572595, 0.8966007939706552]}, {\"categories\": [\"0\", \"1\", \"2\", \"3\", \"4\", \"5\", \"6\", \"7\", \"8\", \"9\", \"10\", \"11\", \"12\", \"13\", \"14\", \"15\", \"16\", \"17\", \"18\", \"19\", \"20\", \"21\", \"22\", \"23\", \"24\", \"25\", \"26\", \"27\", \"28\", \"29\", \"30\", \"31\", \"32\", \"35\"], \"mode\": \"lines\", \"name\": \"precision_score_weighted_max\", \"stepped\": true, \"type\": \"scatter\", \"data\": [0.8607005358875601, 0.8646476906020016, 0.8646476906020016, 0.8646476906020016, 0.8646476906020016, 0.8646476906020016, 0.8646476906020016, 0.8646476906020016, 0.8646476906020016, 0.8646476906020016, 0.8646476906020016, 0.8646476906020016, 0.8646476906020016, 0.8646476906020016, 0.8733416537681165, 0.8733416537681165, 0.8733416537681165, 0.8733416537681165, 0.8733416537681165, 0.8733416537681165, 0.8733416537681165, 0.8733416537681165, 0.8733416537681165, 0.8733416537681165, 0.8733416537681165, 0.8733416537681165, 0.8733416537681165, 0.8733416537681165, 0.8733416537681165, 0.8733416537681165, 0.8733416537681165, 0.8733416537681165, 0.8733416537681165, 0.8966007939706552]}], \"recall_score_macro\": [{\"categories\": [\"0\", \"1\", \"2\", \"3\", \"4\", \"5\", \"6\", \"7\", \"8\", \"9\", \"10\", \"11\", \"12\", \"13\", \"14\", \"15\", \"16\", \"17\", \"18\", \"19\", \"20\", \"21\", \"22\", \"23\", \"24\", \"25\", \"26\", \"27\", \"28\", \"29\", \"30\", \"31\", \"32\", \"35\"], \"mode\": \"markers\", \"name\": \"recall_score_macro\", \"stepped\": false, \"type\": \"scatter\", \"data\": [0.8206040336475118, 0.8196949427384209, 0.8093164082294518, 0.7841648930779366, 0.8104819093949529, 0.7982061416844024, 0.4927328468632816, 0.7703537042667478, 0.7882791121921557, 0.7992434377216986, 0.7505812303638391, 0.8057555487990271, 0.7590133779264215, 0.6285365359278402, 0.7941096584574846, 0.807795175838654, 0.8034128914563697, 0.8019707104489714, 0.8268131144218099, 0.7051064153238066, 0.7952021891152325, 0.8203537042667478, 0.8094446133576568, 0.7508315597446032, 0.7984073173203609, 0.5, 0.8089870274652883, 0.7584073173203608, 0.8323492449579405, 0.7781569879395965, 0.7947506840985102, 0.8203096179183135, 0.8031012465795074, 0.8511285091719873]}, {\"categories\": [\"0\", \"1\", \"2\", \"3\", \"4\", \"5\", \"6\", \"7\", \"8\", \"9\", \"10\", \"11\", \"12\", \"13\", \"14\", \"15\", \"16\", \"17\", \"18\", \"19\", \"20\", \"21\", \"22\", \"23\", \"24\", \"25\", \"26\", \"27\", \"28\", \"29\", \"30\", \"31\", \"32\", \"35\"], \"mode\": \"lines\", \"name\": \"recall_score_macro_max\", \"stepped\": true, \"type\": \"scatter\", \"data\": [0.8206040336475118, 0.8206040336475118, 0.8206040336475118, 0.8206040336475118, 0.8206040336475118, 0.8206040336475118, 0.8206040336475118, 0.8206040336475118, 0.8206040336475118, 0.8206040336475118, 0.8206040336475118, 0.8206040336475118, 0.8206040336475118, 0.8206040336475118, 0.8206040336475118, 0.8206040336475118, 0.8206040336475118, 0.8206040336475118, 0.8268131144218099, 0.8268131144218099, 0.8268131144218099, 0.8268131144218099, 0.8268131144218099, 0.8268131144218099, 0.8268131144218099, 0.8268131144218099, 0.8268131144218099, 0.8268131144218099, 0.8323492449579405, 0.8323492449579405, 0.8323492449579405, 0.8323492449579405, 0.8323492449579405, 0.8511285091719873]}]}, \"metricName\": null, \"primaryMetricName\": \"accuracy\", \"showLegend\": false}, \"run_metrics\": [{\"name\": \"experiment_status\", \"run_id\": \"AutoML_a82676aa-e08f-4e93-8432-f74183ff9f8f\", \"categories\": [0, 1, 2, 3, 4, 5], \"series\": [{\"data\": [\"DatasetEvaluation\", \"FeaturesGeneration\", \"DatasetFeaturization\", \"DatasetFeaturizationCompleted\", \"DatasetCrossValidationSplit\", \"ModelSelection\"]}]}, {\"name\": \"experiment_status_description\", \"run_id\": \"AutoML_a82676aa-e08f-4e93-8432-f74183ff9f8f\", \"categories\": [0, 1, 2, 3, 4, 5], \"series\": [{\"data\": [\"Gathering dataset statistics.\", \"Generating features for the dataset.\", \"Beginning to fit featurizers and featurize the dataset.\", \"Completed fit featurizers and featurizing the dataset.\", \"Generating individually featurized CV splits.\", \"Beginning model selection.\"]}]}, {\"name\": \"AUC_macro\", \"run_id\": \"AutoML_a82676aa-e08f-4e93-8432-f74183ff9f8f\", \"categories\": [0], \"series\": [{\"data\": [0.9208363636363636]}]}, {\"name\": \"f1_score_micro\", \"run_id\": \"AutoML_a82676aa-e08f-4e93-8432-f74183ff9f8f\", \"categories\": [0], \"series\": [{\"data\": [0.8926726726726727]}]}, {\"name\": \"recall_score_weighted\", \"run_id\": \"AutoML_a82676aa-e08f-4e93-8432-f74183ff9f8f\", \"categories\": [0], \"series\": [{\"data\": [0.8926726726726727]}]}, {\"name\": \"f1_score_macro\", \"run_id\": \"AutoML_a82676aa-e08f-4e93-8432-f74183ff9f8f\", \"categories\": [0], \"series\": [{\"data\": [0.8681244681497461]}]}, {\"name\": \"AUC_weighted\", \"run_id\": \"AutoML_a82676aa-e08f-4e93-8432-f74183ff9f8f\", \"categories\": [0], \"series\": [{\"data\": [0.9208363636363636]}]}, {\"name\": \"weighted_accuracy\", \"run_id\": \"AutoML_a82676aa-e08f-4e93-8432-f74183ff9f8f\", \"categories\": [0], \"series\": [{\"data\": [0.9237466491714276]}]}, {\"name\": \"precision_score_weighted\", \"run_id\": \"AutoML_a82676aa-e08f-4e93-8432-f74183ff9f8f\", \"categories\": [0], \"series\": [{\"data\": [0.8966007939706552]}]}, {\"name\": \"accuracy\", \"run_id\": \"AutoML_a82676aa-e08f-4e93-8432-f74183ff9f8f\", \"categories\": [0], \"series\": [{\"data\": [0.8926726726726727]}]}, {\"name\": \"AUC_micro\", \"run_id\": \"AutoML_a82676aa-e08f-4e93-8432-f74183ff9f8f\", \"categories\": [0], \"series\": [{\"data\": [0.933597413629846]}]}, {\"name\": \"log_loss\", \"run_id\": \"AutoML_a82676aa-e08f-4e93-8432-f74183ff9f8f\", \"categories\": [0], \"series\": [{\"data\": [0.33775671659932316]}]}, {\"name\": \"f1_score_weighted\", \"run_id\": \"AutoML_a82676aa-e08f-4e93-8432-f74183ff9f8f\", \"categories\": [0], \"series\": [{\"data\": [0.8898748237676449]}]}, {\"name\": \"matthews_correlation\", \"run_id\": \"AutoML_a82676aa-e08f-4e93-8432-f74183ff9f8f\", \"categories\": [0], \"series\": [{\"data\": [0.7472628995235754]}]}, {\"name\": \"recall_score_macro\", \"run_id\": \"AutoML_a82676aa-e08f-4e93-8432-f74183ff9f8f\", \"categories\": [0], \"series\": [{\"data\": [0.8511285091719873]}]}, {\"name\": \"precision_score_macro\", \"run_id\": \"AutoML_a82676aa-e08f-4e93-8432-f74183ff9f8f\", \"categories\": [0], \"series\": [{\"data\": [0.8983069177877834]}]}, {\"name\": \"balanced_accuracy\", \"run_id\": \"AutoML_a82676aa-e08f-4e93-8432-f74183ff9f8f\", \"categories\": [0], \"series\": [{\"data\": [0.8511285091719873]}]}, {\"name\": \"norm_macro_recall\", \"run_id\": \"AutoML_a82676aa-e08f-4e93-8432-f74183ff9f8f\", \"categories\": [0], \"series\": [{\"data\": [0.702257018343975]}]}, {\"name\": \"average_precision_score_macro\", \"run_id\": \"AutoML_a82676aa-e08f-4e93-8432-f74183ff9f8f\", \"categories\": [0], \"series\": [{\"data\": [0.9161482771638978]}]}, {\"name\": \"average_precision_score_micro\", \"run_id\": \"AutoML_a82676aa-e08f-4e93-8432-f74183ff9f8f\", \"categories\": [0], \"series\": [{\"data\": [0.9334823072770367]}]}, {\"name\": \"recall_score_micro\", \"run_id\": \"AutoML_a82676aa-e08f-4e93-8432-f74183ff9f8f\", \"categories\": [0], \"series\": [{\"data\": [0.8926726726726727]}]}, {\"name\": \"average_precision_score_weighted\", \"run_id\": \"AutoML_a82676aa-e08f-4e93-8432-f74183ff9f8f\", \"categories\": [0], \"series\": [{\"data\": [0.9326774589323062]}]}, {\"name\": \"precision_score_micro\", \"run_id\": \"AutoML_a82676aa-e08f-4e93-8432-f74183ff9f8f\", \"categories\": [0], \"series\": [{\"data\": [0.8926726726726727]}]}], \"run_logs\": \"\\nRun is completed.\", \"graph\": {}, \"widget_settings\": {\"childWidgetDisplay\": \"popup\", \"send_telemetry\": false, \"log_level\": \"INFO\", \"sdk_version\": \"1.19.0\"}, \"loading\": false}"
          },
          "metadata": {}
        }
      ],
      "execution_count": 9,
      "metadata": {
        "gather": {
          "logged": 1610950939209
        },
        "jupyter": {
          "outputs_hidden": false,
          "source_hidden": false
        },
        "nteract": {
          "transient": {
            "deleting": false
          }
        }
      }
    },
    {
      "cell_type": "code",
      "source": [
        "%%time\n",
        "remote_run.wait_for_completion()"
      ],
      "outputs": [
        {
          "output_type": "stream",
          "name": "stdout",
          "text": [
            "CPU times: user 32.8 ms, sys: 7.17 ms, total: 40 ms\n",
            "Wall time: 3.16 s\n"
          ]
        },
        {
          "output_type": "execute_result",
          "execution_count": 10,
          "data": {
            "text/plain": "{'runId': 'AutoML_a82676aa-e08f-4e93-8432-f74183ff9f8f',\n 'target': 'cpu-cluster-1',\n 'status': 'Completed',\n 'startTimeUtc': '2021-01-18T06:22:29.607108Z',\n 'endTimeUtc': '2021-01-18T06:45:48.529515Z',\n 'properties': {'num_iterations': '1000',\n  'training_type': 'TrainFull',\n  'acquisition_function': 'EI',\n  'primary_metric': 'accuracy',\n  'train_split': '0',\n  'acquisition_parameter': '0',\n  'num_cross_validation': '3',\n  'target': 'cpu-cluster-1',\n  'AMLSettingsJsonString': '{\"path\":null,\"name\":\"automl-classification-experiment\",\"subscription_id\":\"a24a24d5-8d87-4c8a-99b6-91ed2d2df51f\",\"resource_group\":\"aml-quickstarts-135159\",\"workspace_name\":\"quick-starts-ws-135159\",\"region\":\"southcentralus\",\"compute_target\":\"cpu-cluster-1\",\"spark_service\":null,\"azure_service\":\"remote\",\"many_models\":false,\"pipeline_fetch_max_batch_size\":1,\"iterations\":1000,\"primary_metric\":\"accuracy\",\"task_type\":\"classification\",\"data_script\":null,\"validation_size\":0.0,\"n_cross_validations\":3,\"y_min\":null,\"y_max\":null,\"num_classes\":null,\"featurization\":\"auto\",\"_ignore_package_version_incompatibilities\":false,\"is_timeseries\":false,\"max_cores_per_iteration\":-1,\"max_concurrent_iterations\":4,\"iteration_timeout_minutes\":5,\"mem_in_mb\":null,\"enforce_time_on_windows\":false,\"experiment_timeout_minutes\":30,\"experiment_exit_score\":null,\"whitelist_models\":null,\"blacklist_algos\":[\"TensorFlowLinearClassifier\",\"TensorFlowDNN\"],\"supported_models\":[\"SVM\",\"KNN\",\"LightGBM\",\"RandomForest\",\"DecisionTree\",\"SGD\",\"ExtremeRandomTrees\",\"XGBoostClassifier\",\"BernoulliNaiveBayes\",\"GradientBoosting\",\"TensorFlowLinearClassifier\",\"AveragedPerceptronClassifier\",\"TensorFlowDNN\",\"MultinomialNaiveBayes\",\"LogisticRegression\",\"LinearSVM\"],\"auto_blacklist\":true,\"blacklist_samples_reached\":false,\"exclude_nan_labels\":true,\"verbosity\":20,\"_debug_log\":\"azureml_automl.log\",\"show_warnings\":false,\"model_explainability\":true,\"service_url\":null,\"sdk_url\":null,\"sdk_packages\":null,\"enable_onnx_compatible_models\":true,\"enable_split_onnx_featurizer_estimator_models\":false,\"vm_type\":\"STANDARD_D2_V2\",\"telemetry_verbosity\":20,\"send_telemetry\":true,\"enable_dnn\":false,\"scenario\":\"SDK-1.13.0\",\"environment_label\":null,\"force_text_dnn\":false,\"enable_feature_sweeping\":false,\"enable_early_stopping\":true,\"early_stopping_n_iters\":10,\"metrics\":null,\"enable_ensembling\":true,\"enable_stack_ensembling\":false,\"ensemble_iterations\":15,\"enable_tf\":false,\"enable_subsampling\":null,\"subsample_seed\":null,\"enable_nimbusml\":false,\"enable_streaming\":false,\"force_streaming\":false,\"track_child_runs\":true,\"allowed_private_models\":[],\"label_column_name\":\"DEATH_EVENT\",\"weight_column_name\":null,\"cv_split_column_names\":null,\"enable_local_managed\":false,\"_local_managed_run_id\":null,\"cost_mode\":1,\"lag_length\":0,\"metric_operation\":\"maximize\",\"preprocess\":true}',\n  'DataPrepJsonString': '{\\\\\"training_data\\\\\": \\\\\"{\\\\\\\\\\\\\"blocks\\\\\\\\\\\\\": [{\\\\\\\\\\\\\"id\\\\\\\\\\\\\": \\\\\\\\\\\\\"69d7b7e0-525c-439e-89cb-7a73eb5f4507\\\\\\\\\\\\\", \\\\\\\\\\\\\"type\\\\\\\\\\\\\": \\\\\\\\\\\\\"Microsoft.DPrep.GetDatastoreFilesBlock\\\\\\\\\\\\\", \\\\\\\\\\\\\"arguments\\\\\\\\\\\\\": {\\\\\\\\\\\\\"datastores\\\\\\\\\\\\\": [{\\\\\\\\\\\\\"datastoreName\\\\\\\\\\\\\": \\\\\\\\\\\\\"workspaceblobstore\\\\\\\\\\\\\", \\\\\\\\\\\\\"path\\\\\\\\\\\\\": \\\\\\\\\\\\\"train.csv\\\\\\\\\\\\\", \\\\\\\\\\\\\"resourceGroup\\\\\\\\\\\\\": \\\\\\\\\\\\\"aml-quickstarts-135159\\\\\\\\\\\\\", \\\\\\\\\\\\\"subscription\\\\\\\\\\\\\": \\\\\\\\\\\\\"a24a24d5-8d87-4c8a-99b6-91ed2d2df51f\\\\\\\\\\\\\", \\\\\\\\\\\\\"workspaceName\\\\\\\\\\\\\": \\\\\\\\\\\\\"quick-starts-ws-135159\\\\\\\\\\\\\"}]}, \\\\\\\\\\\\\"localData\\\\\\\\\\\\\": {}, \\\\\\\\\\\\\"isEnabled\\\\\\\\\\\\\": true, \\\\\\\\\\\\\"name\\\\\\\\\\\\\": null, \\\\\\\\\\\\\"annotation\\\\\\\\\\\\\": null}, {\\\\\\\\\\\\\"id\\\\\\\\\\\\\": \\\\\\\\\\\\\"8693119b-5c7f-40cb-bb69-d787d25ee458\\\\\\\\\\\\\", \\\\\\\\\\\\\"type\\\\\\\\\\\\\": \\\\\\\\\\\\\"Microsoft.DPrep.ParseDelimitedBlock\\\\\\\\\\\\\", \\\\\\\\\\\\\"arguments\\\\\\\\\\\\\": {\\\\\\\\\\\\\"columnHeadersMode\\\\\\\\\\\\\": 3, \\\\\\\\\\\\\"fileEncoding\\\\\\\\\\\\\": 0, \\\\\\\\\\\\\"handleQuotedLineBreaks\\\\\\\\\\\\\": false, \\\\\\\\\\\\\"preview\\\\\\\\\\\\\": false, \\\\\\\\\\\\\"separator\\\\\\\\\\\\\": \\\\\\\\\\\\\",\\\\\\\\\\\\\", \\\\\\\\\\\\\"skipRows\\\\\\\\\\\\\": 0, \\\\\\\\\\\\\"skipRowsMode\\\\\\\\\\\\\": 0}, \\\\\\\\\\\\\"localData\\\\\\\\\\\\\": {}, \\\\\\\\\\\\\"isEnabled\\\\\\\\\\\\\": true, \\\\\\\\\\\\\"name\\\\\\\\\\\\\": null, \\\\\\\\\\\\\"annotation\\\\\\\\\\\\\": null}, {\\\\\\\\\\\\\"id\\\\\\\\\\\\\": \\\\\\\\\\\\\"8cbbf671-24b2-4706-b51f-9730f66403ce\\\\\\\\\\\\\", \\\\\\\\\\\\\"type\\\\\\\\\\\\\": \\\\\\\\\\\\\"Microsoft.DPrep.DropColumnsBlock\\\\\\\\\\\\\", \\\\\\\\\\\\\"arguments\\\\\\\\\\\\\": {\\\\\\\\\\\\\"columns\\\\\\\\\\\\\": {\\\\\\\\\\\\\"type\\\\\\\\\\\\\": 0, \\\\\\\\\\\\\"details\\\\\\\\\\\\\": {\\\\\\\\\\\\\"selectedColumns\\\\\\\\\\\\\": [\\\\\\\\\\\\\"Path\\\\\\\\\\\\\"]}}}, \\\\\\\\\\\\\"localData\\\\\\\\\\\\\": {}, \\\\\\\\\\\\\"isEnabled\\\\\\\\\\\\\": true, \\\\\\\\\\\\\"name\\\\\\\\\\\\\": null, \\\\\\\\\\\\\"annotation\\\\\\\\\\\\\": null}, {\\\\\\\\\\\\\"id\\\\\\\\\\\\\": \\\\\\\\\\\\\"a7ee087b-6def-404f-bfbc-822dec223543\\\\\\\\\\\\\", \\\\\\\\\\\\\"type\\\\\\\\\\\\\": \\\\\\\\\\\\\"Microsoft.DPrep.SetColumnTypesBlock\\\\\\\\\\\\\", \\\\\\\\\\\\\"arguments\\\\\\\\\\\\\": {\\\\\\\\\\\\\"columnConversion\\\\\\\\\\\\\": [{\\\\\\\\\\\\\"column\\\\\\\\\\\\\": {\\\\\\\\\\\\\"type\\\\\\\\\\\\\": 2, \\\\\\\\\\\\\"details\\\\\\\\\\\\\": {\\\\\\\\\\\\\"selectedColumn\\\\\\\\\\\\\": \\\\\\\\\\\\\"age\\\\\\\\\\\\\"}}, \\\\\\\\\\\\\"typeProperty\\\\\\\\\\\\\": 3}, {\\\\\\\\\\\\\"column\\\\\\\\\\\\\": {\\\\\\\\\\\\\"type\\\\\\\\\\\\\": 2, \\\\\\\\\\\\\"details\\\\\\\\\\\\\": {\\\\\\\\\\\\\"selectedColumn\\\\\\\\\\\\\": \\\\\\\\\\\\\"anaemia\\\\\\\\\\\\\"}}, \\\\\\\\\\\\\"typeProperty\\\\\\\\\\\\\": 2}, {\\\\\\\\\\\\\"column\\\\\\\\\\\\\": {\\\\\\\\\\\\\"type\\\\\\\\\\\\\": 2, \\\\\\\\\\\\\"details\\\\\\\\\\\\\": {\\\\\\\\\\\\\"selectedColumn\\\\\\\\\\\\\": \\\\\\\\\\\\\"creatinine_phosphokinase\\\\\\\\\\\\\"}}, \\\\\\\\\\\\\"typeProperty\\\\\\\\\\\\\": 2}, {\\\\\\\\\\\\\"column\\\\\\\\\\\\\": {\\\\\\\\\\\\\"type\\\\\\\\\\\\\": 2, \\\\\\\\\\\\\"details\\\\\\\\\\\\\": {\\\\\\\\\\\\\"selectedColumn\\\\\\\\\\\\\": \\\\\\\\\\\\\"diabetes\\\\\\\\\\\\\"}}, \\\\\\\\\\\\\"typeProperty\\\\\\\\\\\\\": 2}, {\\\\\\\\\\\\\"column\\\\\\\\\\\\\": {\\\\\\\\\\\\\"type\\\\\\\\\\\\\": 2, \\\\\\\\\\\\\"details\\\\\\\\\\\\\": {\\\\\\\\\\\\\"selectedColumn\\\\\\\\\\\\\": \\\\\\\\\\\\\"ejection_fraction\\\\\\\\\\\\\"}}, \\\\\\\\\\\\\"typeProperty\\\\\\\\\\\\\": 2}, {\\\\\\\\\\\\\"column\\\\\\\\\\\\\": {\\\\\\\\\\\\\"type\\\\\\\\\\\\\": 2, \\\\\\\\\\\\\"details\\\\\\\\\\\\\": {\\\\\\\\\\\\\"selectedColumn\\\\\\\\\\\\\": \\\\\\\\\\\\\"high_blood_pressure\\\\\\\\\\\\\"}}, \\\\\\\\\\\\\"typeProperty\\\\\\\\\\\\\": 2}, {\\\\\\\\\\\\\"column\\\\\\\\\\\\\": {\\\\\\\\\\\\\"type\\\\\\\\\\\\\": 2, \\\\\\\\\\\\\"details\\\\\\\\\\\\\": {\\\\\\\\\\\\\"selectedColumn\\\\\\\\\\\\\": \\\\\\\\\\\\\"platelets\\\\\\\\\\\\\"}}, \\\\\\\\\\\\\"typeProperty\\\\\\\\\\\\\": 3}, {\\\\\\\\\\\\\"column\\\\\\\\\\\\\": {\\\\\\\\\\\\\"type\\\\\\\\\\\\\": 2, \\\\\\\\\\\\\"details\\\\\\\\\\\\\": {\\\\\\\\\\\\\"selectedColumn\\\\\\\\\\\\\": \\\\\\\\\\\\\"serum_creatinine\\\\\\\\\\\\\"}}, \\\\\\\\\\\\\"typeProperty\\\\\\\\\\\\\": 3}, {\\\\\\\\\\\\\"column\\\\\\\\\\\\\": {\\\\\\\\\\\\\"type\\\\\\\\\\\\\": 2, \\\\\\\\\\\\\"details\\\\\\\\\\\\\": {\\\\\\\\\\\\\"selectedColumn\\\\\\\\\\\\\": \\\\\\\\\\\\\"serum_sodium\\\\\\\\\\\\\"}}, \\\\\\\\\\\\\"typeProperty\\\\\\\\\\\\\": 2}, {\\\\\\\\\\\\\"column\\\\\\\\\\\\\": {\\\\\\\\\\\\\"type\\\\\\\\\\\\\": 2, \\\\\\\\\\\\\"details\\\\\\\\\\\\\": {\\\\\\\\\\\\\"selectedColumn\\\\\\\\\\\\\": \\\\\\\\\\\\\"sex\\\\\\\\\\\\\"}}, \\\\\\\\\\\\\"typeProperty\\\\\\\\\\\\\": 2}, {\\\\\\\\\\\\\"column\\\\\\\\\\\\\": {\\\\\\\\\\\\\"type\\\\\\\\\\\\\": 2, \\\\\\\\\\\\\"details\\\\\\\\\\\\\": {\\\\\\\\\\\\\"selectedColumn\\\\\\\\\\\\\": \\\\\\\\\\\\\"smoking\\\\\\\\\\\\\"}}, \\\\\\\\\\\\\"typeProperty\\\\\\\\\\\\\": 2}, {\\\\\\\\\\\\\"column\\\\\\\\\\\\\": {\\\\\\\\\\\\\"type\\\\\\\\\\\\\": 2, \\\\\\\\\\\\\"details\\\\\\\\\\\\\": {\\\\\\\\\\\\\"selectedColumn\\\\\\\\\\\\\": \\\\\\\\\\\\\"time\\\\\\\\\\\\\"}}, \\\\\\\\\\\\\"typeProperty\\\\\\\\\\\\\": 2}, {\\\\\\\\\\\\\"column\\\\\\\\\\\\\": {\\\\\\\\\\\\\"type\\\\\\\\\\\\\": 2, \\\\\\\\\\\\\"details\\\\\\\\\\\\\": {\\\\\\\\\\\\\"selectedColumn\\\\\\\\\\\\\": \\\\\\\\\\\\\"DEATH_EVENT\\\\\\\\\\\\\"}}, \\\\\\\\\\\\\"typeProperty\\\\\\\\\\\\\": 2}]}, \\\\\\\\\\\\\"localData\\\\\\\\\\\\\": {}, \\\\\\\\\\\\\"isEnabled\\\\\\\\\\\\\": true, \\\\\\\\\\\\\"name\\\\\\\\\\\\\": null, \\\\\\\\\\\\\"annotation\\\\\\\\\\\\\": null}], \\\\\\\\\\\\\"inspectors\\\\\\\\\\\\\": [], \\\\\\\\\\\\\"meta\\\\\\\\\\\\\": {\\\\\\\\\\\\\"savedDatasetId\\\\\\\\\\\\\": \\\\\\\\\\\\\"78471c05-ffe3-4cea-a8ed-b8fdae666524\\\\\\\\\\\\\", \\\\\\\\\\\\\"datasetType\\\\\\\\\\\\\": \\\\\\\\\\\\\"tabular\\\\\\\\\\\\\", \\\\\\\\\\\\\"subscriptionId\\\\\\\\\\\\\": \\\\\\\\\\\\\"a24a24d5-8d87-4c8a-99b6-91ed2d2df51f\\\\\\\\\\\\\", \\\\\\\\\\\\\"workspaceId\\\\\\\\\\\\\": \\\\\\\\\\\\\"27f2c59b-89bd-4140-abbb-84e180eb951f\\\\\\\\\\\\\", \\\\\\\\\\\\\"workspaceLocation\\\\\\\\\\\\\": \\\\\\\\\\\\\"southcentralus\\\\\\\\\\\\\"}}\\\\\", \\\\\"activities\\\\\": 0}',\n  'EnableSubsampling': None,\n  'runTemplate': 'AutoML',\n  'azureml.runsource': 'automl',\n  'display_task_type': 'classification',\n  'dependencies_versions': '{\"azureml-widgets\": \"1.19.0\", \"azureml-train\": \"1.19.0\", \"azureml-train-restclients-hyperdrive\": \"1.19.0\", \"azureml-train-core\": \"1.19.0\", \"azureml-train-automl\": \"1.19.0\", \"azureml-train-automl-runtime\": \"1.19.0\", \"azureml-train-automl-client\": \"1.19.0\", \"azureml-tensorboard\": \"1.19.0\", \"azureml-telemetry\": \"1.19.0\", \"azureml-sdk\": \"1.19.0\", \"azureml-samples\": \"0+unknown\", \"azureml-pipeline\": \"1.19.0\", \"azureml-pipeline-steps\": \"1.19.0\", \"azureml-pipeline-core\": \"1.19.0\", \"azureml-opendatasets\": \"1.19.0\", \"azureml-model-management-sdk\": \"1.0.1b6.post1\", \"azureml-mlflow\": \"1.19.0\", \"azureml-interpret\": \"1.19.0\", \"azureml-explain-model\": \"1.19.0\", \"azureml-defaults\": \"1.19.0\", \"azureml-dataset-runtime\": \"1.19.0.post1\", \"azureml-dataprep\": \"2.6.1\", \"azureml-dataprep-rslex\": \"1.4.0\", \"azureml-dataprep-native\": \"26.0.0\", \"azureml-datadrift\": \"1.19.0\", \"azureml-core\": \"1.19.0\", \"azureml-contrib-services\": \"1.19.0\", \"azureml-contrib-server\": \"1.19.0\", \"azureml-contrib-reinforcementlearning\": \"1.19.0\", \"azureml-contrib-pipeline-steps\": \"1.19.0\", \"azureml-contrib-notebook\": \"1.19.0\", \"azureml-contrib-interpret\": \"1.19.0\", \"azureml-contrib-gbdt\": \"1.19.0\", \"azureml-contrib-fairness\": \"1.19.0\", \"azureml-contrib-dataset\": \"1.19.0\", \"azureml-cli-common\": \"1.19.0\", \"azureml-automl-runtime\": \"1.19.0\", \"azureml-automl-core\": \"1.19.0\", \"azureml-accel-models\": \"1.19.0\"}',\n  '_aml_system_scenario_identification': 'Remote.Parent',\n  'ClientType': 'SDK',\n  'environment_cpu_name': 'AzureML-AutoML',\n  'environment_cpu_label': 'prod',\n  'environment_gpu_name': 'AzureML-AutoML-GPU',\n  'environment_gpu_label': 'prod',\n  'root_attribution': 'automl',\n  'attribution': 'AutoML',\n  'Orchestrator': 'AutoML',\n  'CancelUri': 'https://southcentralus.experiments.azureml.net/jasmine/v1.0/subscriptions/a24a24d5-8d87-4c8a-99b6-91ed2d2df51f/resourceGroups/aml-quickstarts-135159/providers/Microsoft.MachineLearningServices/workspaces/quick-starts-ws-135159/experimentids/fec45eb0-b668-4078-89d7-81aaaabbbdf9/cancel/AutoML_a82676aa-e08f-4e93-8432-f74183ff9f8f',\n  'ClientSdkVersion': '1.19.0',\n  'snapshotId': '00000000-0000-0000-0000-000000000000',\n  'SetupRunId': 'AutoML_a82676aa-e08f-4e93-8432-f74183ff9f8f_setup',\n  'SetupRunContainerId': 'dcid.AutoML_a82676aa-e08f-4e93-8432-f74183ff9f8f_setup',\n  'FeaturizationRunJsonPath': 'featurizer_container.json',\n  'FeaturizationRunId': 'AutoML_a82676aa-e08f-4e93-8432-f74183ff9f8f_featurize',\n  'ProblemInfoJsonString': '{\"dataset_num_categorical\": 0, \"is_sparse\": false, \"subsampling\": false, \"dataset_classes\": 2, \"dataset_features\": 12, \"dataset_samples\": 224, \"single_frequency_class_detected\": false}',\n  'ModelExplainRunId': 'AutoML_a82676aa-e08f-4e93-8432-f74183ff9f8f_ModelExplain'},\n 'inputDatasets': [{'dataset': {'id': '78471c05-ffe3-4cea-a8ed-b8fdae666524'}, 'consumptionDetails': {'type': 'RunInput', 'inputName': 'training_data', 'mechanism': 'Direct'}}],\n 'outputDatasets': [],\n 'logFiles': {}}"
          },
          "metadata": {}
        }
      ],
      "execution_count": 10,
      "metadata": {}
    },
    {
      "cell_type": "markdown",
      "source": [
        "## Best Model\n",
        "\n",
        "TODO: In the cell below, get the best model from the automl experiments and display all the properties of the model.\n",
        "\n",
        "## Retrieve the Best ONNX Model\n"
      ],
      "metadata": {}
    },
    {
      "cell_type": "code",
      "source": [
        "best_run, onnx_model= remote_run.get_output(return_onnx_model=True)"
      ],
      "outputs": [],
      "execution_count": 11,
      "metadata": {
        "gather": {
          "logged": 1610952563679
        },
        "jupyter": {
          "outputs_hidden": false,
          "source_hidden": false
        },
        "nteract": {
          "transient": {
            "deleting": false
          }
        }
      }
    },
    {
      "cell_type": "code",
      "source": [
        "#TODO: Save the best model\n",
        "OnnxConverter.save_onnx_model(onnx_model, file_path=\"./automl_model.onnx\")\n"
      ],
      "outputs": [],
      "execution_count": 12,
      "metadata": {
        "gather": {
          "logged": 1610952578201
        },
        "jupyter": {
          "outputs_hidden": false,
          "source_hidden": false
        },
        "nteract": {
          "transient": {
            "deleting": false
          }
        }
      }
    },
    {
      "cell_type": "code",
      "source": [
        "best_run.get_properties()"
      ],
      "outputs": [
        {
          "output_type": "execute_result",
          "execution_count": 13,
          "data": {
            "text/plain": "{'runTemplate': 'automl_child',\n 'pipeline_id': '__AutoML_Ensemble__',\n 'pipeline_spec': '{\"pipeline_id\":\"__AutoML_Ensemble__\",\"objects\":[{\"module\":\"azureml.train.automl.ensemble\",\"class_name\":\"Ensemble\",\"spec_class\":\"sklearn\",\"param_args\":[],\"param_kwargs\":{\"automl_settings\":\"{\\'task_type\\':\\'classification\\',\\'primary_metric\\':\\'accuracy\\',\\'verbosity\\':20,\\'ensemble_iterations\\':15,\\'is_timeseries\\':False,\\'name\\':\\'automl-classification-experiment\\',\\'compute_target\\':\\'cpu-cluster-1\\',\\'subscription_id\\':\\'a24a24d5-8d87-4c8a-99b6-91ed2d2df51f\\',\\'region\\':\\'southcentralus\\',\\'spark_service\\':None}\",\"ensemble_run_id\":\"AutoML_a82676aa-e08f-4e93-8432-f74183ff9f8f_35\",\"experiment_name\":\"automl-classification-experiment\",\"workspace_name\":\"quick-starts-ws-135159\",\"subscription_id\":\"a24a24d5-8d87-4c8a-99b6-91ed2d2df51f\",\"resource_group_name\":\"aml-quickstarts-135159\"}}]}',\n 'training_percent': '100',\n 'predicted_cost': None,\n 'iteration': '35',\n '_aml_system_scenario_identification': 'Remote.Child',\n '_azureml.ComputeTargetType': 'amlcompute',\n 'ContentSnapshotId': '2d4473cd-9a31-4fcd-bd0b-97cb888e5d39',\n 'ProcessInfoFile': 'azureml-logs/process_info.json',\n 'ProcessStatusFile': 'azureml-logs/process_status.json',\n 'run_template': 'automl_child',\n 'run_preprocessor': '',\n 'run_algorithm': 'VotingEnsemble',\n 'conda_env_data_location': 'aml://artifact/ExperimentRun/dcid.AutoML_a82676aa-e08f-4e93-8432-f74183ff9f8f_35/outputs/conda_env_v_1_0_0.yml',\n 'model_data_location': 'aml://artifact/ExperimentRun/dcid.AutoML_a82676aa-e08f-4e93-8432-f74183ff9f8f_35/outputs/model.pkl',\n 'model_size_on_disk': '1537064',\n 'scoring_data_location': 'aml://artifact/ExperimentRun/dcid.AutoML_a82676aa-e08f-4e93-8432-f74183ff9f8f_35/outputs/scoring_file_v_1_0_0.py',\n 'model_exp_support': 'True',\n 'pipeline_graph_version': '1.0.0',\n 'model_name': 'AutoMLa82676aae35',\n 'staticProperties': '{}',\n 'score': '0.8926726726726727',\n 'run_properties': \"classification_labels=None,\\n                              estimators=[('18',\\n                                           Pipeline(memory=None,\\n                                                    steps=[('robustscaler',\\n                                                            RobustScaler(copy=True,\\n                                                                         quantile_range=[25,\\n                                                                                         75],\\n                                                                         with_centering=True,\\n                                                                         with_scaling=False\",\n 'pipeline_script': '{\"pipeline_id\":\"__AutoML_Ensemble__\",\"objects\":[{\"module\":\"azureml.train.automl.ensemble\",\"class_name\":\"Ensemble\",\"spec_class\":\"sklearn\",\"param_args\":[],\"param_kwargs\":{\"automl_settings\":\"{\\'task_type\\':\\'classification\\',\\'primary_metric\\':\\'accuracy\\',\\'verbosity\\':20,\\'ensemble_iterations\\':15,\\'is_timeseries\\':False,\\'name\\':\\'automl-classification-experiment\\',\\'compute_target\\':\\'cpu-cluster-1\\',\\'subscription_id\\':\\'a24a24d5-8d87-4c8a-99b6-91ed2d2df51f\\',\\'region\\':\\'southcentralus\\',\\'spark_service\\':None}\",\"ensemble_run_id\":\"AutoML_a82676aa-e08f-4e93-8432-f74183ff9f8f_35\",\"experiment_name\":\"automl-classification-experiment\",\"workspace_name\":\"quick-starts-ws-135159\",\"subscription_id\":\"a24a24d5-8d87-4c8a-99b6-91ed2d2df51f\",\"resource_group_name\":\"aml-quickstarts-135159\"}}]}',\n 'training_type': 'MeanCrossValidation',\n 'num_classes': '',\n 'framework': 'sklearn',\n 'fit_time': '24',\n 'goal': 'accuracy_max',\n 'class_labels': '',\n 'primary_metric': 'accuracy',\n 'errors': '{}',\n 'fitted_pipeline': \"Pipeline(memory=None,\\n         steps=[('datatransformer',\\n                 DataTransformer(enable_dnn=None, enable_feature_sweeping=None,\\n                                 feature_sweeping_config=None,\\n                                 feature_sweeping_timeout=None,\\n                                 featurization_config=None, force_text_dnn=None,\\n                                 is_cross_validation=None,\\n                                 is_onnx_compatible=None, logger=None,\\n                                 observer=None, task=None, working_dir=None)),\\n                ('prefittedsoftvotingclassifier',...\\n                                                                                                multi_class='multinomial',\\n                                                                                                n_jobs=-1,\\n                                                                                                penalty='l1',\\n                                                                                                random_state=None,\\n                                                                                                solver='saga',\\n                                                                                                tol=0.0001,\\n                                                                                                verbose=0,\\n                                                                                                warm_start=False))],\\n                                                                     verbose=False))],\\n                                               flatten_transform=None,\\n                                               weights=[0.06666666666666667,\\n                                                        0.13333333333333333,\\n                                                        0.06666666666666667,\\n                                                        0.13333333333333333,\\n                                                        0.06666666666666667,\\n                                                        0.06666666666666667,\\n                                                        0.13333333333333333,\\n                                                        0.06666666666666667,\\n                                                        0.06666666666666667,\\n                                                        0.2]))],\\n         verbose=False)\",\n 'friendly_errors': '{}',\n 'onnx_model_resource': \"{'RawColumnNameToOnnxNameMap': {'age': 'age', 'anaemia': 'anaemia', 'creatinine_phosphokinase': 'creatinine_phosphokinase', 'diabetes': 'diabetes', 'ejection_fraction': 'ejection_fraction', 'high_blood_pressure': 'high_blood_pressure', 'platelets': 'platelets', 'serum_creatinine': 'serum_creatinine', 'serum_sodium': 'serum_sodium', 'sex': 'sex', 'smoking': 'smoking', 'time': 'time'}, 'InputRawColumnSchema': {'age': 'floating', 'anaemia': 'floating', 'creatinine_phosphokinase': 'floating', 'diabetes': 'floating', 'ejection_fraction': 'floating', 'high_blood_pressure': 'floating', 'platelets': 'floating', 'serum_creatinine': 'floating', 'serum_sodium': 'floating', 'sex': 'floating', 'smoking': 'floating', 'time': 'floating'}, 'InputOnnxColumnSchema': {'age': 'FloatTensorType', 'anaemia': 'FloatTensorType', 'creatinine_phosphokinase': 'FloatTensorType', 'diabetes': 'FloatTensorType', 'ejection_fraction': 'FloatTensorType', 'high_blood_pressure': 'FloatTensorType', 'platelets': 'FloatTensorType', 'serum_creatinine': 'FloatTensorType', 'serum_sodium': 'FloatTensorType', 'sex': 'FloatTensorType', 'smoking': 'FloatTensorType', 'time': 'FloatTensorType'}, 'CanEnableBatchMode': True}\",\n 'error_code': '',\n 'failure_reason': '',\n 'feature_skus': 'automatedml_sdk_guardrails',\n 'dependencies_versions': '{\"azureml-train-automl-runtime\": \"1.19.0\", \"azureml-train-automl-client\": \"1.19.0\", \"azureml-telemetry\": \"1.19.0\", \"azureml-pipeline-core\": \"1.19.0\", \"azureml-model-management-sdk\": \"1.0.1b6.post1\", \"azureml-interpret\": \"1.19.0\", \"azureml-defaults\": \"1.19.0\", \"azureml-dataset-runtime\": \"1.19.0\", \"azureml-dataprep\": \"2.6.1\", \"azureml-dataprep-rslex\": \"1.4.0\", \"azureml-dataprep-native\": \"26.0.0\", \"azureml-core\": \"1.19.0\", \"azureml-automl-runtime\": \"1.19.0\", \"azureml-automl-core\": \"1.19.0\"}',\n 'num_cores': '2',\n 'num_logical_cores': '2',\n 'peak_memory_usage': '590164',\n 'vm_configuration': 'Intel(R) Xeon(R) Platinum 8171M CPU @ 2.60GHz',\n 'core_hours': '0.005747980277777778'}"
          },
          "metadata": {}
        }
      ],
      "execution_count": 13,
      "metadata": {
        "gather": {
          "logged": 1610952592410
        }
      }
    },
    {
      "cell_type": "code",
      "source": [
        "best_run.get_metrics()"
      ],
      "outputs": [
        {
          "output_type": "execute_result",
          "execution_count": 14,
          "data": {
            "text/plain": "{'precision_score_weighted': 0.8966007939706552,\n 'precision_score_micro': 0.8926726726726727,\n 'AUC_macro': 0.9208363636363636,\n 'f1_score_weighted': 0.8898748237676449,\n 'f1_score_macro': 0.8681244681497461,\n 'AUC_weighted': 0.9208363636363636,\n 'recall_score_micro': 0.8926726726726727,\n 'recall_score_macro': 0.8511285091719873,\n 'accuracy': 0.8926726726726727,\n 'average_precision_score_micro': 0.9334823072770367,\n 'log_loss': 0.33775671659932316,\n 'f1_score_micro': 0.8926726726726727,\n 'average_precision_score_weighted': 0.9326774589323062,\n 'AUC_micro': 0.933597413629846,\n 'weighted_accuracy': 0.9237466491714276,\n 'precision_score_macro': 0.8983069177877834,\n 'matthews_correlation': 0.7472628995235754,\n 'average_precision_score_macro': 0.9161482771638978,\n 'norm_macro_recall': 0.702257018343975,\n 'balanced_accuracy': 0.8511285091719873,\n 'recall_score_weighted': 0.8926726726726727,\n 'accuracy_table': 'aml://artifactId/ExperimentRun/dcid.AutoML_a82676aa-e08f-4e93-8432-f74183ff9f8f_35/accuracy_table',\n 'confusion_matrix': 'aml://artifactId/ExperimentRun/dcid.AutoML_a82676aa-e08f-4e93-8432-f74183ff9f8f_35/confusion_matrix'}"
          },
          "metadata": {}
        }
      ],
      "execution_count": 14,
      "metadata": {
        "gather": {
          "logged": 1610952601552
        }
      }
    },
    {
      "cell_type": "code",
      "source": [
        "print(best_run)"
      ],
      "outputs": [
        {
          "output_type": "stream",
          "name": "stdout",
          "text": [
            "Run(Experiment: automl-classification-experiment,\n",
            "Id: AutoML_a82676aa-e08f-4e93-8432-f74183ff9f8f_35,\n",
            "Type: azureml.scriptrun,\n",
            "Status: Completed)\n"
          ]
        }
      ],
      "execution_count": 15,
      "metadata": {
        "gather": {
          "logged": 1610952615169
        }
      }
    },
    {
      "cell_type": "markdown",
      "source": [
        "## Model Deployment\n",
        "\n",
        "Remember you have to deploy only one of the two models you trained.. Perform the steps in the rest of this notebook only if you wish to deploy this model.\n",
        "\n",
        "TODO: In the cell below, register the model, create an inference config and deploy the model as a web service."
      ],
      "metadata": {}
    },
    {
      "cell_type": "code",
      "source": [
        "model_name = best_run.properties['model_name']\n",
        "script_file_name = 'inference/score.py'\n",
        "best_run.download_file('outputs/scoring_file_v_1_0_0.py', 'inference/score.py')"
      ],
      "outputs": [],
      "execution_count": 16,
      "metadata": {
        "gather": {
          "logged": 1610952622454
        }
      }
    },
    {
      "cell_type": "code",
      "source": [
        "description = 'AutoML Model'\n",
        "tags = None\n",
        "model = remote_run.register_model(model_name = model_name, description = description, tags = tags)\n",
        "print(remote_run.model_id) "
      ],
      "outputs": [
        {
          "output_type": "stream",
          "name": "stdout",
          "text": [
            "AutoMLa82676aae35\n"
          ]
        }
      ],
      "execution_count": 17,
      "metadata": {
        "gather": {
          "logged": 1610952627207
        },
        "jupyter": {
          "outputs_hidden": false,
          "source_hidden": false
        },
        "nteract": {
          "transient": {
            "deleting": false
          }
        }
      }
    },
    {
      "cell_type": "code",
      "source": [
        "from azureml.core.model import InferenceConfig\n",
        "from azureml.core.webservice import AciWebservice\n",
        "from azureml.core.webservice import Webservice\n",
        "from azureml.core.model import Model\n",
        "from azureml.core.environment import Environment\n",
        "\n",
        "inference_config = InferenceConfig(entry_script='inference/score.py')\n",
        "\n",
        "aciconfig = AciWebservice.deploy_configuration(cpu_cores = 1, \n",
        "                                               memory_gb = 1, \n",
        "                                               tags = {'type': \"automl_classification\"}, \n",
        "                                               description = 'Heart Data Service')\n",
        "\n",
        "aci_service_name = 'automl-uciheart1'\n",
        "print(aci_service_name)\n",
        "aci_service = Model.deploy(ws, aci_service_name, [model], inference_config, aciconfig)\n",
        "aci_service.wait_for_deployment(True)\n",
        "print(aci_service.state)"
      ],
      "outputs": [
        {
          "output_type": "stream",
          "name": "stdout",
          "text": [
            "automl-uciheart1\n",
            "Tips: You can try get_logs(): https://aka.ms/debugimage#dockerlog or local deployment: https://aka.ms/debugimage#debug-locally to debug if deployment takes longer than 10 minutes.\n",
            "Running..........................................\n",
            "Succeeded\n",
            "ACI service creation operation finished, operation \"Succeeded\"\n",
            "Healthy\n"
          ]
        }
      ],
      "execution_count": 18,
      "metadata": {
        "gather": {
          "logged": 1610952881744
        }
      }
    },
    {
      "cell_type": "markdown",
      "source": [
        "## Enable Application Insitghts on The Deployed Service"
      ],
      "metadata": {}
    },
    {
      "cell_type": "code",
      "source": [
        "aci_service.update(enable_app_insights=True)"
      ],
      "outputs": [],
      "execution_count": 19,
      "metadata": {
        "gather": {
          "logged": 1610952933572
        }
      }
    },
    {
      "cell_type": "markdown",
      "source": [
        "## Service Details"
      ],
      "metadata": {}
    },
    {
      "cell_type": "code",
      "source": [
        "print(f'\\nservice state: {aci_service.state}\\n')\n",
        "print(f'scoring URI: \\n{aci_service.scoring_uri}\\n')\n",
        "print(f'swagger URI: \\n{aci_service.swagger_uri}\\n')"
      ],
      "outputs": [
        {
          "output_type": "stream",
          "name": "stdout",
          "text": [
            "\n",
            "service state: Healthy\n",
            "\n",
            "scoring URI: \n",
            "http://3939b333-1264-4b3e-ac04-029c9d6003af.southcentralus.azurecontainer.io/score\n",
            "\n",
            "swagger URI: \n",
            "http://3939b333-1264-4b3e-ac04-029c9d6003af.southcentralus.azurecontainer.io/swagger.json\n",
            "\n"
          ]
        }
      ],
      "execution_count": 20,
      "metadata": {
        "gather": {
          "logged": 1610952962526
        }
      }
    },
    {
      "cell_type": "markdown",
      "source": [
        "## Test Service : \n",
        "TODO: In the cell below, send a request to the web service you deployed to test it."
      ],
      "metadata": {
        "collapsed": true,
        "gather": {
          "logged": 1598431657736
        },
        "jupyter": {
          "outputs_hidden": false,
          "source_hidden": false
        },
        "nteract": {
          "transient": {
            "deleting": false
          }
        }
      }
    },
    {
      "cell_type": "code",
      "source": [
        "import requests\n",
        "import json\n",
        "\n",
        "scoring_uri = aci_service.scoring_uri\n",
        "# Two sets of data to score, so we get two results back\n",
        "data = {\"data\":\n",
        "        [\n",
        "          { \n",
        "            \"age\": 45,\n",
        "            \"anaemia\": 0,\n",
        "            \"creatinine_phosphokinase\": 2413,\n",
        "            \"diabetes\": 0,\n",
        "            \"ejection_fraction\": 38,\n",
        "            \"high_blood_pressure\": 0,\n",
        "            \"platelets\": 140000,\n",
        "            \"serum_creatinine\": 1.4,\n",
        "            \"serum_sodium\": 140,\n",
        "            \"sex\": 1,\n",
        "            \"smoking\": 1,\n",
        "            \"time\": 280\n",
        "          },\n",
        "          {\n",
        "            \"age\": 50,\n",
        "            \"anaemia\": 0,\n",
        "            \"creatinine_phosphokinase\": 196,\n",
        "            \"diabetes\": 0,\n",
        "            \"ejection_fraction\": \"45\",\n",
        "            \"high_blood_pressure\": 0,\n",
        "            \"platelets\": 395000,\n",
        "            \"serum_creatinine\": 1.6,\n",
        "            \"serum_sodium\": 136,\n",
        "            \"sex\":1,\n",
        "            \"smoking\": 1,\n",
        "            \"time\": 285\n",
        "          },\n",
        "      ]\n",
        "    }\n",
        "# Convert to JSON string\n",
        "input_data = json.dumps(data)\n",
        "# Set the content type\n",
        "headers = {'Content-Type': 'application/json'}\n",
        "# Make the request and display the response\n",
        "resp = requests.post(scoring_uri, input_data, headers=headers)\n",
        "print(resp.json())"
      ],
      "outputs": [
        {
          "output_type": "stream",
          "name": "stdout",
          "text": [
            "{\"result\": [0, 0]}\n"
          ]
        }
      ],
      "execution_count": 21,
      "metadata": {
        "gather": {
          "logged": 1610952972212
        }
      }
    },
    {
      "cell_type": "markdown",
      "source": [
        "TODO: In the cell below, print the logs of the web service and delete the service"
      ],
      "metadata": {
        "collapsed": true,
        "gather": {
          "logged": 1598432765711
        },
        "jupyter": {
          "outputs_hidden": false,
          "source_hidden": false
        },
        "nteract": {
          "transient": {
            "deleting": false
          }
        }
      }
    },
    {
      "cell_type": "code",
      "source": [
        "aci_service.get_logs()"
      ],
      "outputs": [
        {
          "output_type": "execute_result",
          "execution_count": 22,
          "data": {
            "text/plain": "'2021-01-18T06:55:41,753091119+00:00 - rsyslog/run \\n2021-01-18T06:55:41,756330873+00:00 - iot-server/run \\n2021-01-18T06:55:41,758454908+00:00 - nginx/run \\n/usr/sbin/nginx: /azureml-envs/azureml_8eff28b157f42edcd2424a5aae6c8074/lib/libcrypto.so.1.0.0: no version information available (required by /usr/sbin/nginx)\\n/usr/sbin/nginx: /azureml-envs/azureml_8eff28b157f42edcd2424a5aae6c8074/lib/libcrypto.so.1.0.0: no version information available (required by /usr/sbin/nginx)\\n/usr/sbin/nginx: /azureml-envs/azureml_8eff28b157f42edcd2424a5aae6c8074/lib/libssl.so.1.0.0: no version information available (required by /usr/sbin/nginx)\\n/usr/sbin/nginx: /azureml-envs/azureml_8eff28b157f42edcd2424a5aae6c8074/lib/libssl.so.1.0.0: no version information available (required by /usr/sbin/nginx)\\n/usr/sbin/nginx: /azureml-envs/azureml_8eff28b157f42edcd2424a5aae6c8074/lib/libssl.so.1.0.0: no version information available (required by /usr/sbin/nginx)\\n2021-01-18T06:55:41,762246071+00:00 - gunicorn/run \\nrsyslogd: /azureml-envs/azureml_8eff28b157f42edcd2424a5aae6c8074/lib/libuuid.so.1: no version information available (required by rsyslogd)\\nEdgeHubConnectionString and IOTEDGE_IOTHUBHOSTNAME are not set. Exiting...\\n2021-01-18T06:55:41,965476936+00:00 - iot-server/finish 1 0\\n2021-01-18T06:55:41,967297866+00:00 - Exit code 1 is normal. Not restarting iot-server.\\nStarting gunicorn 19.9.0\\nListening at: http://127.0.0.1:31311 (13)\\nUsing worker: sync\\nworker timeout is set to 300\\nBooting worker with pid: 41\\nSPARK_HOME not set. Skipping PySpark Initialization.\\nGenerating new fontManager, this may take some time...\\nInitializing logger\\n2021-01-18 06:55:43,096 | root | INFO | Starting up app insights client\\nStarting up app insights client\\n2021-01-18 06:55:43,097 | root | INFO | Starting up request id generator\\nStarting up request id generator\\n2021-01-18 06:55:43,097 | root | INFO | Starting up app insight hooks\\nStarting up app insight hooks\\n2021-01-18 06:55:43,097 | root | INFO | Invoking user\\'s init function\\nInvoking user\\'s init function\\n2021-01-18 06:55:45,023 | root | INFO | Users\\'s init has completed successfully\\nUsers\\'s init has completed successfully\\n2021-01-18 06:55:45,027 | root | INFO | Skipping middleware: dbg_model_info as it\\'s not enabled.\\nSkipping middleware: dbg_model_info as it\\'s not enabled.\\n2021-01-18 06:55:45,027 | root | INFO | Skipping middleware: dbg_resource_usage as it\\'s not enabled.\\nSkipping middleware: dbg_resource_usage as it\\'s not enabled.\\n2021-01-18 06:55:45,028 | root | INFO | Scoring timeout is found from os.environ: 60000 ms\\nScoring timeout is found from os.environ: 60000 ms\\n2021-01-18 06:55:47,629 | root | INFO | 200\\n200\\n127.0.0.1 - - [18/Jan/2021:06:55:47 +0000] \"GET /swagger.json HTTP/1.0\" 200 2862 \"-\" \"Go-http-client/1.1\"\\n2021-01-18 06:55:51,390 | root | INFO | 200\\n200\\n127.0.0.1 - - [18/Jan/2021:06:55:51 +0000] \"GET /swagger.json HTTP/1.0\" 200 2862 \"-\" \"Go-http-client/1.1\"\\n2021-01-18 06:55:51,939 | root | INFO | 200\\n200\\n127.0.0.1 - - [18/Jan/2021:06:55:51 +0000] \"GET /swagger.json HTTP/1.0\" 200 2862 \"-\" \"Go-http-client/1.1\"\\n2021-01-18 06:56:11,552 | root | INFO | Validation Request Content-Type\\nValidation Request Content-Type\\n2021-01-18 06:56:11,552 | root | INFO | \\tHost: localhost:5001\\n\\tHost: localhost:5001\\n2021-01-18 06:56:11,552 | root | INFO | \\tX-Real-Ip: 127.0.0.1\\n\\tX-Real-Ip: 127.0.0.1\\n2021-01-18 06:56:11,552 | root | INFO | \\tX-Forwarded-For: 127.0.0.1\\n\\tX-Forwarded-For: 127.0.0.1\\n2021-01-18 06:56:11,552 | root | INFO | \\tX-Forwarded-Proto: http\\n\\tX-Forwarded-Proto: http\\n2021-01-18 06:56:11,552 | root | INFO | \\tConnection: close\\n\\tConnection: close\\n2021-01-18 06:56:11,553 | root | INFO | \\tContent-Length: 473\\n\\tContent-Length: 473\\n2021-01-18 06:56:11,553 | root | INFO | \\tUser-Agent: python-requests/2.25.0\\n\\tUser-Agent: python-requests/2.25.0\\n2021-01-18 06:56:11,553 | root | INFO | \\tAccept: */*\\n\\tAccept: */*\\n2021-01-18 06:56:11,553 | root | INFO | \\tAccept-Encoding: gzip, deflate\\n\\tAccept-Encoding: gzip, deflate\\n2021-01-18 06:56:11,553 | root | INFO | \\tContent-Type: application/json\\n\\tContent-Type: application/json\\n2021-01-18 06:56:11,553 | root | INFO | \\tX-Ms-Request-Id: 2ab60ab7-ead0-4e99-9774-44bb0f562f4b\\n\\tX-Ms-Request-Id: 2ab60ab7-ead0-4e99-9774-44bb0f562f4b\\n2021-01-18 06:56:11,553 | root | INFO | Scoring Timer is set to 60.0 seconds\\nScoring Timer is set to 60.0 seconds\\n2021-01-18 06:56:11,878 | root | INFO | 200\\n200\\n127.0.0.1 - - [18/Jan/2021:06:56:11 +0000] \"POST /score HTTP/1.0\" 200 22 \"-\" \"python-requests/2.25.0\"\\n'"
          },
          "metadata": {}
        }
      ],
      "execution_count": 22,
      "metadata": {
        "jupyter": {
          "outputs_hidden": false,
          "source_hidden": false
        },
        "nteract": {
          "transient": {
            "deleting": false
          }
        },
        "gather": {
          "logged": 1610952995256
        }
      }
    },
    {
      "cell_type": "code",
      "source": [
        "aci_service.delete()\n",
        "model.delete()\n",
        "compute_target.delete()"
      ],
      "outputs": [
        {
          "output_type": "stream",
          "name": "stdout",
          "text": [
            "No service with name automl-uciheart1 found to delete.\n",
            "Current provisioning state of AmlCompute is \"Deleting\"\n",
            "\n"
          ]
        }
      ],
      "execution_count": 25,
      "metadata": {
        "gather": {
          "logged": 1610953480686
        }
      }
    }
  ],
  "metadata": {
    "kernel_info": {
      "name": "python3-azureml"
    },
    "kernelspec": {
      "name": "python3-azureml",
      "language": "python",
      "display_name": "Python 3.6 - AzureML"
    },
    "language_info": {
      "name": "python",
      "version": "3.6.9",
      "mimetype": "text/x-python",
      "codemirror_mode": {
        "name": "ipython",
        "version": 3
      },
      "pygments_lexer": "ipython3",
      "nbconvert_exporter": "python",
      "file_extension": ".py"
    },
    "nteract": {
      "version": "nteract-front-end@1.0.0"
    }
  },
  "nbformat": 4,
  "nbformat_minor": 2
}