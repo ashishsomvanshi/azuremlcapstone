{
  "cells": [
    {
      "cell_type": "markdown",
      "source": [
        "# Automated ML\n",
        "\n",
        "TODO: Import Dependencies. In the cell below, import all the dependencies that you will need to complete the project."
      ],
      "metadata": {}
    },
    {
      "cell_type": "code",
      "source": [
        "import logging\n",
        "\n",
        "from matplotlib import pyplot as plt\n",
        "import pandas as pd\n",
        "import os\n",
        "\n",
        "import azureml.core\n",
        "from azureml.core.experiment import Experiment\n",
        "from azureml.core.workspace import Workspace\n",
        "from azureml.automl.core.featurization import FeaturizationConfig\n",
        "from azureml.core.dataset import Dataset\n",
        "from azureml.train.automl import AutoMLConfig\n",
        "from azureml.interpret import ExplanationClient\n",
        "from azureml.automl.runtime.onnx_convert import OnnxConverter\n",
        "from azureml.data.dataset_factory import TabularDatasetFactory\n",
        "from sklearn.preprocessing import OneHotEncoder\n",
        "import pandas as pd\n",
        "from azureml.core.run import Run\n",
        "from sklearn.model_selection import train_test_split\n",
        "from azureml.widgets import RunDetails\n",
        "from azureml.train.sklearn import SKLearn\n",
        "\n",
        "print(\"SDK version:\", azureml.core.VERSION)"
      ],
      "outputs": [
        {
          "output_type": "stream",
          "name": "stdout",
          "text": [
            "SDK version: 1.19.0\n"
          ]
        }
      ],
      "execution_count": 7,
      "metadata": {
        "gather": {
          "logged": 1610916980866
        },
        "jupyter": {
          "outputs_hidden": false,
          "source_hidden": false
        },
        "nteract": {
          "transient": {
            "deleting": false
          }
        }
      }
    },
    {
      "cell_type": "markdown",
      "source": [
        "## Dataset\n",
        "\n",
        "### Overview\n",
        "TODO: In this markdown cell, give an overview of the dataset you are using. Also mention the task you will be performing.\n",
        "\n",
        "\n",
        "TODO: Get data. In the cell below, write code to access the data you will be using in this project. Remember that the dataset needs to be external."
      ],
      "metadata": {}
    },
    {
      "cell_type": "code",
      "source": [
        "ws = Workspace.from_config()\n",
        "ws.write_config(path='.azureml')\n",
        "\n",
        "# choose a name for experiment\n",
        "experiment_name = 'automl-classification-experiment'\n",
        "\n",
        "experiment=Experiment(ws, experiment_name)\n",
        "\n",
        "print('Workspace name: ' + ws.name, \n",
        "      'Azure region: ' + ws.location, \n",
        "      'Subscription id: ' + ws.subscription_id, \n",
        "      'Resource group: ' + ws.resource_group, sep = '\\n')\n",
        "\n",
        "run = experiment.start_logging()"
      ],
      "outputs": [
        {
          "output_type": "stream",
          "name": "stdout",
          "text": [
            "Performing interactive authentication. Please follow the instructions on the terminal.\n",
            "To sign in, use a web browser to open the page https://microsoft.com/devicelogin and enter the code AYU4BM3PA to authenticate.\n",
            "You have logged in. Now let us find all the subscriptions to which you have access...\n",
            "Interactive authentication successfully completed.\n",
            "Workspace name: quick-starts-ws-135114\n",
            "Azure region: southcentralus\n",
            "Subscription id: 9a7511b8-150f-4a58-8528-3e7d50216c31\n",
            "Resource group: aml-quickstarts-135114\n"
          ]
        }
      ],
      "execution_count": 8,
      "metadata": {
        "gather": {
          "logged": 1610917031096
        },
        "jupyter": {
          "outputs_hidden": false,
          "source_hidden": false
        },
        "nteract": {
          "transient": {
            "deleting": false
          }
        }
      }
    },
    {
      "cell_type": "code",
      "source": [
        "from azureml.core.compute import ComputeTarget, AmlCompute\n",
        "from azureml.core.compute_target import ComputeTargetException\n",
        "\n",
        "cpu_cluster_name = \"cpu-cluster-1\"\n",
        "try:\n",
        "    compute_target = ComputeTarget(workspace=ws, name=cpu_cluster_name)\n",
        "    print('Found existing cluster')\n",
        "except ComputeTargetException:\n",
        "    compute_config = AmlCompute.provisioning_configuration(vm_size='STANDARD_D2_V2', max_nodes=4)\n",
        "    compute_target = ComputeTarget.create(ws, cpu_cluster_name, compute_config)\n",
        "    compute_target.wait_for_completion(show_output=True)"
      ],
      "outputs": [
        {
          "output_type": "stream",
          "name": "stdout",
          "text": [
            "Found existing cluster\n"
          ]
        }
      ],
      "execution_count": 9,
      "metadata": {
        "gather": {
          "logged": 1610917035714
        }
      }
    },
    {
      "cell_type": "code",
      "source": [
        "key = 'uciheartfailuredataset'\n",
        "if key in ws.datasets.keys(): \n",
        "    dataset = ws.datasets[key] \n",
        "    print(\"Found dataset\")\n",
        "else:\n",
        "    url = 'https://archive.ics.uci.edu/ml/machine-learning-databases/00519/heart_failure_clinical_records_dataset.csv'\n",
        "    dataset = Dataset.Tabular.from_delimited_files(url)\n",
        "    dataset = dataset.register(workspace=ws, name=key)"
      ],
      "outputs": [
        {
          "output_type": "stream",
          "name": "stdout",
          "text": [
            "Found dataset\n"
          ]
        }
      ],
      "execution_count": 10,
      "metadata": {
        "gather": {
          "logged": 1610917042606
        }
      }
    },
    {
      "cell_type": "code",
      "source": [
        "ds = dataset.to_pandas_dataframe()\n",
        "train, test = train_test_split(ds, random_state=625, shuffle=True)"
      ],
      "outputs": [],
      "execution_count": 11,
      "metadata": {
        "gather": {
          "logged": 1610917065357
        }
      }
    },
    {
      "cell_type": "code",
      "source": [
        "train.to_csv('train.csv', index=False)\n",
        "datastore = ws.get_default_datastore()\n",
        "datastore.upload_files(files = ['./train.csv'])\n",
        "train = Dataset.Tabular.from_delimited_files(path = [(datastore,'train.csv')])"
      ],
      "outputs": [
        {
          "output_type": "stream",
          "name": "stdout",
          "text": [
            "Uploading an estimated of 1 files\n",
            "Target already exists. Skipping upload for train.csv\n",
            "Uploaded 0 files\n"
          ]
        }
      ],
      "execution_count": 12,
      "metadata": {
        "gather": {
          "logged": 1610917075806
        }
      }
    },
    {
      "cell_type": "markdown",
      "source": [
        "## AutoML Configuration\n",
        "\n",
        "TODO: Explain why you chose the automl settings and cofiguration you used below."
      ],
      "metadata": {}
    },
    {
      "cell_type": "code",
      "source": [
        "# TODO: Put your automl settings here\n",
        "automl_settings = {\n",
        "    \"experiment_timeout_hours\" : 0.3,\n",
        "    \"enable_early_stopping\" : True,\n",
        "    \"iteration_timeout_minutes\": 5,\n",
        "    \"max_concurrent_iterations\": 4,\n",
        "    \"max_cores_per_iteration\": -1,\n",
        "    \"primary_metric\": 'accuracy',\n",
        "    \"featurization\": 'auto',\n",
        "    \"verbosity\": logging.INFO,\n",
        "}\n",
        "\n",
        "# TODO: Put your automl config here\n",
        "automl_config = AutoMLConfig(\n",
        "    experiment_timeout_minutes=30,\n",
        "    debug_log = 'automl_errors.log',\n",
        "    compute_target=compute_target,\n",
        "    task=\"classification\",\n",
        "    training_data= train,\n",
        "    label_column_name=\"DEATH_EVENT\",\n",
        "    enable_onnx_compatible_models=True,\n",
        "    n_cross_validations= 3,\n",
        "    **automl_settings)"
      ],
      "outputs": [],
      "execution_count": 13,
      "metadata": {
        "gather": {
          "logged": 1610917083331
        },
        "jupyter": {
          "outputs_hidden": false,
          "source_hidden": false
        },
        "nteract": {
          "transient": {
            "deleting": false
          }
        }
      }
    },
    {
      "cell_type": "code",
      "source": [
        "# TODO: Submit your experiment\n",
        "remote_run = experiment.submit(automl_config,show_output = False)"
      ],
      "outputs": [
        {
          "output_type": "stream",
          "name": "stdout",
          "text": [
            "Running on remote.\n"
          ]
        }
      ],
      "execution_count": 14,
      "metadata": {
        "gather": {
          "logged": 1610917092518
        },
        "jupyter": {
          "outputs_hidden": false,
          "source_hidden": false
        },
        "nteract": {
          "transient": {
            "deleting": false
          }
        }
      }
    },
    {
      "cell_type": "markdown",
      "source": [
        "## Run Details\n",
        "\n",
        "OPTIONAL: Write about the different models trained and their performance. Why do you think some models did better than others?\n",
        "\n",
        "TODO: In the cell below, use the `RunDetails` widget to show the different experiments."
      ],
      "metadata": {}
    },
    {
      "cell_type": "code",
      "source": [
        "RunDetails(remote_run).show()"
      ],
      "outputs": [
        {
          "output_type": "display_data",
          "data": {
            "text/plain": "_AutoMLWidget(widget_settings={'childWidgetDisplay': 'popup', 'send_telemetry': False, 'log_level': 'INFO', 's…",
            "application/vnd.jupyter.widget-view+json": {
              "version_major": 2,
              "version_minor": 0,
              "model_id": "98dfc6e7051d4c738036852e61c6ecb9"
            }
          },
          "metadata": {}
        },
        {
          "output_type": "display_data",
          "data": {
            "application/aml.mini.widget.v1": "{\"status\": \"Running\", \"workbench_run_details_uri\": \"https://ml.azure.com/experiments/automl-classification-experiment/runs/AutoML_236ad473-eaa7-49b9-8324-8eaf91045017?wsid=/subscriptions/9a7511b8-150f-4a58-8528-3e7d50216c31/resourcegroups/aml-quickstarts-135114/workspaces/quick-starts-ws-135114\", \"run_id\": \"AutoML_236ad473-eaa7-49b9-8324-8eaf91045017\", \"run_properties\": {\"run_id\": \"AutoML_236ad473-eaa7-49b9-8324-8eaf91045017\", \"created_utc\": \"2021-01-17T20:58:11.473958Z\", \"properties\": {\"num_iterations\": \"1000\", \"training_type\": \"TrainFull\", \"acquisition_function\": \"EI\", \"primary_metric\": \"accuracy\", \"train_split\": \"0\", \"acquisition_parameter\": \"0\", \"num_cross_validation\": \"3\", \"target\": \"cpu-cluster-1\", \"AMLSettingsJsonString\": \"{\\\"path\\\":null,\\\"name\\\":\\\"automl-classification-experiment\\\",\\\"subscription_id\\\":\\\"9a7511b8-150f-4a58-8528-3e7d50216c31\\\",\\\"resource_group\\\":\\\"aml-quickstarts-135114\\\",\\\"workspace_name\\\":\\\"quick-starts-ws-135114\\\",\\\"region\\\":\\\"southcentralus\\\",\\\"compute_target\\\":\\\"cpu-cluster-1\\\",\\\"spark_service\\\":null,\\\"azure_service\\\":\\\"remote\\\",\\\"many_models\\\":false,\\\"pipeline_fetch_max_batch_size\\\":1,\\\"iterations\\\":1000,\\\"primary_metric\\\":\\\"accuracy\\\",\\\"task_type\\\":\\\"classification\\\",\\\"data_script\\\":null,\\\"validation_size\\\":0.0,\\\"n_cross_validations\\\":3,\\\"y_min\\\":null,\\\"y_max\\\":null,\\\"num_classes\\\":null,\\\"featurization\\\":\\\"auto\\\",\\\"_ignore_package_version_incompatibilities\\\":false,\\\"is_timeseries\\\":false,\\\"max_cores_per_iteration\\\":-1,\\\"max_concurrent_iterations\\\":4,\\\"iteration_timeout_minutes\\\":5,\\\"mem_in_mb\\\":null,\\\"enforce_time_on_windows\\\":false,\\\"experiment_timeout_minutes\\\":30,\\\"experiment_exit_score\\\":null,\\\"whitelist_models\\\":null,\\\"blacklist_algos\\\":[\\\"TensorFlowLinearClassifier\\\",\\\"TensorFlowDNN\\\"],\\\"supported_models\\\":[\\\"AveragedPerceptronClassifier\\\",\\\"LightGBM\\\",\\\"ExtremeRandomTrees\\\",\\\"GradientBoosting\\\",\\\"TensorFlowLinearClassifier\\\",\\\"TensorFlowDNN\\\",\\\"RandomForest\\\",\\\"LinearSVM\\\",\\\"MultinomialNaiveBayes\\\",\\\"KNN\\\",\\\"SVM\\\",\\\"SGD\\\",\\\"LogisticRegression\\\",\\\"DecisionTree\\\",\\\"BernoulliNaiveBayes\\\",\\\"XGBoostClassifier\\\"],\\\"auto_blacklist\\\":true,\\\"blacklist_samples_reached\\\":false,\\\"exclude_nan_labels\\\":true,\\\"verbosity\\\":20,\\\"_debug_log\\\":\\\"azureml_automl.log\\\",\\\"show_warnings\\\":false,\\\"model_explainability\\\":true,\\\"service_url\\\":null,\\\"sdk_url\\\":null,\\\"sdk_packages\\\":null,\\\"enable_onnx_compatible_models\\\":true,\\\"enable_split_onnx_featurizer_estimator_models\\\":false,\\\"vm_type\\\":\\\"STANDARD_D2_V2\\\",\\\"telemetry_verbosity\\\":20,\\\"send_telemetry\\\":true,\\\"enable_dnn\\\":false,\\\"scenario\\\":\\\"SDK-1.13.0\\\",\\\"environment_label\\\":null,\\\"force_text_dnn\\\":false,\\\"enable_feature_sweeping\\\":false,\\\"enable_early_stopping\\\":true,\\\"early_stopping_n_iters\\\":10,\\\"metrics\\\":null,\\\"enable_ensembling\\\":true,\\\"enable_stack_ensembling\\\":false,\\\"ensemble_iterations\\\":15,\\\"enable_tf\\\":false,\\\"enable_subsampling\\\":null,\\\"subsample_seed\\\":null,\\\"enable_nimbusml\\\":false,\\\"enable_streaming\\\":false,\\\"force_streaming\\\":false,\\\"track_child_runs\\\":true,\\\"allowed_private_models\\\":[],\\\"label_column_name\\\":\\\"DEATH_EVENT\\\",\\\"weight_column_name\\\":null,\\\"cv_split_column_names\\\":null,\\\"enable_local_managed\\\":false,\\\"_local_managed_run_id\\\":null,\\\"cost_mode\\\":1,\\\"lag_length\\\":0,\\\"metric_operation\\\":\\\"maximize\\\",\\\"preprocess\\\":true}\", \"DataPrepJsonString\": \"{\\\\\\\"training_data\\\\\\\": \\\\\\\"{\\\\\\\\\\\\\\\"blocks\\\\\\\\\\\\\\\": [{\\\\\\\\\\\\\\\"id\\\\\\\\\\\\\\\": \\\\\\\\\\\\\\\"d807b9e2-5978-4f5e-8706-4bf8a5719764\\\\\\\\\\\\\\\", \\\\\\\\\\\\\\\"type\\\\\\\\\\\\\\\": \\\\\\\\\\\\\\\"Microsoft.DPrep.GetDatastoreFilesBlock\\\\\\\\\\\\\\\", \\\\\\\\\\\\\\\"arguments\\\\\\\\\\\\\\\": {\\\\\\\\\\\\\\\"datastores\\\\\\\\\\\\\\\": [{\\\\\\\\\\\\\\\"datastoreName\\\\\\\\\\\\\\\": \\\\\\\\\\\\\\\"workspaceblobstore\\\\\\\\\\\\\\\", \\\\\\\\\\\\\\\"path\\\\\\\\\\\\\\\": \\\\\\\\\\\\\\\"train.csv\\\\\\\\\\\\\\\", \\\\\\\\\\\\\\\"resourceGroup\\\\\\\\\\\\\\\": \\\\\\\\\\\\\\\"aml-quickstarts-135114\\\\\\\\\\\\\\\", \\\\\\\\\\\\\\\"subscription\\\\\\\\\\\\\\\": \\\\\\\\\\\\\\\"9a7511b8-150f-4a58-8528-3e7d50216c31\\\\\\\\\\\\\\\", \\\\\\\\\\\\\\\"workspaceName\\\\\\\\\\\\\\\": \\\\\\\\\\\\\\\"quick-starts-ws-135114\\\\\\\\\\\\\\\"}]}, \\\\\\\\\\\\\\\"localData\\\\\\\\\\\\\\\": {}, \\\\\\\\\\\\\\\"isEnabled\\\\\\\\\\\\\\\": true, \\\\\\\\\\\\\\\"name\\\\\\\\\\\\\\\": null, \\\\\\\\\\\\\\\"annotation\\\\\\\\\\\\\\\": null}, {\\\\\\\\\\\\\\\"id\\\\\\\\\\\\\\\": \\\\\\\\\\\\\\\"3de35c7a-a20e-4793-9f00-4c998f5f25cd\\\\\\\\\\\\\\\", \\\\\\\\\\\\\\\"type\\\\\\\\\\\\\\\": \\\\\\\\\\\\\\\"Microsoft.DPrep.ParseDelimitedBlock\\\\\\\\\\\\\\\", \\\\\\\\\\\\\\\"arguments\\\\\\\\\\\\\\\": {\\\\\\\\\\\\\\\"columnHeadersMode\\\\\\\\\\\\\\\": 3, \\\\\\\\\\\\\\\"fileEncoding\\\\\\\\\\\\\\\": 0, \\\\\\\\\\\\\\\"handleQuotedLineBreaks\\\\\\\\\\\\\\\": false, \\\\\\\\\\\\\\\"preview\\\\\\\\\\\\\\\": false, \\\\\\\\\\\\\\\"separator\\\\\\\\\\\\\\\": \\\\\\\\\\\\\\\",\\\\\\\\\\\\\\\", \\\\\\\\\\\\\\\"skipRows\\\\\\\\\\\\\\\": 0, \\\\\\\\\\\\\\\"skipRowsMode\\\\\\\\\\\\\\\": 0}, \\\\\\\\\\\\\\\"localData\\\\\\\\\\\\\\\": {}, \\\\\\\\\\\\\\\"isEnabled\\\\\\\\\\\\\\\": true, \\\\\\\\\\\\\\\"name\\\\\\\\\\\\\\\": null, \\\\\\\\\\\\\\\"annotation\\\\\\\\\\\\\\\": null}, {\\\\\\\\\\\\\\\"id\\\\\\\\\\\\\\\": \\\\\\\\\\\\\\\"eb9049b7-374a-4f27-9486-312f259402f6\\\\\\\\\\\\\\\", \\\\\\\\\\\\\\\"type\\\\\\\\\\\\\\\": \\\\\\\\\\\\\\\"Microsoft.DPrep.DropColumnsBlock\\\\\\\\\\\\\\\", \\\\\\\\\\\\\\\"arguments\\\\\\\\\\\\\\\": {\\\\\\\\\\\\\\\"columns\\\\\\\\\\\\\\\": {\\\\\\\\\\\\\\\"type\\\\\\\\\\\\\\\": 0, \\\\\\\\\\\\\\\"details\\\\\\\\\\\\\\\": {\\\\\\\\\\\\\\\"selectedColumns\\\\\\\\\\\\\\\": [\\\\\\\\\\\\\\\"Path\\\\\\\\\\\\\\\"]}}}, \\\\\\\\\\\\\\\"localData\\\\\\\\\\\\\\\": {}, \\\\\\\\\\\\\\\"isEnabled\\\\\\\\\\\\\\\": true, \\\\\\\\\\\\\\\"name\\\\\\\\\\\\\\\": null, \\\\\\\\\\\\\\\"annotation\\\\\\\\\\\\\\\": null}, {\\\\\\\\\\\\\\\"id\\\\\\\\\\\\\\\": \\\\\\\\\\\\\\\"2190814d-0fd7-4996-85ae-086d8aaae89f\\\\\\\\\\\\\\\", \\\\\\\\\\\\\\\"type\\\\\\\\\\\\\\\": \\\\\\\\\\\\\\\"Microsoft.DPrep.SetColumnTypesBlock\\\\\\\\\\\\\\\", \\\\\\\\\\\\\\\"arguments\\\\\\\\\\\\\\\": {\\\\\\\\\\\\\\\"columnConversion\\\\\\\\\\\\\\\": [{\\\\\\\\\\\\\\\"column\\\\\\\\\\\\\\\": {\\\\\\\\\\\\\\\"type\\\\\\\\\\\\\\\": 2, \\\\\\\\\\\\\\\"details\\\\\\\\\\\\\\\": {\\\\\\\\\\\\\\\"selectedColumn\\\\\\\\\\\\\\\": \\\\\\\\\\\\\\\"age\\\\\\\\\\\\\\\"}}, \\\\\\\\\\\\\\\"typeProperty\\\\\\\\\\\\\\\": 3}, {\\\\\\\\\\\\\\\"column\\\\\\\\\\\\\\\": {\\\\\\\\\\\\\\\"type\\\\\\\\\\\\\\\": 2, \\\\\\\\\\\\\\\"details\\\\\\\\\\\\\\\": {\\\\\\\\\\\\\\\"selectedColumn\\\\\\\\\\\\\\\": \\\\\\\\\\\\\\\"anaemia\\\\\\\\\\\\\\\"}}, \\\\\\\\\\\\\\\"typeProperty\\\\\\\\\\\\\\\": 2}, {\\\\\\\\\\\\\\\"column\\\\\\\\\\\\\\\": {\\\\\\\\\\\\\\\"type\\\\\\\\\\\\\\\": 2, \\\\\\\\\\\\\\\"details\\\\\\\\\\\\\\\": {\\\\\\\\\\\\\\\"selectedColumn\\\\\\\\\\\\\\\": \\\\\\\\\\\\\\\"creatinine_phosphokinase\\\\\\\\\\\\\\\"}}, \\\\\\\\\\\\\\\"typeProperty\\\\\\\\\\\\\\\": 2}, {\\\\\\\\\\\\\\\"column\\\\\\\\\\\\\\\": {\\\\\\\\\\\\\\\"type\\\\\\\\\\\\\\\": 2, \\\\\\\\\\\\\\\"details\\\\\\\\\\\\\\\": {\\\\\\\\\\\\\\\"selectedColumn\\\\\\\\\\\\\\\": \\\\\\\\\\\\\\\"diabetes\\\\\\\\\\\\\\\"}}, \\\\\\\\\\\\\\\"typeProperty\\\\\\\\\\\\\\\": 2}, {\\\\\\\\\\\\\\\"column\\\\\\\\\\\\\\\": {\\\\\\\\\\\\\\\"type\\\\\\\\\\\\\\\": 2, \\\\\\\\\\\\\\\"details\\\\\\\\\\\\\\\": {\\\\\\\\\\\\\\\"selectedColumn\\\\\\\\\\\\\\\": \\\\\\\\\\\\\\\"ejection_fraction\\\\\\\\\\\\\\\"}}, \\\\\\\\\\\\\\\"typeProperty\\\\\\\\\\\\\\\": 2}, {\\\\\\\\\\\\\\\"column\\\\\\\\\\\\\\\": {\\\\\\\\\\\\\\\"type\\\\\\\\\\\\\\\": 2, \\\\\\\\\\\\\\\"details\\\\\\\\\\\\\\\": {\\\\\\\\\\\\\\\"selectedColumn\\\\\\\\\\\\\\\": \\\\\\\\\\\\\\\"high_blood_pressure\\\\\\\\\\\\\\\"}}, \\\\\\\\\\\\\\\"typeProperty\\\\\\\\\\\\\\\": 2}, {\\\\\\\\\\\\\\\"column\\\\\\\\\\\\\\\": {\\\\\\\\\\\\\\\"type\\\\\\\\\\\\\\\": 2, \\\\\\\\\\\\\\\"details\\\\\\\\\\\\\\\": {\\\\\\\\\\\\\\\"selectedColumn\\\\\\\\\\\\\\\": \\\\\\\\\\\\\\\"platelets\\\\\\\\\\\\\\\"}}, \\\\\\\\\\\\\\\"typeProperty\\\\\\\\\\\\\\\": 3}, {\\\\\\\\\\\\\\\"column\\\\\\\\\\\\\\\": {\\\\\\\\\\\\\\\"type\\\\\\\\\\\\\\\": 2, \\\\\\\\\\\\\\\"details\\\\\\\\\\\\\\\": {\\\\\\\\\\\\\\\"selectedColumn\\\\\\\\\\\\\\\": \\\\\\\\\\\\\\\"serum_creatinine\\\\\\\\\\\\\\\"}}, \\\\\\\\\\\\\\\"typeProperty\\\\\\\\\\\\\\\": 3}, {\\\\\\\\\\\\\\\"column\\\\\\\\\\\\\\\": {\\\\\\\\\\\\\\\"type\\\\\\\\\\\\\\\": 2, \\\\\\\\\\\\\\\"details\\\\\\\\\\\\\\\": {\\\\\\\\\\\\\\\"selectedColumn\\\\\\\\\\\\\\\": \\\\\\\\\\\\\\\"serum_sodium\\\\\\\\\\\\\\\"}}, \\\\\\\\\\\\\\\"typeProperty\\\\\\\\\\\\\\\": 2}, {\\\\\\\\\\\\\\\"column\\\\\\\\\\\\\\\": {\\\\\\\\\\\\\\\"type\\\\\\\\\\\\\\\": 2, \\\\\\\\\\\\\\\"details\\\\\\\\\\\\\\\": {\\\\\\\\\\\\\\\"selectedColumn\\\\\\\\\\\\\\\": \\\\\\\\\\\\\\\"sex\\\\\\\\\\\\\\\"}}, \\\\\\\\\\\\\\\"typeProperty\\\\\\\\\\\\\\\": 2}, {\\\\\\\\\\\\\\\"column\\\\\\\\\\\\\\\": {\\\\\\\\\\\\\\\"type\\\\\\\\\\\\\\\": 2, \\\\\\\\\\\\\\\"details\\\\\\\\\\\\\\\": {\\\\\\\\\\\\\\\"selectedColumn\\\\\\\\\\\\\\\": \\\\\\\\\\\\\\\"smoking\\\\\\\\\\\\\\\"}}, \\\\\\\\\\\\\\\"typeProperty\\\\\\\\\\\\\\\": 2}, {\\\\\\\\\\\\\\\"column\\\\\\\\\\\\\\\": {\\\\\\\\\\\\\\\"type\\\\\\\\\\\\\\\": 2, \\\\\\\\\\\\\\\"details\\\\\\\\\\\\\\\": {\\\\\\\\\\\\\\\"selectedColumn\\\\\\\\\\\\\\\": \\\\\\\\\\\\\\\"time\\\\\\\\\\\\\\\"}}, \\\\\\\\\\\\\\\"typeProperty\\\\\\\\\\\\\\\": 2}, {\\\\\\\\\\\\\\\"column\\\\\\\\\\\\\\\": {\\\\\\\\\\\\\\\"type\\\\\\\\\\\\\\\": 2, \\\\\\\\\\\\\\\"details\\\\\\\\\\\\\\\": {\\\\\\\\\\\\\\\"selectedColumn\\\\\\\\\\\\\\\": \\\\\\\\\\\\\\\"DEATH_EVENT\\\\\\\\\\\\\\\"}}, \\\\\\\\\\\\\\\"typeProperty\\\\\\\\\\\\\\\": 2}]}, \\\\\\\\\\\\\\\"localData\\\\\\\\\\\\\\\": {}, \\\\\\\\\\\\\\\"isEnabled\\\\\\\\\\\\\\\": true, \\\\\\\\\\\\\\\"name\\\\\\\\\\\\\\\": null, \\\\\\\\\\\\\\\"annotation\\\\\\\\\\\\\\\": null}], \\\\\\\\\\\\\\\"inspectors\\\\\\\\\\\\\\\": [], \\\\\\\\\\\\\\\"meta\\\\\\\\\\\\\\\": {\\\\\\\\\\\\\\\"savedDatasetId\\\\\\\\\\\\\\\": \\\\\\\\\\\\\\\"b2c2f3ef-239b-4d3b-b436-5c9086492cfd\\\\\\\\\\\\\\\", \\\\\\\\\\\\\\\"datasetType\\\\\\\\\\\\\\\": \\\\\\\\\\\\\\\"tabular\\\\\\\\\\\\\\\", \\\\\\\\\\\\\\\"subscriptionId\\\\\\\\\\\\\\\": \\\\\\\\\\\\\\\"9a7511b8-150f-4a58-8528-3e7d50216c31\\\\\\\\\\\\\\\", \\\\\\\\\\\\\\\"workspaceId\\\\\\\\\\\\\\\": \\\\\\\\\\\\\\\"797bc527-3a81-4da1-9374-8cbda6fa8a8b\\\\\\\\\\\\\\\", \\\\\\\\\\\\\\\"workspaceLocation\\\\\\\\\\\\\\\": \\\\\\\\\\\\\\\"southcentralus\\\\\\\\\\\\\\\"}}\\\\\\\", \\\\\\\"activities\\\\\\\": 0}\", \"EnableSubsampling\": null, \"runTemplate\": \"AutoML\", \"azureml.runsource\": \"automl\", \"display_task_type\": \"classification\", \"dependencies_versions\": \"{\\\"azureml-widgets\\\": \\\"1.19.0\\\", \\\"azureml-train\\\": \\\"1.19.0\\\", \\\"azureml-train-restclients-hyperdrive\\\": \\\"1.19.0\\\", \\\"azureml-train-core\\\": \\\"1.19.0\\\", \\\"azureml-train-automl\\\": \\\"1.19.0\\\", \\\"azureml-train-automl-runtime\\\": \\\"1.19.0\\\", \\\"azureml-train-automl-client\\\": \\\"1.19.0\\\", \\\"azureml-tensorboard\\\": \\\"1.19.0\\\", \\\"azureml-telemetry\\\": \\\"1.19.0\\\", \\\"azureml-sdk\\\": \\\"1.19.0\\\", \\\"azureml-samples\\\": \\\"0+unknown\\\", \\\"azureml-pipeline\\\": \\\"1.19.0\\\", \\\"azureml-pipeline-steps\\\": \\\"1.19.0\\\", \\\"azureml-pipeline-core\\\": \\\"1.19.0\\\", \\\"azureml-opendatasets\\\": \\\"1.19.0\\\", \\\"azureml-model-management-sdk\\\": \\\"1.0.1b6.post1\\\", \\\"azureml-mlflow\\\": \\\"1.19.0\\\", \\\"azureml-interpret\\\": \\\"1.19.0\\\", \\\"azureml-explain-model\\\": \\\"1.19.0\\\", \\\"azureml-defaults\\\": \\\"1.19.0\\\", \\\"azureml-dataset-runtime\\\": \\\"1.19.0.post1\\\", \\\"azureml-dataprep\\\": \\\"2.6.1\\\", \\\"azureml-dataprep-rslex\\\": \\\"1.4.0\\\", \\\"azureml-dataprep-native\\\": \\\"26.0.0\\\", \\\"azureml-datadrift\\\": \\\"1.19.0\\\", \\\"azureml-core\\\": \\\"1.19.0\\\", \\\"azureml-contrib-services\\\": \\\"1.19.0\\\", \\\"azureml-contrib-server\\\": \\\"1.19.0\\\", \\\"azureml-contrib-reinforcementlearning\\\": \\\"1.19.0\\\", \\\"azureml-contrib-pipeline-steps\\\": \\\"1.19.0\\\", \\\"azureml-contrib-notebook\\\": \\\"1.19.0\\\", \\\"azureml-contrib-interpret\\\": \\\"1.19.0\\\", \\\"azureml-contrib-gbdt\\\": \\\"1.19.0\\\", \\\"azureml-contrib-fairness\\\": \\\"1.19.0\\\", \\\"azureml-contrib-dataset\\\": \\\"1.19.0\\\", \\\"azureml-cli-common\\\": \\\"1.19.0\\\", \\\"azureml-automl-runtime\\\": \\\"1.19.0\\\", \\\"azureml-automl-core\\\": \\\"1.19.0\\\", \\\"azureml-accel-models\\\": \\\"1.19.0\\\"}\", \"_aml_system_scenario_identification\": \"Remote.Parent\", \"ClientType\": \"SDK\", \"environment_cpu_name\": \"AzureML-AutoML\", \"environment_cpu_label\": \"prod\", \"environment_gpu_name\": \"AzureML-AutoML-GPU\", \"environment_gpu_label\": \"prod\", \"root_attribution\": \"automl\", \"attribution\": \"AutoML\", \"Orchestrator\": \"AutoML\", \"CancelUri\": \"https://southcentralus.experiments.azureml.net/jasmine/v1.0/subscriptions/9a7511b8-150f-4a58-8528-3e7d50216c31/resourceGroups/aml-quickstarts-135114/providers/Microsoft.MachineLearningServices/workspaces/quick-starts-ws-135114/experimentids/ffccb687-7dcd-49a8-b88b-4af73f59bdbe/cancel/AutoML_236ad473-eaa7-49b9-8324-8eaf91045017\", \"ClientSdkVersion\": \"1.19.0\", \"snapshotId\": \"00000000-0000-0000-0000-000000000000\", \"SetupRunId\": \"AutoML_236ad473-eaa7-49b9-8324-8eaf91045017_setup\", \"SetupRunContainerId\": \"dcid.AutoML_236ad473-eaa7-49b9-8324-8eaf91045017_setup\", \"FeaturizationRunJsonPath\": \"featurizer_container.json\", \"FeaturizationRunId\": \"AutoML_236ad473-eaa7-49b9-8324-8eaf91045017_featurize\", \"ProblemInfoJsonString\": \"{\\\"dataset_num_categorical\\\": 0, \\\"is_sparse\\\": false, \\\"subsampling\\\": false, \\\"dataset_classes\\\": 2, \\\"dataset_features\\\": 12, \\\"dataset_samples\\\": 224, \\\"single_frequency_class_detected\\\": false}\"}, \"tags\": {\"model_explain_run\": \"best_run\", \"_aml_system_azureml.automlComponent\": \"AutoML\", \"pipeline_id\": \"<5dfac790c5c209f98a1da2dc1c7fb76f0397324f>;<b19eeb61727e9c4fbb5aa45fb6e9fe3fab5b1f04>;<c7af0367625be6ac5c2fecbfc72ed444cb7a2111>;<cf1dc9b7ea4a50d759bce352343ec6737501695a>;\", \"score\": \"<0.8614414414414414>;<0.8436036036036038>;<0.8612612612612612>;<0.8392192192192193>;\", \"predicted_cost\": \"<0>;<0.5>;<0>;<0.5>;\", \"fit_time\": \"<0.025901666666666667>;<0.21396800000000002>;<0.022249>;<0.20971433333333334>;\", \"training_percent\": \"<100>;<100>;<100>;<100>;\", \"iteration\": \"<0>;<3>;<1>;<2>;\", \"run_preprocessor\": \"<MaxAbsScaler>;<MinMaxScaler>;<MaxAbsScaler>;<MinMaxScaler>;\", \"run_algorithm\": \"<LightGBM>;<RandomForest>;<XGBoostClassifier>;<RandomForest>;\"}, \"end_time_utc\": null, \"status\": \"Running\", \"log_files\": {}, \"log_groups\": [], \"run_duration\": \"0:33:42\"}, \"child_runs\": [{\"run_id\": \"AutoML_236ad473-eaa7-49b9-8324-8eaf91045017_0\", \"run_number\": 49, \"metric\": null, \"status\": \"Completed\", \"run_type\": \"azureml.scriptrun\", \"training_percent\": \"100\", \"start_time\": \"2021-01-17T21:14:57.278173Z\", \"end_time\": \"2021-01-17T21:20:32.107546Z\", \"created_time\": \"2021-01-17T21:14:07.48999Z\", \"created_time_dt\": \"2021-01-17T21:14:07.48999Z\", \"duration\": \"0:06:24\", \"iteration\": \"0\", \"goal\": \"accuracy_max\", \"run_name\": \"MaxAbsScaler, LightGBM\", \"run_properties\": \"copy=True\", \"primary_metric\": 0.86144144, \"best_metric\": 0.86144144}, {\"run_id\": \"AutoML_236ad473-eaa7-49b9-8324-8eaf91045017_2\", \"run_number\": 50, \"metric\": null, \"status\": \"Completed\", \"run_type\": \"azureml.scriptrun\", \"training_percent\": \"100\", \"start_time\": \"2021-01-17T21:17:26.603244Z\", \"end_time\": \"2021-01-17T21:25:36.632356Z\", \"created_time\": \"2021-01-17T21:14:07.504702Z\", \"created_time_dt\": \"2021-01-17T21:14:07.504702Z\", \"duration\": \"0:11:29\", \"iteration\": \"2\", \"goal\": \"accuracy_max\", \"run_name\": \"MinMaxScaler, RandomForest\", \"run_properties\": \"copy=True, feature_range=(0, 1\", \"primary_metric\": 0.83921922, \"best_metric\": 0.86144144}, {\"run_id\": \"AutoML_236ad473-eaa7-49b9-8324-8eaf91045017_1\", \"run_number\": 51, \"metric\": null, \"status\": \"Completed\", \"run_type\": \"azureml.scriptrun\", \"training_percent\": \"100\", \"start_time\": \"2021-01-17T21:17:28.894117Z\", \"end_time\": \"2021-01-17T21:25:29.846061Z\", \"created_time\": \"2021-01-17T21:14:07.51728Z\", \"created_time_dt\": \"2021-01-17T21:14:07.51728Z\", \"duration\": \"0:11:22\", \"iteration\": \"1\", \"goal\": \"accuracy_max\", \"run_name\": \"MaxAbsScaler, XGBoostClassifier\", \"run_properties\": \"copy=True\", \"primary_metric\": 0.86126126, \"best_metric\": 0.86144144}, {\"run_id\": \"AutoML_236ad473-eaa7-49b9-8324-8eaf91045017_3\", \"run_number\": 52, \"metric\": null, \"status\": \"Completed\", \"run_type\": \"azureml.scriptrun\", \"training_percent\": \"100\", \"start_time\": \"2021-01-17T21:17:26.52937Z\", \"end_time\": \"2021-01-17T21:25:30.21885Z\", \"created_time\": \"2021-01-17T21:14:07.520328Z\", \"created_time_dt\": \"2021-01-17T21:14:07.520328Z\", \"duration\": \"0:11:22\", \"iteration\": \"3\", \"goal\": \"accuracy_max\", \"run_name\": \"MinMaxScaler, RandomForest\", \"run_properties\": \"copy=True, feature_range=(0, 1\", \"primary_metric\": 0.8436036, \"best_metric\": 0.86144144}, {\"run_id\": \"AutoML_236ad473-eaa7-49b9-8324-8eaf91045017_4\", \"run_number\": 53, \"metric\": null, \"status\": \"Running\", \"run_type\": \"azureml.scriptrun\", \"training_percent\": \"100\", \"start_time\": \"2021-01-17T21:29:10.528732Z\", \"end_time\": \"\", \"created_time\": \"2021-01-17T21:20:33.577792Z\", \"created_time_dt\": \"2021-01-17T21:20:33.577792Z\", \"duration\": \"0:11:20\", \"iteration\": \"4\", \"goal\": \"accuracy_max\", \"run_name\": \"MinMaxScaler, RandomForest\", \"run_properties\": \"copy=True, feature_range=(0, 1\", \"primary_metric\": 0.85687688, \"best_metric\": 0.86144144}, {\"run_id\": \"AutoML_236ad473-eaa7-49b9-8324-8eaf91045017_5\", \"run_number\": 54, \"metric\": null, \"status\": \"Queued\", \"run_type\": \"azureml.scriptrun\", \"training_percent\": \"100\", \"start_time\": \"\", \"end_time\": \"\", \"created_time\": \"2021-01-17T21:25:33.889013Z\", \"created_time_dt\": \"2021-01-17T21:25:33.889013Z\", \"duration\": \"0:06:20\", \"iteration\": \"5\", \"goal\": null, \"run_name\": \"Queued\", \"run_properties\": null}, {\"run_id\": \"AutoML_236ad473-eaa7-49b9-8324-8eaf91045017_6\", \"run_number\": 55, \"metric\": null, \"status\": \"Queued\", \"run_type\": \"azureml.scriptrun\", \"training_percent\": \"100\", \"start_time\": \"\", \"end_time\": \"\", \"created_time\": \"2021-01-17T21:25:34.010129Z\", \"created_time_dt\": \"2021-01-17T21:25:34.010129Z\", \"duration\": \"0:06:20\", \"iteration\": \"6\", \"goal\": null, \"run_name\": \"Queued\", \"run_properties\": null}, {\"run_id\": \"AutoML_236ad473-eaa7-49b9-8324-8eaf91045017_7\", \"run_number\": 56, \"metric\": null, \"status\": \"Queued\", \"run_type\": \"azureml.scriptrun\", \"training_percent\": \"100\", \"start_time\": \"\", \"end_time\": \"\", \"created_time\": \"2021-01-17T21:25:42.474931Z\", \"created_time_dt\": \"2021-01-17T21:25:42.474931Z\", \"duration\": \"0:06:11\", \"iteration\": \"7\", \"goal\": null, \"run_name\": \"Queued\", \"run_properties\": null}], \"children_metrics\": {\"categories\": [0], \"series\": {\"average_precision_score_weighted\": [{\"categories\": [\"0\", \"1\", \"2\", \"3\", \"4\"], \"mode\": \"markers\", \"name\": \"average_precision_score_weighted\", \"stepped\": false, \"type\": \"scatter\", \"data\": [0.9242701299408628, 0.9285301310292882, 0.9144150009272316, 0.9009970235729478, 0.9247377402494484]}, {\"categories\": [\"0\", \"1\", \"2\", \"3\", \"4\"], \"mode\": \"lines\", \"name\": \"average_precision_score_weighted_max\", \"stepped\": true, \"type\": \"scatter\", \"data\": [0.9242701299408628, 0.9285301310292882, 0.9285301310292882, 0.9285301310292882, 0.9285301310292882]}], \"f1_score_macro\": [{\"categories\": [\"0\", \"1\", \"2\", \"3\", \"4\"], \"mode\": \"markers\", \"name\": \"f1_score_macro\", \"stepped\": false, \"type\": \"scatter\", \"data\": [0.83215264830915, 0.832478200125259, 0.8060334713788979, 0.8001662007992693, 0.8304205140626183]}, {\"categories\": [\"0\", \"1\", \"2\", \"3\", \"4\"], \"mode\": \"lines\", \"name\": \"f1_score_macro_max\", \"stepped\": true, \"type\": \"scatter\", \"data\": [0.83215264830915, 0.832478200125259, 0.832478200125259, 0.832478200125259, 0.832478200125259]}], \"AUC_weighted\": [{\"categories\": [\"0\", \"1\", \"2\", \"3\", \"4\"], \"mode\": \"markers\", \"name\": \"AUC_weighted\", \"stepped\": false, \"type\": \"scatter\", \"data\": [0.9105514340731732, 0.9114831458396676, 0.9019751023751024, 0.8939368095672444, 0.9189835715009628]}, {\"categories\": [\"0\", \"1\", \"2\", \"3\", \"4\"], \"mode\": \"lines\", \"name\": \"AUC_weighted_max\", \"stepped\": true, \"type\": \"scatter\", \"data\": [0.9105514340731732, 0.9114831458396676, 0.9114831458396676, 0.9114831458396676, 0.9189835715009628]}], \"AUC_micro\": [{\"categories\": [\"0\", \"1\", \"2\", \"3\", \"4\"], \"mode\": \"markers\", \"name\": \"AUC_micro\", \"stepped\": false, \"type\": \"scatter\", \"data\": [0.9266697291886481, 0.9294133917701486, 0.9201115006898789, 0.9103069231393556, 0.9311621459297136]}, {\"categories\": [\"0\", \"1\", \"2\", \"3\", \"4\"], \"mode\": \"lines\", \"name\": \"AUC_micro_max\", \"stepped\": true, \"type\": \"scatter\", \"data\": [0.9266697291886481, 0.9294133917701486, 0.9294133917701486, 0.9294133917701486, 0.9311621459297136]}], \"recall_score_macro\": [{\"categories\": [\"0\", \"1\", \"2\", \"3\", \"4\"], \"mode\": \"markers\", \"name\": \"recall_score_macro\", \"stepped\": false, \"type\": \"scatter\", \"data\": [0.8206040336475118, 0.8196949427384209, 0.7969474004256613, 0.7784073173203607, 0.8249016925103883]}, {\"categories\": [\"0\", \"1\", \"2\", \"3\", \"4\"], \"mode\": \"lines\", \"name\": \"recall_score_macro_max\", \"stepped\": true, \"type\": \"scatter\", \"data\": [0.8206040336475118, 0.8206040336475118, 0.8206040336475118, 0.8206040336475118, 0.8249016925103883]}], \"weighted_accuracy\": [{\"categories\": [\"0\", \"1\", \"2\", \"3\", \"4\"], \"mode\": \"markers\", \"name\": \"weighted_accuracy\", \"stepped\": false, \"type\": \"scatter\", \"data\": [0.8919532125251112, 0.8921682300999093, 0.870859079109295, 0.8929382069035819, 0.8807557689722891]}, {\"categories\": [\"0\", \"1\", \"2\", \"3\", \"4\"], \"mode\": \"lines\", \"name\": \"weighted_accuracy_max\", \"stepped\": true, \"type\": \"scatter\", \"data\": [0.8919532125251112, 0.8921682300999093, 0.8921682300999093, 0.8929382069035819, 0.8929382069035819]}], \"balanced_accuracy\": [{\"categories\": [\"0\", \"1\", \"2\", \"3\", \"4\"], \"mode\": \"markers\", \"name\": \"balanced_accuracy\", \"stepped\": false, \"type\": \"scatter\", \"data\": [0.8206040336475118, 0.8196949427384209, 0.7969474004256613, 0.7784073173203607, 0.8249016925103883]}, {\"categories\": [\"0\", \"1\", \"2\", \"3\", \"4\"], \"mode\": \"lines\", \"name\": \"balanced_accuracy_max\", \"stepped\": true, \"type\": \"scatter\", \"data\": [0.8206040336475118, 0.8206040336475118, 0.8206040336475118, 0.8206040336475118, 0.8249016925103883]}], \"precision_score_macro\": [{\"categories\": [\"0\", \"1\", \"2\", \"3\", \"4\"], \"mode\": \"markers\", \"name\": \"precision_score_macro\", \"stepped\": false, \"type\": \"scatter\", \"data\": [0.8497868217331971, 0.8562141309930551, 0.8191555217374482, 0.8591428860554543, 0.8382065788715405]}, {\"categories\": [\"0\", \"1\", \"2\", \"3\", \"4\"], \"mode\": \"lines\", \"name\": \"precision_score_macro_max\", \"stepped\": true, \"type\": \"scatter\", \"data\": [0.8497868217331971, 0.8562141309930551, 0.8562141309930551, 0.8591428860554543, 0.8591428860554543]}], \"average_precision_score_macro\": [{\"categories\": [\"0\", \"1\", \"2\", \"3\", \"4\"], \"mode\": \"markers\", \"name\": \"average_precision_score_macro\", \"stepped\": false, \"type\": \"scatter\", \"data\": [0.9057521503732796, 0.9119304584207141, 0.89248756614873, 0.8844784756635565, 0.9004590920440027]}, {\"categories\": [\"0\", \"1\", \"2\", \"3\", \"4\"], \"mode\": \"lines\", \"name\": \"average_precision_score_macro_max\", \"stepped\": true, \"type\": \"scatter\", \"data\": [0.9057521503732796, 0.9119304584207141, 0.9119304584207141, 0.9119304584207141, 0.9119304584207141]}], \"precision_score_micro\": [{\"categories\": [\"0\", \"1\", \"2\", \"3\", \"4\"], \"mode\": \"markers\", \"name\": \"precision_score_micro\", \"stepped\": false, \"type\": \"scatter\", \"data\": [0.8614414414414414, 0.8612612612612612, 0.8392192192192193, 0.8436036036036038, 0.856876876876877]}, {\"categories\": [\"0\", \"1\", \"2\", \"3\", \"4\"], \"mode\": \"lines\", \"name\": \"precision_score_micro_max\", \"stepped\": true, \"type\": \"scatter\", \"data\": [0.8614414414414414, 0.8614414414414414, 0.8614414414414414, 0.8614414414414414, 0.8614414414414414]}], \"f1_score_micro\": [{\"categories\": [\"0\", \"1\", \"2\", \"3\", \"4\"], \"mode\": \"markers\", \"name\": \"f1_score_micro\", \"stepped\": false, \"type\": \"scatter\", \"data\": [0.8614414414414414, 0.8612612612612612, 0.8392192192192193, 0.8436036036036038, 0.856876876876877]}, {\"categories\": [\"0\", \"1\", \"2\", \"3\", \"4\"], \"mode\": \"lines\", \"name\": \"f1_score_micro_max\", \"stepped\": true, \"type\": \"scatter\", \"data\": [0.8614414414414414, 0.8614414414414414, 0.8614414414414414, 0.8614414414414414, 0.8614414414414414]}], \"log_loss\": [{\"categories\": [\"0\", \"1\", \"2\", \"3\", \"4\"], \"mode\": \"markers\", \"name\": \"log_loss\", \"stepped\": false, \"type\": \"scatter\", \"data\": [0.3930102701444301, 0.35814544397898834, 0.3731271645521606, 0.39399591588670074, 0.3625364675821943]}, {\"categories\": [\"0\", \"1\", \"2\", \"3\", \"4\"], \"mode\": \"lines\", \"name\": \"log_loss_min\", \"stepped\": true, \"type\": \"scatter\", \"data\": [0.3930102701444301, 0.35814544397898834, 0.35814544397898834, 0.35814544397898834, 0.35814544397898834]}], \"norm_macro_recall\": [{\"categories\": [\"0\", \"1\", \"2\", \"3\", \"4\"], \"mode\": \"markers\", \"name\": \"norm_macro_recall\", \"stepped\": false, \"type\": \"scatter\", \"data\": [0.6412080672950238, 0.639389885476842, 0.5938948008513226, 0.5568146346407216, 0.6498033850207763]}, {\"categories\": [\"0\", \"1\", \"2\", \"3\", \"4\"], \"mode\": \"lines\", \"name\": \"norm_macro_recall_max\", \"stepped\": true, \"type\": \"scatter\", \"data\": [0.6412080672950238, 0.6412080672950238, 0.6412080672950238, 0.6412080672950238, 0.6498033850207763]}], \"f1_score_weighted\": [{\"categories\": [\"0\", \"1\", \"2\", \"3\", \"4\"], \"mode\": \"markers\", \"name\": \"f1_score_weighted\", \"stepped\": false, \"type\": \"scatter\", \"data\": [0.8588237135782609, 0.8590580625874743, 0.8364168182298526, 0.8351338112013386, 0.8560728716904111]}, {\"categories\": [\"0\", \"1\", \"2\", \"3\", \"4\"], \"mode\": \"lines\", \"name\": \"f1_score_weighted_max\", \"stepped\": true, \"type\": \"scatter\", \"data\": [0.8588237135782609, 0.8590580625874743, 0.8590580625874743, 0.8590580625874743, 0.8590580625874743]}], \"recall_score_weighted\": [{\"categories\": [\"0\", \"1\", \"2\", \"3\", \"4\"], \"mode\": \"markers\", \"name\": \"recall_score_weighted\", \"stepped\": false, \"type\": \"scatter\", \"data\": [0.8614414414414414, 0.8612612612612612, 0.8392192192192193, 0.8436036036036038, 0.856876876876877]}, {\"categories\": [\"0\", \"1\", \"2\", \"3\", \"4\"], \"mode\": \"lines\", \"name\": \"recall_score_weighted_max\", \"stepped\": true, \"type\": \"scatter\", \"data\": [0.8614414414414414, 0.8614414414414414, 0.8614414414414414, 0.8614414414414414, 0.8614414414414414]}], \"AUC_macro\": [{\"categories\": [\"0\", \"1\", \"2\", \"3\", \"4\"], \"mode\": \"markers\", \"name\": \"AUC_macro\", \"stepped\": false, \"type\": \"scatter\", \"data\": [0.9105514340731732, 0.9114831458396676, 0.9019455710955712, 0.8939368095672444, 0.9189835715009629]}, {\"categories\": [\"0\", \"1\", \"2\", \"3\", \"4\"], \"mode\": \"lines\", \"name\": \"AUC_macro_max\", \"stepped\": true, \"type\": \"scatter\", \"data\": [0.9105514340731732, 0.9114831458396676, 0.9114831458396676, 0.9114831458396676, 0.9189835715009629]}], \"accuracy\": [{\"categories\": [\"0\", \"1\", \"2\", \"3\", \"4\"], \"mode\": \"markers\", \"name\": \"accuracy\", \"stepped\": false, \"type\": \"scatter\", \"data\": [0.8614414414414414, 0.8612612612612612, 0.8392192192192193, 0.8436036036036038, 0.856876876876877]}, {\"categories\": [\"0\", \"1\", \"2\", \"3\", \"4\"], \"mode\": \"lines\", \"name\": \"accuracy_max\", \"stepped\": true, \"type\": \"scatter\", \"data\": [0.8614414414414414, 0.8614414414414414, 0.8614414414414414, 0.8614414414414414, 0.8614414414414414]}], \"matthews_correlation\": [{\"categories\": [\"0\", \"1\", \"2\", \"3\", \"4\"], \"mode\": \"markers\", \"name\": \"matthews_correlation\", \"stepped\": false, \"type\": \"scatter\", \"data\": [0.6695313726094962, 0.6740189098545976, 0.61560358491611, 0.6310736048905025, 0.6628258741323249]}, {\"categories\": [\"0\", \"1\", \"2\", \"3\", \"4\"], \"mode\": \"lines\", \"name\": \"matthews_correlation_max\", \"stepped\": true, \"type\": \"scatter\", \"data\": [0.6695313726094962, 0.6740189098545976, 0.6740189098545976, 0.6740189098545976, 0.6740189098545976]}], \"recall_score_micro\": [{\"categories\": [\"0\", \"1\", \"2\", \"3\", \"4\"], \"mode\": \"markers\", \"name\": \"recall_score_micro\", \"stepped\": false, \"type\": \"scatter\", \"data\": [0.8614414414414414, 0.8612612612612612, 0.8392192192192193, 0.8436036036036038, 0.856876876876877]}, {\"categories\": [\"0\", \"1\", \"2\", \"3\", \"4\"], \"mode\": \"lines\", \"name\": \"recall_score_micro_max\", \"stepped\": true, \"type\": \"scatter\", \"data\": [0.8614414414414414, 0.8614414414414414, 0.8614414414414414, 0.8614414414414414, 0.8614414414414414]}], \"precision_score_weighted\": [{\"categories\": [\"0\", \"1\", \"2\", \"3\", \"4\"], \"mode\": \"markers\", \"name\": \"precision_score_weighted\", \"stepped\": false, \"type\": \"scatter\", \"data\": [0.8607005358875601, 0.8646476906020016, 0.8366609088356854, 0.8540145610090965, 0.8569752217476002]}, {\"categories\": [\"0\", \"1\", \"2\", \"3\", \"4\"], \"mode\": \"lines\", \"name\": \"precision_score_weighted_max\", \"stepped\": true, \"type\": \"scatter\", \"data\": [0.8607005358875601, 0.8646476906020016, 0.8646476906020016, 0.8646476906020016, 0.8646476906020016]}], \"average_precision_score_micro\": [{\"categories\": [\"0\", \"1\", \"2\", \"3\", \"4\"], \"mode\": \"markers\", \"name\": \"average_precision_score_micro\", \"stepped\": false, \"type\": \"scatter\", \"data\": [0.9257810372323686, 0.9308486728008186, 0.9201865894958239, 0.8978513801433833, 0.9339038449508971]}, {\"categories\": [\"0\", \"1\", \"2\", \"3\", \"4\"], \"mode\": \"lines\", \"name\": \"average_precision_score_micro_max\", \"stepped\": true, \"type\": \"scatter\", \"data\": [0.9257810372323686, 0.9308486728008186, 0.9308486728008186, 0.9308486728008186, 0.9339038449508971]}]}, \"metricName\": null, \"primaryMetricName\": \"accuracy\", \"showLegend\": false}, \"run_metrics\": [{\"name\": \"experiment_status\", \"run_id\": \"AutoML_236ad473-eaa7-49b9-8324-8eaf91045017\", \"categories\": [0, 1, 2, 3, 4, 5], \"series\": [{\"data\": [\"DatasetEvaluation\", \"FeaturesGeneration\", \"DatasetFeaturization\", \"DatasetFeaturizationCompleted\", \"DatasetCrossValidationSplit\", \"ModelSelection\"]}]}, {\"name\": \"experiment_status_description\", \"run_id\": \"AutoML_236ad473-eaa7-49b9-8324-8eaf91045017\", \"categories\": [0, 1, 2, 3, 4, 5], \"series\": [{\"data\": [\"Gathering dataset statistics.\", \"Generating features for the dataset.\", \"Beginning to fit featurizers and featurize the dataset.\", \"Completed fit featurizers and featurizing the dataset.\", \"Generating individually featurized CV splits.\", \"Beginning model selection.\"]}]}], \"run_logs\": \"Your job is submitted in Azure cloud and we are monitoring to get logs...\", \"graph\": {}, \"widget_settings\": {\"childWidgetDisplay\": \"popup\", \"send_telemetry\": false, \"log_level\": \"INFO\", \"sdk_version\": \"1.19.0\"}, \"loading\": false}"
          },
          "metadata": {}
        }
      ],
      "execution_count": 15,
      "metadata": {
        "gather": {
          "logged": 1610917099203
        },
        "jupyter": {
          "outputs_hidden": false,
          "source_hidden": false
        },
        "nteract": {
          "transient": {
            "deleting": false
          }
        }
      }
    },
    {
      "cell_type": "code",
      "source": [
        "%%time\n",
        "remote_run.wait_for_completion()"
      ],
      "outputs": [
        {
          "output_type": "stream",
          "name": "stdout",
          "text": [
            "CPU times: user 40.1 ms, sys: 0 ns, total: 40.1 ms\n",
            "Wall time: 4.14 s\n"
          ]
        },
        {
          "output_type": "execute_result",
          "execution_count": 10,
          "data": {
            "text/plain": "{'runId': 'AutoML_53a210fc-9c19-4f91-aa28-e98fbf4fd982',\n 'target': 'cpu-cluster-1',\n 'status': 'Completed',\n 'startTimeUtc': '2021-01-17T19:49:35.320308Z',\n 'endTimeUtc': '2021-01-17T20:14:32.830701Z',\n 'properties': {'num_iterations': '1000',\n  'training_type': 'TrainFull',\n  'acquisition_function': 'EI',\n  'primary_metric': 'accuracy',\n  'train_split': '0',\n  'acquisition_parameter': '0',\n  'num_cross_validation': '3',\n  'target': 'cpu-cluster-1',\n  'AMLSettingsJsonString': '{\"path\":null,\"name\":\"automl-classification-experiment\",\"subscription_id\":\"9a7511b8-150f-4a58-8528-3e7d50216c31\",\"resource_group\":\"aml-quickstarts-135114\",\"workspace_name\":\"quick-starts-ws-135114\",\"region\":\"southcentralus\",\"compute_target\":\"cpu-cluster-1\",\"spark_service\":null,\"azure_service\":\"remote\",\"many_models\":false,\"pipeline_fetch_max_batch_size\":1,\"iterations\":1000,\"primary_metric\":\"accuracy\",\"task_type\":\"classification\",\"data_script\":null,\"validation_size\":0.0,\"n_cross_validations\":3,\"y_min\":null,\"y_max\":null,\"num_classes\":null,\"featurization\":\"auto\",\"_ignore_package_version_incompatibilities\":false,\"is_timeseries\":false,\"max_cores_per_iteration\":-1,\"max_concurrent_iterations\":4,\"iteration_timeout_minutes\":5,\"mem_in_mb\":null,\"enforce_time_on_windows\":false,\"experiment_timeout_minutes\":30,\"experiment_exit_score\":null,\"whitelist_models\":null,\"blacklist_algos\":[\"TensorFlowLinearClassifier\",\"TensorFlowDNN\"],\"supported_models\":[\"SVM\",\"BernoulliNaiveBayes\",\"AveragedPerceptronClassifier\",\"DecisionTree\",\"TensorFlowLinearClassifier\",\"SGD\",\"LinearSVM\",\"LightGBM\",\"RandomForest\",\"XGBoostClassifier\",\"KNN\",\"TensorFlowDNN\",\"LogisticRegression\",\"MultinomialNaiveBayes\",\"ExtremeRandomTrees\",\"GradientBoosting\"],\"auto_blacklist\":true,\"blacklist_samples_reached\":false,\"exclude_nan_labels\":true,\"verbosity\":20,\"_debug_log\":\"azureml_automl.log\",\"show_warnings\":false,\"model_explainability\":true,\"service_url\":null,\"sdk_url\":null,\"sdk_packages\":null,\"enable_onnx_compatible_models\":true,\"enable_split_onnx_featurizer_estimator_models\":false,\"vm_type\":\"STANDARD_D2_V2\",\"telemetry_verbosity\":20,\"send_telemetry\":true,\"enable_dnn\":false,\"scenario\":\"SDK-1.13.0\",\"environment_label\":null,\"force_text_dnn\":false,\"enable_feature_sweeping\":false,\"enable_early_stopping\":true,\"early_stopping_n_iters\":10,\"metrics\":null,\"enable_ensembling\":true,\"enable_stack_ensembling\":false,\"ensemble_iterations\":15,\"enable_tf\":false,\"enable_subsampling\":null,\"subsample_seed\":null,\"enable_nimbusml\":false,\"enable_streaming\":false,\"force_streaming\":false,\"track_child_runs\":true,\"allowed_private_models\":[],\"label_column_name\":\"DEATH_EVENT\",\"weight_column_name\":null,\"cv_split_column_names\":null,\"enable_local_managed\":false,\"_local_managed_run_id\":null,\"cost_mode\":1,\"lag_length\":0,\"metric_operation\":\"maximize\",\"preprocess\":true}',\n  'DataPrepJsonString': '{\\\\\"training_data\\\\\": \\\\\"{\\\\\\\\\\\\\"blocks\\\\\\\\\\\\\": [{\\\\\\\\\\\\\"id\\\\\\\\\\\\\": \\\\\\\\\\\\\"cab45bb5-c680-4a49-abb7-d954370ebad7\\\\\\\\\\\\\", \\\\\\\\\\\\\"type\\\\\\\\\\\\\": \\\\\\\\\\\\\"Microsoft.DPrep.GetDatastoreFilesBlock\\\\\\\\\\\\\", \\\\\\\\\\\\\"arguments\\\\\\\\\\\\\": {\\\\\\\\\\\\\"datastores\\\\\\\\\\\\\": [{\\\\\\\\\\\\\"datastoreName\\\\\\\\\\\\\": \\\\\\\\\\\\\"workspaceblobstore\\\\\\\\\\\\\", \\\\\\\\\\\\\"path\\\\\\\\\\\\\": \\\\\\\\\\\\\"train.csv\\\\\\\\\\\\\", \\\\\\\\\\\\\"resourceGroup\\\\\\\\\\\\\": \\\\\\\\\\\\\"aml-quickstarts-135114\\\\\\\\\\\\\", \\\\\\\\\\\\\"subscription\\\\\\\\\\\\\": \\\\\\\\\\\\\"9a7511b8-150f-4a58-8528-3e7d50216c31\\\\\\\\\\\\\", \\\\\\\\\\\\\"workspaceName\\\\\\\\\\\\\": \\\\\\\\\\\\\"quick-starts-ws-135114\\\\\\\\\\\\\"}]}, \\\\\\\\\\\\\"localData\\\\\\\\\\\\\": {}, \\\\\\\\\\\\\"isEnabled\\\\\\\\\\\\\": true, \\\\\\\\\\\\\"name\\\\\\\\\\\\\": null, \\\\\\\\\\\\\"annotation\\\\\\\\\\\\\": null}, {\\\\\\\\\\\\\"id\\\\\\\\\\\\\": \\\\\\\\\\\\\"4ef2da3b-150b-42c4-be9a-ad20a1575752\\\\\\\\\\\\\", \\\\\\\\\\\\\"type\\\\\\\\\\\\\": \\\\\\\\\\\\\"Microsoft.DPrep.ParseDelimitedBlock\\\\\\\\\\\\\", \\\\\\\\\\\\\"arguments\\\\\\\\\\\\\": {\\\\\\\\\\\\\"columnHeadersMode\\\\\\\\\\\\\": 3, \\\\\\\\\\\\\"fileEncoding\\\\\\\\\\\\\": 0, \\\\\\\\\\\\\"handleQuotedLineBreaks\\\\\\\\\\\\\": false, \\\\\\\\\\\\\"preview\\\\\\\\\\\\\": false, \\\\\\\\\\\\\"separator\\\\\\\\\\\\\": \\\\\\\\\\\\\",\\\\\\\\\\\\\", \\\\\\\\\\\\\"skipRows\\\\\\\\\\\\\": 0, \\\\\\\\\\\\\"skipRowsMode\\\\\\\\\\\\\": 0}, \\\\\\\\\\\\\"localData\\\\\\\\\\\\\": {}, \\\\\\\\\\\\\"isEnabled\\\\\\\\\\\\\": true, \\\\\\\\\\\\\"name\\\\\\\\\\\\\": null, \\\\\\\\\\\\\"annotation\\\\\\\\\\\\\": null}, {\\\\\\\\\\\\\"id\\\\\\\\\\\\\": \\\\\\\\\\\\\"a9f9cd35-36aa-43c3-9430-415e622a35fc\\\\\\\\\\\\\", \\\\\\\\\\\\\"type\\\\\\\\\\\\\": \\\\\\\\\\\\\"Microsoft.DPrep.DropColumnsBlock\\\\\\\\\\\\\", \\\\\\\\\\\\\"arguments\\\\\\\\\\\\\": {\\\\\\\\\\\\\"columns\\\\\\\\\\\\\": {\\\\\\\\\\\\\"type\\\\\\\\\\\\\": 0, \\\\\\\\\\\\\"details\\\\\\\\\\\\\": {\\\\\\\\\\\\\"selectedColumns\\\\\\\\\\\\\": [\\\\\\\\\\\\\"Path\\\\\\\\\\\\\"]}}}, \\\\\\\\\\\\\"localData\\\\\\\\\\\\\": {}, \\\\\\\\\\\\\"isEnabled\\\\\\\\\\\\\": true, \\\\\\\\\\\\\"name\\\\\\\\\\\\\": null, \\\\\\\\\\\\\"annotation\\\\\\\\\\\\\": null}, {\\\\\\\\\\\\\"id\\\\\\\\\\\\\": \\\\\\\\\\\\\"2ff6d2f1-c382-4b8e-bd70-f0de832fdae2\\\\\\\\\\\\\", \\\\\\\\\\\\\"type\\\\\\\\\\\\\": \\\\\\\\\\\\\"Microsoft.DPrep.SetColumnTypesBlock\\\\\\\\\\\\\", \\\\\\\\\\\\\"arguments\\\\\\\\\\\\\": {\\\\\\\\\\\\\"columnConversion\\\\\\\\\\\\\": [{\\\\\\\\\\\\\"column\\\\\\\\\\\\\": {\\\\\\\\\\\\\"type\\\\\\\\\\\\\": 2, \\\\\\\\\\\\\"details\\\\\\\\\\\\\": {\\\\\\\\\\\\\"selectedColumn\\\\\\\\\\\\\": \\\\\\\\\\\\\"age\\\\\\\\\\\\\"}}, \\\\\\\\\\\\\"typeProperty\\\\\\\\\\\\\": 3}, {\\\\\\\\\\\\\"column\\\\\\\\\\\\\": {\\\\\\\\\\\\\"type\\\\\\\\\\\\\": 2, \\\\\\\\\\\\\"details\\\\\\\\\\\\\": {\\\\\\\\\\\\\"selectedColumn\\\\\\\\\\\\\": \\\\\\\\\\\\\"anaemia\\\\\\\\\\\\\"}}, \\\\\\\\\\\\\"typeProperty\\\\\\\\\\\\\": 2}, {\\\\\\\\\\\\\"column\\\\\\\\\\\\\": {\\\\\\\\\\\\\"type\\\\\\\\\\\\\": 2, \\\\\\\\\\\\\"details\\\\\\\\\\\\\": {\\\\\\\\\\\\\"selectedColumn\\\\\\\\\\\\\": \\\\\\\\\\\\\"creatinine_phosphokinase\\\\\\\\\\\\\"}}, \\\\\\\\\\\\\"typeProperty\\\\\\\\\\\\\": 2}, {\\\\\\\\\\\\\"column\\\\\\\\\\\\\": {\\\\\\\\\\\\\"type\\\\\\\\\\\\\": 2, \\\\\\\\\\\\\"details\\\\\\\\\\\\\": {\\\\\\\\\\\\\"selectedColumn\\\\\\\\\\\\\": \\\\\\\\\\\\\"diabetes\\\\\\\\\\\\\"}}, \\\\\\\\\\\\\"typeProperty\\\\\\\\\\\\\": 2}, {\\\\\\\\\\\\\"column\\\\\\\\\\\\\": {\\\\\\\\\\\\\"type\\\\\\\\\\\\\": 2, \\\\\\\\\\\\\"details\\\\\\\\\\\\\": {\\\\\\\\\\\\\"selectedColumn\\\\\\\\\\\\\": \\\\\\\\\\\\\"ejection_fraction\\\\\\\\\\\\\"}}, \\\\\\\\\\\\\"typeProperty\\\\\\\\\\\\\": 2}, {\\\\\\\\\\\\\"column\\\\\\\\\\\\\": {\\\\\\\\\\\\\"type\\\\\\\\\\\\\": 2, \\\\\\\\\\\\\"details\\\\\\\\\\\\\": {\\\\\\\\\\\\\"selectedColumn\\\\\\\\\\\\\": \\\\\\\\\\\\\"high_blood_pressure\\\\\\\\\\\\\"}}, \\\\\\\\\\\\\"typeProperty\\\\\\\\\\\\\": 2}, {\\\\\\\\\\\\\"column\\\\\\\\\\\\\": {\\\\\\\\\\\\\"type\\\\\\\\\\\\\": 2, \\\\\\\\\\\\\"details\\\\\\\\\\\\\": {\\\\\\\\\\\\\"selectedColumn\\\\\\\\\\\\\": \\\\\\\\\\\\\"platelets\\\\\\\\\\\\\"}}, \\\\\\\\\\\\\"typeProperty\\\\\\\\\\\\\": 3}, {\\\\\\\\\\\\\"column\\\\\\\\\\\\\": {\\\\\\\\\\\\\"type\\\\\\\\\\\\\": 2, \\\\\\\\\\\\\"details\\\\\\\\\\\\\": {\\\\\\\\\\\\\"selectedColumn\\\\\\\\\\\\\": \\\\\\\\\\\\\"serum_creatinine\\\\\\\\\\\\\"}}, \\\\\\\\\\\\\"typeProperty\\\\\\\\\\\\\": 3}, {\\\\\\\\\\\\\"column\\\\\\\\\\\\\": {\\\\\\\\\\\\\"type\\\\\\\\\\\\\": 2, \\\\\\\\\\\\\"details\\\\\\\\\\\\\": {\\\\\\\\\\\\\"selectedColumn\\\\\\\\\\\\\": \\\\\\\\\\\\\"serum_sodium\\\\\\\\\\\\\"}}, \\\\\\\\\\\\\"typeProperty\\\\\\\\\\\\\": 2}, {\\\\\\\\\\\\\"column\\\\\\\\\\\\\": {\\\\\\\\\\\\\"type\\\\\\\\\\\\\": 2, \\\\\\\\\\\\\"details\\\\\\\\\\\\\": {\\\\\\\\\\\\\"selectedColumn\\\\\\\\\\\\\": \\\\\\\\\\\\\"sex\\\\\\\\\\\\\"}}, \\\\\\\\\\\\\"typeProperty\\\\\\\\\\\\\": 2}, {\\\\\\\\\\\\\"column\\\\\\\\\\\\\": {\\\\\\\\\\\\\"type\\\\\\\\\\\\\": 2, \\\\\\\\\\\\\"details\\\\\\\\\\\\\": {\\\\\\\\\\\\\"selectedColumn\\\\\\\\\\\\\": \\\\\\\\\\\\\"smoking\\\\\\\\\\\\\"}}, \\\\\\\\\\\\\"typeProperty\\\\\\\\\\\\\": 2}, {\\\\\\\\\\\\\"column\\\\\\\\\\\\\": {\\\\\\\\\\\\\"type\\\\\\\\\\\\\": 2, \\\\\\\\\\\\\"details\\\\\\\\\\\\\": {\\\\\\\\\\\\\"selectedColumn\\\\\\\\\\\\\": \\\\\\\\\\\\\"time\\\\\\\\\\\\\"}}, \\\\\\\\\\\\\"typeProperty\\\\\\\\\\\\\": 2}, {\\\\\\\\\\\\\"column\\\\\\\\\\\\\": {\\\\\\\\\\\\\"type\\\\\\\\\\\\\": 2, \\\\\\\\\\\\\"details\\\\\\\\\\\\\": {\\\\\\\\\\\\\"selectedColumn\\\\\\\\\\\\\": \\\\\\\\\\\\\"DEATH_EVENT\\\\\\\\\\\\\"}}, \\\\\\\\\\\\\"typeProperty\\\\\\\\\\\\\": 2}]}, \\\\\\\\\\\\\"localData\\\\\\\\\\\\\": {}, \\\\\\\\\\\\\"isEnabled\\\\\\\\\\\\\": true, \\\\\\\\\\\\\"name\\\\\\\\\\\\\": null, \\\\\\\\\\\\\"annotation\\\\\\\\\\\\\": null}], \\\\\\\\\\\\\"inspectors\\\\\\\\\\\\\": [], \\\\\\\\\\\\\"meta\\\\\\\\\\\\\": {\\\\\\\\\\\\\"savedDatasetId\\\\\\\\\\\\\": \\\\\\\\\\\\\"b2c2f3ef-239b-4d3b-b436-5c9086492cfd\\\\\\\\\\\\\", \\\\\\\\\\\\\"datasetType\\\\\\\\\\\\\": \\\\\\\\\\\\\"tabular\\\\\\\\\\\\\", \\\\\\\\\\\\\"subscriptionId\\\\\\\\\\\\\": \\\\\\\\\\\\\"9a7511b8-150f-4a58-8528-3e7d50216c31\\\\\\\\\\\\\", \\\\\\\\\\\\\"workspaceId\\\\\\\\\\\\\": \\\\\\\\\\\\\"797bc527-3a81-4da1-9374-8cbda6fa8a8b\\\\\\\\\\\\\", \\\\\\\\\\\\\"workspaceLocation\\\\\\\\\\\\\": \\\\\\\\\\\\\"southcentralus\\\\\\\\\\\\\"}}\\\\\", \\\\\"activities\\\\\": 0}',\n  'EnableSubsampling': None,\n  'runTemplate': 'AutoML',\n  'azureml.runsource': 'automl',\n  'display_task_type': 'classification',\n  'dependencies_versions': '{\"azureml-widgets\": \"1.19.0\", \"azureml-train\": \"1.19.0\", \"azureml-train-restclients-hyperdrive\": \"1.19.0\", \"azureml-train-core\": \"1.19.0\", \"azureml-train-automl\": \"1.19.0\", \"azureml-train-automl-runtime\": \"1.19.0\", \"azureml-train-automl-client\": \"1.19.0\", \"azureml-tensorboard\": \"1.19.0\", \"azureml-telemetry\": \"1.19.0\", \"azureml-sdk\": \"1.19.0\", \"azureml-samples\": \"0+unknown\", \"azureml-pipeline\": \"1.19.0\", \"azureml-pipeline-steps\": \"1.19.0\", \"azureml-pipeline-core\": \"1.19.0\", \"azureml-opendatasets\": \"1.19.0\", \"azureml-model-management-sdk\": \"1.0.1b6.post1\", \"azureml-mlflow\": \"1.19.0\", \"azureml-interpret\": \"1.19.0\", \"azureml-explain-model\": \"1.19.0\", \"azureml-defaults\": \"1.19.0\", \"azureml-dataset-runtime\": \"1.19.0.post1\", \"azureml-dataprep\": \"2.6.1\", \"azureml-dataprep-rslex\": \"1.4.0\", \"azureml-dataprep-native\": \"26.0.0\", \"azureml-datadrift\": \"1.19.0\", \"azureml-core\": \"1.19.0\", \"azureml-contrib-services\": \"1.19.0\", \"azureml-contrib-server\": \"1.19.0\", \"azureml-contrib-reinforcementlearning\": \"1.19.0\", \"azureml-contrib-pipeline-steps\": \"1.19.0\", \"azureml-contrib-notebook\": \"1.19.0\", \"azureml-contrib-interpret\": \"1.19.0\", \"azureml-contrib-gbdt\": \"1.19.0\", \"azureml-contrib-fairness\": \"1.19.0\", \"azureml-contrib-dataset\": \"1.19.0\", \"azureml-cli-common\": \"1.19.0\", \"azureml-automl-runtime\": \"1.19.0\", \"azureml-automl-core\": \"1.19.0\", \"azureml-accel-models\": \"1.19.0\"}',\n  '_aml_system_scenario_identification': 'Remote.Parent',\n  'ClientType': 'SDK',\n  'environment_cpu_name': 'AzureML-AutoML',\n  'environment_cpu_label': 'prod',\n  'environment_gpu_name': 'AzureML-AutoML-GPU',\n  'environment_gpu_label': 'prod',\n  'root_attribution': 'automl',\n  'attribution': 'AutoML',\n  'Orchestrator': 'AutoML',\n  'CancelUri': 'https://southcentralus.experiments.azureml.net/jasmine/v1.0/subscriptions/9a7511b8-150f-4a58-8528-3e7d50216c31/resourceGroups/aml-quickstarts-135114/providers/Microsoft.MachineLearningServices/workspaces/quick-starts-ws-135114/experimentids/ffccb687-7dcd-49a8-b88b-4af73f59bdbe/cancel/AutoML_53a210fc-9c19-4f91-aa28-e98fbf4fd982',\n  'ClientSdkVersion': '1.19.0',\n  'snapshotId': '00000000-0000-0000-0000-000000000000',\n  'SetupRunId': 'AutoML_53a210fc-9c19-4f91-aa28-e98fbf4fd982_setup',\n  'SetupRunContainerId': 'dcid.AutoML_53a210fc-9c19-4f91-aa28-e98fbf4fd982_setup',\n  'FeaturizationRunJsonPath': 'featurizer_container.json',\n  'FeaturizationRunId': 'AutoML_53a210fc-9c19-4f91-aa28-e98fbf4fd982_featurize',\n  'ProblemInfoJsonString': '{\"dataset_num_categorical\": 0, \"is_sparse\": false, \"subsampling\": false, \"dataset_classes\": 2, \"dataset_features\": 12, \"dataset_samples\": 224, \"single_frequency_class_detected\": false}',\n  'ModelExplainRunId': 'AutoML_53a210fc-9c19-4f91-aa28-e98fbf4fd982_ModelExplain'},\n 'inputDatasets': [{'dataset': {'id': 'b2c2f3ef-239b-4d3b-b436-5c9086492cfd'}, 'consumptionDetails': {'type': 'RunInput', 'inputName': 'training_data', 'mechanism': 'Direct'}}],\n 'outputDatasets': [],\n 'logFiles': {}}"
          },
          "metadata": {}
        }
      ],
      "execution_count": 10,
      "metadata": {}
    },
    {
      "cell_type": "markdown",
      "source": [
        "## Best Model\n",
        "\n",
        "TODO: In the cell below, get the best model from the automl experiments and display all the properties of the model.\n",
        "\n",
        "## Retrieve the Best ONNX Model\n"
      ],
      "metadata": {}
    },
    {
      "cell_type": "code",
      "source": [
        "best_run, onnx_model= remote_run.get_output(return_onnx_model=True)"
      ],
      "outputs": [],
      "execution_count": 16,
      "metadata": {
        "gather": {
          "logged": 1610918450236
        },
        "jupyter": {
          "outputs_hidden": false,
          "source_hidden": false
        },
        "nteract": {
          "transient": {
            "deleting": false
          }
        }
      }
    },
    {
      "cell_type": "code",
      "source": [
        "#TODO: Save the best model\n",
        "OnnxConverter.save_onnx_model(onnx_model, file_path=\"./automl_model.onnx\")\n"
      ],
      "outputs": [],
      "execution_count": 17,
      "metadata": {
        "gather": {
          "logged": 1610918458099
        },
        "jupyter": {
          "outputs_hidden": false,
          "source_hidden": false
        },
        "nteract": {
          "transient": {
            "deleting": false
          }
        }
      }
    },
    {
      "cell_type": "code",
      "source": [
        "best_run.get_properties()"
      ],
      "outputs": [
        {
          "output_type": "execute_result",
          "execution_count": 18,
          "data": {
            "text/plain": "{'runTemplate': 'automl_child',\n 'pipeline_id': '5dfac790c5c209f98a1da2dc1c7fb76f0397324f',\n 'pipeline_spec': '{\"objects\":[{\"spec_class\":\"preproc\",\"class_name\":\"MaxAbsScaler\",\"module\":\"sklearn.preprocessing\",\"param_args\":[],\"param_kwargs\":{},\"prepared_kwargs\":{}},{\"spec_class\":\"sklearn\",\"class_name\":\"LightGBMClassifier\",\"module\":\"automl.client.core.common.model_wrappers\",\"param_args\":[],\"param_kwargs\":{\"min_data_in_leaf\":20},\"prepared_kwargs\":{}}],\"pipeline_id\":\"5dfac790c5c209f98a1da2dc1c7fb76f0397324f\",\"module\":\"sklearn.pipeline\",\"class_name\":\"Pipeline\"}',\n 'training_percent': '100',\n 'predicted_cost': None,\n 'iteration': '0',\n '_aml_system_scenario_identification': 'Remote.Child',\n '_azureml.ComputeTargetType': 'amlcompute',\n 'ContentSnapshotId': 'c104bb85-1768-40d1-ad0f-3a05d25a2434',\n 'ProcessInfoFile': 'azureml-logs/process_info.json',\n 'ProcessStatusFile': 'azureml-logs/process_status.json',\n 'run_template': 'automl_child',\n 'run_preprocessor': 'MaxAbsScaler',\n 'run_algorithm': 'LightGBM',\n 'conda_env_data_location': 'aml://artifact/ExperimentRun/dcid.AutoML_236ad473-eaa7-49b9-8324-8eaf91045017_0/outputs/conda_env_v_1_0_0.yml',\n 'model_data_location': 'aml://artifact/ExperimentRun/dcid.AutoML_236ad473-eaa7-49b9-8324-8eaf91045017_0/outputs/model.pkl',\n 'model_size_on_disk': '115216',\n 'scoring_data_location': 'aml://artifact/ExperimentRun/dcid.AutoML_236ad473-eaa7-49b9-8324-8eaf91045017_0/outputs/scoring_file_v_1_0_0.py',\n 'model_exp_support': 'True',\n 'pipeline_graph_version': '1.0.0',\n 'model_name': 'AutoML236ad473e0',\n 'staticProperties': '{}',\n 'score': '0.8614414414414414',\n 'run_properties': 'copy=True',\n 'pipeline_script': '{\"objects\":[{\"spec_class\":\"preproc\",\"class_name\":\"MaxAbsScaler\",\"module\":\"sklearn.preprocessing\",\"param_args\":[],\"param_kwargs\":{},\"prepared_kwargs\":{}},{\"spec_class\":\"sklearn\",\"class_name\":\"LightGBMClassifier\",\"module\":\"automl.client.core.common.model_wrappers\",\"param_args\":[],\"param_kwargs\":{\"min_data_in_leaf\":20},\"prepared_kwargs\":{}}],\"pipeline_id\":\"5dfac790c5c209f98a1da2dc1c7fb76f0397324f\",\"module\":\"sklearn.pipeline\",\"class_name\":\"Pipeline\"}',\n 'training_type': 'MeanCrossValidation',\n 'num_classes': '',\n 'framework': 'sklearn',\n 'fit_time': '0.025901666666666667',\n 'goal': 'accuracy_max',\n 'class_labels': '',\n 'primary_metric': 'accuracy',\n 'errors': '{}',\n 'fitted_pipeline': \"Pipeline(memory=None,\\n         steps=[('datatransformer',\\n                 DataTransformer(enable_dnn=None, enable_feature_sweeping=None,\\n                                 feature_sweeping_config=None,\\n                                 feature_sweeping_timeout=None,\\n                                 featurization_config=None, force_text_dnn=None,\\n                                 is_cross_validation=None,\\n                                 is_onnx_compatible=None, logger=None,\\n                                 observer=None, task=None, working_dir=None)),\\n                ('MaxAbsScaler', MaxAbsScaler(copy...\\n                 LightGBMClassifier(boosting_type='gbdt', class_weight=None,\\n                                    colsample_bytree=1.0,\\n                                    importance_type='split', learning_rate=0.1,\\n                                    max_depth=-1, min_child_samples=20,\\n                                    min_child_weight=0.001, min_split_gain=0.0,\\n                                    n_estimators=100, n_jobs=-1, num_leaves=31,\\n                                    objective=None, random_state=None,\\n                                    reg_alpha=0.0, reg_lambda=0.0, silent=True,\\n                                    subsample=1.0, subsample_for_bin=200000,\\n                                    subsample_freq=0, verbose=-10))],\\n         verbose=False)\",\n 'friendly_errors': '{}',\n 'onnx_model_resource': \"{'RawColumnNameToOnnxNameMap': {'age': 'age', 'anaemia': 'anaemia', 'creatinine_phosphokinase': 'creatinine_phosphokinase', 'diabetes': 'diabetes', 'ejection_fraction': 'ejection_fraction', 'high_blood_pressure': 'high_blood_pressure', 'platelets': 'platelets', 'serum_creatinine': 'serum_creatinine', 'serum_sodium': 'serum_sodium', 'sex': 'sex', 'smoking': 'smoking', 'time': 'time'}, 'InputRawColumnSchema': {'age': 'floating', 'anaemia': 'floating', 'creatinine_phosphokinase': 'floating', 'diabetes': 'floating', 'ejection_fraction': 'floating', 'high_blood_pressure': 'floating', 'platelets': 'floating', 'serum_creatinine': 'floating', 'serum_sodium': 'floating', 'sex': 'floating', 'smoking': 'floating', 'time': 'floating'}, 'InputOnnxColumnSchema': {'age': 'FloatTensorType', 'anaemia': 'FloatTensorType', 'creatinine_phosphokinase': 'FloatTensorType', 'diabetes': 'FloatTensorType', 'ejection_fraction': 'FloatTensorType', 'high_blood_pressure': 'FloatTensorType', 'platelets': 'FloatTensorType', 'serum_creatinine': 'FloatTensorType', 'serum_sodium': 'FloatTensorType', 'sex': 'FloatTensorType', 'smoking': 'FloatTensorType', 'time': 'FloatTensorType'}, 'CanEnableBatchMode': True}\",\n 'error_code': '',\n 'failure_reason': '',\n 'feature_skus': 'automatedml_sdk_guardrails',\n 'dependencies_versions': '{\"azureml-train-automl-runtime\": \"1.19.0\", \"azureml-train-automl-client\": \"1.19.0\", \"azureml-telemetry\": \"1.19.0\", \"azureml-pipeline-core\": \"1.19.0\", \"azureml-model-management-sdk\": \"1.0.1b6.post1\", \"azureml-interpret\": \"1.19.0\", \"azureml-defaults\": \"1.19.0\", \"azureml-dataset-runtime\": \"1.19.0\", \"azureml-dataprep\": \"2.6.1\", \"azureml-dataprep-rslex\": \"1.4.0\", \"azureml-dataprep-native\": \"26.0.0\", \"azureml-core\": \"1.19.0\", \"azureml-automl-runtime\": \"1.19.0\", \"azureml-automl-core\": \"1.19.0\"}',\n 'num_cores': '2',\n 'num_logical_cores': '2',\n 'peak_memory_usage': '521768',\n 'vm_configuration': 'Intel(R) Xeon(R) Platinum 8171M CPU @ 2.60GHz',\n 'core_hours': '0.002596859722222222'}"
          },
          "metadata": {}
        }
      ],
      "execution_count": 18,
      "metadata": {
        "gather": {
          "logged": 1610918463855
        }
      }
    },
    {
      "cell_type": "code",
      "source": [
        "best_run.get_metrics()"
      ],
      "outputs": [
        {
          "output_type": "execute_result",
          "execution_count": 19,
          "data": {
            "text/plain": "{'average_precision_score_weighted': 0.9242701299408628,\n 'f1_score_macro': 0.83215264830915,\n 'AUC_weighted': 0.9105514340731732,\n 'AUC_micro': 0.9266697291886481,\n 'recall_score_macro': 0.8206040336475118,\n 'weighted_accuracy': 0.8919532125251112,\n 'balanced_accuracy': 0.8206040336475118,\n 'precision_score_macro': 0.8497868217331971,\n 'average_precision_score_macro': 0.9057521503732796,\n 'precision_score_micro': 0.8614414414414414,\n 'f1_score_micro': 0.8614414414414414,\n 'log_loss': 0.3930102701444301,\n 'norm_macro_recall': 0.6412080672950238,\n 'f1_score_weighted': 0.8588237135782609,\n 'recall_score_weighted': 0.8614414414414414,\n 'AUC_macro': 0.9105514340731732,\n 'accuracy': 0.8614414414414414,\n 'matthews_correlation': 0.6695313726094962,\n 'recall_score_micro': 0.8614414414414414,\n 'precision_score_weighted': 0.8607005358875601,\n 'average_precision_score_micro': 0.9257810372323686,\n 'accuracy_table': 'aml://artifactId/ExperimentRun/dcid.AutoML_236ad473-eaa7-49b9-8324-8eaf91045017_0/accuracy_table',\n 'confusion_matrix': 'aml://artifactId/ExperimentRun/dcid.AutoML_236ad473-eaa7-49b9-8324-8eaf91045017_0/confusion_matrix'}"
          },
          "metadata": {}
        }
      ],
      "execution_count": 19,
      "metadata": {
        "gather": {
          "logged": 1610918471038
        }
      }
    },
    {
      "cell_type": "code",
      "source": [
        "print(best_run)"
      ],
      "outputs": [
        {
          "output_type": "stream",
          "name": "stdout",
          "text": [
            "Run(Experiment: automl-classification-experiment,\n",
            "Id: AutoML_236ad473-eaa7-49b9-8324-8eaf91045017_0,\n",
            "Type: azureml.scriptrun,\n",
            "Status: Completed)\n"
          ]
        }
      ],
      "execution_count": 20,
      "metadata": {
        "gather": {
          "logged": 1610918478213
        }
      }
    },
    {
      "cell_type": "markdown",
      "source": [
        "## Model Deployment\n",
        "\n",
        "Remember you have to deploy only one of the two models you trained.. Perform the steps in the rest of this notebook only if you wish to deploy this model.\n",
        "\n",
        "TODO: In the cell below, register the model, create an inference config and deploy the model as a web service."
      ],
      "metadata": {}
    },
    {
      "cell_type": "code",
      "source": [
        "model_name = best_run.properties['model_name']\n",
        "script_file_name = 'inference/score.py'\n",
        "best_run.download_file('outputs/scoring_file_v_1_0_0.py', 'inference/score.py')"
      ],
      "outputs": [],
      "execution_count": 21,
      "metadata": {
        "gather": {
          "logged": 1610918486155
        }
      }
    },
    {
      "cell_type": "code",
      "source": [
        "description = 'AutoML Model'\n",
        "tags = None\n",
        "model = remote_run.register_model(model_name = model_name, description = description, tags = tags)\n",
        "print(remote_run.model_id) "
      ],
      "outputs": [
        {
          "output_type": "stream",
          "name": "stdout",
          "text": [
            "AutoML236ad473e0\n"
          ]
        }
      ],
      "execution_count": 22,
      "metadata": {
        "gather": {
          "logged": 1610918493627
        },
        "jupyter": {
          "outputs_hidden": false,
          "source_hidden": false
        },
        "nteract": {
          "transient": {
            "deleting": false
          }
        }
      }
    },
    {
      "cell_type": "code",
      "source": [
        "from azureml.core.model import InferenceConfig\n",
        "from azureml.core.webservice import AciWebservice\n",
        "from azureml.core.webservice import Webservice\n",
        "from azureml.core.model import Model\n",
        "from azureml.core.environment import Environment\n",
        "\n",
        "inference_config = InferenceConfig(entry_script='inference/score.py')\n",
        "\n",
        "aciconfig = AciWebservice.deploy_configuration(cpu_cores = 1, \n",
        "                                               memory_gb = 1, \n",
        "                                               tags = {'type': \"automl_classification\"}, \n",
        "                                               description = 'Heart Data Service')\n",
        "\n",
        "aci_service_name = 'automl-uciheart1'\n",
        "print(aci_service_name)\n",
        "aci_service = Model.deploy(ws, aci_service_name, [model], inference_config, aciconfig)\n",
        "aci_service.wait_for_deployment(True)\n",
        "print(aci_service.state)"
      ],
      "outputs": [
        {
          "output_type": "stream",
          "name": "stdout",
          "text": [
            "automl-uciheart1\n",
            "Tips: You can try get_logs(): https://aka.ms/debugimage#dockerlog or local deployment: https://aka.ms/debugimage#debug-locally to debug if deployment takes longer than 10 minutes.\n",
            "Running............................................\n",
            "Succeeded\n",
            "ACI service creation operation finished, operation \"Succeeded\"\n",
            "Healthy\n"
          ]
        }
      ],
      "execution_count": 24,
      "metadata": {
        "gather": {
          "logged": 1610918745433
        }
      }
    },
    {
      "cell_type": "markdown",
      "source": [
        "## Enable Application Insitghts on The Deployed Service"
      ],
      "metadata": {}
    },
    {
      "cell_type": "code",
      "source": [
        "aci_service.update(enable_app_insights=True)"
      ],
      "outputs": [],
      "execution_count": 25,
      "metadata": {
        "gather": {
          "logged": 1610918988205
        }
      }
    },
    {
      "cell_type": "markdown",
      "source": [
        "## Service Details"
      ],
      "metadata": {}
    },
    {
      "cell_type": "code",
      "source": [
        "print(f'\\nservice state: {aci_service.state}\\n')\n",
        "print(f'scoring URI: \\n{aci_service.scoring_uri}\\n')\n",
        "print(f'swagger URI: \\n{aci_service.swagger_uri}\\n')"
      ],
      "outputs": [
        {
          "output_type": "stream",
          "name": "stdout",
          "text": [
            "\n",
            "service state: Healthy\n",
            "\n",
            "scoring URI: \n",
            "http://df9f4240-1004-41a8-97fa-970cb972a48c.southcentralus.azurecontainer.io/score\n",
            "\n",
            "swagger URI: \n",
            "http://df9f4240-1004-41a8-97fa-970cb972a48c.southcentralus.azurecontainer.io/swagger.json\n",
            "\n"
          ]
        }
      ],
      "execution_count": 26,
      "metadata": {
        "gather": {
          "logged": 1610918995192
        }
      }
    },
    {
      "cell_type": "markdown",
      "source": [
        "## Test Service : \n",
        "TODO: In the cell below, send a request to the web service you deployed to test it."
      ],
      "metadata": {
        "collapsed": true,
        "gather": {
          "logged": 1598431657736
        },
        "jupyter": {
          "outputs_hidden": false,
          "source_hidden": false
        },
        "nteract": {
          "transient": {
            "deleting": false
          }
        }
      }
    },
    {
      "cell_type": "code",
      "source": [
        "import requests\n",
        "import json\n",
        "\n",
        "scoring_uri = aci_service.scoring_uri\n",
        "# Two sets of data to score, so we get two results back\n",
        "data = {\"data\":\n",
        "        [\n",
        "          { \n",
        "            \"age\": 45,\n",
        "            \"anaemia\": 0,\n",
        "            \"creatinine_phosphokinase\": 2413,\n",
        "            \"diabetes\": 0,\n",
        "            \"ejection_fraction\": 38,\n",
        "            \"high_blood_pressure\": 0,\n",
        "            \"platelets\": 140000,\n",
        "            \"serum_creatinine\": 1.4,\n",
        "            \"serum_sodium\": 140,\n",
        "            \"sex\": 1,\n",
        "            \"smoking\": 1,\n",
        "            \"time\": 280\n",
        "          },\n",
        "          {\n",
        "            \"age\": 50,\n",
        "            \"anaemia\": 0,\n",
        "            \"creatinine_phosphokinase\": 196,\n",
        "            \"diabetes\": 0,\n",
        "            \"ejection_fraction\": \"45\",\n",
        "            \"high_blood_pressure\": 0,\n",
        "            \"platelets\": 395000,\n",
        "            \"serum_creatinine\": 1.6,\n",
        "            \"serum_sodium\": 136,\n",
        "            \"sex\":1,\n",
        "            \"smoking\": 1,\n",
        "            \"time\": 285\n",
        "          },\n",
        "      ]\n",
        "    }\n",
        "# Convert to JSON string\n",
        "input_data = json.dumps(data)\n",
        "# Set the content type\n",
        "headers = {'Content-Type': 'application/json'}\n",
        "# Make the request and display the response\n",
        "resp = requests.post(scoring_uri, input_data, headers=headers)\n",
        "print(resp.json())"
      ],
      "outputs": [
        {
          "output_type": "stream",
          "name": "stdout",
          "text": [
            "{\"result\": [0, 0]}\n"
          ]
        }
      ],
      "execution_count": 29,
      "metadata": {
        "gather": {
          "logged": 1610919042417
        }
      }
    },
    {
      "cell_type": "markdown",
      "source": [
        "TODO: In the cell below, print the logs of the web service and delete the service"
      ],
      "metadata": {
        "collapsed": true,
        "gather": {
          "logged": 1598432765711
        },
        "jupyter": {
          "outputs_hidden": false,
          "source_hidden": false
        },
        "nteract": {
          "transient": {
            "deleting": false
          }
        }
      }
    },
    {
      "cell_type": "code",
      "source": [
        "aci_service.get_logs()"
      ],
      "outputs": [
        {
          "output_type": "execute_result",
          "execution_count": 30,
          "data": {
            "text/plain": "'2021-01-17T21:25:29,973597000+00:00 - iot-server/run \\n2021-01-17T21:25:29,990956400+00:00 - rsyslog/run \\n2021-01-17T21:25:29,998144000+00:00 - gunicorn/run \\n2021-01-17T21:25:30,048517800+00:00 - nginx/run \\n/usr/sbin/nginx: /azureml-envs/azureml_8eff28b157f42edcd2424a5aae6c8074/lib/libcrypto.so.1.0.0: no version information available (required by /usr/sbin/nginx)\\n/usr/sbin/nginx: /azureml-envs/azureml_8eff28b157f42edcd2424a5aae6c8074/lib/libcrypto.so.1.0.0: no version information available (required by /usr/sbin/nginx)\\n/usr/sbin/nginx: /azureml-envs/azureml_8eff28b157f42edcd2424a5aae6c8074/lib/libssl.so.1.0.0: no version information available (required by /usr/sbin/nginx)\\n/usr/sbin/nginx: /azureml-envs/azureml_8eff28b157f42edcd2424a5aae6c8074/lib/libssl.so.1.0.0: no version information available (required by /usr/sbin/nginx)\\n/usr/sbin/nginx: /azureml-envs/azureml_8eff28b157f42edcd2424a5aae6c8074/lib/libssl.so.1.0.0: no version information available (required by /usr/sbin/nginx)\\nrsyslogd: /azureml-envs/azureml_8eff28b157f42edcd2424a5aae6c8074/lib/libuuid.so.1: no version information available (required by rsyslogd)\\nEdgeHubConnectionString and IOTEDGE_IOTHUBHOSTNAME are not set. Exiting...\\n2021-01-17T21:25:31,670469600+00:00 - iot-server/finish 1 0\\n2021-01-17T21:25:31,678814700+00:00 - Exit code 1 is normal. Not restarting iot-server.\\nStarting gunicorn 19.9.0\\nListening at: http://127.0.0.1:31311 (69)\\nUsing worker: sync\\nworker timeout is set to 300\\nBooting worker with pid: 98\\nSPARK_HOME not set. Skipping PySpark Initialization.\\nGenerating new fontManager, this may take some time...\\nInitializing logger\\n2021-01-17 21:25:36,718 | root | INFO | Starting up app insights client\\nStarting up app insights client\\n2021-01-17 21:25:36,719 | root | INFO | Starting up request id generator\\nStarting up request id generator\\n2021-01-17 21:25:36,719 | root | INFO | Starting up app insight hooks\\nStarting up app insight hooks\\n2021-01-17 21:25:36,720 | root | INFO | Invoking user\\'s init function\\nInvoking user\\'s init function\\n2021-01-17 21:25:44,131 | root | INFO | Users\\'s init has completed successfully\\nUsers\\'s init has completed successfully\\n2021-01-17 21:25:44,139 | root | INFO | Skipping middleware: dbg_model_info as it\\'s not enabled.\\nSkipping middleware: dbg_model_info as it\\'s not enabled.\\n2021-01-17 21:25:44,140 | root | INFO | Skipping middleware: dbg_resource_usage as it\\'s not enabled.\\nSkipping middleware: dbg_resource_usage as it\\'s not enabled.\\n2021-01-17 21:25:44,142 | root | INFO | Scoring timeout is found from os.environ: 60000 ms\\nScoring timeout is found from os.environ: 60000 ms\\n2021-01-17 21:25:44,198 | root | INFO | 200\\n200\\n127.0.0.1 - - [17/Jan/2021:21:25:44 +0000] \"GET /swagger.json HTTP/1.0\" 200 2862 \"-\" \"Go-http-client/1.1\"\\n2021-01-17 21:25:45,635 | root | INFO | 200\\n200\\n127.0.0.1 - - [17/Jan/2021:21:25:45 +0000] \"GET /swagger.json HTTP/1.0\" 200 2862 \"-\" \"Go-http-client/1.1\"\\n2021-01-17 21:29:48,636 | root | INFO | 200\\n200\\n127.0.0.1 - - [17/Jan/2021:21:29:48 +0000] \"GET /swagger.json HTTP/1.0\" 200 2862 \"-\" \"Go-http-client/1.1\"\\n2021-01-17 21:30:42,964 | root | INFO | Validation Request Content-Type\\nValidation Request Content-Type\\n2021-01-17 21:30:42,965 | root | INFO | \\tHost: localhost:5001\\n\\tHost: localhost:5001\\n2021-01-17 21:30:42,965 | root | INFO | \\tX-Real-Ip: 127.0.0.1\\n\\tX-Real-Ip: 127.0.0.1\\n2021-01-17 21:30:42,965 | root | INFO | \\tX-Forwarded-For: 127.0.0.1\\n\\tX-Forwarded-For: 127.0.0.1\\n2021-01-17 21:30:42,965 | root | INFO | \\tX-Forwarded-Proto: http\\n\\tX-Forwarded-Proto: http\\n2021-01-17 21:30:42,965 | root | INFO | \\tConnection: close\\n\\tConnection: close\\n2021-01-17 21:30:42,965 | root | INFO | \\tContent-Length: 473\\n\\tContent-Length: 473\\n2021-01-17 21:30:42,966 | root | INFO | \\tUser-Agent: python-requests/2.25.0\\n\\tUser-Agent: python-requests/2.25.0\\n2021-01-17 21:30:42,966 | root | INFO | \\tAccept: */*\\n\\tAccept: */*\\n2021-01-17 21:30:42,967 | root | INFO | \\tAccept-Encoding: gzip, deflate\\n\\tAccept-Encoding: gzip, deflate\\n2021-01-17 21:30:42,967 | root | INFO | \\tContent-Type: application/json\\n\\tContent-Type: application/json\\n2021-01-17 21:30:42,968 | root | INFO | \\tX-Ms-Request-Id: 44c08c68-06d5-4a37-98e6-84367a4d175d\\n\\tX-Ms-Request-Id: 44c08c68-06d5-4a37-98e6-84367a4d175d\\n2021-01-17 21:30:42,968 | root | INFO | Scoring Timer is set to 60.0 seconds\\nScoring Timer is set to 60.0 seconds\\n2021-01-17 21:30:43,032 | root | INFO | 200\\n200\\n127.0.0.1 - - [17/Jan/2021:21:30:43 +0000] \"POST /score HTTP/1.0\" 200 22 \"-\" \"python-requests/2.25.0\"\\n'"
          },
          "metadata": {}
        }
      ],
      "execution_count": 30,
      "metadata": {
        "jupyter": {
          "outputs_hidden": false,
          "source_hidden": false
        },
        "nteract": {
          "transient": {
            "deleting": false
          }
        },
        "gather": {
          "logged": 1610919053923
        }
      }
    },
    {
      "cell_type": "code",
      "source": [
        "aci_service.delete()\n",
        "model.delete()\n",
        "run.delete()\n",
        "experiment.delete()\n",
        "compute_target.delete()"
      ],
      "outputs": [],
      "execution_count": null,
      "metadata": {}
    }
  ],
  "metadata": {
    "kernel_info": {
      "name": "python3-azureml"
    },
    "kernelspec": {
      "name": "python3-azureml",
      "language": "python",
      "display_name": "Python 3.6 - AzureML"
    },
    "language_info": {
      "name": "python",
      "version": "3.6.9",
      "mimetype": "text/x-python",
      "codemirror_mode": {
        "name": "ipython",
        "version": 3
      },
      "pygments_lexer": "ipython3",
      "nbconvert_exporter": "python",
      "file_extension": ".py"
    },
    "nteract": {
      "version": "nteract-front-end@1.0.0"
    }
  },
  "nbformat": 4,
  "nbformat_minor": 2
}